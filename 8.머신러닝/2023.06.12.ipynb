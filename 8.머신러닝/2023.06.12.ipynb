{
 "cells": [
  {
   "cell_type": "markdown",
   "id": "7e800010",
   "metadata": {},
   "source": [
    "## 차원 축소\n",
    "* 매우 많은 피처로 구성된 다차원 데이터 세트의 차원을 축소해 새로운 차원의 데이터 세트를 생성하는 것\n",
    "* 차원이 증가할 수록 데이터 포인트 간의 거리가 기하급수적으로 멀어지게 되고 희소한 구조를 가지며 예측 신뢰도가 떨어짐\n",
    "* 선형 모델에서는 입력 변수 간의 상관관계가 높을 경우 다중 공선성 문제로 모델의 예측 성능 저하\n",
    "* 다차원의 피처를 차원 축소해 피처 수를 줄이면 더 직관적으로 데이터를 해석할 수 있음\n",
    "* 차원 축소는 피처 선택과 피처 추출로 나눌 수 있음\n",
    "* 피처 선택은 특정 피처에 종속성이 강한 불필요한 피처는 제거하고 데이터의 특징을 잘 나타내는 주요 피처만 선택\n",
    "* 피처 추출은 기존 피처를 저차원의 중요 피처로 압축해서 추출. 기존의 피처가 압축된 것이므로 기존 피처와는 다른 값이 됨\n",
    "* 차원 축소를 통해 좀 더 데이터를 잘 설명할 수 있는 잠재적인 요소를 추출하며 PCA, SVD, NMF은 대표적인 차원 축소 알고리즘"
   ]
  },
  {
   "cell_type": "markdown",
   "id": "461646bf",
   "metadata": {},
   "source": [
    "입력 데이터의 공분산 행렬을 고유벡터와 고유값으로 분해하는 과정은 선형 대수학의 핵심 개념 중 하나이며, 주성분 분석(PCA) 같은 데이터 분석 기법에서 자주 사용됩니다. 이러한 과정을 이해하려면, 우선 공분산 행렬, 고유벡터, 고유값이 무엇인지 이해해야 합니다.\n",
    "\n",
    "\n",
    "- 행렬을 사용하여 변환(스케일링, 회전 등)을 수행할 수 있습니다. 이 변환 과정에서 변환된 결과가 원래 벡터의 스칼라 배만큼 변하는 벡터가 있을 수 있는데, 이를 '고유벡터'라고 합니다. 즉, 행렬에 의한 변환을 받아도 방향이 바뀌지 않고 크기만 변하는 벡터를 고유벡터라고 합니다.\n",
    "\n",
    "- 이때 그 벡터가 얼마나 스케일링되는지, 즉 얼마나 크기가 변하는지를 나타내는 스칼라 값을 '고유값'이라고 합니다.\n",
    "\n",
    "- 위의 설명을 수식 Ax = λx로 매핑해볼 수 있습니다. 여기서 A는 변환을 나타내는 행렬, x는 고유벡터, λ는 고유값입니다. 이 수식은 \"행렬 A에 의해 벡터 x가 변환되면, 그 결과는 원래의 벡터 x의 λ배만큼 크기가 변한 벡터\"라는 의미를 가지고 있습니다.\n",
    "\n",
    "- 고유벡터와 고유값을 찾는 것은, 주어진 행렬의 변환에 대하여 방향은 유지하면서 크기만 변하는 벡터와 그 변화의 크기를 찾는 것입니다."
   ]
  },
  {
   "cell_type": "markdown",
   "id": "e8495ee2",
   "metadata": {},
   "source": [
    "#### 선형대수식\n",
    "* 크기와 방향을 가지고 있는 것을 vector, 반면 크기만 있는 것(질량, 온도, 길이)을 scalar이라고 한다\n",
    "* 고유벡터 : 행렬 A를 곱하더라도 방향이 변하지 않고 그 크기만 변하는 벡터 Ax = ax(A 행렬, x 고유벡터, a 스칼라)\n",
    "* 고유값(Eigenvalue) : 고유 벡터의 크기. 입력데이터의 분산\n",
    "* 선형 변환 : 특정 벡터에 행렬  A를 곱해 새로운 벡터로 변환\n",
    "* 공분산 행렬 : 두변수간의 변동을 의미. 공분산 Cov(X,Y) > 0 은 X가 증가할 때 Y도 증가\n",
    "* 대칭행렬 : 고유벡터를 항상 직교행렬로 고유값을 정방 행렬로 대각화할 수 있음\n",
    "* 직교행렬 : 대각원소 이외의 모든 원소가 0일때. 직교행렬의 역행렬은 직교행렬 자신의 전치행렬과 같음"
   ]
  },
  {
   "cell_type": "code",
   "execution_count": 4,
   "id": "f0c9f4b1",
   "metadata": {},
   "outputs": [
    {
     "name": "stdout",
     "output_type": "stream",
     "text": [
      "[[1 2 3]\n",
      " [2 4 5]\n",
      " [3 5 6]]\n"
     ]
    }
   ],
   "source": [
    "import numpy as np\n",
    "\n",
    "#  대칭행열: 대각선을 기준으로 같은 원소가 각각 배치된 행열\n",
    "\n",
    "a = np.array([[1,2,3],\n",
    "            [2,4,5],\n",
    "             [3,5,6]])\n",
    "\n",
    "print(a)"
   ]
  },
  {
   "cell_type": "code",
   "execution_count": 9,
   "id": "e24be98a",
   "metadata": {},
   "outputs": [
    {
     "name": "stdout",
     "output_type": "stream",
     "text": [
      "[[1 1]\n",
      " [0 2]] \n",
      "\n",
      "[[1 0]\n",
      " [1 2]] \n",
      "\n",
      "[[2 2]\n",
      " [2 4]] \n",
      "\n",
      "[[ 1.  -0.5]\n",
      " [ 0.   0.5]] \n",
      "\n",
      "[[1. 0.]\n",
      " [0. 1.]]\n"
     ]
    }
   ],
   "source": [
    "# 직교 행열 : 자신과 자신의 전치 행열을 곱하면 단위 행열이 되는 행열\n",
    "\n",
    "o = np.array([[1,1], [0,2]])\n",
    "\n",
    "print(o, '\\n')\n",
    "print(o.T, '\\n')\n",
    "print(np.dot(o, o.T), '\\n')\n",
    "\n",
    "o_inv = np.linalg.inv(o)\n",
    "\n",
    "print(o_inv, '\\n')\n",
    "\n",
    "print(np.dot(o, o_inv))"
   ]
  },
  {
   "cell_type": "code",
   "execution_count": 11,
   "id": "78eeac28",
   "metadata": {},
   "outputs": [
    {
     "name": "stdout",
     "output_type": "stream",
     "text": [
      "[[1 2]\n",
      " [3 4]] \n",
      "\n",
      "[[1 3]\n",
      " [2 4]] \n",
      "\n",
      "[[ 5 11]\n",
      " [11 25]] \n",
      "\n",
      "[[-2.   1. ]\n",
      " [ 1.5 -0.5]] \n",
      "\n",
      "[[1.00000000e+00 1.11022302e-16]\n",
      " [0.00000000e+00 1.00000000e+00]]\n"
     ]
    }
   ],
   "source": [
    "a = np.array([[1,2],  [3,4]])\n",
    "\n",
    "print(a, '\\n')\n",
    "print(a.T,'\\n')\n",
    "print(np.dot(a, a.T), '\\n')\n",
    "\n",
    "a_inv = np.linalg.inv(a)\n",
    "\n",
    "print(a_inv, '\\n')\n",
    "print(np.dot(a, a_inv))"
   ]
  },
  {
   "cell_type": "code",
   "execution_count": 14,
   "id": "99bc67f5",
   "metadata": {},
   "outputs": [
    {
     "name": "stdout",
     "output_type": "stream",
     "text": [
      "[[1 2 3]\n",
      " [4 5 6]\n",
      " [7 8 9]] \n",
      "\n",
      "[[1 4 7]\n",
      " [2 5 8]\n",
      " [3 6 9]] \n",
      "\n",
      "[[1. 3. 5.]\n",
      " [3. 5. 7.]\n",
      " [5. 7. 9.]]\n"
     ]
    }
   ],
   "source": [
    "a = np.array([[1,2,3],\n",
    "             [4,5,6],\n",
    "             [7,8,9]])\n",
    "\n",
    "print(a,'\\n')\n",
    "print(a.T,'\\n')\n",
    "\n",
    "symmetric_matrix = (a + a.T) / 2\n",
    "print(symmetric_matrix)"
   ]
  },
  {
   "cell_type": "code",
   "execution_count": 19,
   "id": "676cac2f",
   "metadata": {},
   "outputs": [
    {
     "name": "stdout",
     "output_type": "stream",
     "text": [
      "고유값 eigenvalues :  [ 1.64582364e+01 -1.45823643e+00  1.49027878e-16]\n",
      "고유벡터 eigenvectors : \n",
      " [[-0.35162514 -0.84243284  0.40824829]\n",
      " [-0.55335618 -0.1647127  -0.81649658]\n",
      " [-0.75508721  0.51300744  0.40824829]]\n"
     ]
    }
   ],
   "source": [
    "eigval, eigvec = np.linalg.eig(symmetric_matrix)\n",
    "\n",
    "print('고유값 eigenvalues : ', eigval)\n",
    "print('고유벡터 eigenvectors : \\n', eigvec)"
   ]
  },
  {
   "cell_type": "markdown",
   "id": "28757d0a",
   "metadata": {},
   "source": [
    "#### 행렬 분해\n",
    "- 공분산 행렬은 여러 변수간의 공분산을 행렬 형태로 나타낸 것입니다. 대각선 원소는 각 변수의 분산을 나타내고, 비대각선 원소는 서로 다른 두 변수간의 공분산을 나타냅니다.\n",
    "- 공분산 행렬을 고유벡터와 고유값으로 분해하는 과정은 대략적으로 다음과 같습니다.\n",
    "\n",
    "    - 입력 데이터로부터 공분산 행렬을 계산합니다.\n",
    "    - 계산된 공분산 행렬에 대해 고유값과 고유벡터를 찾습니다. 이를 위해 보통 행렬 대수학에서 사용하는 기법들을 활용합니다.\n",
    "    - 고유값을 내림차순으로 정렬하고, 해당 고유값에 대응되는 고유벡터도 같은 순서로 정렬합니다. 이 때, 각 고유벡터는 서로 직교(orthogonal)합니다.\n",
    "    - 최종적으로 고유값과 고유벡터는 원래의 공분산 행렬을 재구성하는 데 사용됩니다.\n",
    "\n",
    "이 과정을 통해, 데이터의 공분산 행렬은 그 행렬을 이루는 벡터공간에 대한 정보, 즉, 고유벡터(방향)와 고유값(크기)을 추출할 수 있게 됩니다. 이는 데이터의 차원 축소, 노이즈 제거, 특성 추출 등 다양한 분석에 사용되는 기법입니다."
   ]
  },
  {
   "cell_type": "code",
   "execution_count": 22,
   "id": "d1e4d64e",
   "metadata": {},
   "outputs": [
    {
     "name": "stdout",
     "output_type": "stream",
     "text": [
      "[[1 2 3]\n",
      " [4 5 6]\n",
      " [7 8 9]] \n",
      "\n",
      "[[9. 9. 9.]\n",
      " [9. 9. 9.]\n",
      " [9. 9. 9.]] \n",
      "\n",
      "[ 2.70000000e+01  4.31408308e-31 -2.04583522e-16] \n",
      "\n",
      "[[ 5.77350269e-01  7.44271337e-16 -4.35592526e-01]\n",
      " [ 5.77350269e-01 -7.07106781e-01 -3.80279287e-01]\n",
      " [ 5.77350269e-01  7.07106781e-01  8.15871813e-01]] \n",
      "\n",
      "eigenvalues in descending order : \n",
      "27.000000000000007 [0.57735027 0.57735027 0.57735027]\n",
      "2.0458352227148038e-16 [-0.43559253 -0.38027929  0.81587181]\n",
      "4.314083075427408e-31 [ 7.44271337e-16 -7.07106781e-01  7.07106781e-01]\n",
      "\n",
      "orthogonality check : \n",
      "-1.1102230246251565e-16\n"
     ]
    }
   ],
   "source": [
    "data =  np.array([[1,2,3],\n",
    "             [4,5,6],\n",
    "             [7,8,9]])\n",
    "\n",
    "print(data, '\\n')\n",
    "\n",
    "# 공분산 행열 계산\n",
    "cov_mat = np.cov(data.T)\n",
    "print(cov_mat, '\\n')\n",
    "\n",
    "# 고유값과 고유 벡터 계산\n",
    "eig_vals, eig_vecs = np.linalg.eig(cov_mat)\n",
    "print(eig_vals, '\\n')\n",
    "print(eig_vecs, '\\n')\n",
    "\n",
    "# 고유값 정렬 및 해당하는 고유 벡터 매칭\n",
    "eig_pairs = [(np.abs(eig_vals[i]), eig_vecs[:, i]) for i in range(len(eig_vals))]\n",
    "eig_pairs.sort(key = lambda x : x[0], reverse = True)\n",
    "\n",
    "print('eigenvalues in descending order : ')\n",
    "\n",
    "for i in eig_pairs :\n",
    "    print(i[0], i[1])\n",
    "\n",
    "# 각 고유벡터가 직교하는지 확인 내적 = 0\n",
    "print('\\northogonality check : ')\n",
    "print(np.dot(eig_vecs[:, 0], eig_vecs[:, 1]))"
   ]
  },
  {
   "cell_type": "code",
   "execution_count": 26,
   "id": "8eb533d5",
   "metadata": {},
   "outputs": [
    {
     "ename": "ValueError",
     "evalue": "matmul: Input operand 1 has a mismatch in its core dimension 0, with gufunc signature (n?,k),(k,m?)->(n?,m?) (size 3 is different from 2)",
     "output_type": "error",
     "traceback": [
      "\u001b[1;31m---------------------------------------------------------------------------\u001b[0m",
      "\u001b[1;31mValueError\u001b[0m                                Traceback (most recent call last)",
      "\u001b[1;32m~\\AppData\\Local\\Temp\\ipykernel_13668\\907204841.py\u001b[0m in \u001b[0;36m<module>\u001b[1;34m\u001b[0m\n\u001b[0;32m      5\u001b[0m \u001b[0meig_val_mat\u001b[0m \u001b[1;33m=\u001b[0m \u001b[0mnp\u001b[0m\u001b[1;33m.\u001b[0m\u001b[0mdiag\u001b[0m\u001b[1;33m(\u001b[0m\u001b[0meig_vals\u001b[0m\u001b[1;33m)\u001b[0m\u001b[1;33m\u001b[0m\u001b[1;33m\u001b[0m\u001b[0m\n\u001b[0;32m      6\u001b[0m \u001b[1;33m\u001b[0m\u001b[0m\n\u001b[1;32m----> 7\u001b[1;33m \u001b[0ma_reconstructed\u001b[0m \u001b[1;33m=\u001b[0m \u001b[0meig_vec\u001b[0m \u001b[1;33m@\u001b[0m \u001b[0meig_val_mat\u001b[0m \u001b[1;33m@\u001b[0m \u001b[0mnp\u001b[0m\u001b[1;33m.\u001b[0m\u001b[0mlinalg\u001b[0m\u001b[1;33m.\u001b[0m\u001b[0minv\u001b[0m\u001b[1;33m(\u001b[0m\u001b[0meig_vec\u001b[0m\u001b[1;33m)\u001b[0m\u001b[1;33m\u001b[0m\u001b[1;33m\u001b[0m\u001b[0m\n\u001b[0m\u001b[0;32m      8\u001b[0m \u001b[1;33m\u001b[0m\u001b[0m\n\u001b[0;32m      9\u001b[0m \u001b[0mprint\u001b[0m\u001b[1;33m(\u001b[0m\u001b[1;34m'original matrix : '\u001b[0m\u001b[1;33m)\u001b[0m\u001b[1;33m\u001b[0m\u001b[1;33m\u001b[0m\u001b[0m\n",
      "\u001b[1;31mValueError\u001b[0m: matmul: Input operand 1 has a mismatch in its core dimension 0, with gufunc signature (n?,k),(k,m?)->(n?,m?) (size 3 is different from 2)"
     ]
    }
   ],
   "source": [
    "a = np.array([[4,2], [1, 3]])\n",
    "\n",
    "eig_val, eig_vec = np.linalg.eig(a)\n",
    "\n",
    "eig_val_mat = np.diag(eig_vals)\n",
    "\n",
    "a_reconstructed = eig_vec @ eig_val_mat @ np.linalg.inv(eig_vec)\n",
    "\n",
    "print('original matrix : ')\n",
    "print(a)\n",
    "\n",
    "print('\\nreconstructed matrix from eigendecomposisition : ')\n",
    "print(a_reconstructed)"
   ]
  },
  {
   "cell_type": "markdown",
   "id": "0ab95884",
   "metadata": {},
   "source": [
    "#### PCA\n",
    "* 입력 데이터의 공분산 행렬이 고유벡터와 고유값으로 분해될 수 있으며 이렇게 분해된 고유벡터을 이용해 입력 데이터를 선형 변환하는 방식이 PCA\n",
    "* 입력 데이터 세트의 공분산 행렬을 생성\n",
    "* 공분산 행렬의 고유벡터와 고유값을 계산\n",
    "* 고유값이 가장 큰 순으로 K개(PCA 변환 차수)만큼 고유벡터를 추출\n",
    "* 고유값이 가장 큰 순으로 추출되며 고유벡터를 이용해 새롭게 입력 데이터을 변환\n",
    "\n",
    "#### LDA(Linear Discriminant Analysis)\n",
    "* PCA와 매우 유사한 방식이며 PCA가 입력 데이터 변동성의 가장 큰 축을 찾는데 반해 LDA는 입력 데이터의 결정 값 클래스를 최대한으로 분리할 수 있는 축을 찾는 방식으로 차원을 축소\n",
    "\n",
    "#### SVD, NMF\n",
    "* 매우 많은 피처 데이터를 가진 고차원 행렬을 두 개의 저차원 행렬로 분리하는 행렬 분해 기법.\n",
    "* 행렬 분해를 수행하면서 원본 행렬에서 잠재된 요소를 추출하기 때문에 토픽 모델이나 추천 시스템에서 활발하게 사용"
   ]
  },
  {
   "cell_type": "code",
   "execution_count": 27,
   "id": "d093dc7e",
   "metadata": {},
   "outputs": [
    {
     "data": {
      "text/html": [
       "<div>\n",
       "<style scoped>\n",
       "    .dataframe tbody tr th:only-of-type {\n",
       "        vertical-align: middle;\n",
       "    }\n",
       "\n",
       "    .dataframe tbody tr th {\n",
       "        vertical-align: top;\n",
       "    }\n",
       "\n",
       "    .dataframe thead th {\n",
       "        text-align: right;\n",
       "    }\n",
       "</style>\n",
       "<table border=\"1\" class=\"dataframe\">\n",
       "  <thead>\n",
       "    <tr style=\"text-align: right;\">\n",
       "      <th></th>\n",
       "      <th>sepal_length</th>\n",
       "      <th>sepal_width</th>\n",
       "      <th>petal_length</th>\n",
       "      <th>petal_width</th>\n",
       "      <th>target</th>\n",
       "    </tr>\n",
       "  </thead>\n",
       "  <tbody>\n",
       "    <tr>\n",
       "      <th>0</th>\n",
       "      <td>5.1</td>\n",
       "      <td>3.5</td>\n",
       "      <td>1.4</td>\n",
       "      <td>0.2</td>\n",
       "      <td>0</td>\n",
       "    </tr>\n",
       "    <tr>\n",
       "      <th>1</th>\n",
       "      <td>4.9</td>\n",
       "      <td>3.0</td>\n",
       "      <td>1.4</td>\n",
       "      <td>0.2</td>\n",
       "      <td>0</td>\n",
       "    </tr>\n",
       "    <tr>\n",
       "      <th>2</th>\n",
       "      <td>4.7</td>\n",
       "      <td>3.2</td>\n",
       "      <td>1.3</td>\n",
       "      <td>0.2</td>\n",
       "      <td>0</td>\n",
       "    </tr>\n",
       "    <tr>\n",
       "      <th>3</th>\n",
       "      <td>4.6</td>\n",
       "      <td>3.1</td>\n",
       "      <td>1.5</td>\n",
       "      <td>0.2</td>\n",
       "      <td>0</td>\n",
       "    </tr>\n",
       "    <tr>\n",
       "      <th>4</th>\n",
       "      <td>5.0</td>\n",
       "      <td>3.6</td>\n",
       "      <td>1.4</td>\n",
       "      <td>0.2</td>\n",
       "      <td>0</td>\n",
       "    </tr>\n",
       "  </tbody>\n",
       "</table>\n",
       "</div>"
      ],
      "text/plain": [
       "   sepal_length  sepal_width  petal_length  petal_width  target\n",
       "0           5.1          3.5           1.4          0.2       0\n",
       "1           4.9          3.0           1.4          0.2       0\n",
       "2           4.7          3.2           1.3          0.2       0\n",
       "3           4.6          3.1           1.5          0.2       0\n",
       "4           5.0          3.6           1.4          0.2       0"
      ]
     },
     "execution_count": 27,
     "metadata": {},
     "output_type": "execute_result"
    }
   ],
   "source": [
    "from sklearn.datasets import load_iris\n",
    "import pandas as pd\n",
    "import matplotlib.pyplot as plt\n",
    "%matplotlib inline\n",
    "\n",
    "iris = load_iris()\n",
    "\n",
    "columns = ['sepal_length', 'sepal_width', 'petal_length', 'petal_width']\n",
    "\n",
    "irisdf = pd.DataFrame(iris.data, columns = columns)\n",
    "irisdf['target'] = iris.target\n",
    "\n",
    "irisdf.head()"
   ]
  },
  {
   "cell_type": "code",
   "execution_count": 31,
   "id": "315ca7b8",
   "metadata": {},
   "outputs": [
    {
     "data": {
      "image/png": "[encoded data removed]",
      "text/plain": [
       "<Figure size 640x480 with 1 Axes>"
      ]
     },
     "metadata": {},
     "output_type": "display_data"
    }
   ],
   "source": [
    "markers = ['^', 's', 'o']\n",
    "\n",
    "for i, marker in enumerate(markers) :\n",
    "    x_axis_data = irisdf[irisdf['target'] == i]['sepal_length']\n",
    "    y_axis_data = irisdf[irisdf['target'] == i]['sepal_width']\n",
    "    plt.scatter(x_axis_data, y_axis_data, marker = marker, label = iris.target_names[i])\n",
    "    \n",
    "plt.legend()\n",
    "plt.xlabel('sepal_length')\n",
    "plt.ylabel('sepal_width')\n",
    "\n",
    "plt.show()"
   ]
  },
  {
   "cell_type": "code",
   "execution_count": 35,
   "id": "e04b9913",
   "metadata": {},
   "outputs": [],
   "source": [
    "from sklearn.preprocessing import StandardScaler\n",
    "\n",
    "iris_scaled = StandardScaler().fit_transform(irisdf.iloc[:, : -1])"
   ]
  },
  {
   "cell_type": "code",
   "execution_count": 38,
   "id": "4b193de3",
   "metadata": {},
   "outputs": [
    {
     "name": "stdout",
     "output_type": "stream",
     "text": [
      "(150, 2)\n"
     ]
    }
   ],
   "source": [
    "from sklearn.decomposition import PCA\n",
    "\n",
    "pca = PCA(n_components = 2)\n",
    "\n",
    "pca.fit(iris_scaled)\n",
    "iris_pca = pca.transform(iris_scaled)\n",
    "print(iris_pca.shape)"
   ]
  },
  {
   "cell_type": "code",
   "execution_count": 40,
   "id": "e9462941",
   "metadata": {},
   "outputs": [
    {
     "data": {
      "text/html": [
       "<div>\n",
       "<style scoped>\n",
       "    .dataframe tbody tr th:only-of-type {\n",
       "        vertical-align: middle;\n",
       "    }\n",
       "\n",
       "    .dataframe tbody tr th {\n",
       "        vertical-align: top;\n",
       "    }\n",
       "\n",
       "    .dataframe thead th {\n",
       "        text-align: right;\n",
       "    }\n",
       "</style>\n",
       "<table border=\"1\" class=\"dataframe\">\n",
       "  <thead>\n",
       "    <tr style=\"text-align: right;\">\n",
       "      <th></th>\n",
       "      <th>pca_component_1</th>\n",
       "      <th>pca_component_2</th>\n",
       "      <th>target</th>\n",
       "    </tr>\n",
       "  </thead>\n",
       "  <tbody>\n",
       "    <tr>\n",
       "      <th>0</th>\n",
       "      <td>-2.264703</td>\n",
       "      <td>0.480027</td>\n",
       "      <td>0</td>\n",
       "    </tr>\n",
       "    <tr>\n",
       "      <th>1</th>\n",
       "      <td>-2.080961</td>\n",
       "      <td>-0.674134</td>\n",
       "      <td>0</td>\n",
       "    </tr>\n",
       "    <tr>\n",
       "      <th>2</th>\n",
       "      <td>-2.364229</td>\n",
       "      <td>-0.341908</td>\n",
       "      <td>0</td>\n",
       "    </tr>\n",
       "    <tr>\n",
       "      <th>3</th>\n",
       "      <td>-2.299384</td>\n",
       "      <td>-0.597395</td>\n",
       "      <td>0</td>\n",
       "    </tr>\n",
       "    <tr>\n",
       "      <th>4</th>\n",
       "      <td>-2.389842</td>\n",
       "      <td>0.646835</td>\n",
       "      <td>0</td>\n",
       "    </tr>\n",
       "  </tbody>\n",
       "</table>\n",
       "</div>"
      ],
      "text/plain": [
       "   pca_component_1  pca_component_2  target\n",
       "0        -2.264703         0.480027       0\n",
       "1        -2.080961        -0.674134       0\n",
       "2        -2.364229        -0.341908       0\n",
       "3        -2.299384        -0.597395       0\n",
       "4        -2.389842         0.646835       0"
      ]
     },
     "execution_count": 40,
     "metadata": {},
     "output_type": "execute_result"
    }
   ],
   "source": [
    "pca_columns = ['pca_component_1', 'pca_component_2']\n",
    "\n",
    "irisdf_pca = pd.DataFrame(iris_pca, columns = pca_columns)\n",
    "irisdf_pca['target'] = iris.target\n",
    "irisdf_pca.head()"
   ]
  },
  {
   "cell_type": "code",
   "execution_count": 46,
   "id": "be85fa36",
   "metadata": {},
   "outputs": [
    {
     "data": {
      "image/png": "[encoded data removed]",
      "text/plain": [
       "<Figure size 640x480 with 1 Axes>"
      ]
     },
     "metadata": {},
     "output_type": "display_data"
    }
   ],
   "source": [
    "markers = ['^', 's', 'o']\n",
    "\n",
    "for i, marker in enumerate(markers) :\n",
    "    x_axis_data = irisdf_pca[irisdf_pca['target'] == i]['pca_component_1']\n",
    "    y_axis_data = irisdf_pca[irisdf_pca['target'] == i]['pca_component_2']\n",
    "    plt.scatter(x_axis_data, y_axis_data, marker = marker, label = iris.target_names[i])\n",
    "    \n",
    "plt.legend()\n",
    "plt.xlabel('sepal_length')\n",
    "plt.ylabel('sepal_width')\n",
    "\n",
    "plt.show()"
   ]
  },
  {
   "cell_type": "code",
   "execution_count": 49,
   "id": "25d5200d",
   "metadata": {},
   "outputs": [
    {
     "name": "stdout",
     "output_type": "stream",
     "text": [
      "[0.72962445 0.22850762]\n"
     ]
    }
   ],
   "source": [
    "print(pca.explained_variance_ratio_)"
   ]
  },
  {
   "cell_type": "code",
   "execution_count": 51,
   "id": "ff41d573",
   "metadata": {},
   "outputs": [],
   "source": [
    "# iris data 원본과 차원축소 데이터에 대하여 각각 모델링(rg) 평가 (교차검증) 한 후 결과를 비교하세요"
   ]
  },
  {
   "cell_type": "code",
   "execution_count": 53,
   "id": "de9fb43c",
   "metadata": {},
   "outputs": [
    {
     "name": "stdout",
     "output_type": "stream",
     "text": [
      "원본 데이터 교차 검증 개별 정확도 :  [0.98 0.94 0.96]\n",
      "원본 데이터 평균 정확도 :  0.96\n"
     ]
    }
   ],
   "source": [
    "from sklearn.ensemble import RandomForestClassifier\n",
    "from sklearn.model_selection import cross_val_score\n",
    "\n",
    "rcf = RandomForestClassifier(random_state = 156)\n",
    "scores = cross_val_score(rcf, iris.data, iris.target, scoring = 'accuracy', cv = 3)\n",
    "\n",
    "print('원본 데이터 교차 검증 개별 정확도 : ', scores)\n",
    "print('원본 데이터 평균 정확도 : ', np.mean(scores))"
   ]
  },
  {
   "cell_type": "code",
   "execution_count": 54,
   "id": "66c59d98",
   "metadata": {},
   "outputs": [
    {
     "name": "stdout",
     "output_type": "stream",
     "text": [
      "pca 변환 데이터 교차 검증 개별 정확도 :  [0.88 0.88 0.88]\n",
      "pca 변환 데이터 평균 정확도 :  0.88\n"
     ]
    }
   ],
   "source": [
    "pca_x = irisdf_pca[['pca_component_1', 'pca_component_2']]\n",
    "scores_pca = cross_val_score(rcf, pca_x, iris.target, scoring = 'accuracy', cv = 3)\n",
    "print('pca 변환 데이터 교차 검증 개별 정확도 : ', scores_pca)\n",
    "print('pca 변환 데이터 평균 정확도 : ', np.mean(scores_pca))"
   ]
  }
 ],
 "metadata": {
  "kernelspec": {
   "display_name": "Python 3 (ipykernel)",
   "language": "python",
   "name": "python3"
  },
  "language_info": {
   "codemirror_mode": {
    "name": "ipython",
    "version": 3
   },
   "file_extension": ".py",
   "mimetype": "text/x-python",
   "name": "python",
   "nbconvert_exporter": "python",
   "pygments_lexer": "ipython3",
   "version": "3.9.13"
  }
 },
 "nbformat": 4,
 "nbformat_minor": 5
}
