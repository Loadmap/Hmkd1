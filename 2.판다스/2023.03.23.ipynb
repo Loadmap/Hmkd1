{
 "cells": [
  {
   "cell_type": "markdown",
   "id": "aa69c385",
   "metadata": {},
   "source": [
    "#### 판다스\n",
    "\n",
    "* 판다스는 구조화된 데이터 형식을 제공. 시리즈는 1차원 배열, 데이터프레임은 2차원 배열\n",
    "* 라이브러리는 여러 종류의 class와 다양한 내장 함수로 구성. 시리즈와 데이터프레임은 대표적인 클래스 객체임\n",
    "* 시리즈 인덱스는 데이터 값과 일대일 대응. 파이썬 딕셔너리와 비슷한 구조. pandas.Series(딕셔너리)\n",
    "\n",
    "- Contents\n",
    " - Series(변환, 인덱스 구조, 원소 선택)\n",
    " - DataFrame(변환, 행인덱스/열이름 지정, 삭제,선택,추가, 변경, 전치, 인덱스 활용)"
   ]
  },
  {
   "cell_type": "code",
   "execution_count": 1,
   "id": "e9d0b1e4",
   "metadata": {},
   "outputs": [],
   "source": [
    "# 열 칼럼 행 로우"
   ]
  },
  {
   "cell_type": "code",
   "execution_count": 2,
   "id": "756ade8c",
   "metadata": {},
   "outputs": [
    {
     "name": "stdout",
     "output_type": "stream",
     "text": [
      "a    1\n",
      "b    2\n",
      "c    3\n",
      "dtype: int64 <class 'pandas.core.series.Series'>\n"
     ]
    }
   ],
   "source": [
    "# dic -> Series\n",
    "\n",
    "import pandas as pd\n",
    "\n",
    "dic_data = {'a' : 1, 'b' : 2, 'c' : 3}\n",
    "\n",
    "sr = pd.Series(dic_data) # Series 판다스내의 클래스\n",
    "\n",
    "print (sr, type(sr))"
   ]
  },
  {
   "cell_type": "code",
   "execution_count": 3,
   "id": "a779dd3d",
   "metadata": {},
   "outputs": [
    {
     "name": "stdout",
     "output_type": "stream",
     "text": [
      "a    2019-07-02\n",
      "b          3.14\n",
      "c           ABC\n",
      "d           100\n",
      "e          True\n",
      "dtype: object <class 'pandas.core.series.Series'>\n"
     ]
    }
   ],
   "source": [
    "# list -> Series\n",
    "\n",
    "list_data = ['2019-07-02', 3.14, 'ABC', 100, True]\n",
    "\n",
    "sr = pd.Series(list_data, index = ['a', 'b', 'c', 'd', 'e']) # 인덱스 대응\n",
    "# sr = pd.Series(list_data, index = list('abcde')) \n",
    "print(sr, type(sr))"
   ]
  },
  {
   "cell_type": "code",
   "execution_count": 4,
   "id": "c970f609",
   "metadata": {},
   "outputs": [
    {
     "name": "stdout",
     "output_type": "stream",
     "text": [
      "이름           kevin\n",
      "날짜      2019-07-02\n",
      "성별               남\n",
      "학생여부          True\n",
      "dtype: object <class 'pandas.core.series.Series'>\n"
     ]
    }
   ],
   "source": [
    "# 튜플 -> Series\n",
    "\n",
    "tub_data = ('kevin', '2019-07-02', '남', True)\n",
    "\n",
    "sr = pd.Series(tub_data, index = ['이름','날짜','성별','학생여부'])\n",
    "\n",
    "print(sr, type(sr))"
   ]
  },
  {
   "cell_type": "code",
   "execution_count": 5,
   "id": "664d9bfd",
   "metadata": {},
   "outputs": [
    {
     "name": "stdout",
     "output_type": "stream",
     "text": [
      "2019-07-02\n"
     ]
    }
   ],
   "source": [
    "sr[1]\n",
    "print(sr[1])"
   ]
  },
  {
   "cell_type": "code",
   "execution_count": 6,
   "id": "2806133d",
   "metadata": {},
   "outputs": [
    {
     "name": "stdout",
     "output_type": "stream",
     "text": [
      "Index(['이름', '날짜', '성별', '학생여부'], dtype='object')\n",
      "['kevin' '2019-07-02' '남' True]\n"
     ]
    }
   ],
   "source": [
    "# 인덱스 및 값\n",
    "idx = sr.index\n",
    "print(idx)\n",
    "\n",
    "val = sr.values\n",
    "print(val)"
   ]
  },
  {
   "cell_type": "markdown",
   "id": "ff65349e",
   "metadata": {},
   "source": [
    "#### 데이터프레임\n",
    "* 데이터프레임은 2차원 배열. R의 데이터프레임에서 유래.\n",
    "* 데이터프레임의 열은 각각 시리즈 개체. \n",
    "* 시리즈를 열벡터라고 하면 데이터프레임은 여러개의 열벡터들이 같은 행 인덱스를\n",
    "  기준으로 줄지어 결합된 2차원 벡터 또는 행렬.\n",
    "* 선형대수학에서 열 벡터(m x 1 행렬)는 m 원소들의 단일 열 행렬\n",
    "* 행 벡터(1 x m 행렬)은 m원소들의 단일 행 행렬.\n",
    "* 리스트, 딕셔너리, ndarray 등 다양한 데이터로부터 생성\n",
    "* 반대로 리스트, 딕셔너리, ndarray 등으로 변환될 수 있음"
   ]
  },
  {
   "cell_type": "code",
   "execution_count": 7,
   "id": "656a117f",
   "metadata": {},
   "outputs": [
    {
     "data": {
      "text/html": [
       "<div>\n",
       "<style scoped>\n",
       "    .dataframe tbody tr th:only-of-type {\n",
       "        vertical-align: middle;\n",
       "    }\n",
       "\n",
       "    .dataframe tbody tr th {\n",
       "        vertical-align: top;\n",
       "    }\n",
       "\n",
       "    .dataframe thead th {\n",
       "        text-align: right;\n",
       "    }\n",
       "</style>\n",
       "<table border=\"1\" class=\"dataframe\">\n",
       "  <thead>\n",
       "    <tr style=\"text-align: right;\">\n",
       "      <th></th>\n",
       "      <th>몸무게</th>\n",
       "      <th>식사량</th>\n",
       "      <th>운동량</th>\n",
       "    </tr>\n",
       "  </thead>\n",
       "  <tbody>\n",
       "    <tr>\n",
       "      <th>태현</th>\n",
       "      <td>112</td>\n",
       "      <td>115</td>\n",
       "      <td>100</td>\n",
       "    </tr>\n",
       "    <tr>\n",
       "      <th>서진</th>\n",
       "      <td>103</td>\n",
       "      <td>103</td>\n",
       "      <td>107</td>\n",
       "    </tr>\n",
       "    <tr>\n",
       "      <th>동완</th>\n",
       "      <td>109</td>\n",
       "      <td>119</td>\n",
       "      <td>118</td>\n",
       "    </tr>\n",
       "  </tbody>\n",
       "</table>\n",
       "</div>"
      ],
      "text/plain": [
       "    몸무게  식사량  운동량\n",
       "태현  112  115  100\n",
       "서진  103  103  107\n",
       "동완  109  119  118"
      ]
     },
     "execution_count": 7,
     "metadata": {},
     "output_type": "execute_result"
    }
   ],
   "source": [
    "import numpy as np\n",
    "\n",
    "np.random.seed(0)\n",
    "data = np.random.randint(100,120, size= (3,3))\n",
    "\n",
    "df = pd.DataFrame(data, index=['태현','서진','동완'], \n",
    "                  columns = ['몸무게', '식사량', '운동량'])\n",
    "\n",
    "df\n"
   ]
  },
  {
   "cell_type": "code",
   "execution_count": 8,
   "id": "7889e3e9",
   "metadata": {},
   "outputs": [
    {
     "name": "stdout",
     "output_type": "stream",
     "text": [
      "몸무게    103\n",
      "식사량    103\n",
      "운동량    107\n",
      "Name: 서진, dtype: int32\n"
     ]
    }
   ],
   "source": [
    "# pandas indexing : iloc 정수 인덱스, loc 이름 인덱스\n",
    "\n",
    "print(df.iloc[1]) "
   ]
  },
  {
   "cell_type": "code",
   "execution_count": 9,
   "id": "05aeb0a5",
   "metadata": {},
   "outputs": [
    {
     "name": "stdout",
     "output_type": "stream",
     "text": [
      "몸무게    103\n",
      "식사량    103\n",
      "운동량    107\n",
      "Name: 서진, dtype: int32\n"
     ]
    }
   ],
   "source": [
    "print(df.loc['서진'])"
   ]
  },
  {
   "cell_type": "code",
   "execution_count": 10,
   "id": "c2156efa",
   "metadata": {},
   "outputs": [
    {
     "name": "stdout",
     "output_type": "stream",
     "text": [
      "Index(['태현', '서진', '동완'], dtype='object')\n",
      "Index(['몸무게', '식사량', '운동량'], dtype='object')\n"
     ]
    }
   ],
   "source": [
    "print(df.index)\n",
    "print(df.columns)"
   ]
  },
  {
   "cell_type": "code",
   "execution_count": 11,
   "id": "9db0cbc2",
   "metadata": {},
   "outputs": [
    {
     "name": "stdout",
     "output_type": "stream",
     "text": [
      "107\n",
      "107\n"
     ]
    }
   ],
   "source": [
    "print(df.iloc[1][2])\n",
    "print(df.loc['서진']['운동량'])"
   ]
  },
  {
   "cell_type": "code",
   "execution_count": 12,
   "id": "f28dcb72",
   "metadata": {},
   "outputs": [
    {
     "data": {
      "text/html": [
       "<div>\n",
       "<style scoped>\n",
       "    .dataframe tbody tr th:only-of-type {\n",
       "        vertical-align: middle;\n",
       "    }\n",
       "\n",
       "    .dataframe tbody tr th {\n",
       "        vertical-align: top;\n",
       "    }\n",
       "\n",
       "    .dataframe thead th {\n",
       "        text-align: right;\n",
       "    }\n",
       "</style>\n",
       "<table border=\"1\" class=\"dataframe\">\n",
       "  <thead>\n",
       "    <tr style=\"text-align: right;\">\n",
       "      <th></th>\n",
       "      <th>몸무게</th>\n",
       "      <th>식사량</th>\n",
       "      <th>운동량</th>\n",
       "    </tr>\n",
       "  </thead>\n",
       "  <tbody>\n",
       "    <tr>\n",
       "      <th>태현</th>\n",
       "      <td>112</td>\n",
       "      <td>115</td>\n",
       "      <td>100</td>\n",
       "    </tr>\n",
       "    <tr>\n",
       "      <th>서진</th>\n",
       "      <td>103</td>\n",
       "      <td>103</td>\n",
       "      <td>107</td>\n",
       "    </tr>\n",
       "    <tr>\n",
       "      <th>동완</th>\n",
       "      <td>109</td>\n",
       "      <td>119</td>\n",
       "      <td>118</td>\n",
       "    </tr>\n",
       "  </tbody>\n",
       "</table>\n",
       "</div>"
      ],
      "text/plain": [
       "    몸무게  식사량  운동량\n",
       "태현  112  115  100\n",
       "서진  103  103  107\n",
       "동완  109  119  118"
      ]
     },
     "execution_count": 12,
     "metadata": {},
     "output_type": "execute_result"
    }
   ],
   "source": [
    "df_org = df.copy()\n",
    "df_org"
   ]
  },
  {
   "cell_type": "code",
   "execution_count": 13,
   "id": "21aea986",
   "metadata": {},
   "outputs": [],
   "source": [
    "df.iloc[0,0] = 85\n",
    "df.loc['태현','식사량'] = 3\n",
    "df.iloc[0,2] = 5\n",
    "\n",
    "df.iloc[1,0] = 70\n",
    "df.loc['서진','식사량'] = 5\n",
    "df.iloc[1,2] = 1\n",
    "\n",
    "df.iloc[2,0] = 75\n",
    "df.loc['동완','식사량'] = 6\n",
    "df.iloc[2,2] = 3"
   ]
  },
  {
   "cell_type": "code",
   "execution_count": 14,
   "id": "d256cce4",
   "metadata": {},
   "outputs": [],
   "source": [
    "df.iloc[0] = [85,5,3]\n",
    "df.loc['서진'] = [70,5,1]\n",
    "df.iloc[2] = [75,6,3]"
   ]
  },
  {
   "cell_type": "code",
   "execution_count": 15,
   "id": "8a7964b2",
   "metadata": {},
   "outputs": [
    {
     "data": {
      "text/html": [
       "<div>\n",
       "<style scoped>\n",
       "    .dataframe tbody tr th:only-of-type {\n",
       "        vertical-align: middle;\n",
       "    }\n",
       "\n",
       "    .dataframe tbody tr th {\n",
       "        vertical-align: top;\n",
       "    }\n",
       "\n",
       "    .dataframe thead th {\n",
       "        text-align: right;\n",
       "    }\n",
       "</style>\n",
       "<table border=\"1\" class=\"dataframe\">\n",
       "  <thead>\n",
       "    <tr style=\"text-align: right;\">\n",
       "      <th></th>\n",
       "      <th>몸무게</th>\n",
       "      <th>식사량</th>\n",
       "      <th>운동량</th>\n",
       "    </tr>\n",
       "  </thead>\n",
       "  <tbody>\n",
       "    <tr>\n",
       "      <th>태현</th>\n",
       "      <td>85</td>\n",
       "      <td>5</td>\n",
       "      <td>3</td>\n",
       "    </tr>\n",
       "    <tr>\n",
       "      <th>서진</th>\n",
       "      <td>70</td>\n",
       "      <td>5</td>\n",
       "      <td>1</td>\n",
       "    </tr>\n",
       "    <tr>\n",
       "      <th>동완</th>\n",
       "      <td>75</td>\n",
       "      <td>6</td>\n",
       "      <td>3</td>\n",
       "    </tr>\n",
       "  </tbody>\n",
       "</table>\n",
       "</div>"
      ],
      "text/plain": [
       "    몸무게  식사량  운동량\n",
       "태현   85    5    3\n",
       "서진   70    5    1\n",
       "동완   75    6    3"
      ]
     },
     "execution_count": 15,
     "metadata": {},
     "output_type": "execute_result"
    }
   ],
   "source": [
    "df"
   ]
  },
  {
   "cell_type": "code",
   "execution_count": null,
   "id": "528ab5dc",
   "metadata": {},
   "outputs": [],
   "source": []
  },
  {
   "cell_type": "code",
   "execution_count": 16,
   "id": "ba932895",
   "metadata": {},
   "outputs": [
    {
     "ename": "ValueError",
     "evalue": "Length of values (5) does not match length of index (3)",
     "output_type": "error",
     "traceback": [
      "\u001b[1;31m---------------------------------------------------------------------------\u001b[0m",
      "\u001b[1;31mValueError\u001b[0m                                Traceback (most recent call last)",
      "\u001b[1;32m~\\AppData\\Local\\Temp\\ipykernel_2344\\3414151322.py\u001b[0m in \u001b[0;36m<module>\u001b[1;34m\u001b[0m\n\u001b[0;32m      1\u001b[0m \u001b[1;31m# 행 2, 열 2 개 더 추가하기\u001b[0m\u001b[1;33m\u001b[0m\u001b[1;33m\u001b[0m\u001b[0m\n\u001b[0;32m      2\u001b[0m \u001b[1;33m\u001b[0m\u001b[0m\n\u001b[1;32m----> 3\u001b[1;33m \u001b[0mdf\u001b[0m\u001b[1;33m[\u001b[0m\u001b[1;34m'키'\u001b[0m\u001b[1;33m]\u001b[0m \u001b[1;33m=\u001b[0m \u001b[1;33m[\u001b[0m\u001b[1;36m180\u001b[0m\u001b[1;33m,\u001b[0m\u001b[1;36m150\u001b[0m\u001b[1;33m,\u001b[0m\u001b[1;36m165\u001b[0m\u001b[1;33m,\u001b[0m\u001b[1;36m170\u001b[0m\u001b[1;33m,\u001b[0m\u001b[1;36m165\u001b[0m\u001b[1;33m]\u001b[0m\u001b[1;33m\u001b[0m\u001b[1;33m\u001b[0m\u001b[0m\n\u001b[0m\u001b[0;32m      4\u001b[0m \u001b[0mdf\u001b[0m\u001b[1;33m.\u001b[0m\u001b[0mloc\u001b[0m\u001b[1;33m[\u001b[0m\u001b[1;34m'진선'\u001b[0m\u001b[1;33m]\u001b[0m \u001b[1;33m=\u001b[0m \u001b[1;33m[\u001b[0m\u001b[1;36m66\u001b[0m\u001b[1;33m,\u001b[0m\u001b[1;36m5\u001b[0m\u001b[1;33m,\u001b[0m\u001b[1;36m2\u001b[0m\u001b[1;33m,\u001b[0m\u001b[1;36m165\u001b[0m\u001b[1;33m]\u001b[0m\u001b[1;33m\u001b[0m\u001b[1;33m\u001b[0m\u001b[0m\n",
      "\u001b[1;32mD:\\python\\lib\\site-packages\\pandas\\core\\frame.py\u001b[0m in \u001b[0;36m__setitem__\u001b[1;34m(self, key, value)\u001b[0m\n\u001b[0;32m   3653\u001b[0m         \u001b[1;32melse\u001b[0m\u001b[1;33m:\u001b[0m\u001b[1;33m\u001b[0m\u001b[1;33m\u001b[0m\u001b[0m\n\u001b[0;32m   3654\u001b[0m             \u001b[1;31m# set column\u001b[0m\u001b[1;33m\u001b[0m\u001b[1;33m\u001b[0m\u001b[0m\n\u001b[1;32m-> 3655\u001b[1;33m             \u001b[0mself\u001b[0m\u001b[1;33m.\u001b[0m\u001b[0m_set_item\u001b[0m\u001b[1;33m(\u001b[0m\u001b[0mkey\u001b[0m\u001b[1;33m,\u001b[0m \u001b[0mvalue\u001b[0m\u001b[1;33m)\u001b[0m\u001b[1;33m\u001b[0m\u001b[1;33m\u001b[0m\u001b[0m\n\u001b[0m\u001b[0;32m   3656\u001b[0m \u001b[1;33m\u001b[0m\u001b[0m\n\u001b[0;32m   3657\u001b[0m     \u001b[1;32mdef\u001b[0m \u001b[0m_setitem_slice\u001b[0m\u001b[1;33m(\u001b[0m\u001b[0mself\u001b[0m\u001b[1;33m,\u001b[0m \u001b[0mkey\u001b[0m\u001b[1;33m:\u001b[0m \u001b[0mslice\u001b[0m\u001b[1;33m,\u001b[0m \u001b[0mvalue\u001b[0m\u001b[1;33m)\u001b[0m\u001b[1;33m:\u001b[0m\u001b[1;33m\u001b[0m\u001b[1;33m\u001b[0m\u001b[0m\n",
      "\u001b[1;32mD:\\python\\lib\\site-packages\\pandas\\core\\frame.py\u001b[0m in \u001b[0;36m_set_item\u001b[1;34m(self, key, value)\u001b[0m\n\u001b[0;32m   3830\u001b[0m         \u001b[0mensure\u001b[0m \u001b[0mhomogeneity\u001b[0m\u001b[1;33m.\u001b[0m\u001b[1;33m\u001b[0m\u001b[1;33m\u001b[0m\u001b[0m\n\u001b[0;32m   3831\u001b[0m         \"\"\"\n\u001b[1;32m-> 3832\u001b[1;33m         \u001b[0mvalue\u001b[0m \u001b[1;33m=\u001b[0m \u001b[0mself\u001b[0m\u001b[1;33m.\u001b[0m\u001b[0m_sanitize_column\u001b[0m\u001b[1;33m(\u001b[0m\u001b[0mvalue\u001b[0m\u001b[1;33m)\u001b[0m\u001b[1;33m\u001b[0m\u001b[1;33m\u001b[0m\u001b[0m\n\u001b[0m\u001b[0;32m   3833\u001b[0m \u001b[1;33m\u001b[0m\u001b[0m\n\u001b[0;32m   3834\u001b[0m         if (\n",
      "\u001b[1;32mD:\\python\\lib\\site-packages\\pandas\\core\\frame.py\u001b[0m in \u001b[0;36m_sanitize_column\u001b[1;34m(self, value)\u001b[0m\n\u001b[0;32m   4536\u001b[0m \u001b[1;33m\u001b[0m\u001b[0m\n\u001b[0;32m   4537\u001b[0m         \u001b[1;32mif\u001b[0m \u001b[0mis_list_like\u001b[0m\u001b[1;33m(\u001b[0m\u001b[0mvalue\u001b[0m\u001b[1;33m)\u001b[0m\u001b[1;33m:\u001b[0m\u001b[1;33m\u001b[0m\u001b[1;33m\u001b[0m\u001b[0m\n\u001b[1;32m-> 4538\u001b[1;33m             \u001b[0mcom\u001b[0m\u001b[1;33m.\u001b[0m\u001b[0mrequire_length_match\u001b[0m\u001b[1;33m(\u001b[0m\u001b[0mvalue\u001b[0m\u001b[1;33m,\u001b[0m \u001b[0mself\u001b[0m\u001b[1;33m.\u001b[0m\u001b[0mindex\u001b[0m\u001b[1;33m)\u001b[0m\u001b[1;33m\u001b[0m\u001b[1;33m\u001b[0m\u001b[0m\n\u001b[0m\u001b[0;32m   4539\u001b[0m         \u001b[1;32mreturn\u001b[0m \u001b[0msanitize_array\u001b[0m\u001b[1;33m(\u001b[0m\u001b[0mvalue\u001b[0m\u001b[1;33m,\u001b[0m \u001b[0mself\u001b[0m\u001b[1;33m.\u001b[0m\u001b[0mindex\u001b[0m\u001b[1;33m,\u001b[0m \u001b[0mcopy\u001b[0m\u001b[1;33m=\u001b[0m\u001b[1;32mTrue\u001b[0m\u001b[1;33m,\u001b[0m \u001b[0mallow_2d\u001b[0m\u001b[1;33m=\u001b[0m\u001b[1;32mTrue\u001b[0m\u001b[1;33m)\u001b[0m\u001b[1;33m\u001b[0m\u001b[1;33m\u001b[0m\u001b[0m\n\u001b[0;32m   4540\u001b[0m \u001b[1;33m\u001b[0m\u001b[0m\n",
      "\u001b[1;32mD:\\python\\lib\\site-packages\\pandas\\core\\common.py\u001b[0m in \u001b[0;36mrequire_length_match\u001b[1;34m(data, index)\u001b[0m\n\u001b[0;32m    555\u001b[0m     \"\"\"\n\u001b[0;32m    556\u001b[0m     \u001b[1;32mif\u001b[0m \u001b[0mlen\u001b[0m\u001b[1;33m(\u001b[0m\u001b[0mdata\u001b[0m\u001b[1;33m)\u001b[0m \u001b[1;33m!=\u001b[0m \u001b[0mlen\u001b[0m\u001b[1;33m(\u001b[0m\u001b[0mindex\u001b[0m\u001b[1;33m)\u001b[0m\u001b[1;33m:\u001b[0m\u001b[1;33m\u001b[0m\u001b[1;33m\u001b[0m\u001b[0m\n\u001b[1;32m--> 557\u001b[1;33m         raise ValueError(\n\u001b[0m\u001b[0;32m    558\u001b[0m             \u001b[1;34m\"Length of values \"\u001b[0m\u001b[1;33m\u001b[0m\u001b[1;33m\u001b[0m\u001b[0m\n\u001b[0;32m    559\u001b[0m             \u001b[1;34mf\"({len(data)}) \"\u001b[0m\u001b[1;33m\u001b[0m\u001b[1;33m\u001b[0m\u001b[0m\n",
      "\u001b[1;31mValueError\u001b[0m: Length of values (5) does not match length of index (3)"
     ]
    }
   ],
   "source": [
    "# 행 2, 열 2 개 더 추가하기\n",
    "\n",
    "df['키'] = [180,150,165,170,165]\n",
    "df.loc['진선'] = [66,5,2,165]"
   ]
  },
  {
   "cell_type": "code",
   "execution_count": null,
   "id": "8324f2ef",
   "metadata": {},
   "outputs": [],
   "source": [
    "df"
   ]
  },
  {
   "cell_type": "code",
   "execution_count": null,
   "id": "223418cf",
   "metadata": {},
   "outputs": [],
   "source": [
    "d1 = df.index\n",
    "print(d1)\n",
    "\n",
    "d2 = df.columns\n",
    "print(d2)"
   ]
  },
  {
   "cell_type": "code",
   "execution_count": null,
   "id": "82014a42",
   "metadata": {},
   "outputs": [],
   "source": [
    "df.iloc[0,0] = 5\n",
    "df"
   ]
  },
  {
   "cell_type": "code",
   "execution_count": null,
   "id": "5f785bb9",
   "metadata": {},
   "outputs": [],
   "source": [
    "df.loc['예슬'] = 0\n",
    "df"
   ]
  },
  {
   "cell_type": "code",
   "execution_count": null,
   "id": "a49c8e6f",
   "metadata": {},
   "outputs": [],
   "source": [
    "df['수면시간'] = 0\n",
    "df"
   ]
  },
  {
   "cell_type": "code",
   "execution_count": null,
   "id": "c8bd5465",
   "metadata": {},
   "outputs": [],
   "source": [
    "df['간식횟수'] = 0\n",
    "df.loc['용훈'] = 0\n",
    "df"
   ]
  },
  {
   "cell_type": "code",
   "execution_count": null,
   "id": "1505d4a9",
   "metadata": {},
   "outputs": [],
   "source": [
    "df.iloc[4] = df.iloc[0]\n",
    "df"
   ]
  },
  {
   "cell_type": "code",
   "execution_count": null,
   "id": "2bfb8706",
   "metadata": {},
   "outputs": [],
   "source": [
    "df.iloc[:3,3] = 7\n",
    "df"
   ]
  },
  {
   "cell_type": "code",
   "execution_count": null,
   "id": "f2c671f8",
   "metadata": {},
   "outputs": [],
   "source": [
    "df.iloc[3] = [85,7,3,6,2]\n",
    "df"
   ]
  },
  {
   "cell_type": "code",
   "execution_count": null,
   "id": "dde5da61",
   "metadata": {},
   "outputs": [],
   "source": [
    "df.iloc[:4,4] = [1,2,3,4]\n",
    "df"
   ]
  },
  {
   "cell_type": "code",
   "execution_count": null,
   "id": "1f79800a",
   "metadata": {},
   "outputs": [],
   "source": [
    "df.iloc[3:4] = [85,7,3,6,4]\n",
    "df"
   ]
  },
  {
   "cell_type": "code",
   "execution_count": null,
   "id": "70a0341a",
   "metadata": {},
   "outputs": [],
   "source": [
    "df.iloc[4:4] = [100,50,5,5,5]\n",
    "df"
   ]
  },
  {
   "cell_type": "code",
   "execution_count": null,
   "id": "0ca629ae",
   "metadata": {},
   "outputs": [],
   "source": [
    "df.loc['주경'] = 0\n",
    "df.loc['인혁'] = 0\n",
    "\n",
    "df['공부시간'] = 0\n",
    "df['멍때리는 시간'] = 0\n",
    "\n",
    "df.iloc[:3,3] = 8\n",
    "df.iloc[:3,4] = 3\n",
    "\n",
    "df.loc['주경'] = df.loc['태현']\n",
    "\n",
    "df.loc['인혁'] = [100,85,90,17,5]\n",
    "df"
   ]
  },
  {
   "cell_type": "code",
   "execution_count": null,
   "id": "a34b939f",
   "metadata": {},
   "outputs": [],
   "source": [
    "# 열삭제\n",
    "\n",
    "import pandas as pd \n",
    "\n",
    "data = pd.DataFrame({'column1' : [1,2,3],\n",
    "                     'column2' : [4,5,6],\n",
    "                    'column3' : [7,8,9]})\n",
    "\n",
    "print(data,'\\n')\n",
    "\n",
    "data1 = data.drop('column2', axis = 1, inplace=True) # 원본에서 삭제\n",
    "\n",
    "print(data)"
   ]
  },
  {
   "cell_type": "code",
   "execution_count": null,
   "id": "0f0d62d5",
   "metadata": {},
   "outputs": [],
   "source": [
    "# 인덱스 이름 변경\n",
    "df.index = ['서진','태현','동완']\n",
    "df"
   ]
  },
  {
   "cell_type": "code",
   "execution_count": null,
   "id": "0ebd3a99",
   "metadata": {},
   "outputs": [],
   "source": [
    "df_orgy = df.copy()\n",
    "df_orgy\n"
   ]
  },
  {
   "cell_type": "code",
   "execution_count": null,
   "id": "ac6586a6",
   "metadata": {},
   "outputs": [],
   "source": [
    "df.iloc[1,1] = np.nan\n",
    "df"
   ]
  },
  {
   "cell_type": "code",
   "execution_count": null,
   "id": "2b0a058a",
   "metadata": {},
   "outputs": [],
   "source": [
    "# null 값을 찾아서 불 을 확인한다\n",
    "df.isnull()\n"
   ]
  },
  {
   "cell_type": "code",
   "execution_count": null,
   "id": "28509be7",
   "metadata": {},
   "outputs": [],
   "source": [
    "# null 값 개수 구하기\n",
    "df.isnull().sum().sum()"
   ]
  },
  {
   "cell_type": "code",
   "execution_count": null,
   "id": "3b784492",
   "metadata": {},
   "outputs": [],
   "source": [
    "# 각 열의 평균\n",
    "df.mean(axis = 0)"
   ]
  },
  {
   "cell_type": "code",
   "execution_count": null,
   "id": "6f7ebc1d",
   "metadata": {},
   "outputs": [],
   "source": [
    "# 평균값으로 대체\n",
    "df.iloc[1,1] = 117\n",
    "df"
   ]
  },
  {
   "cell_type": "code",
   "execution_count": null,
   "id": "ba6b886c",
   "metadata": {},
   "outputs": [],
   "source": [
    "# 2차원 리스트를 데이터 프레임으로 변환\n",
    "\n",
    "import numpy as np \n",
    "\n",
    "a = np.random.randint(0, 101, size = (10, 5))\n",
    "\n",
    "print(a,type(a))"
   ]
  },
  {
   "cell_type": "code",
   "execution_count": null,
   "id": "cd7d1dff",
   "metadata": {},
   "outputs": [],
   "source": [
    "import pandas as pd \n",
    "    \n",
    "df_a = pd.DataFrame(a, index = ['r1','r2','r3','r4','r5','r6','r7','r8','r9','r10'], columns = ['국어','수학,','사회','과학','영어'])\n",
    "\n",
    "df_a"
   ]
  },
  {
   "cell_type": "code",
   "execution_count": null,
   "id": "4a5b0c5c",
   "metadata": {},
   "outputs": [],
   "source": [
    "df_a.loc['평균'] = 0\n",
    "df_a"
   ]
  },
  {
   "cell_type": "code",
   "execution_count": null,
   "id": "164300e1",
   "metadata": {},
   "outputs": [],
   "source": [
    "df_a.mean(axis = 0)\n",
    "\n",
    "df_a.loc['평균'] = [47.8,58.3,51.4,56.7,43.9]\n",
    "df_a"
   ]
  },
  {
   "cell_type": "code",
   "execution_count": null,
   "id": "1508945a",
   "metadata": {},
   "outputs": [],
   "source": [
    "df_a_orgy = df_a.copy()\n",
    "df_a"
   ]
  },
  {
   "cell_type": "code",
   "execution_count": null,
   "id": "cddb0855",
   "metadata": {},
   "outputs": [],
   "source": [
    "# 학생별 성적 데이터셋으로 의미 있게 데이터 셋을 수정하세요\n",
    "# s1 ~ s10 평균 점수를 기준으로 1등급에서 10등급이고 등급간 점수 차는 5점\n",
    "# 결시자가 국어 3명 수학 2명 있음\n",
    "#영어 수학의 평균 점수가 국어 대비 5점 낮음\n",
    "import numpy as np\n",
    "import pandas as pd \n",
    "    \n",
    "df_b = pd.DataFrame(0, index = ['s1','s2','s3','s4','s5','s6','s7','s8','s9','s10'], columns = ['국어','수학','사회','과학','영어'])\n",
    "\n",
    "\n",
    "\n",
    "df_b.loc['s1'] = [100, 100, 100, 100, 100]\n",
    "df_b.loc['s2'] = [95, 95, 95, 95, 95]\n",
    "df_b.loc['s3'] = [90, 90, 90, 90, 90]\n",
    "df_b.loc['s4'] = [85, 85, 85, 85, 85]\n",
    "df_b.loc['s5'] = [80, 80, 80, 80, 80]\n",
    "df_b.loc['s6'] = [75, 75, 75, 75, 75]\n",
    "df_b.loc['s7'] = [70, 70, 70, 70, 70]\n",
    "df_b.loc['s8'] = [65, 65, 65, 65, 65]\n",
    "df_b.loc['s9'] = [60, 60, 60, 60, 60]\n",
    "df_b.loc['s10'] = [55, 55, 55, 55, 55]\n",
    "\n",
    "\n",
    "df_b.iloc[9,0] = np.nan\n",
    "df_b.iloc[8,0] = np.nan\n",
    "df_b.iloc[3,0] = np.nan\n",
    "\n",
    "df_b.iloc[9,1] = np.nan\n",
    "df_b.iloc[1,1] = np.nan\n",
    "\n",
    "df_b\n"
   ]
  },
  {
   "cell_type": "code",
   "execution_count": null,
   "id": "b0ab0628",
   "metadata": {},
   "outputs": [],
   "source": [
    "df_b.mean(axis = 0)\n"
   ]
  },
  {
   "cell_type": "code",
   "execution_count": null,
   "id": "70bb9ad5",
   "metadata": {},
   "outputs": [],
   "source": [
    "for i in range(10) :\n",
    "    df_b.iloc[i] = 100 - i * 5\n",
    "\n",
    "for i in range(10) :\n",
    "    df_b.iloc[i,1 : 3] = df_b.iloc[i,0] -5\n",
    "\n",
    "df_b.iloc[7 : 10 , 0] = np.nan\n",
    "df_b.iloc[8 : 10 , 2] = np.nan\n",
    "\n",
    "df_b['평균'] = (df_b['국어'] + df_b['수학'] + df_b['사회'] + df_b['과학'] + df_b['영어'])/5\n",
    "\n",
    "df_b"
   ]
  },
  {
   "cell_type": "code",
   "execution_count": null,
   "id": "67aa8e5f",
   "metadata": {},
   "outputs": [],
   "source": [
    "#아래 데이터 프레임을 보완하여 10명의 나이 키 식사횟수 몸무게 수면시간 을 포함하는 데이터프레임을 작성하세요\n",
    "\n",
    "import pandas as pd\n",
    "\n",
    "df_c = pd.DataFrame(index = ['a','b','c','d','e'],\n",
    "                   columns = ['나이', '키', '몸무게'])\n",
    "# df_c.loc[:] = [[20, 170, 40], [25,180,80], [27,175,50], [23,160,50]]\n",
    "df_c.loc['a'] = [20, 170, 63]\n",
    "df_c.loc['b'] = [25, 173, 60]\n",
    "df_c.loc['c'] = [23, 180, 80]\n",
    "df_c.loc['d'] = [24, 165, 50]\n",
    "df_c.loc['e'] = [28, 190, 95]\n",
    "\n",
    "df_c.copy()\n",
    "df_c"
   ]
  },
  {
   "cell_type": "code",
   "execution_count": 39,
   "id": "2c78e2e3",
   "metadata": {},
   "outputs": [
    {
     "data": {
      "text/html": [
       "<div>\n",
       "<style scoped>\n",
       "    .dataframe tbody tr th:only-of-type {\n",
       "        vertical-align: middle;\n",
       "    }\n",
       "\n",
       "    .dataframe tbody tr th {\n",
       "        vertical-align: top;\n",
       "    }\n",
       "\n",
       "    .dataframe thead th {\n",
       "        text-align: right;\n",
       "    }\n",
       "</style>\n",
       "<table border=\"1\" class=\"dataframe\">\n",
       "  <thead>\n",
       "    <tr style=\"text-align: right;\">\n",
       "      <th></th>\n",
       "      <th>나이</th>\n",
       "      <th>키</th>\n",
       "      <th>식사횟수</th>\n",
       "      <th>몸무게</th>\n",
       "      <th>수면시간</th>\n",
       "    </tr>\n",
       "  </thead>\n",
       "  <tbody>\n",
       "    <tr>\n",
       "      <th>a</th>\n",
       "      <td>50</td>\n",
       "      <td>185</td>\n",
       "      <td>12</td>\n",
       "      <td>100</td>\n",
       "      <td>13</td>\n",
       "    </tr>\n",
       "    <tr>\n",
       "      <th>b</th>\n",
       "      <td>47</td>\n",
       "      <td>180</td>\n",
       "      <td>11</td>\n",
       "      <td>93</td>\n",
       "      <td>12</td>\n",
       "    </tr>\n",
       "    <tr>\n",
       "      <th>c</th>\n",
       "      <td>44</td>\n",
       "      <td>175</td>\n",
       "      <td>10</td>\n",
       "      <td>86</td>\n",
       "      <td>11</td>\n",
       "    </tr>\n",
       "    <tr>\n",
       "      <th>d</th>\n",
       "      <td>41</td>\n",
       "      <td>170</td>\n",
       "      <td>9</td>\n",
       "      <td>79</td>\n",
       "      <td>10</td>\n",
       "    </tr>\n",
       "    <tr>\n",
       "      <th>e</th>\n",
       "      <td>38</td>\n",
       "      <td>165</td>\n",
       "      <td>8</td>\n",
       "      <td>72</td>\n",
       "      <td>9</td>\n",
       "    </tr>\n",
       "    <tr>\n",
       "      <th>1</th>\n",
       "      <td>35</td>\n",
       "      <td>160</td>\n",
       "      <td>7</td>\n",
       "      <td>65</td>\n",
       "      <td>8</td>\n",
       "    </tr>\n",
       "    <tr>\n",
       "      <th>2</th>\n",
       "      <td>32</td>\n",
       "      <td>155</td>\n",
       "      <td>6</td>\n",
       "      <td>58</td>\n",
       "      <td>7</td>\n",
       "    </tr>\n",
       "    <tr>\n",
       "      <th>3</th>\n",
       "      <td>29</td>\n",
       "      <td>150</td>\n",
       "      <td>5</td>\n",
       "      <td>51</td>\n",
       "      <td>6</td>\n",
       "    </tr>\n",
       "    <tr>\n",
       "      <th>4</th>\n",
       "      <td>26</td>\n",
       "      <td>145</td>\n",
       "      <td>4</td>\n",
       "      <td>44</td>\n",
       "      <td>5</td>\n",
       "    </tr>\n",
       "    <tr>\n",
       "      <th>5</th>\n",
       "      <td>23</td>\n",
       "      <td>140</td>\n",
       "      <td>3</td>\n",
       "      <td>37</td>\n",
       "      <td>4</td>\n",
       "    </tr>\n",
       "  </tbody>\n",
       "</table>\n",
       "</div>"
      ],
      "text/plain": [
       "   나이    키  식사횟수  몸무게  수면시간\n",
       "a  50  185    12  100    13\n",
       "b  47  180    11   93    12\n",
       "c  44  175    10   86    11\n",
       "d  41  170     9   79    10\n",
       "e  38  165     8   72     9\n",
       "1  35  160     7   65     8\n",
       "2  32  155     6   58     7\n",
       "3  29  150     5   51     6\n",
       "4  26  145     4   44     5\n",
       "5  23  140     3   37     4"
      ]
     },
     "execution_count": 39,
     "metadata": {},
     "output_type": "execute_result"
    }
   ],
   "source": [
    "#아래 데이터 프레임을 보완하여 10명의 나이 키 식사횟수 몸무게 수면시간 을 포함하는 데이터프레임을 작성하세요\n",
    "\n",
    "import numpy as np\n",
    "import pandas as pd \n",
    "    \n",
    "B = pd.DataFrame(0, index = ['a', 'b', 'c', 'd', 'e'], columns = ['나이', '키', '몸무게'])\n",
    "\n",
    "B.drop('몸무게', axis = 1, inplace = True)\n",
    "\n",
    "B['식사횟수'] = 0\n",
    "B['몸무게'] = 0\n",
    "B['수면시간'] = 0\n",
    "\n",
    "B.loc['하나'] = 0\n",
    "B.loc['들'] = 0\n",
    "B.loc['셋'] = 0\n",
    "B.loc['넷'] = 0\n",
    "B.loc['다섯'] = 0\n",
    "\n",
    "for i in range(10) :\n",
    "    B.iloc[i,0] = 50 - i * 3\n",
    "    B.iloc[i,1] = 185 - i * 5\n",
    "    B.iloc[i,2] = 12 - i * 1\n",
    "    B.iloc[i,3] = 100 - i * 7\n",
    "    B.iloc[i,4] = 13 - i * 1\n",
    "\n",
    "B"
   ]
  },
  {
   "cell_type": "code",
   "execution_count": null,
   "id": "73a2745b",
   "metadata": {},
   "outputs": [],
   "source": [
    "# 과제 위의 것 내키는대로 바꿔 보기"
   ]
  },
  {
   "cell_type": "markdown",
   "id": "8a1e54eb",
   "metadata": {},
   "source": [
    "과제 : 생성된 데이터프레임에서 아래 사항을 수행하세요.\n",
    "\n",
    "-열이름과 행이름 변경\n",
    "\n",
    "-3행만 출력\n",
    "\n",
    "-5열만 출력\n",
    "\n",
    "-3행 5열의 값 출력\n",
    "\n",
    "-4열의 값을 모두 0으로 변경\n",
    "\n",
    "-2,3행의 3열 값을 조회(2가지 방법)\n",
    "\n",
    "-6행의 2,3,4열의 값을 조회(2가지 방법)\n",
    "\n",
    "-2열을 Series와 DataFrame으로 각각 출력\n",
    "\n",
    "-2행 3열의 값을 2행 4열의 값과 동일하게 변경\n",
    "\n",
    "-2행 3열의 값과 2행 4열의 값을 동시에 만족하는 3,4열을 출력"
   ]
  },
  {
   "cell_type": "code",
   "execution_count": 52,
   "id": "74b9023a",
   "metadata": {},
   "outputs": [
    {
     "data": {
      "text/html": [
       "<div>\n",
       "<style scoped>\n",
       "    .dataframe tbody tr th:only-of-type {\n",
       "        vertical-align: middle;\n",
       "    }\n",
       "\n",
       "    .dataframe tbody tr th {\n",
       "        vertical-align: top;\n",
       "    }\n",
       "\n",
       "    .dataframe thead th {\n",
       "        text-align: right;\n",
       "    }\n",
       "</style>\n",
       "<table border=\"1\" class=\"dataframe\">\n",
       "  <thead>\n",
       "    <tr style=\"text-align: right;\">\n",
       "      <th></th>\n",
       "      <th>a</th>\n",
       "      <th>b</th>\n",
       "      <th>c</th>\n",
       "      <th>d</th>\n",
       "      <th>e</th>\n",
       "    </tr>\n",
       "  </thead>\n",
       "  <tbody>\n",
       "    <tr>\n",
       "      <th>0</th>\n",
       "      <td>92</td>\n",
       "      <td>74</td>\n",
       "      <td>53</td>\n",
       "      <td>58</td>\n",
       "      <td>50</td>\n",
       "    </tr>\n",
       "    <tr>\n",
       "      <th>1</th>\n",
       "      <td>71</td>\n",
       "      <td>69</td>\n",
       "      <td>60</td>\n",
       "      <td>93</td>\n",
       "      <td>91</td>\n",
       "    </tr>\n",
       "    <tr>\n",
       "      <th>2</th>\n",
       "      <td>60</td>\n",
       "      <td>71</td>\n",
       "      <td>88</td>\n",
       "      <td>82</td>\n",
       "      <td>70</td>\n",
       "    </tr>\n",
       "    <tr>\n",
       "      <th>3</th>\n",
       "      <td>94</td>\n",
       "      <td>79</td>\n",
       "      <td>89</td>\n",
       "      <td>64</td>\n",
       "      <td>76</td>\n",
       "    </tr>\n",
       "    <tr>\n",
       "      <th>4</th>\n",
       "      <td>67</td>\n",
       "      <td>76</td>\n",
       "      <td>72</td>\n",
       "      <td>52</td>\n",
       "      <td>52</td>\n",
       "    </tr>\n",
       "    <tr>\n",
       "      <th>5</th>\n",
       "      <td>51</td>\n",
       "      <td>76</td>\n",
       "      <td>55</td>\n",
       "      <td>90</td>\n",
       "      <td>96</td>\n",
       "    </tr>\n",
       "    <tr>\n",
       "      <th>6</th>\n",
       "      <td>83</td>\n",
       "      <td>79</td>\n",
       "      <td>92</td>\n",
       "      <td>74</td>\n",
       "      <td>57</td>\n",
       "    </tr>\n",
       "    <tr>\n",
       "      <th>7</th>\n",
       "      <td>93</td>\n",
       "      <td>83</td>\n",
       "      <td>65</td>\n",
       "      <td>98</td>\n",
       "      <td>87</td>\n",
       "    </tr>\n",
       "  </tbody>\n",
       "</table>\n",
       "</div>"
      ],
      "text/plain": [
       "    a   b   c   d   e\n",
       "0  92  74  53  58  50\n",
       "1  71  69  60  93  91\n",
       "2  60  71  88  82  70\n",
       "3  94  79  89  64  76\n",
       "4  67  76  72  52  52\n",
       "5  51  76  55  90  96\n",
       "6  83  79  92  74  57\n",
       "7  93  83  65  98  87"
      ]
     },
     "execution_count": 52,
     "metadata": {},
     "output_type": "execute_result"
    }
   ],
   "source": [
    "# 데이터프레임 생성(8행 5열)\n",
    "import numpy as np\n",
    "import pandas as pd\n",
    "\n",
    "np.random.seed(3)\n",
    "data = np.random.randint(50,100,size=(8,5))\n",
    "\n",
    "df = pd.DataFrame(data, columns=list('abcde'))\n",
    "df"
   ]
  },
  {
   "cell_type": "code",
   "execution_count": 54,
   "id": "0db378dd",
   "metadata": {},
   "outputs": [
    {
     "data": {
      "text/html": [
       "<div>\n",
       "<style scoped>\n",
       "    .dataframe tbody tr th:only-of-type {\n",
       "        vertical-align: middle;\n",
       "    }\n",
       "\n",
       "    .dataframe tbody tr th {\n",
       "        vertical-align: top;\n",
       "    }\n",
       "\n",
       "    .dataframe thead th {\n",
       "        text-align: right;\n",
       "    }\n",
       "</style>\n",
       "<table border=\"1\" class=\"dataframe\">\n",
       "  <thead>\n",
       "    <tr style=\"text-align: right;\">\n",
       "      <th></th>\n",
       "      <th>v1</th>\n",
       "      <th>v2</th>\n",
       "      <th>v3</th>\n",
       "      <th>v4</th>\n",
       "      <th>v5</th>\n",
       "    </tr>\n",
       "  </thead>\n",
       "  <tbody>\n",
       "    <tr>\n",
       "      <th>h1</th>\n",
       "      <td>92</td>\n",
       "      <td>74</td>\n",
       "      <td>53</td>\n",
       "      <td>58</td>\n",
       "      <td>50</td>\n",
       "    </tr>\n",
       "    <tr>\n",
       "      <th>h2</th>\n",
       "      <td>71</td>\n",
       "      <td>69</td>\n",
       "      <td>60</td>\n",
       "      <td>93</td>\n",
       "      <td>91</td>\n",
       "    </tr>\n",
       "    <tr>\n",
       "      <th>h3</th>\n",
       "      <td>60</td>\n",
       "      <td>71</td>\n",
       "      <td>88</td>\n",
       "      <td>82</td>\n",
       "      <td>70</td>\n",
       "    </tr>\n",
       "    <tr>\n",
       "      <th>h4</th>\n",
       "      <td>94</td>\n",
       "      <td>79</td>\n",
       "      <td>89</td>\n",
       "      <td>64</td>\n",
       "      <td>76</td>\n",
       "    </tr>\n",
       "    <tr>\n",
       "      <th>h5</th>\n",
       "      <td>67</td>\n",
       "      <td>76</td>\n",
       "      <td>72</td>\n",
       "      <td>52</td>\n",
       "      <td>52</td>\n",
       "    </tr>\n",
       "    <tr>\n",
       "      <th>h6</th>\n",
       "      <td>51</td>\n",
       "      <td>76</td>\n",
       "      <td>55</td>\n",
       "      <td>90</td>\n",
       "      <td>96</td>\n",
       "    </tr>\n",
       "    <tr>\n",
       "      <th>h7</th>\n",
       "      <td>83</td>\n",
       "      <td>79</td>\n",
       "      <td>92</td>\n",
       "      <td>74</td>\n",
       "      <td>57</td>\n",
       "    </tr>\n",
       "    <tr>\n",
       "      <th>h8</th>\n",
       "      <td>93</td>\n",
       "      <td>83</td>\n",
       "      <td>65</td>\n",
       "      <td>98</td>\n",
       "      <td>87</td>\n",
       "    </tr>\n",
       "  </tbody>\n",
       "</table>\n",
       "</div>"
      ],
      "text/plain": [
       "    v1  v2  v3  v4  v5\n",
       "h1  92  74  53  58  50\n",
       "h2  71  69  60  93  91\n",
       "h3  60  71  88  82  70\n",
       "h4  94  79  89  64  76\n",
       "h5  67  76  72  52  52\n",
       "h6  51  76  55  90  96\n",
       "h7  83  79  92  74  57\n",
       "h8  93  83  65  98  87"
      ]
     },
     "execution_count": 54,
     "metadata": {},
     "output_type": "execute_result"
    }
   ],
   "source": [
    "#-열이름과 행이름 변경\n",
    "\n",
    "df.columns = ['v1', 'v2', 'v3', 'v4', 'v5']\n",
    "df.index = ['h1', 'h2', 'h3', 'h4', 'h5', 'h6', 'h7', 'h8']\n",
    "\n",
    "df"
   ]
  },
  {
   "cell_type": "code",
   "execution_count": 68,
   "id": "7c52aa85",
   "metadata": {},
   "outputs": [
    {
     "name": "stdout",
     "output_type": "stream",
     "text": [
      "v1    60\n",
      "v2    71\n",
      "v3    88\n",
      "v4    82\n",
      "v5    70\n",
      "Name: h3, dtype: int32\n",
      "h1    50\n",
      "h2    91\n",
      "h3    70\n",
      "h4    76\n",
      "h5    52\n",
      "h6    96\n",
      "h7    57\n",
      "h8    87\n",
      "Name: v5, dtype: int32\n",
      "70\n"
     ]
    }
   ],
   "source": [
    "#-3행만 출력 -5열만 출력 -3행 5열의 값 출력\n",
    "\n",
    "print(df.loc['h3'])\n",
    "\n",
    "print(df['v5'])\n",
    "\n",
    "print(df.iloc[2,4])\n"
   ]
  },
  {
   "cell_type": "code",
   "execution_count": 76,
   "id": "56186e3a",
   "metadata": {},
   "outputs": [
    {
     "data": {
      "text/html": [
       "<div>\n",
       "<style scoped>\n",
       "    .dataframe tbody tr th:only-of-type {\n",
       "        vertical-align: middle;\n",
       "    }\n",
       "\n",
       "    .dataframe tbody tr th {\n",
       "        vertical-align: top;\n",
       "    }\n",
       "\n",
       "    .dataframe thead th {\n",
       "        text-align: right;\n",
       "    }\n",
       "</style>\n",
       "<table border=\"1\" class=\"dataframe\">\n",
       "  <thead>\n",
       "    <tr style=\"text-align: right;\">\n",
       "      <th></th>\n",
       "      <th>v1</th>\n",
       "      <th>v2</th>\n",
       "      <th>v3</th>\n",
       "      <th>v4</th>\n",
       "      <th>v5</th>\n",
       "    </tr>\n",
       "  </thead>\n",
       "  <tbody>\n",
       "    <tr>\n",
       "      <th>h1</th>\n",
       "      <td>92</td>\n",
       "      <td>74</td>\n",
       "      <td>53</td>\n",
       "      <td>0</td>\n",
       "      <td>50</td>\n",
       "    </tr>\n",
       "    <tr>\n",
       "      <th>h2</th>\n",
       "      <td>71</td>\n",
       "      <td>69</td>\n",
       "      <td>60</td>\n",
       "      <td>0</td>\n",
       "      <td>91</td>\n",
       "    </tr>\n",
       "    <tr>\n",
       "      <th>h3</th>\n",
       "      <td>60</td>\n",
       "      <td>71</td>\n",
       "      <td>88</td>\n",
       "      <td>0</td>\n",
       "      <td>70</td>\n",
       "    </tr>\n",
       "    <tr>\n",
       "      <th>h4</th>\n",
       "      <td>94</td>\n",
       "      <td>79</td>\n",
       "      <td>89</td>\n",
       "      <td>0</td>\n",
       "      <td>76</td>\n",
       "    </tr>\n",
       "    <tr>\n",
       "      <th>h5</th>\n",
       "      <td>67</td>\n",
       "      <td>76</td>\n",
       "      <td>72</td>\n",
       "      <td>0</td>\n",
       "      <td>52</td>\n",
       "    </tr>\n",
       "    <tr>\n",
       "      <th>h6</th>\n",
       "      <td>51</td>\n",
       "      <td>76</td>\n",
       "      <td>55</td>\n",
       "      <td>0</td>\n",
       "      <td>96</td>\n",
       "    </tr>\n",
       "    <tr>\n",
       "      <th>h7</th>\n",
       "      <td>83</td>\n",
       "      <td>79</td>\n",
       "      <td>92</td>\n",
       "      <td>0</td>\n",
       "      <td>57</td>\n",
       "    </tr>\n",
       "    <tr>\n",
       "      <th>h8</th>\n",
       "      <td>93</td>\n",
       "      <td>83</td>\n",
       "      <td>65</td>\n",
       "      <td>0</td>\n",
       "      <td>87</td>\n",
       "    </tr>\n",
       "  </tbody>\n",
       "</table>\n",
       "</div>"
      ],
      "text/plain": [
       "    v1  v2  v3  v4  v5\n",
       "h1  92  74  53   0  50\n",
       "h2  71  69  60   0  91\n",
       "h3  60  71  88   0  70\n",
       "h4  94  79  89   0  76\n",
       "h5  67  76  72   0  52\n",
       "h6  51  76  55   0  96\n",
       "h7  83  79  92   0  57\n",
       "h8  93  83  65   0  87"
      ]
     },
     "execution_count": 76,
     "metadata": {},
     "output_type": "execute_result"
    }
   ],
   "source": [
    "#-4열의 값을 모두 0으로 변경\n",
    "\n",
    "df['v4'] = 0\n",
    "\n",
    "df"
   ]
  },
  {
   "cell_type": "code",
   "execution_count": 87,
   "id": "312e2905",
   "metadata": {},
   "outputs": [
    {
     "name": "stdout",
     "output_type": "stream",
     "text": [
      "h2    60\n",
      "h3    88\n",
      "Name: v3, dtype: int32\n",
      "h2    60\n",
      "h3    88\n",
      "Name: v3, dtype: int32\n",
      "v2    76\n",
      "v3    55\n",
      "v4     0\n",
      "Name: h6, dtype: int64\n",
      "v2    76\n",
      "v3    55\n",
      "v4     0\n",
      "Name: h6, dtype: int64\n"
     ]
    }
   ],
   "source": [
    "# 2,3행의 3열 값을 조회(2가지 방법) -6행의 2,3,4열의 값을 조회(2가지 방법)\n",
    "\n",
    "print(df.loc['h2':'h3', 'v3'])\n",
    "print(df.iloc[1:3, 2])\n",
    "\n",
    "print(df.loc['h6', 'v2' : 'v4'])\n",
    "print(df.iloc[5, 1:4])\n"
   ]
  },
  {
   "cell_type": "code",
   "execution_count": 90,
   "id": "95e60668",
   "metadata": {},
   "outputs": [
    {
     "name": "stdout",
     "output_type": "stream",
     "text": [
      "h1    53\n",
      "h2    60\n",
      "h3    88\n",
      "h4    89\n",
      "h5    72\n",
      "h6    55\n",
      "h7    92\n",
      "h8    65\n",
      "Name: v3, dtype: int32\n",
      "    v3\n",
      "h1  53\n",
      "h2  60\n",
      "h3  88\n",
      "h4  89\n",
      "h5  72\n",
      "h6  55\n",
      "h7  92\n",
      "h8  65\n"
     ]
    }
   ],
   "source": [
    "# -2열을 Series와 DataFrame으로 각각 출력\n",
    "\n",
    "print(df.iloc[: , 2])\n",
    "print(df.iloc[: , [2]])"
   ]
  },
  {
   "cell_type": "code",
   "execution_count": 108,
   "id": "e7c2513f",
   "metadata": {},
   "outputs": [
    {
     "name": "stdout",
     "output_type": "stream",
     "text": [
      "    v3  v4\n",
      "h2   0   0\n"
     ]
    },
    {
     "data": {
      "text/html": [
       "<div>\n",
       "<style scoped>\n",
       "    .dataframe tbody tr th:only-of-type {\n",
       "        vertical-align: middle;\n",
       "    }\n",
       "\n",
       "    .dataframe tbody tr th {\n",
       "        vertical-align: top;\n",
       "    }\n",
       "\n",
       "    .dataframe thead th {\n",
       "        text-align: right;\n",
       "    }\n",
       "</style>\n",
       "<table border=\"1\" class=\"dataframe\">\n",
       "  <thead>\n",
       "    <tr style=\"text-align: right;\">\n",
       "      <th></th>\n",
       "      <th>v1</th>\n",
       "      <th>v2</th>\n",
       "      <th>v3</th>\n",
       "      <th>v4</th>\n",
       "      <th>v5</th>\n",
       "    </tr>\n",
       "  </thead>\n",
       "  <tbody>\n",
       "    <tr>\n",
       "      <th>h1</th>\n",
       "      <td>92</td>\n",
       "      <td>74</td>\n",
       "      <td>53</td>\n",
       "      <td>0</td>\n",
       "      <td>50</td>\n",
       "    </tr>\n",
       "    <tr>\n",
       "      <th>h2</th>\n",
       "      <td>71</td>\n",
       "      <td>69</td>\n",
       "      <td>0</td>\n",
       "      <td>0</td>\n",
       "      <td>91</td>\n",
       "    </tr>\n",
       "    <tr>\n",
       "      <th>h3</th>\n",
       "      <td>60</td>\n",
       "      <td>71</td>\n",
       "      <td>88</td>\n",
       "      <td>0</td>\n",
       "      <td>70</td>\n",
       "    </tr>\n",
       "    <tr>\n",
       "      <th>h4</th>\n",
       "      <td>94</td>\n",
       "      <td>79</td>\n",
       "      <td>89</td>\n",
       "      <td>0</td>\n",
       "      <td>76</td>\n",
       "    </tr>\n",
       "    <tr>\n",
       "      <th>h5</th>\n",
       "      <td>67</td>\n",
       "      <td>76</td>\n",
       "      <td>72</td>\n",
       "      <td>0</td>\n",
       "      <td>52</td>\n",
       "    </tr>\n",
       "    <tr>\n",
       "      <th>h6</th>\n",
       "      <td>51</td>\n",
       "      <td>76</td>\n",
       "      <td>55</td>\n",
       "      <td>0</td>\n",
       "      <td>96</td>\n",
       "    </tr>\n",
       "    <tr>\n",
       "      <th>h7</th>\n",
       "      <td>83</td>\n",
       "      <td>79</td>\n",
       "      <td>92</td>\n",
       "      <td>0</td>\n",
       "      <td>57</td>\n",
       "    </tr>\n",
       "    <tr>\n",
       "      <th>h8</th>\n",
       "      <td>93</td>\n",
       "      <td>83</td>\n",
       "      <td>65</td>\n",
       "      <td>0</td>\n",
       "      <td>87</td>\n",
       "    </tr>\n",
       "  </tbody>\n",
       "</table>\n",
       "</div>"
      ],
      "text/plain": [
       "    v1  v2  v3  v4  v5\n",
       "h1  92  74  53   0  50\n",
       "h2  71  69   0   0  91\n",
       "h3  60  71  88   0  70\n",
       "h4  94  79  89   0  76\n",
       "h5  67  76  72   0  52\n",
       "h6  51  76  55   0  96\n",
       "h7  83  79  92   0  57\n",
       "h8  93  83  65   0  87"
      ]
     },
     "execution_count": 108,
     "metadata": {},
     "output_type": "execute_result"
    }
   ],
   "source": [
    "# -2행 3열의 값을 2행 4열의 값과 동일하게 변경 -2행 3열의 값과 2행 4열의 값을 동시에 만족하는 3,4열을 출력\n",
    "\n",
    "df.iloc[1,2] = df.iloc[1,3]\n",
    "\n",
    "print(df.loc[(df.iloc[ : , 2] == df.iloc[1, 2]) & (df.iloc[ : , 3] == df.iloc[1, 3]), ['v3', 'v4']])\n",
    "\n",
    "df"
   ]
  },
  {
   "cell_type": "code",
   "execution_count": null,
   "id": "f085c223",
   "metadata": {},
   "outputs": [],
   "source": []
  }
 ],
 "metadata": {
  "kernelspec": {
   "display_name": "Python 3 (ipykernel)",
   "language": "python",
   "name": "python3"
  },
  "language_info": {
   "codemirror_mode": {
    "name": "ipython",
    "version": 3
   },
   "file_extension": ".py",
   "mimetype": "text/x-python",
   "name": "python",
   "nbconvert_exporter": "python",
   "pygments_lexer": "ipython3",
   "version": "3.9.13"
  }
 },
 "nbformat": 4,
 "nbformat_minor": 5
}
