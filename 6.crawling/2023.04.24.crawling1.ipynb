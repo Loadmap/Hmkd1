{
 "cells": [
  {
   "cell_type": "markdown",
   "id": "43aed4d3",
   "metadata": {},
   "source": [
    "#### HTML의 구조  및 태그\n",
    "- 구조\n",
    " - $<!Doctype html>$ : HTML5 문서를 선언하는 구문\n",
    " - $<html></html>$ : HTML 문서의 시작과 끝\n",
    " - $<head></head>$ : CSS, JavaScript, meta, title 정보들을 설정\n",
    " - $<body></body>$ : 실제 홈페이지 화면을 나타내는 부분\n",
    "\n",
    "- 요소 구조\n",
    " - HTML 요소는 여러 속성들을 가질 수 있으며 속성들은 해당 요소에 대한 추가 정보를 제공\n",
    " - 시작 태그\\(< >)로 시작해서 종료 태그(</>)로 끝남\n",
    " - 요소 안에 다른 요소를 작성할 수 있음 \n",
    " "
   ]
  },
  {
   "cell_type": "markdown",
   "id": "a033d724",
   "metadata": {},
   "source": [
    "<img src = 'html요소구조.jpg' STYLE = 'width:500px;'>"
   ]
  },
  {
   "cell_type": "code",
   "execution_count": 1,
   "id": "7cc16e9f",
   "metadata": {},
   "outputs": [
    {
     "name": "stdout",
     "output_type": "stream",
     "text": [
      "HTML 구조 \n",
      " \n",
      "<!DOCTYPE html>                html5 명시\n",
      "<html lang=\"en\">               html 태그로 모든 태그를 감사줌. lang이라는 속성을 포함\n",
      " <head>                        head 태그는 meta, title 이외의 style, script, link와 같은 태그 포함\n",
      "     <meta charset=\"UTF-8\">    \n",
      "     <title>a.html</title>      title 태그는 문서의 제목\n",
      "     <meta name=\"viewport\" content=\"width=device-width, initial-scale=1.0\"> meta 태그는 name과 contents속성으로 문서 정보 포함\n",
      " </head>\n",
      " <body>                        웹페이지의 내용 포함\n",
      "     <style type=\"text/css\">    CSS 코드가 포함된는 태그  \n",
      "     </style>\n",
      "                                script 태그는 JavaScript 코드를 작성하거나 파일 로드. head 태그 or body 태그 하단 위치\n",
      " </body>\n",
      "</html>\n",
      "\n"
     ]
    }
   ],
   "source": [
    "# HTML 기본 구조\n",
    "html ='''\n",
    "<!DOCTYPE html>                html5 명시\n",
    "<html lang=\"en\">               html 태그로 모든 태그를 감사줌. lang이라는 속성을 포함\n",
    " <head>                        head 태그는 meta, title 이외의 style, script, link와 같은 태그 포함\n",
    "     <meta charset=\"UTF-8\">    \n",
    "     <title>a.html</title>      title 태그는 문서의 제목\n",
    "     <meta name=\"viewport\" content=\"width=device-width, initial-scale=1.0\"> meta 태그는 name과 contents속성으로 문서 정보 포함\n",
    " </head>\n",
    " <body>                        웹페이지의 내용 포함\n",
    "     <style type=\"text/css\">    CSS 코드가 포함된는 태그  \n",
    "     </style>\n",
    "                                script 태그는 JavaScript 코드를 작성하거나 파일 로드. head 태그 or body 태그 하단 위치\n",
    " </body>\n",
    "</html>\n",
    "'''\n",
    "print(f'HTML 구조 \\n {html}')"
   ]
  },
  {
   "cell_type": "markdown",
   "id": "e747cda8",
   "metadata": {},
   "source": [
    "#### HTML 태그\n",
    "- p 태그를 이용하여 문단 작성\n",
    "- h 태그를 이용하여 폰트 크기 설정\n",
    "- ul(unordered list)과 ol(ordered list) 태그로 리스트 작성, 리스트 각각의 요소는 li(항목 나열) 태그로 표시  \n",
    "- table 태그는 thead, tbody를 가질 수 있으며 표를 표현 : tr 행, th(가운데 정렬,굵은 글씨체),td 각 행의 컬럼\n",
    "- input 태그와 button 태그 : 데이터를 넣는 폼과 페이지 조작 버튼 생성\n",
    "- select # select 태그로 선택 리스트 생성\n",
    "- a 태그로 다른 페이지로 이동. 상대경로(내가 있는 경로부터의 경로), 절대경로(항상 같은 url)\n",
    "- img 태그로 이미지 포함 : src(이미지 붙임), alt(이미지 대체)\n",
    "- span 태그로 p태그 처럼 글을 추가. span 태그는 옆으로 나열. br 태그 사용하여 p 태그처럼 사용\n",
    "- div 태그는 화면 레이아웃을 잡는 역할 : 하위 태그들의 영역을 잡아줌"
   ]
  },
  {
   "cell_type": "markdown",
   "id": "18c6abf3",
   "metadata": {},
   "source": [
    "#### CSS \n",
    "- CSS로 웹 사이트를 꾸며주기 위해 해당 태그에 접근하는 방식을 크롤러에서도 사용.\n",
    "- selector : CSS로 꾸미기 위해 특정 요소에 접근하는 것을 셀렉터라고 함.\n",
    "  - html 파일을 만들었다면 각각의 태그에 다르게 css 를 설정 할 것입니다. 이 때, 어느 요소에 스타일을 적용할지 알려주는 방식이 바로 css 선택자 입니다.\n",
    "- 태그를 이용하여 접근하면 태그는 전부 CSS 효과가 적용\n",
    "- class를 이용하면 원하는 요소만 CSS 효과 적용할 수 있고 원하는 요소만 수집할 수 있음.\n",
    "- id는 class와 다르게 id값이 고유해야 함(id는 한페이지에 하나만 존재해야 함)\n",
    "- 부모 태그와 자식 태그를 나열하여 복잡한 셀렉터를 생성\n",
    "\n",
    "CSS 선택자 이해\n",
    "\n",
    "- https://ssungkang.tistory.com/entry/css-css-%EC%84%A0%ED%83%9D%EC%9E%90selector-%EC%9D%98-%EC%A2%85%EB%A5%98%EC%99%80-%EC%98%88%EC%8B%9C\n",
    "- https://developer.mozilla.org/en-US/docs/Web/CSS/CSS_Selectors\n",
    "- https://www.nextree.co.kr/p8468/"
   ]
  },
  {
   "cell_type": "code",
   "execution_count": 2,
   "id": "5571b5c7",
   "metadata": {
    "scrolled": true
   },
   "outputs": [
    {
     "name": "stdout",
     "output_type": "stream",
     "text": [
      "CSS 선택자 \n",
      " \n",
      "\n",
      "- 우리가 html 파일을 만들었다면 각각의 태그에 다르게 css 를 설정 할 것입니다. \n",
      "  이 때, 어느 요소에 스타일을 적용할지 알려주는 방식이 바로 css 선택자 입니다.\n",
      "\n",
      "- 선택자가 어떻게 쓰이는가?\n",
      "\n",
      "div {\n",
      "    color: black;\n",
      "    background-color: yellow;\n",
      "}\n",
      "div 태그들에게 css 를 주기 위해서 div 라는 선택자를 사용하였습니다. 이렇게 되면 html 문서에 \n",
      "모든 div 태그들에는 { } 안에 적용해준 css 속성값들이 적용이 됩니다. div 처럼 태그의 이름 말고도 \n",
      "선택자를 주는 방식이 굉장히 다양함\n",
      "\n",
      "선택자의 종류\n",
      "\n",
      "[ 선택자를 하나만 쓸 경우 ]\n",
      "\n",
      "1. 전체 선택자\n",
      "전체 선택자는 *(all) 을 사용하여 나타냅니다.\n",
      "\n",
      "html 의 모든 태그에 대하여 적용합니다.\n",
      "\n",
      "* {\n",
      "    margin: 0 auto;\n",
      "} \n",
      "\n",
      "2. 태그 선택자\n",
      "태그 선택자는 태그의 이름 을 사용하여 나타냅니다.\n",
      "태그명이 선택자와 같은 태그들에 대하여 적용합니다.\n",
      "\n",
      "p {\n",
      "    color: red;\n",
      "} \n",
      "\n",
      "3. 클래스 선택자\n",
      "클래스 선택자는 .클래스이름 을 사용하여 나타냅니다.\n",
      "클래스가 클래스이름과 같은 태그들에 대하여 적용합니다.\n",
      "\n",
      ".ClassName {\n",
      "    width: 100px;\n",
      "} \n",
      "\n",
      "4. ID 선택자\n",
      "ID 선택자는 #아이디이름 을 사용하여 나타냅니다.\n",
      "ID가 ID 이름과 같은 태그에 대해서 적용합니다.\n",
      "\n",
      "#IdName {\n",
      "    position: fixed;\n",
      "} \n",
      "\n",
      "[ 선택자를 여러 개 쓸 경우] \n",
      "\n",
      "선택자를 여러 개 쓰는 경우를 복합 선택자라고 합니다. 복합 선택자에도 여러 가지 종류가 있어 \n",
      "이에 대해서 알아보겠습니다.\n",
      "\n",
      "하위 선택자\n",
      "하위 선택자는 선택자 사이를 공백을 사용하여 나타냅니다.\n",
      "\n",
      "앞 요소의 자손인 뒷 요소를 선택합니다. (section의 ul)\n",
      "\n",
      "section ul {\n",
      "    text-shadow: none;\n",
      "}\n",
      "자식 선택자\n",
      "\n",
      "하위 선택자는 선택자 사이를 > 를 사용하여 나타냅니다.\n",
      "\n",
      "앞 요소의 자식 인 뒷 요소를 선택합니다.\n",
      "\n",
      "section > ul {\n",
      "    text-shadow: none;\n",
      "}\n",
      "\n",
      "자손과 자식의 차이는 무엇일까요?\n",
      "자손은 자식을 포괄하는 의미입니다.\n",
      "자손은 모든 하위 요소를 의미하고 자식은 바로 아래의 자식 요소에만 적용합니다.\n",
      "\n",
      "인접 형제 선택자\n",
      "인접 형제 선택자는 선택자 사이를 + 를 사용하여 나타냅니다.\n",
      "\n",
      "앞 요소 바로 뒤의 뒷 요소를 선택합니다.\n",
      "\n",
      "h1 + ul {\n",
      "    color: red;\n",
      "} \n",
      "\n",
      "일반 형제 선택자\n",
      "일반 형제 선택자는 선택자 사이에 ~ 를 사용하여 나타냅니다.\n",
      "\n",
      "앞 요소 뒤에 있는 모든 뒷 요소를 선택합니다.\n",
      "\n",
      "h1 ~ ul {\n",
      "    color: red;\n",
      "}\n",
      "\n",
      "형제라는 건 무엇일까요?\n",
      "\n",
      "같은 부모를 가지는 요소들을 형제 라고 합니다.\n",
      "\n",
      "속성 선택자\n",
      "속성 선택자는 각 태그가 가지고 있는 그 속성에 접근하는 방식입니다. 생각 외로 활용도가 높으며 \n",
      "크롤링를 할 경우에도 적절한 id 와 class 이름이 없을 경우, 이용합니다.\n",
      "\n",
      "태그[속성]\n",
      "속성이름 에 해당되는 속성을 가진 태그를 선택합니다.\n",
      "\n",
      "a[href] {\n",
      "    font-size: 10px;\n",
      "}\n",
      "태그[속성=\"변수\"]\n",
      "속성 의 속성값이 변수 인 태그를 선택합니다.\n",
      "\n",
      "a[href=\"http://www.naver.com\"] {\n",
      "    color: black;\n",
      "}\n",
      "\n",
      "태그[속성~=\"변수\"]\n",
      "속성 의 속성값이 변수 를 포함하는 태그를 선택합니다.\n",
      "\n",
      "a[href~=\"naver\"] {\n",
      "    color: black;\n",
      "}\n",
      "\n",
      "태그[속성^=\"변수\"]\n",
      "속성 의 속성값이 변수 로 시작하는 태그를 선택합니다.\n",
      "\n",
      "a[href^=\"http\"] {\n",
      "    color: black;\n",
      "}\n",
      "\n",
      "태그[속성$=\"변수\"]\n",
      "속성 의 속성값이 변수 로 끝나는 요소를 선택합니다.\n",
      "\n",
      "a[href$=\"com\"]{\n",
      "    color: black;\n",
      "}\n",
      "\n",
      "태그[속성*=\"변수\"]\n",
      "속성 의 속성값이 변수 를 포함하는 태그를 선택합니다.\n",
      "\n",
      "a[href*=\"naver\"] {\n",
      "    color: black;\n",
      "}\n",
      "\n",
      "태그[속성~=\"변수\"] 와 태그[속성*=\"변수\"] 의 차이는 무엇일까요?\n",
      "~ 은 포함여부를 단어를 기준으로 판단하고 * 는 문자열 기준으로 판단합니다.\n",
      "\n",
      "다음과 같은 상황에서 navers 는 어떻게 될까요?\n",
      "~ 은 naver와 navers 는 단어가 다르기 때문에 선택을 못하고\n",
      "* 은 navers 는 naver 라는 문자열을 포함하기 때문에 선택을 하게 됩니다.\n",
      "\n",
      "태그[속성|=\"변수\"]\n",
      "속성 의 속성값이 변수 이거나 변수 로 시작하는 태그를 선택합니다.\n",
      "\n",
      "a[href|=\"http\"]{\n",
      "    color: black;\n",
      "}\n",
      "\n"
     ]
    }
   ],
   "source": [
    "css = \"\"\"\n",
    "\n",
    "- 우리가 html 파일을 만들었다면 각각의 태그에 다르게 css 를 설정 할 것입니다. \n",
    "  이 때, 어느 요소에 스타일을 적용할지 알려주는 방식이 바로 css 선택자 입니다.\n",
    "\n",
    "- 선택자가 어떻게 쓰이는가?\n",
    "\n",
    "div {\n",
    "    color: black;\n",
    "    background-color: yellow;\n",
    "}\n",
    "div 태그들에게 css 를 주기 위해서 div 라는 선택자를 사용하였습니다. 이렇게 되면 html 문서에 \n",
    "모든 div 태그들에는 { } 안에 적용해준 css 속성값들이 적용이 됩니다. div 처럼 태그의 이름 말고도 \n",
    "선택자를 주는 방식이 굉장히 다양함\n",
    "\n",
    "선택자의 종류\n",
    "\n",
    "[ 선택자를 하나만 쓸 경우 ]\n",
    "\n",
    "1. 전체 선택자\n",
    "전체 선택자는 *(all) 을 사용하여 나타냅니다.\n",
    "\n",
    "html 의 모든 태그에 대하여 적용합니다.\n",
    "\n",
    "* {\n",
    "    margin: 0 auto;\n",
    "} \n",
    "\n",
    "2. 태그 선택자\n",
    "태그 선택자는 태그의 이름 을 사용하여 나타냅니다.\n",
    "태그명이 선택자와 같은 태그들에 대하여 적용합니다.\n",
    "\n",
    "p {\n",
    "    color: red;\n",
    "} \n",
    "\n",
    "3. 클래스 선택자\n",
    "클래스 선택자는 .클래스이름 을 사용하여 나타냅니다.\n",
    "클래스가 클래스이름과 같은 태그들에 대하여 적용합니다.\n",
    "\n",
    ".ClassName {\n",
    "    width: 100px;\n",
    "} \n",
    "\n",
    "4. ID 선택자\n",
    "ID 선택자는 #아이디이름 을 사용하여 나타냅니다.\n",
    "ID가 ID 이름과 같은 태그에 대해서 적용합니다.\n",
    "\n",
    "#IdName {\n",
    "    position: fixed;\n",
    "} \n",
    "\n",
    "[ 선택자를 여러 개 쓸 경우] \n",
    "\n",
    "선택자를 여러 개 쓰는 경우를 복합 선택자라고 합니다. 복합 선택자에도 여러 가지 종류가 있어 \n",
    "이에 대해서 알아보겠습니다.\n",
    "\n",
    "하위 선택자\n",
    "하위 선택자는 선택자 사이를 공백을 사용하여 나타냅니다.\n",
    "\n",
    "앞 요소의 자손인 뒷 요소를 선택합니다. (section의 ul)\n",
    "\n",
    "section ul {\n",
    "    text-shadow: none;\n",
    "}\n",
    "자식 선택자\n",
    "\n",
    "하위 선택자는 선택자 사이를 > 를 사용하여 나타냅니다.\n",
    "\n",
    "앞 요소의 자식 인 뒷 요소를 선택합니다.\n",
    "\n",
    "section > ul {\n",
    "    text-shadow: none;\n",
    "}\n",
    "\n",
    "자손과 자식의 차이는 무엇일까요?\n",
    "자손은 자식을 포괄하는 의미입니다.\n",
    "자손은 모든 하위 요소를 의미하고 자식은 바로 아래의 자식 요소에만 적용합니다.\n",
    "\n",
    "인접 형제 선택자\n",
    "인접 형제 선택자는 선택자 사이를 + 를 사용하여 나타냅니다.\n",
    "\n",
    "앞 요소 바로 뒤의 뒷 요소를 선택합니다.\n",
    "\n",
    "h1 + ul {\n",
    "    color: red;\n",
    "} \n",
    "\n",
    "일반 형제 선택자\n",
    "일반 형제 선택자는 선택자 사이에 ~ 를 사용하여 나타냅니다.\n",
    "\n",
    "앞 요소 뒤에 있는 모든 뒷 요소를 선택합니다.\n",
    "\n",
    "h1 ~ ul {\n",
    "    color: red;\n",
    "}\n",
    "\n",
    "형제라는 건 무엇일까요?\n",
    "\n",
    "같은 부모를 가지는 요소들을 형제 라고 합니다.\n",
    "\n",
    "속성 선택자\n",
    "속성 선택자는 각 태그가 가지고 있는 그 속성에 접근하는 방식입니다. 생각 외로 활용도가 높으며 \n",
    "크롤링를 할 경우에도 적절한 id 와 class 이름이 없을 경우, 이용합니다.\n",
    "\n",
    "태그[속성]\n",
    "속성이름 에 해당되는 속성을 가진 태그를 선택합니다.\n",
    "\n",
    "a[href] {\n",
    "    font-size: 10px;\n",
    "}\n",
    "태그[속성=\"변수\"]\n",
    "속성 의 속성값이 변수 인 태그를 선택합니다.\n",
    "\n",
    "a[href=\"http://www.naver.com\"] {\n",
    "    color: black;\n",
    "}\n",
    "\n",
    "태그[속성~=\"변수\"]\n",
    "속성 의 속성값이 변수 를 포함하는 태그를 선택합니다.\n",
    "\n",
    "a[href~=\"naver\"] {\n",
    "    color: black;\n",
    "}\n",
    "\n",
    "태그[속성^=\"변수\"]\n",
    "속성 의 속성값이 변수 로 시작하는 태그를 선택합니다.\n",
    "\n",
    "a[href^=\"http\"] {\n",
    "    color: black;\n",
    "}\n",
    "\n",
    "태그[속성$=\"변수\"]\n",
    "속성 의 속성값이 변수 로 끝나는 요소를 선택합니다.\n",
    "\n",
    "a[href$=\"com\"]{\n",
    "    color: black;\n",
    "}\n",
    "\n",
    "태그[속성*=\"변수\"]\n",
    "속성 의 속성값이 변수 를 포함하는 태그를 선택합니다.\n",
    "\n",
    "a[href*=\"naver\"] {\n",
    "    color: black;\n",
    "}\n",
    "\n",
    "태그[속성~=\"변수\"] 와 태그[속성*=\"변수\"] 의 차이는 무엇일까요?\n",
    "~ 은 포함여부를 단어를 기준으로 판단하고 * 는 문자열 기준으로 판단합니다.\n",
    "\n",
    "다음과 같은 상황에서 navers 는 어떻게 될까요?\n",
    "~ 은 naver와 navers 는 단어가 다르기 때문에 선택을 못하고\n",
    "* 은 navers 는 naver 라는 문자열을 포함하기 때문에 선택을 하게 됩니다.\n",
    "\n",
    "태그[속성|=\"변수\"]\n",
    "속성 의 속성값이 변수 이거나 변수 로 시작하는 태그를 선택합니다.\n",
    "\n",
    "a[href|=\"http\"]{\n",
    "    color: black;\n",
    "}\n",
    "\"\"\"\n",
    "print(f'CSS 선택자 \\n {css}')"
   ]
  },
  {
   "cell_type": "markdown",
   "id": "3ffdc9f1",
   "metadata": {},
   "source": [
    "#### JavaScript\n",
    "- 웹 사이트의 기능을 넣어줌. script 태그를 이용하여 작성. head or body 하단에 위치\n",
    "- js를 이용하여 HTML 코드를 생성. 크롤러로 분석하기 가장 어려운 부분임\n",
    "- DOM(Document Object Model)이란 HTML을 시각적으로 쉽게 표현하기 위해 만든 객체로 크롤러 만들 때 중요\n",
    "- 데이터를 수집하기 위해 DOM을 이용해 데이터에 접근한 후 해당 데이터 수집\n",
    "- 웹 브라우저는 HTML 코드를 가져온 후 JavaScript를 실행시킨 결과를 보여줌\n",
    "- 소스 보기 페이지에 수집하고자 하는 요소가 없다면 네트워크 탭을 이용, 서버에서 데이터를 받아오는 지 확인\n",
    "- 그렇지 않은 경우 셀레니움을 사용하여 해결\n",
    "\n",
    "http://www.tcpschool.com/javascript/js_intro_basic"
   ]
  },
  {
   "cell_type": "code",
   "execution_count": 3,
   "id": "4a4cdc58",
   "metadata": {},
   "outputs": [
    {
     "name": "stdout",
     "output_type": "stream",
     "text": [
      "Package                       Version"
     ]
    },
    {
     "name": "stderr",
     "output_type": "stream",
     "text": [
      "WARNING: Ignoring invalid distribution -cipy (c:\\users\\h\\anaconda3\\lib\\site-packages)\n",
      "WARNING: Ignoring invalid distribution -cipy (c:\\users\\h\\anaconda3\\lib\\site-packages)\n",
      "WARNING: Ignoring invalid distribution -cipy (c:\\users\\h\\anaconda3\\lib\\site-packages)\n",
      "WARNING: Ignoring invalid distribution -cipy (c:\\users\\h\\anaconda3\\lib\\site-packages)\n"
     ]
    },
    {
     "name": "stdout",
     "output_type": "stream",
     "text": [
      "\n",
      "----------------------------- --------------------\n",
      "alabaster                     0.7.12\n",
      "anaconda-client               1.11.0\n",
      "anaconda-navigator            2.3.1\n",
      "anaconda-project              0.11.1\n",
      "anyio                         3.5.0\n",
      "appdirs                       1.4.4\n",
      "argon2-cffi                   21.3.0\n",
      "argon2-cffi-bindings          21.2.0\n",
      "arrow                         1.2.2\n",
      "astroid                       2.11.7\n",
      "astropy                       5.1\n",
      "atomicwrites                  1.4.0\n",
      "attrs                         21.4.0\n",
      "Automat                       20.2.0\n",
      "autopep8                      1.6.0\n",
      "Babel                         2.9.1\n",
      "backcall                      0.2.0\n",
      "backports.functools-lru-cache 1.6.4\n",
      "backports.tempfile            1.0\n",
      "backports.weakref             1.0.post1\n",
      "bcrypt                        3.2.0\n",
      "beautifulsoup4                4.11.1\n",
      "binaryornot                   0.4.4\n",
      "bitarray                      2.5.1\n",
      "bkcharts                      0.2\n",
      "black                         22.6.0\n",
      "bleach                        4.1.0\n",
      "bokeh                         2.4.3\n",
      "boto3                         1.24.28\n",
      "botocore                      1.27.28\n",
      "Bottleneck                    1.3.5\n",
      "brotlipy                      0.7.0\n",
      "certifi                       2022.9.14\n",
      "cffi                          1.15.1\n",
      "chardet                       4.0.0\n",
      "charset-normalizer            2.0.4\n",
      "click                         8.0.4\n",
      "cloudpickle                   2.0.0\n",
      "clyent                        1.2.2\n",
      "colorama                      0.4.5\n",
      "colorcet                      3.0.0\n",
      "comtypes                      1.1.10\n",
      "conda                         22.9.0\n",
      "conda-build                   3.22.0\n",
      "conda-content-trust           0.1.3\n",
      "conda-pack                    0.6.0\n",
      "conda-package-handling        1.9.0\n",
      "conda-repo-cli                1.0.20\n",
      "conda-token                   0.4.0\n",
      "conda-verify                  3.4.2\n",
      "constantly                    15.1.0\n",
      "cookiecutter                  1.7.3\n",
      "cryptography                  37.0.1\n",
      "cssselect                     1.1.0\n",
      "cycler                        0.11.0\n",
      "Cython                        0.29.32\n",
      "cytoolz                       0.11.0\n",
      "daal4py                       2021.6.0\n",
      "dask                          2022.7.0\n",
      "datashader                    0.14.1\n",
      "datashape                     0.5.4\n",
      "debugpy                       1.5.1\n",
      "decorator                     5.1.1\n",
      "defusedxml                    0.7.1\n",
      "diff-match-patch              20200713\n",
      "dill                          0.3.4\n",
      "distributed                   2022.7.0\n",
      "docutils                      0.18.1\n",
      "entrypoints                   0.4\n",
      "et-xmlfile                    1.1.0\n",
      "fastjsonschema                2.16.2\n",
      "filelock                      3.6.0\n",
      "flake8                        4.0.1\n",
      "Flask                         1.1.2\n",
      "fonttools                     4.25.0\n",
      "fsspec                        2022.7.1\n",
      "future                        0.18.2\n",
      "gensim                        4.1.2\n",
      "glob2                         0.7\n",
      "greenlet                      1.1.1\n",
      "h5py                          3.7.0\n",
      "HeapDict                      1.0.1\n",
      "holoviews                     1.15.0\n",
      "hvplot                        0.8.0\n",
      "hyperlink                     21.0.0\n",
      "idna                          3.3\n",
      "imagecodecs                   2021.8.26\n",
      "imageio                       2.19.3\n",
      "imagesize                     1.4.1\n",
      "importlib-metadata            4.11.3\n",
      "incremental                   21.3.0\n",
      "inflection                    0.5.1\n",
      "iniconfig                     1.1.1\n",
      "intake                        0.6.5\n",
      "intervaltree                  3.1.0\n",
      "ipykernel                     6.15.2\n",
      "ipython                       7.31.1\n",
      "ipython-genutils              0.2.0\n",
      "ipywidgets                    7.6.5\n",
      "isort                         5.9.3\n",
      "itemadapter                   0.3.0\n",
      "itemloaders                   1.0.4\n",
      "itsdangerous                  2.0.1\n",
      "jdcal                         1.4.1\n",
      "jedi                          0.18.1\n",
      "jellyfish                     0.9.0\n",
      "Jinja2                        2.11.3\n",
      "jinja2-time                   0.2.0\n",
      "jmespath                      0.10.0\n",
      "joblib                        1.1.0\n",
      "json5                         0.9.6\n",
      "jsonschema                    4.16.0\n",
      "jupyter                       1.0.0\n",
      "jupyter_client                7.3.4\n",
      "jupyter-console               6.4.3\n",
      "jupyter_core                  4.11.1\n",
      "jupyter-server                1.18.1\n",
      "jupyterlab                    3.4.4\n",
      "jupyterlab-pygments           0.1.2\n",
      "jupyterlab-server             2.10.3\n",
      "jupyterlab-widgets            1.0.0\n",
      "keyring                       23.4.0\n",
      "kiwisolver                    1.4.2\n",
      "lazy-object-proxy             1.6.0\n",
      "libarchive-c                  2.9\n",
      "llvmlite                      0.38.0\n",
      "locket                        1.0.0\n",
      "lxml                          4.9.1\n",
      "lz4                           3.1.3\n",
      "Markdown                      3.3.4\n",
      "MarkupSafe                    2.0.1\n",
      "matplotlib                    3.5.2\n",
      "matplotlib-inline             0.1.6\n",
      "mccabe                        0.6.1\n",
      "menuinst                      1.4.19\n",
      "mistune                       0.8.4\n",
      "mkl-fft                       1.3.1\n",
      "mkl-random                    1.2.2\n",
      "mkl-service                   2.4.0\n",
      "mock                          4.0.3\n",
      "mpmath                        1.2.1\n",
      "msgpack                       1.0.3\n",
      "multipledispatch              0.6.0\n",
      "munkres                       1.1.4\n",
      "mypy-extensions               0.4.3\n",
      "navigator-updater             0.3.0\n",
      "nbclassic                     0.3.5\n",
      "nbclient                      0.5.13\n",
      "nbconvert                     6.4.4\n",
      "nbformat                      5.5.0\n",
      "nest-asyncio                  1.5.5\n",
      "networkx                      2.8.4\n",
      "nltk                          3.7\n",
      "nose                          1.3.7\n",
      "notebook                      6.4.12\n",
      "numba                         0.55.1\n",
      "numexpr                       2.8.3\n",
      "numpy                         1.21.5\n",
      "numpydoc                      1.4.0\n",
      "olefile                       0.46\n",
      "openpyxl                      3.0.10\n",
      "packaging                     21.3\n",
      "pandas                        1.4.4\n",
      "pandocfilters                 1.5.0\n",
      "panel                         0.13.1\n",
      "param                         1.12.0\n",
      "paramiko                      2.8.1\n",
      "parsel                        1.6.0\n",
      "parso                         0.8.3\n",
      "partd                         1.2.0\n",
      "pathlib                       1.0.1\n",
      "pathspec                      0.9.0\n",
      "patsy                         0.5.2\n",
      "pep8                          1.7.1\n",
      "pexpect                       4.8.0\n",
      "pickleshare                   0.7.5\n",
      "Pillow                        9.2.0\n",
      "pip                           22.2.2\n",
      "pkginfo                       1.8.2\n",
      "platformdirs                  2.5.2\n",
      "plotly                        5.9.0\n",
      "pluggy                        1.0.0\n",
      "poyo                          0.5.0\n",
      "prometheus-client             0.14.1\n",
      "prompt-toolkit                3.0.20\n",
      "Protego                       0.1.16\n",
      "psutil                        5.9.0\n",
      "ptyprocess                    0.7.0\n",
      "py                            1.11.0\n",
      "pyasn1                        0.4.8\n",
      "pyasn1-modules                0.2.8\n",
      "pycodestyle                   2.8.0\n",
      "pycosat                       0.6.3\n",
      "pycparser                     2.21\n",
      "pyct                          0.4.8\n",
      "pycurl                        7.45.1\n",
      "PyDispatcher                  2.0.5\n",
      "pydocstyle                    6.1.1\n",
      "pyerfa                        2.0.0\n",
      "pyflakes                      2.4.0\n",
      "Pygments                      2.11.2\n",
      "PyHamcrest                    2.0.2\n",
      "PyJWT                         2.4.0\n",
      "pylint                        2.14.5\n",
      "pyls-spyder                   0.4.0\n",
      "PyNaCl                        1.5.0\n",
      "pyodbc                        4.0.34\n",
      "pyOpenSSL                     22.0.0\n",
      "pyparsing                     3.0.9\n",
      "pyrsistent                    0.18.0\n",
      "PySocks                       1.7.1\n",
      "pytest                        7.1.2\n",
      "python-dateutil               2.8.2\n",
      "python-lsp-black              1.0.0\n",
      "python-lsp-jsonrpc            1.0.0\n",
      "python-lsp-server             1.3.3\n",
      "python-slugify                5.0.2\n",
      "python-snappy                 0.6.0\n",
      "pytz                          2022.1\n",
      "pyviz-comms                   2.0.2\n",
      "PyWavelets                    1.3.0\n",
      "pywin32                       302\n",
      "pywin32-ctypes                0.2.0\n",
      "pywinpty                      2.0.2\n",
      "PyYAML                        6.0\n",
      "pyzmq                         23.2.0\n",
      "QDarkStyle                    3.0.2\n",
      "qstylizer                     0.1.10\n",
      "QtAwesome                     1.0.3\n",
      "qtconsole                     5.2.2\n",
      "QtPy                          2.2.0\n",
      "queuelib                      1.5.0\n",
      "regex                         2022.7.9\n",
      "requests                      2.28.1\n",
      "requests-file                 1.5.1\n",
      "rope                          0.22.0\n",
      "Rtree                         0.9.7\n",
      "ruamel-yaml-conda             0.15.100\n",
      "s3transfer                    0.6.0\n",
      "scikit-image                  0.19.2\n",
      "scikit-learn                  1.0.2\n",
      "scikit-learn-intelex          2021.20221004.171935\n",
      "scipy                         1.10.1\n",
      "Scrapy                        2.6.2\n",
      "seaborn                       0.12.2\n",
      "Send2Trash                    1.8.0\n",
      "service-identity              18.1.0\n",
      "setuptools                    63.4.1\n",
      "sip                           4.19.13\n",
      "six                           1.16.0\n",
      "smart-open                    5.2.1\n",
      "sniffio                       1.2.0\n",
      "snowballstemmer               2.2.0\n",
      "sortedcollections             2.1.0\n",
      "sortedcontainers              2.4.0\n",
      "soupsieve                     2.3.1\n",
      "Sphinx                        5.0.2\n",
      "sphinxcontrib-applehelp       1.0.2\n",
      "sphinxcontrib-devhelp         1.0.2\n",
      "sphinxcontrib-htmlhelp        2.0.0\n",
      "sphinxcontrib-jsmath          1.0.1\n",
      "sphinxcontrib-qthelp          1.0.3\n",
      "sphinxcontrib-serializinghtml 1.1.5\n",
      "spyder                        5.2.2\n",
      "spyder-kernels                2.2.1\n",
      "SQLAlchemy                    1.4.39\n",
      "statsmodels                   0.13.2\n",
      "sympy                         1.10.1\n",
      "tables                        3.6.1\n",
      "tabulate                      0.8.10\n",
      "TBB                           0.2\n",
      "tblib                         1.7.0\n",
      "tenacity                      8.0.1\n",
      "terminado                     0.13.1\n",
      "testpath                      0.6.0\n",
      "text-unidecode                1.3\n",
      "textdistance                  4.2.1\n",
      "threadpoolctl                 2.2.0\n",
      "three-merge                   0.1.1\n",
      "tifffile                      2021.7.2\n",
      "tinycss                       0.4\n",
      "tldextract                    3.2.0\n",
      "toml                          0.10.2\n",
      "tomli                         2.0.1\n",
      "tomlkit                       0.11.1\n",
      "toolz                         0.11.2\n",
      "tornado                       6.1\n",
      "tqdm                          4.64.1\n",
      "traitlets                     5.1.1\n",
      "Twisted                       22.2.0\n",
      "twisted-iocpsupport           1.0.2\n",
      "typing_extensions             4.3.0\n",
      "ujson                         5.4.0\n",
      "Unidecode                     1.2.0\n",
      "urllib3                       1.26.11\n",
      "w3lib                         1.21.0\n",
      "watchdog                      2.1.6\n",
      "wcwidth                       0.2.5\n",
      "webencodings                  0.5.1\n",
      "websocket-client              0.58.0\n",
      "Werkzeug                      2.0.3\n",
      "wheel                         0.37.1\n",
      "widgetsnbextension            3.5.2\n",
      "win-inet-pton                 1.1.0\n",
      "win-unicode-console           0.5\n",
      "wincertstore                  0.2\n",
      "wrapt                         1.14.1\n",
      "xarray                        0.20.1\n",
      "xlrd                          2.0.1\n",
      "XlsxWriter                    3.0.3\n",
      "xlwings                       0.27.15\n",
      "yapf                          0.31.0\n",
      "zict                          2.1.0\n",
      "zipp                          3.8.0\n",
      "zope.interface                5.4.0\n"
     ]
    }
   ],
   "source": [
    "!pip list"
   ]
  },
  {
   "cell_type": "markdown",
   "id": "3fc8d172",
   "metadata": {},
   "source": [
    "requests 모듈 : pip install requests 명령어로 설치, anaconda를 설치하면 기본 설치\n",
    "- http는 요청과 응답으로 이루어져 있음\n",
    "- 요청/응답 구조\n",
    " - 요청\n",
    "      * GET : 정보를 가져오기 위해 요청\n",
    "      * POST: 새로운 정보를 보내기 위해 요청\n",
    "      * PUT: 수정할 정보를 보내기 위해 요청\n",
    "      * DELETE: 정보를 삭제하기 위해 요청\n",
    " - 응답\n",
    "      * 1XX: 요청을 받았고 작업 진행 중\n",
    "      * 2XX: 사용자의 요청이 성공적으로 수행 됨\n",
    "      * 3XX: 요청은 완료되었으나 리다이렉션이 필요\n",
    "      * 4XX: 사용자의 요청이 잘못됨\n",
    "      * 5XX: 서버에 오류가 발생함\n",
    "- import requests로 모듈 호출 후 사용"
   ]
  },
  {
   "cell_type": "code",
   "execution_count": 4,
   "id": "60c060e0",
   "metadata": {},
   "outputs": [
    {
     "data": {
      "text/plain": [
       "'\\n<!doctype html>                          <html lang=\"ko\" data-dark=\"false\"> <head> <meta charset=\"utf-8\"> <title>NAVER</title> <meta http-equiv=\"X-UA-Compatible\" content=\"IE=edge\"> <meta name=\"viewport\" content=\"width=1190\"> <meta name=\"apple-mobile-web-app-title\" content=\"NAVER\"/> <meta name=\"robots\" content=\"index,nofollow\"/> <meta name=\"description\" content=\"네이버 메인에서 다양한 정보와 유용한 컨텐츠를 만나 보세요\"/> <meta property=\"og:title\" content=\"네이버\"> <meta property=\"og:url\" content=\"https://www.naver.com/\"> <meta property=\"og:image\" content=\"https://s.pstatic.net/static/www/mobile/edit/2016/0705/mobile_212852414260.png\"> <meta property=\"og:description\" content=\"네이버 메인에서 다양한 정보와 유용한 컨텐츠를 만나 보세요\"/> <meta name=\"twitter:card\" content=\"summary\"> <meta name=\"twitter:title\" content=\"\"> <meta name=\"twitter:url\" content=\"https://www.naver.com/\"> <meta name=\"twitter:image\" content=\"https://s.pstatic.net/static/www/mobile/edit/2016/0705/mobile_212852414260.png\"> <meta name=\"twitter:description\" content=\"네이버 메인에서 다양한 정보와 유용한 컨텐츠를 만나 보세요\"/>  <link rel=\"stylesheet\" href=\"https://pm.pstatic.net/dist/css/nmain.20230302.css\"> <link rel=\"stylesheet\" href=\"https://ssl.pstatic.net/sstatic/search/pc/css/sp_autocomplete_220526.css\"> <link rel=\"shortcut icon\" type=\"image/x-icon\" href=\"/favicon.ico?1\"/>  <link rel=\"apple-touch-icon\" sizes=\"114x114\" href=\"https://s.pstatic.net/static/www/u/2014/0328/mma_204243574.png\"/> <link rel=\"apple-touch-icon\" href=\"https://s.pstatic.net/static/www/u/2014/0328/mma_20432863.png\"/> <script>window.nmain=window.nmain||{},window.nmain.supportFlicking=!1;var nsc=\"navertop.v4\",ua=navigator.userAgent,useIeJSFlag=\"1\";window.nmain.isIE=\"0\"===useIeJSFlag,document.getElementsByTagName(\"html\")[0].setAttribute(\"data-useragent\",ua),window.nmain.isIE&&(Object.create=function(n){function e(){}return e.prototype=n,new e})</script> <script>var darkmode= false;window.naver_corp_da=window.naver_corp_da||{main:{}},window.naver_corp_da.main=window.naver_corp_da.main||{},window.naver_corp_da.main.darkmode=darkmode,window.gladsdk=window.gladsdk||{cmd:[]},window.gladsdk.cmd.push((function(){window.gladsdk.setHostMeta(\"theme\",darkmode?\"dark\":\"light\")})),window.ndpsdk=window.ndpsdk||{cmd:[],polyfill:{cmd:[]}},window.ndpsdk.cmd.push((function(){window.ndpsdk.setHostMeta(\"theme\",darkmode?\"dark\":\"light\")}))</script>  <script async src=\"https://ssl.pstatic.net/tveta/libs/glad/prod/gfp-core.js\"></script> <script async src=\"https://ssl.pstatic.net/tveta/libs/ndpsdk/prod/ndp-loader.js\"></script>  <script> window.nmain.gv = {  isLogin: false,\\nuseId: null,   daInfo: {\"BEAUTY\":{\"menu\":\"BEAUTY\",\"childMenu\":\"\",\"adType\":\"singleDom\",\"multiDomAdUrl\":\"\",\"multiDomUnit\":\"\",\"infoList\":[{\"adposId\":\"1000163\",\"singleDomAdUrl\":\"https://siape.veta.naver.com/fxshow\",\"param\":{\"da_dom_id\":\"p_main_beauty_1\",\"tb\":\"BEAUTY_1\",\"unit\":\"SU10595\",\"calp\":\"-\"},\"type\":{\"position\":\"abs\",\"positionIndex\":4,\"subject\":\"contents\"},\"dom\":null},{\"adposId\":\"1000164\",\"singleDomAdUrl\":\"https://siape.veta.naver.com/fxshow\",\"param\":{\"da_dom_id\":\"p_main_beauty_2\",\"tb\":\"BEAUTY_1\",\"unit\":\"SU10596\",\"calp\":\"-\"},\"type\":{\"position\":\"abs\",\"positionIndex\":8,\"subject\":\"contents\"},\"dom\":null}]},\"LIVING\":{\"menu\":\"LIVING\",\"childMenu\":\"\",\"adType\":\"singleDom\",\"multiDomAdUrl\":\"\",\"multiDomUnit\":\"\",\"infoList\":[{\"adposId\":\"1000183\",\"singleDomAdUrl\":\"https://siape.veta.naver.com/fxshow\",\"param\":{\"da_dom_id\":\"p_main_living_1\",\"tb\":\"LIVING_1\",\"unit\":\"SU10597\",\"calp\":\"-\"},\"type\":{\"position\":\"abs\",\"positionIndex\":4,\"subject\":\"contents\"},\"dom\":null},{\"adposId\":\"1000184\",\"singleDomAdUrl\":\"https://siape.veta.naver.com/fxshow\",\"param\":{\"da_dom_id\":\"p_main_living_2\",\"tb\":\"LIVING_1\",\"unit\":\"SU10606\",\"calp\":\"-\"},\"type\":{\"position\":\"abs\",\"positionIndex\":8,\"subject\":\"contents\"},\"dom\":null}]},\"LIVINGHOME\":{\"menu\":\"LIVINGHOME\",\"childMenu\":\"\",\"adType\":\"singleDom\",\"multiDomAdUrl\":\"\",\"multiDomUnit\":\"\",\"infoList\":[{\"adposId\":\"1000185\",\"singleDomAdUrl\":\"https://siape.veta.naver.com/fxshow\",\"param\":{\"da_dom_id\":\"p_main_livinghome_1\",\"tb\":\"LIVINGHOME_1\",\"unit\":\"SU10571\",\"calp\":\"-\"},\"type\":{\"position\":\"abs\",\"positionIndex\":4,\"subject\":\"contents\"},\"dom\":null},{\"adposId\":\"1000186\",\"singleDomAdUrl\":\"https://siape.veta.naver.com/fxshow\",\"param\":{\"da_dom_id\":\"p_main_livinghome_2\",\"tb\":\"LIVINGHOME_1\",\"unit\":\"SU10572\",\"calp\":\"-\"},\"type\":{\"position\":\"abs\",\"positionIndex\":8,\"subject\":\"contents\"},\"dom\":null}]}},\\nsvt: 20230425090019,\\n}; </script> <script> window.nmain.newsstand = {\\nrcode: \\'09560104\\',\\nnewsCastSubsInfo: \\'\\',\\nnewsStandSubsInfo: \\'\\'\\n};\\nwindow.etc = {  };\\nwindow.svr = \"<!--aweb15-->\"; </script> <script src=\"https://ssl.pstatic.net/tveta/libs/assets/js/pc/main/min/pc.veta.core.min.js\" defer=\"defer\"></script>   <script src=\"https://pm.pstatic.net/dist/js/external.2961eaa5.js?o=www\" type=\"text/javascript\" crossorigin=\"anonymous\" defer=\"defer\"></script> <script src=\"https://pm.pstatic.net/dist/js/preload.5fe99fda.js?o=www\" type=\"text/javascript\" crossorigin=\"anonymous\" defer=\"defer\"></script> <script src=\"https://pm.pstatic.net/dist/js/polyfill.f3c68d2d.js?o=www\" type=\"text/javascript\" crossorigin=\"anonymous\" defer=\"defer\"></script>  <script src=\"https://pm.pstatic.net/dist/js/vendors~more~nmain~notice~search~sidebar_notice.40da85e0.js?o=www\" type=\"text/javascript\" crossorigin=\"anonymous\" defer=\"defer\"></script>   <script src=\"https://pm.pstatic.net/dist/js/search.c0c3b1c5.js?o=www\" type=\"text/javascript\" crossorigin=\"anonymous\" defer=\"defer\"></script>  <script src=\"https://pm.pstatic.net/dist/js/vendors~more~nmain~sidebar_notice.7aad5e27.js?o=www\" type=\"text/javascript\" crossorigin=\"anonymous\" defer=\"defer\"></script> <script src=\"https://pm.pstatic.net/dist/js/nmain.e31af4db.js?o=www\" type=\"text/javascript\" crossorigin=\"anonymous\" defer=\"defer\"></script> <style>:root{color-scheme:light}#_nx_kbd .setkorhelp a{display:none}</style> </head> <body> <div id=\"u_skip\"> <a href=\"#newsstand\"><span>뉴스스탠드 바로가기</span></a> <a href=\"#themecast\"><span>주제별캐스트 바로가기</span></a> <a href=\"#timesquare\"><span>타임스퀘어 바로가기</span></a> <a href=\"#shopcast\"><span>쇼핑캐스트 바로가기</span></a> <a href=\"#account\"><span>로그인 바로가기</span></a> </div> <div id=\"wrap\">         \\n<style>._1syGnXOL{padding-right:18px;font-size:14px;line-height:0;letter-spacing:-.25px;color:#000}._1syGnXOL span,._1syGnXOL strong{line-height:49px}._1syGnXOL:before{display:inline-block;content:\"\";vertical-align:top;background-image:url(https://static-whale.pstatic.net/main/sprite-20220527@2x.png);background-repeat:no-repeat;background-size:141px 112px;width:18px;height:18px;margin:16px 8px 0 0;background-position:-98px 0}[data-useragent*=\"MSIE 8\"] ._1syGnXOL:before{background-image:url(https://static-whale.pstatic.net/main/sprite-20220527.png)}._1syGnXOL._3dsvmZg2:before{background-position:-47px -85px}._1syGnXOL._1NBFx1WK:before{width:20px;height:20px;margin:15px 8px 0 0;background-position:-21px -89px}._1syGnXOL._2mcQEKCd:before{width:22px;height:22px;margin:14px 7px 0 0;background-position:-47px -63px}._1syGnXOL._36slsKuJ:before{width:21px;height:49px;margin:0 14px 0 0;background-position:0 -63px}._1syGnXOL._3qlJVWzR:before{width:24px;height:49px;margin:0 10px 0 0;background-position:-117px 0}._1syGnXOL._3VkgqBXB:before{width:26px;height:49px;margin:0 10px 0 0;background-position:-116px -54px}._1syGnXOL._3di88A4c{padding-right:12px;font-size:17px}._1syGnXOL._3di88A4c:before{content:none}._1syGnXOL ._19K4X1CD{text-decoration:underline}._2aeXMlrb{display:inline-block;position:relative;font-size:12px;height:49px;width:78px;text-decoration:none;color:#fff;font-weight:700;letter-spacing:-.5px;vertical-align:top}._2aeXMlrb span{text-align:center;margin:9px 0;height:31px;display:block;line-height:31px;border-radius:15px}._2aeXMlrb span:before{display:inline-block;content:\"\";vertical-align:top;background-image:url(https://static-whale.pstatic.net/main/sprite-20220527@2x.png);background-repeat:no-repeat;background-size:141px 112px}[data-useragent*=\"MSIE 8\"] ._2aeXMlrb span:before{background-image:url(https://static-whale.pstatic.net/main/sprite-20220527.png)}._2aeXMlrb.BMgpjddw{font-size:11px;width:94px}._2aeXMlrb.BMgpjddw span:before{margin:9px 3px 0 0;width:17px;height:13px;background-position:-89px -63px}._3h-N8T9V{position:absolute;top:0;left:0;right:0;bottom:0;background:rgba(0,0,0,0)}._1KncATpM{display:inline-block;content:\"\";vertical-align:top;background-image:url(https://static-whale.pstatic.net/main/sprite-20220527@2x.png);background-repeat:no-repeat;background-size:141px 112px;margin-top:14px;float:left;width:98px;height:21px;background-position:0 -21px}[data-useragent*=\"MSIE 8\"] ._1KncATpM{background-image:url(https://static-whale.pstatic.net/main/sprite-20220527.png)}._1KncATpM._2v3uxv2x{background-position:0 0}._1KncATpM._1yl_Ow6o{background-position:0 -42px}._20PYt6lT{font-size:11px;height:49px;cursor:pointer;position:absolute;top:0;right:0;color:#666;opacity:.7}._20PYt6lT:after{width:15px;height:15px;margin-left:4px;background-position:-98px -33px;display:inline-block;content:\"\";vertical-align:top;background-image:url(https://static-whale.pstatic.net/main/sprite-20220527@2x.png);background-repeat:no-repeat;background-size:141px 112px}[data-useragent*=\"MSIE 8\"] ._20PYt6lT:after{background-image:url(https://static-whale.pstatic.net/main/sprite-20220527.png)}._20PYt6lT._39oMCV2N:after{background-position:-98px -18px}._20PYt6lT._3MOWOORv{color:#c3c2c2}._20PYt6lT._3MOWOORv:after{background-position:-80px -85px}._20PYt6lT._3wm5EzmJ{color:#fff}._20PYt6lT._3wm5EzmJ:after{background-position:-65px -85px}._1hiMWemA{height:49px}._1hiMWemA .tY_u8r23{position:relative;width:1130px;margin:0 auto}._1hiMWemA .tY_u8r23 a{text-decoration:none}._1hiMWemA._23U_6TM_{position:relative}._1hiMWemA._23U_6TM_:after{position:absolute;z-index:1;content:\"\";display:block;width:100%;height:1px;bottom:0;background-color:rgba(0,0,0,.050980392156862744)}</style>\\n<div\\nid=\"NM_TOP_BANNER\"\\ndata-clk-prefix=\"top\"\\nclass=\"_1hiMWemA\"\\nstyle=\"background-color: #fff7e1\"\\n>\\n<div class=\"tY_u8r23\">\\n<a\\nclass=\"_3h-N8T9V\"\\nhref=\"https://whale.naver.com/ko/details/security/&wpid=RydDy7\"\\ndata-clk=\"dropbanner1b\"\\n></a\\n><span\\nclass=\"_1syGnXOL _3VkgqBXB\"\\ndata-clk=\"dropbanner1b\"\\nstyle=\"padding-right: 20px; font-size: 17px; color: black\"\\n><span>매일 쓰는 브라우저 보안이 걱정된다면, </span\\n><strong\\n>안전하고 빠른 최신 브라우저 웨일로 업데이트 하세요.</strong\\n></span\\n><a\\nhref=\"https://installer-whale.pstatic.net/downloads/banner/RydDy7/WhaleSetup.exe\"\\nclass=\"_2aeXMlrb BMgpjddw\"\\nid=\"NM_whale_download_btn\"\\ndata-clk=\"dropdownload1b\"\\n><span style=\"background-color: #0436c7\">다운로드</span></a\\n><button\\ntype=\"button\"\\ndata-ui-cookie-exp-days=\"3\"\\ndata-ui-cookie-key=\"NM_TOP_PROMOTION\"\\ndata-ui-cookie-value=\"1\"\\ndata-ui-hide-target=\"#NM_TOP_BANNER\"\\ndata-clk=\"dropclose1b\"\\nclass=\"_20PYt6lT _39oMCV2N\"\\n>\\n3일 동안 보지 않기\\n</button>\\n</div>\\n</div>  <div id=\"header\" role=\"banner\">\\n\\n\\n\\n\\n\\n\\n\\n\\n\\n<div class=\"special_bg\">\\n<div class=\"group_flex\">\\n<div class=\"logo_area\">\\n<h1 class=\"logo_special\">\\n<img\\nsrc=\"https://s.pstatic.net/static/www/mobile/edit/20230424/mobile_1046165152.gif\"\\nwidth=\"415\"\\nheight=\"160\"\\nclass=\"special_img\"\\nalt=\"세계 펭귄의 날\"\\n/>\\n<a\\nhref=\"https://search.naver.com/search.naver?where=nexearch&amp;sm=top_brd&amp;fbm=0&amp;ie=utf8&amp;query=%EC%84%B8%EA%B3%84+%ED%8E%AD%EA%B7%84%EC%9D%98+%EB%82%A0\"\\nclass=\"special_logo_link\"\\ntitle=\"세계 펭귄의 날\"\\ndata-clk=\"top.spe\"\\n>\\n<img\\nsrc=\"https://s.pstatic.net/static/www/mobile/edit/20230424/mobile_000030336895.png\"\\nwidth=\"58\"\\nheight=\"60\"\\nclass=\"special_img_fold\"\\nalt=\"세계 펭귄의 날\"\\n/>\\n</a>\\n</h1>\\n</div>\\n<div class=\"service_area\">\\n<a id=\"NM_set_home_btn\" href=\"https://help.naver.com/support/welcomePage/guide.help\" class=\"link_set\" data-clk=\"top.mkhome\">네이버를 시작페이지로</a>\\n<i class=\"sa_bar\"></i>\\n<a href=\"https://jr.naver.com\" class=\"link_jrnaver\" data-clk=\"top.jrnaver\"><i class=\"ico_jrnaver\"></i><span class=\"blind\">쥬니어네이버</span></a>\\n<a href=\"https://happybean.naver.com\" class=\"link_happybin\" data-clk=\"top.happybean\"><i class=\"ico_happybin\"></i><span class=\"blind\">해피빈</span></a>\\n</div>\\n\\n<div id=\"search\" class=\"search_area\" data-clk-prefix=\"sch\">\\n<form id=\"sform\" name=\"sform\" action=\"https://search.naver.com/search.naver\" method=\"get\" role=\"search\">\\n<fieldset>\\n<legend class=\"blind\">검색</legend>\\n<input type=\"hidden\" name=\"where\" value=\"nexearch\" />\\n<input type=\"hidden\" id=\"sm\" name=\"sm\" value=\"top_hty\" />\\n<input type=\"hidden\" id=\"fbm\" name=\"fbm\" value=\"0\" />\\n<input type=\"hidden\" id=\"acr\" name=\"acr\" value=\"\" disabled=\"disabled\" />\\n<input type=\"hidden\" id=\"acq\" name=\"acq\" value=\"\" disabled=\"disabled\" />\\n<input type=\"hidden\" id=\"qdt\" name=\"qdt\" value=\"\" disabled=\"disabled\" />\\n<input type=\"hidden\" id=\"ie\" name=\"ie\" value=\"utf8\" />\\n<input type=\"hidden\" id=\"acir\" name=\"acir\" value=\"\" disabled=\"disabled\" />\\n<input type=\"hidden\" id=\"os\" name=\"os\" value=\"\" disabled=\"disabled\" />\\n<input type=\"hidden\" id=\"bid\" name=\"bid\" value=\"\" disabled=\"disabled\" />\\n<input type=\"hidden\" id=\"pkid\" name=\"pkid\" value=\"\" disabled=\"disabled\" />\\n<input type=\"hidden\" id=\"eid\" name=\"eid\" value=\"\" disabled=\"disabled\" />\\n<input type=\"hidden\" id=\"mra\" name=\"mra\" value=\"\" disabled=\"disabled\" />\\n\\n\\n\\n\\n\\n\\n<div class=\"green_window\" style=\\'border-color: #00e8ee;\\'>\\n<!-- [AU] data-atcmp-element 에 해당하는 attribute를 추가해주세요. -->\\n<input id=\"query\" name=\"query\" type=\"search\" title=\"검색어 입력\" maxlength=\"255\" class=\"input_text\" tabindex=\"1\" accesskey=\"s\" style=\"ime-mode:active;\" autocomplete=\"off\"  placeholder=\"검색어를 입력해 주세요.\" onclick=\"document.getElementById(\\'fbm\\').value=1;\" value=\"\" data-atcmp-element>\\n</div>\\n<button id=\"search_btn\" type=\"submit\" title=\"검색\" tabindex=\"3\" class=\"btn_submit\" onclick=\"window.nclick(this,\\'sch.action\\',\\'\\',\\'\\',event);\" style=\\'background-color: #00e8ee\\'>\\n<span class=\"blind\">검색</span>\\n<span class=\"ico_search_submit\"></span>\\n</button>\\n</fieldset>\\n</form>\\n<!-- 한글입력기 -->\\n<a href=\"#\" id=\"ke_kbd_btn\" role=\"button\" class=\"btn_keyboard\" onclick=\"return false;\"><span class=\"blind\">한글 입력기</span><span class=\"ico_keyboard\"></span></a>\\n<div id=\"_nx_kbd\" style=\"display:none;\"></div>\\n<div class=\"autocomplete\">\\n<!-- 자동완성 열린 경우 fold 클래스 추가, 딤드인 경우 dim 추가 -->\\n<a href=\"#\" role=\"button\" id=\"nautocomplete\" tabindex=\"2\" class=\"btn_arw _btn_arw fold\" aria-pressed=\"false\" data-atcmp-element><span class=\"blind\">자동완성 레이어</span><span class=\"ico_arr\"></span></a>\\n</div>\\n<!-- 자동완성레이어 -->\\n<div id=\"autoFrame\" class=\"reatcmp\" style=\"display: none;\">\\n<!-- [AU] data-atcmp-element attribute를 추가해주세요. -->\\n<div class=\"ly_atcmp\" data-atcmp-element>\\n<div class=\"api_atcmp_wrap\">\\n<!-- 최근검색어 -->\\n<!-- [AU] _recent_layer 클래스를 추가해주세요. -->\\n<div class=\"atcmp_fixer _recent_layer\" style=\"display:none;\">\\n<!-- [AU] _recent_header 클래스를 추가해주세요. -->\\n<div class=\"atcmp_header _recent_header\">\\n<strong class=\"tit\">최근검색어</strong>\\n<div class=\"option\">\\n<!-- [AU] _delAll 클래스를 추가해주세요. -->\\n<a role=\"button\" href=\"#\" class=\"item _delAll\" aria-pressed=\"false\">전체삭제</a>\\n</div>\\n</div>\\n<div class=\"atcmp_container\">\\n<!-- [AU] _recent 클래스를 추가해주세요. -->\\n<ul class=\"kwd_lst _recent\">\\n<!-- 최근검색어 템플릿 -->\\n<!-- [AU] _item 클래스를 추가해주세요. -->\\n<!-- [AU] data-template-type=\"history\" data-keyword=\"@in_txt@\" attribute를 추가해주세요. -->\\n<li class=\"item _item\" data-rank=\"@rank@\" data-template-type=\"history\" data-keyword=\"@in_txt@\">\\n<a href=\"#\" class=\"kwd\">\\n<span class=\"fix\"><span class=\"common_ico_kwd\"><i class=\"imsc ico_search\"></i></span><span>@txt@</span></span>\\n</a>\\n<span class=\"etc\">\\n<em class=\"date\">@date@.</em>\\n<!-- [AU] _del 클래스를 추가해주세요. -->\\n<a href=\"#\" role=\"button\" class=\"bt_item _del\" aria-pressed=\"false\"><i class=\"imsc ico_del\">삭제</i></a>\\n</span>\\n</li>\\n</ul>\\n<!-- [D] 검색어 저장 꺼진 경우 atcmp_fixer에 type_off 추가 -->\\n<!-- [AU] _offMsg 클래스를 추가해주세요. -->\\n<div class=\"kwd_info kwd_off _offMsg\" style=\"display: none;\">검색어 저장 기능이 꺼져 있습니다.<br><span class=\"kwd_dsc\">설정이 초기화 된다면 <a href=\"https://help.naver.com/support/alias/search/word/word_29.naver\" class=\"kwd_help\" data-clk=\"sly.help\" target=\"_blank\">도움말</a>을 확인해주세요.</span></div>\\n<!-- [D] 검색어 내역 없는 경우 atcmp_fixer에 type_off 추가 -->\\n<!-- [AU] _recentNone 클래스를 추가해주세요. -->\\n<div class=\"kwd_info kwd_none _recentNone\" style=\"display: none;\">최근 검색어 내역이 없습니다.<br><span class=\"kwd_dsc\">설정이 초기화 된다면 <a href=\"https://help.naver.com/support/alias/search/word/word_29.naver\" class=\"kwd_help\" data-clk=\"sly.help\" target=\"_blank\">도움말</a>을 확인해주세요.</span></div>\\n</div>\\n<div class=\"atcmp_footer\">\\n<span class=\"side_opt_area\">\\n<span class=\"opt_item\"><a href=\"https://help.naver.com/support/service/main.help?serviceNo=605&amp;categoryNo=1991\" data-clk=\"sly.help\" target=\"_blank\">도움말</a></span>\\n</span>\\n<span class=\"rside_opt_area\">\\n<span class=\"opt_item\">\\n<!-- [AU] _keywordOnOff 클래스를 추가해주세요. -->\\n<a href=\"#\" class=\"close _keywordOnOff\">자동저장 끄기</a>\\n</span>\\n</span>\\n</div>\\n</div>\\n<!-- 자동완성 -->\\n<!-- [AU] _atcmp_layer 클래스를 추가해주세요. -->\\n<div class=\"atcmp_fixer _atcmp_layer\" style=\"display:none;\">\\n<!-- [AU] _words 클래스를 추가해주세요. -->\\n<div class=\"atcmp_container _words\">\\n<!-- 정답형 템플릿 : 로또당첨번호 -->\\n<!-- [AU] _answer 클래스를 추가해주세요. -->\\n<!-- [AU] data-template-type=\"answer_3\" data-code=\"@code@\" data-keyword=\"@1@\" attribute를 추가해주세요. -->\\n<div class=\"atcmp_correct type_lotto _answer\" data-template-type=\"answer_3\" data-code=\"@code@\" data-keyword=\"@1@\">\\n<a href=\"#\" class=\"link_item\">\\n<span class=\"common_ico_kwd\"><i class=\"imsc ico_search\"></i></span>\\n<div class=\"dsc_area\">\\n<span class=\"tit\">@5@회 로또당첨번호</span>\\n<span class=\"dsc\">\\n<span class=\"item\">동행복권 제공</span>\\n</span>\\n</div>\\n<span class=\"etc_area\">\\n<span class=\"etc lotto\">\\n<em class=\"n@6@\">@6@</em><em class=\"n@7@\">@7@</em><em class=\"n@8@\">@8@</em><em class=\"n@9@\">@9@</em><em class=\"n@10@\">@10@</em><em class=\"n@11@\">@11@</em><em class=\"imsc_bf bonus n@12@\">@12@</em>\\n</span>\\n</span>\\n</a>\\n</div>\\n<!-- 정답형 템플릿 : 환율 -->\\n<!-- [AU] _answer 클래스를 추가해주세요. -->\\n<!-- [AU] data-template-type=\"answer_9\" data-code=\"@code@\" data-keyword=\"@1@\" attribute를 추가해주세요. -->\\n<div class=\"atcmp_correct type_exchange _answer\" data-template-type=\"answer_9\" data-code=\"@code@\" data-keyword=\"@1@\">\\n<!-- [D] 상승 up, 하락 down 추가 -->\\n<a href=\"#\" class=\"link_item @11@\">\\n<!-- [D] 국가별 class 가나다순\\nZAR 남아프리카 공화국\\nNPR 네팔\\nNOK 노르웨이\\nNZD 뉴질랜드\\nTWD 대만\\nDKK 덴마크\\nRUB 러시아\\nMOP 마카오\\nMYR 말레이시아\\nMXN 멕시코\\nMNT 몽골\\nUSD 미국\\nBHD 바레인\\nBDT 방글라데시\\nVND 베트남\\nBRL 브라질\\nSAR 사우디아라비아\\nSEK 스웨덴\\nCHF 스위스\\nSGD 싱가포르\\nAED 아랍에미리트\\nGBP 영국\\nEUR 유럽연합\\nILS 이스라엘\\nEGP 이집트\\nINR 인도\\nIDR 인도네시아\\nJPY 일본\\nCNY 중국\\nCZK 체코\\nCLP 칠레\\nKZT 카자흐스탄\\nQAR 카타르\\nCAD 캐나다\\nKWD 쿠웨이트\\nTHB 태국\\nTRY 터키\\nPKR 파키스탄\\nPLN 폴란드\\nPHP 필리핀\\nHUF 헝가리\\nAUD 호주\\nHKD 홍콩\\n-->\\n<span class=\"common_ico_kwd\"><i class=\"imsc ico @12@\">@14@</i></span>\\n<div class=\"dsc_area\">\\n<span class=\"tit\">@txt@<span class=\"sub\">@currency@</span></span>\\n<span class=\"dsc\">\\n<span class=\"item\"><i class=\"imsc ico_arr\"></i>@8@(@9@%)</span>\\n</span>\\n</div>\\n<span class=\"etc_area\">\\n<span class=\"etc\"><em class=\"num\">@6@</em>원</span>\\n</span>\\n</a>\\n</div>\\n<!-- 정답형 템플릿 : 날씨(국내11, 해외12) -->\\n<!-- [AU] _answer 클래스를 추가해주세요. -->\\n<!-- [AU] data-template-type=\"answer_11\" data-code=\"@code@\" data-keyword=\"@1@\" attribute를 추가해주세요. -->\\n<div class=\"atcmp_correct type_weather _answer\" data-template-type=\"answer_11\" data-code=\"@code@\" data-keyword=\"@1@\">\\n<!-- [D] 상승 up, 하락 down 추가 -->\\n<a href=\"#\" class=\"link_item @12@\">\\n<span class=\"common_ico_kwd\"><i class=\"imsc ico_search\"></i></span>\\n<div class=\"dsc_area\">\\n<span class=\"tit\">@txt@</span>\\n<span class=\"dsc\">\\n<span class=\"item\">@7@, @message@</span>\\n</span>\\n</div>\\n<span class=\"etc_area\">\\n<span class=\"etc\">\\n<!-- [D] 날씨별 class\\nico1 맑음(낮)\\nico2 맑음(밤)\\nico3 구름조금(낮)\\nico4 구름조금(밤)\\nico5 구름많음(낮)\\nico6 구름많음(밤)\\nico7 흐림\\nico8 약한비\\nico9 비\\nico10 강한비\\nico11 약한눈\\nico12 눈\\nico13 강한눈\\nico14 진눈깨비\\nico15 소나기\\nico16 안개\\nico17 소낙눈\\nico18 번개뇌우\\nico19 우박\\nico20 황사\\nico21 비또는눈\\nico22 가끔비\\nico23 가끔눈\\nico24 가끔비또는눈\\nico25 흐린후갬\\nico26 뇌우후갬\\nico27 비후갬\\nico28 눈후갬\\nico29 흐려져비\\nico30 흐려져눈\\n-->\\n<span class=\"ico_weather\"><i class=\"imsc ico ico@iconNo@\">@7@</i></span>\\n<em class=\"degree\">@8@<sup class=\"celsius\">°</sup></em>\\n</span>\\n</span>\\n</a>\\n</div>\\n<!-- 정답형 템플릿 : 사이트 바로가기 -->\\n<!-- [AU] _answer 클래스를 추가해주세요. -->\\n<!-- [AU] data-template-type=\"answer_17\" data-code=\"@code@\" data-keyword=\"@1@\" attribute를 추가해주세요. -->\\n<div class=\"atcmp_correct type_site _answer\" data-template-type=\"answer_17\" data-code=\"@code@\" data-keyword=\"@1@\">\\n<a href=\"@5@\" class=\"link_item\" target=\"_blank\">\\n<span class=\"common_ico_kwd\"><i class=\"imsc ico_url\"></i></span>\\n<div class=\"dsc_area\">\\n<span class=\"tit\">@txt@</span>\\n<span class=\"dsc\">\\n<span class=\"item\">@5@</span>\\n</span>\\n</div>\\n<span class=\"etc_area\">\\n<span class=\"etc\">바로가기</span>\\n</span>\\n</a>\\n</div>\\n<!-- [AU] _kwd_list 클래스를 추가해주세요. -->\\n<ul class=\"kwd_lst _kwd_list\">\\n<!-- [AU] 자동완성 검색어 템플릿 -->\\n<!-- [AU] _item 클래스를 추가해주세요. -->\\n<!-- [AU] data-rank=\"@rank@\" data-template-type=\"suggestion\" data-keyword=\"@in_txt@\" attribute를 추가해주세요. -->\\n<li class=\"item _item\" data-rank=\"@rank@\" data-template-type=\"suggestion\" data-keyword=\"@in_txt@\">\\n<a href=\"#\" class=\"kwd\">\\n<span class=\"fix\"><span class=\"common_ico_kwd\"><i class=\"imsc ico_search\"></i></span>@txt@</span>\\n</a>\\n<span class=\"etc\">\\n<a href=\"#\" role=\"button\" class=\"bt_item _add\" aria-pressed=\"false\"><i class=\"imsc ico_insert\">추가</i></a>\\n</span>\\n</li>\\n<!-- [AU] 최근검색어 템플릿 -->\\n<!-- [AU] _item 클래스를 추가해주세요. -->\\n<!-- [AU] data-rank=\"@rank@\" data-template-type=\"history\" data-keyword=\"@in_txt@\" attribute를 추가해주세요. -->\\n<li class=\"item has_correct _item\" data-rank=\"@rank@\" data-template-type=\"history\" data-keyword=\"@in_txt@\">\\n<a href=\"#\" class=\"kwd\">\\n<span class=\"fix\"><span class=\"common_ico_kwd\"><i class=\"imsc ico_search\"></i></span>@txt@</span>\\n</a>\\n<span class=\"etc\">\\n<!-- 최근검색어 있으면 날짜 표시 -->\\n<em class=\"date\">@date@.</em>\\n<a href=\"#\" role=\"button\" class=\"bt_item _add\" aria-pressed=\"false\"><i class=\"imsc ico_insert\">추가</i></a>\\n</span>\\n</li>\\n</ul>\\n<!-- [AU] 문맥검색 템플릿 -->\\n<!-- [AU] _item 클래스를 추가해주세요. -->\\n<!-- [AU] data-rank=\"@rank@\" data-template-type=\"intend\" data-keyword=\"@transQuery@\" attribute를 추가해주세요. -->\\n<li class=\"item has_correct _item\" data-rank=\"@rank@\" data-intend-rank=\"@intendRank@\" data-template-type=\"intend\" data-keyword=\"@transQuery@\">\\n<a href=\"#\" class=\"kwd\">\\n<span class=\"fix\"><span class=\"common_ico_kwd\"><i class=\"imsc ico_search\"></i></span>@query@ <span class=\"context\">@intend@</span></span>\\n</a>\\n<span class=\"etc\">\\n<a href=\"#\" role=\"button\" class=\"bt_item _add\" aria-pressed=\"false\"><i class=\"imsc ico_insert\">추가</i></a>\\n</span>\\n</li>\\n<!-- [D] 선거안내문구 -->\\n<!-- [AU] _alert 클래스를 추가해주세요. -->\\n<div class=\"atcmp_alert _alert\">\\n<div class=\"dsc_election\">\\n<p class=\"dsc\">\\n<i class=\"imsc ico_election\"></i><span class=\"_alert_passage\"></span>\\n</p>\\n<span class=\"dsc_inner\">\\n<!-- [AU] _alert_passage2 클래스를 추가해주세요. -->\\n<span class=\"_alert_passage2\"></span>\\n<!-- [AU] _alert_link 클래스를 추가해주세요. -->\\n<a href=\"#\" class=\"link _alert_link\" target=\"_blank\">자세히보기</a>\\n</span>\\n</div>\\n</div>\\n<!-- [AU] _plus 클래스를 추가해주세요. -->\\n<div class=\"atcmp_plus _plus\">\\n<div class=\"dsc_plus\">\\n<a href=\"https://help.naver.com/support/alias/search/word/word_16.naver\" class=\"link_dsc\" data-clk=\"sug.cxhelp\" target=\"_blank\">관심사를 반영한 컨텍스트 자동완성<i class=\"imsc ico_help\">도움말</i></a>\\n</div>\\n<div class=\"switch\">\\n<!-- [D] 선택시 aria-pressed=\"ture/false\" -->\\n<!-- [AU] _plus_btn 클래스를 추가해주세요. -->\\n<a role=\"button\" href=\"#\" class=\"bt_switch active _plus_btn\" aria-pressed=\"false\"><i class=\"imsc ico_option\">컨텍스트 자동완성</i></a>\\n</div>\\n<!-- [AU] _plus_layer 클래스를 추가해주세요. -->\\n<div class=\"layer_plus _plus_layer\">\\n<strong class=\"tit\">컨텍스트 자동완성</strong>\\n<!-- [AU] _plus_layer_isloggedin 클래스를 추가해주세요. -->\\n<!-- [AU] style=\"display:none\" 추가해주세요. -->\\n<div class=\"_plus_layer_isloggedin\" style=\"display:none\">\\n<p class=\"dsc\">ON/OFF 설정은<br>해당기기(브라우저)에 저장됩니다.</p>\\n<div class=\"btn_area\">\\n<a href=\"https://help.naver.com/support/alias/search/word/word_16.naver\" class=\"btn btn_view\" data-clk=\"sug.cxlink\" target=\"_blank\">자세히</a>\\n</div>\\n</div>\\n<!-- [AU] _plus_layer_isnotloggedin 클래스를 추가해주세요. -->\\n<!-- [AU] style=\"display:none\" 추가해주세요. -->\\n<div class=\"_plus_layer_isnotloggedin\" style=\"display:none\">\\n<p class=\"dsc\"><em class=\"txt\">동일한 시간대/연령/남녀별</em> 사용자 그룹의<br>관심사에 맞춰 자동완성을 제공합니다.</p>\\n<div class=\"btn_area\">\\n<a href=\"https://nid.naver.com/nidlogin.login\" class=\"btn btn_login\" data-clk=\"sug.cxlogin\">로그인</a>\\n<a href=\"https://help.naver.com/support/alias/search/word/word_16.naver\" class=\"btn btn_view\" data-clk=\"sug.cxlink\" target=\"_blank\">자세히</a>\\n</div>\\n</div>\\n<!-- [AU] _plus_layer_close 클래스를 추가해주세요. -->\\n<a href=\"#\" role=\"button\" class=\"btn_close _plus_layer_close\"><i class=\"imsc ico_close\">컨텍스트 자동완성 레이어 닫기</i></a>\\n</div>\\n</div>\\n</div>\\n<div class=\"atcmp_footer\">\\n<span class=\"side_opt_area\">\\n<span class=\"opt_item\"><a href=\"https://help.naver.com/alias/search/word/word_17.naver\" data-clk=\"sug.help\" target=\"_blank\">도움말</a></span>\\n<span class=\"opt_item\"><a href=\"https://help.naver.com/support/contents/contents.help?serviceNo=605&categoryNo=18215\" class=\"report\" data-clk=\"sug.report\" target=\"_blank\">신고</a></span>\\n</span>\\n<span class=\"rside_opt_area\">\\n<span class=\"opt_item\">\\n<!-- [AU] _suggestOnOff 클래스를 추가해주세요. -->\\n<a href=\"#\" class=\"close _suggestOnOff\">자동완성 끄기</a>\\n</span>\\n</span>\\n</div>\\n</div>\\n</div>\\n</div>\\n</div>\\n</div>\\n\\n</div>\\n</div>\\n\\n<!--EMPTY-->\\n<div id=\"gnb\" role=\"navigation\">\\n<div id=\"NM_FAVORITE\" class=\"gnb_inner\">\\n<div class=\"group_nav\">\\n<ul class=\"list_nav type_fix\">\\n<li class=\"nav_item\">\\n<a href=\"https://mail.naver.com/\" class=\"nav\" data-clk=\"svc.mail\"><i class=\"ico_mail\"></i>메일</a>\\n</li>\\n<li class=\"nav_item\"><a href=\"https://section.cafe.naver.com/\" class=\"nav\" data-clk=\"svc.cafe\">카페</a></li>\\n<li class=\"nav_item\"><a href=\"https://section.blog.naver.com/\" class=\"nav\" data-clk=\"svc.blog\">블로그</a></li>\\n<li class=\"nav_item\"><a href=\"https://kin.naver.com/\" class=\"nav\" data-clk=\"svc.kin\">지식iN</a></li>\\n<li class=\"nav_item\"><a href=\"https://shopping.naver.com/\" class=\"nav shop\" data-clk=\"svc.shopping\"><span class=\"blind\">쇼핑</span></a></li>\\n<li class=\"nav_item\"><a href=\"https://shoppinglive.naver.com/home\" class=\"nav shoplive\"\\ndata-clk=\"svc.shoppinglive\"><span class=\"blind\">쇼핑LIVE</span></a></li>\\n<li class=\"nav_item\"><a href=\"https://order.pay.naver.com/home\" class=\"nav\" data-clk=\"svc.pay\">Pay</a></li>\\n<li class=\"nav_item\">\\n<a href=\"https://tv.naver.com/\" class=\"nav\" data-clk=\"svc.tvcast\"><i class=\"ico_tv\"></i>TV</a>\\n</li>\\n</ul>\\n<ul\\nclass=\"list_nav NM_FAVORITE_LIST\"\\n>\\n<li class=\"nav_item\"><a href=\"https://dict.naver.com/\" class=\"nav\" data-clk=\"svc.dic\">사전</a></li>\\n<li class=\"nav_item\"><a href=\"https://news.naver.com/\" class=\"nav\" data-clk=\"svc.news\">뉴스</a></li>\\n<li class=\"nav_item\"><a href=\"https://finance.naver.com/\" class=\"nav\" data-clk=\"svc.stock\">증권</a></li>\\n<li class=\"nav_item\"><a href=\"https://land.naver.com/\" class=\"nav\" data-clk=\"svc.land\">부동산</a></li>\\n<li class=\"nav_item\"><a href=\"https://map.naver.com/\" class=\"nav\" data-clk=\"svc.map\">지도</a></li>\\n<li class=\"nav_item\"><a href=\"https://vibe.naver.com/?from&#x3D;naver_main&amp;utm_source&#x3D;naver_main&amp;utm_medium&#x3D;naver_main_pcweb&amp;utm_campaign&#x3D;naver_main_redirect\" class=\"nav\" data-clk=\"svc.vibe\">VIBE</a></li>\\n<li class=\"nav_item\"><a href=\"https://search.shopping.naver.com/book/home\" class=\"nav\" data-clk=\"svc.book\">도서</a></li>\\n<li class=\"nav_item\"><a href=\"https://comic.naver.com/\" class=\"nav\" data-clk=\"svc.webtoon\">웹툰</a></li>\\n\\n</ul>\\n<ul class=\"list_nav type_empty\" style=\"display: none;\"></ul>\\n<a href=\"#\" role=\"button\" class=\"btn_more\" data-clk=\"svc.more\">더보기</a>\\n<div class=\"ly_btn_area\">\\n<a href=\"more.html\" class=\"btn NM_FAVORITE_ALL\" data-clk=\"map.svcmore\">서비스 전체보기</a>\\n<a href=\"#\" role=\"button\" class=\"btn btn_set\" data-clk=\"map.edit\">메뉴설정</a>\\n<a href=\"#\" role=\"button\" class=\"btn btn_reset\" data-clk=\"edt.reset\">초기화</a>\\n<a href=\"#\" role=\"button\" class=\"btn btn_save\" data-clk=\"edt.save\">저장</a>\\n</div>\\n</div>\\n<div id=\"NM_WEATHER\" class=\"group_weather\">\\n<div>\\n<a data-clk=\"squ.weat\" href=\"https://weather.naver.com/today/09560104?cpName=KMA\" class=\"weather_area ico_w07\">\\n<div class=\"current_box\">\\n<strong class=\"current\" aria-label=\"현재기온\">13.4°</strong><strong class=\"state\">흐림</strong>\\n</div>\\n<div class=\"degree_box\">\\n<span class=\"min\" aria-label=\"최저기온\">10.0°</span><span class=\"max\" aria-label=\"최고기온\">14.0°</span>\\n</div>\\n<span class=\"location\">영등포동3가</span>\\n</a>\\n</div>\\n<div>\\n<a data-clk=\"squ.dust\" href=\"https://weather.naver.com/today/09560104?cpName=KMA\" class=\"air_area\">\\n<ul class=\"list_air\">\\n<li class=\"air_item\">미세<strong class=\"state state_normal\">보통</strong></li>\\n<li class=\"air_item\">초미세<strong class=\"state state_good\">좋음</strong></li>\\n</ul>\\n<span class=\"location\">영등포동3가</span>\\n</a>\\n</div>\\n\\n</div>\\n</div>\\n<div class=\"ly_service\">\\n<div class=\"group_service NM_FAVORITE_ALL_LY\"></div>\\n<div class=\"group_service NM_FAVORITE_EDIT_LY\" style=\"display: none;\"></div>\\n</div>\\n</div>\\n</div>\\n <div id=\"container\" role=\"main\"> <div style=\"position:relative;width:1130px;margin:0 auto;z-index:11\"> <div id=\"da_top\"></div> <div id=\"da_expwide\"></div> </div> <div id=\"NM_INT_LEFT\" class=\"column_left\"> <div id=\"veta_top\"> <div id=\"veta_top_inner\" style=\"height:135px\"> </div> <span class=\"veta_bd_t\"></span> <span class=\"veta_bd_b\"></span> <span class=\"veta_bd_l\"></span> <span class=\"veta_bd_r\"></span> </div> <div id=\"newsstand\" class=\"sc_newscast\"> <h2 class=\"blind\">뉴스스탠드</h2> <div id=\"NM_NEWSSTAND_HEADER\" class=\"group_issue\" data-clk-prefix=\"ncy\"> <div class=\"issue_area\"> <a class=\"link_media\" href=\"https://news.naver.com/main/list.naver?mode=LPOD&mid=sec&sid1=001&sid2=140&oid=001&isYeonhapFlash=Y\" data-clk=\"newsflash\">연합뉴스</a> <div id=\"NM_ONELINE_ROLLING\" class=\"list_issue\" data-nm-ui=\"rolling\"> <div><a href=\"https://news.naver.com/main/list.naver?mode=LPOD&mid=sec&sid1=001&sid2=140&oid=001&isYeonhapFlash=Y&aid=0013900277\" class=\"issue\" data-clk=\"quickarticle\">尹대통령, 워싱턴 도착…태극기-성조기 든 美의장대 공항 도열</a></div>\\n<div><a href=\"https://news.naver.com/main/list.naver?mode=LPOD&mid=sec&sid1=001&sid2=140&oid=001&isYeonhapFlash=Y&aid=0013900421\" class=\"issue\" data-clk=\"quickarticle\">[尹국빈방미] 대통령실 \"한일관계 개선 통한 안보협력 안되면 국익에 피해\"</a></div>\\n<div><a href=\"https://news.naver.com/main/list.naver?mode=LPOD&mid=sec&sid1=001&sid2=140&oid=001&isYeonhapFlash=Y&aid=0013900236\" class=\"issue\" data-clk=\"quickarticle\">수단 철수 교민들, 사우디 제다공항 도착…아랍매체 생중계</a></div>\\n<div><a href=\"https://news.naver.com/main/list.naver?mode=LPOD&mid=sec&sid1=001&sid2=140&oid=001&isYeonhapFlash=Y&aid=0013900448\" class=\"issue\" data-clk=\"quickarticle\">전국에 비…늦은 오후 서쪽부터 그치기 시작, 밤에 멎어</a></div>\\n<div><a href=\"https://news.naver.com/main/list.naver?mode=LPOD&mid=sec&sid1=001&sid2=140&oid=001&isYeonhapFlash=Y&aid=0013900426\" class=\"issue\" data-clk=\"quickarticle\">강원 동해시 북동쪽 바다서 지진 이어져…현재까지 15차례</a></div>\\n<div><a href=\"https://news.naver.com/main/list.naver?mode=LPOD&mid=sec&sid1=001&sid2=140&oid=001&isYeonhapFlash=Y&aid=0013900378\" class=\"issue\" data-clk=\"quickarticle\">전세사기 \\'건축왕\\' 범죄단체 인정돼도 최대 \\'징역 15년\\'</a></div>\\n<div><a href=\"https://news.naver.com/main/list.naver?mode=LPOD&mid=sec&sid1=001&sid2=140&oid=001&isYeonhapFlash=Y&aid=0013900311\" class=\"issue\" data-clk=\"quickarticle\">스탠다드차타드 \"비트코인, 내년 말 10만 달러 간다\"</a></div>\\n<div><a href=\"https://news.naver.com/main/list.naver?mode=LPOD&mid=sec&sid1=001&sid2=140&oid=001&isYeonhapFlash=Y&aid=0013900478\" class=\"issue\" data-clk=\"quickarticle\">역전세난에 올해 1분기 전월세 갱신 4건 중 1건 감액계약</a></div>\\n<div><a href=\"https://news.naver.com/main/list.naver?mode=LPOD&mid=sec&sid1=001&sid2=140&oid=001&isYeonhapFlash=Y&aid=0013900397\" class=\"issue\" data-clk=\"quickarticle\">1분기 경제성장률 0.3%…민간소비 덕에 역성장 탈출</a></div>\\n<div><a href=\"https://news.naver.com/main/list.naver?mode=LPOD&mid=sec&sid1=001&sid2=140&oid=001&isYeonhapFlash=Y&aid=0013900424\" class=\"issue\" data-clk=\"quickarticle\">與 \"전기·가스요금 인상 불가피 이견 없지만 자구노력 먼저\"</a></div> </div> </div> <div class=\"direct_area\"> <a href=\"http://news.naver.com/\" class=\"link_news\" data-clk=\"newshome\">뉴스홈</a>\\n<a href=\"http://entertain.naver.com/home\" class=\"link_direct\" data-clk=\"entertainment\">연예</a>\\n<a href=\"http://sports.news.naver.com/\" class=\"link_direct\" data-clk=\"sports\">스포츠</a>\\n<a href=\"http://news.naver.com/main/main.naver?mode=LSD&mid=shm&sid1=101\" class=\"link_direct\" data-clk=\"economy\">경제</a> </div> </div>        <div id=\"NM_NEWSSTAND_TITLE\" class=\"group_title\" data-clk-prefix=\"nsd\"> <a href=\"http://newsstand.naver.com/\" class=\"link_newsstand\" data-clk=\"title\" target=\"_blank\">뉴스스탠드</a> <div id=\"NM_NEWSSTAND_data_buttons\" class=\"sort_area\" role=\"tablist\">  <a href=\"#\" role=\"tab\" data-type=\"my\" data-clk=\"my\" class=\"btn_sort\" aria-controls=\"NM_NEWSSTAND_MY_LIST\" aria-selected=\"false\">구독한 언론사</a> <a href=\"#\" role=\"tab\" data-type=\"all\" data-clk=\"all\" class=\"btn_sort\" aria-controls=\"NM_NEWSSTAND_DEFAULT_THUMB\" aria-selected=\"true\">전체언론사</a>  </div> <div id=\"NM_NEWSSTAND_view_buttons\" class=\"set_area\" role=\"tablist\">  <a href=\"#\" role=\"tab\" data-type=\"list\" data-clk=\"articleview\" class=\"btn_set\" aria-controls=\"NM_NEWSSTAND_DEFAULT_LIST\" aria-selected=\"false\"> <i class=\"ico_list\"><span class=\"blind\">리스트형</span></i></a> <a href=\"#\" role=\"tab\" data-type=\"thumb\" data-clk=\"pressview\" class=\"btn_set\" aria-controls=\"NM_NEWSSTAND_DEFAULT_THUMB\" aria-selected=\"true\"> <i class=\"ico_tile\"><span class=\"blind\">썸네일형</span></i></a>  <a href=\"http://newsstand.naver.com/config.html\" class=\"btn_set\" data-clk=\"set\" target=\"_blank\"> <i class=\"ico_set\"><span class=\"blind\">설정</span></i></a> </div> </div> <div id=\"NM_NEWSSTAND_VIEW_CONTAINER\" style=\"position:relative\"> <div id=\"NM_NEWSSTAND_DEFAULT_LIST\" class=\"group_news\" role=\"tabpanel\" style=\"display:none\" data-clk-prefix=\"nsd_all\"> <a href=\"#\" role=\"button\" class=\"pm_btn_prev_l _NM_NEWSSTAND_LIST_prev_btn\" data-clk-custom=\"prev\"><i class=\"ico_btn\"><span class=\"blind\">이전</span></i></a> <a href=\"#\" role=\"button\" class=\"pm_btn_next_l _NM_NEWSSTAND_LIST_next_btn\" data-clk-custom=\"next\"><i class=\"ico_btn\"><span class=\"blind\">다음</span></i></a> <div class=\"list_view\"> <div class=\"option_area\"> <div class=\"list_option_wrap\"> <ul class=\"list_option\"> <li class=\"option_item\" data-cateid=\"ct2\"><a href=\"#\" class=\"option\" data-clk=\"daei\">종합/경제</a></li> <li class=\"option_item\" data-cateid=\"ct3\"><a href=\"#\" class=\"option\" data-clk=\"dtvcom\">방송/통신</a></li> <li class=\"option_item\" data-cateid=\"ct4\"><a href=\"#\" class=\"option\" data-clk=\"dit\">IT</a></li> <li class=\"option_item\" data-cateid=\"ct5\"><a href=\"#\" class=\"option\" data-clk=\"deng\">영자지</a></li> <li class=\"option_item\" data-cateid=\"ct6\"><a href=\"#\" class=\"option\" data-clk=\"dsporent\">스포츠/연예</a></li> <li class=\"option_item\" data-cateid=\"ct7\"><a href=\"#\" class=\"option\" data-clk=\"dmagtec\">매거진/전문지</a></li> <li class=\"option_item\" data-cateid=\"ct8\"><a href=\"#\" class=\"option\" data-clk=\"dloc\">지역</a></li> </ul> </div> </div> <div class=\"_NM_NEWSSTAND_ARTICLE_CONTAINER\" data-clk-sub=\"*a\"></div> </div> <div class=\"ly_popup NM_NEWSSTAND_POPUP NM_NEWSSTAND_invalid\" style=\"display:none\" data-clk-sub=\"*a\"> <a href=\"#\" role=\"button\" class=\"btn_close NM_NEWSSTAND_POPUP_CLOSE\"><i class=\"ico_close\"></i><span class=\"blind\">닫기</span></a> <p class=\"popup_msg\">해당 언론사 사정으로 접근이 제한됩니다.</p> <div class=\"popup_btn\"> <a href=\"#\" role=\"button\" class=\"btn_confirm NM_NEWSSTAND_POPUP_CLOSE\">확인</a> </div> </div> <div class=\"ly_popup NM_NEWSSTAND_POPUP NM_NEWSSTAND_undescribe_confirm\" style=\"display:none\" data-clk-sub=\"*a\"> <a href=\"#\" role=\"button\" class=\"btn_close NM_NEWSSTAND_POPUP_CLOSE\" data-clk=\"usclose\"><i class=\"ico_close\"></i><span class=\"blind\">닫기</span></a> <p class=\"popup_msg\"><strong class=\"NM_NEWSSTAND_POPUP_PNAME\"></strong>을(를)<br>구독해지 하시겠습니까?</p> <div class=\"popup_btn\"> <a href=\"#\" role=\"button\" class=\"btn_confirm NM_NEWSSTAND_POPUP_CONFIRM\" data-clk=\"usdone\">확인</a> <a href=\"#\" role=\"button\" class=\"btn_confirm NM_NEWSSTAND_POPUP_CLOSE\" data-clk=\"uscancel\">취소</a> </div> </div> <div class=\"ly_toast NM_NEWSSTAND_TOAST\" style=\"display:none\"> <p class=\"toast_msg\">구독한 언론사에 추가되었습니다.</p> </div> </div>   <div id=\"NM_NEWSSTAND_DEFAULT_THUMB\" class=\"group_news\" role=\"tabpanel\" style=\"display:block\" data-clk-prefix=\"nsd_all\"> <a href=\"#\" role=\"button\" class=\"pm_btn_prev_l _NM_UI_PAGE_PREV\" data-clk-custom=\"prev\"><i class=\"ico_btn\"><span class=\"blind\">이전</span></i></a> <a href=\"#\" role=\"button\" class=\"pm_btn_next_l _NM_UI_PAGE_NEXT\" data-clk-custom=\"next\"><i class=\"ico_btn\"><span class=\"blind\">다음</span></i></a> <div class=\"_NM_UI_PAGE_CONTAINER\" style=\"height:100%;overflow:hidden\" data-clk-sub=\"*p\">   <div style=\"width: 750px; float: left;\">\\n<div class=\"tile_view\">\\n<div class=\"frame_area\">\\n<i class=\"line to_right1\"></i>\\n<i class=\"line to_right2\"></i>\\n<i class=\"line to_right3\"></i>\\n<i class=\"line to_bottom1\"></i>\\n<i class=\"line to_bottom2\"></i>\\n<i class=\"line to_bottom3\"></i>\\n<i class=\"line to_bottom4\"></i>\\n<i class=\"line to_bottom5\"></i>\\n</div>\\n<div class=\"thumb_area\">\\n<div\\nclass=\"thumb_box _NM_NEWSSTAND_THUMB _NM_NEWSSTAND_THUMB_press_valid\"\\ndata-pid=\"215\"\\n>\\n<a href=\"#\" class=\"thumb\">\\n<img\\nsrc=\"https://s.pstatic.net/static/newsstand/2020/logo/light/0604/215.png\"\\nheight=\"20\"\\nalt=\"한국경제TV\"\\nclass=\"news_logo\"\\n/>\\n<span class=\"thumb_dim\"></span\\n></a>\\n<div class=\"popup_wrap\">\\n<a\\nhref=\"#\"\\nrole=\"button\"\\nclass=\"btn_popup _NM_NEWSSTAND_THUMB_subscribe_press\"\\ndata-pid=\"215\"\\ndata-clk=\"sub\"\\n>구독</a\\n>\\n<a\\nhref=\"#\"\\nrole=\"button\"\\nclass=\"btn_popup _NM_NEWSSTAND_THUMB_unsubscribe_press\"\\ndata-pid=\"215\"\\ndata-clk=\"unsub\"\\n>해지</a\\n>\\n<a\\nhref=\"http://newsstand.naver.com/?list=&pcode=215\"\\ntarget=\"_blank\"\\nclass=\"btn_popup\"\\ndata-clk=\"logo\"\\ndata-pid=\"215\"\\n>기사보기</a\\n>\\n</div>\\n</div>\\n<div\\nclass=\"thumb_box _NM_NEWSSTAND_THUMB _NM_NEWSSTAND_THUMB_press_valid\"\\ndata-pid=\"326\"\\n>\\n<a href=\"#\" class=\"thumb\">\\n<img\\nsrc=\"https://s.pstatic.net/static/newsstand/2020/logo/light/0604/326.png\"\\nheight=\"20\"\\nalt=\"KBS World\"\\nclass=\"news_logo\"\\n/>\\n<span class=\"thumb_dim\"></span\\n></a>\\n<div class=\"popup_wrap\">\\n<a\\nhref=\"#\"\\nrole=\"button\"\\nclass=\"btn_popup _NM_NEWSSTAND_THUMB_subscribe_press\"\\ndata-pid=\"326\"\\ndata-clk=\"sub\"\\n>구독</a\\n>\\n<a\\nhref=\"#\"\\nrole=\"button\"\\nclass=\"btn_popup _NM_NEWSSTAND_THUMB_unsubscribe_press\"\\ndata-pid=\"326\"\\ndata-clk=\"unsub\"\\n>해지</a\\n>\\n<a\\nhref=\"http://newsstand.naver.com/?list=&pcode=326\"\\ntarget=\"_blank\"\\nclass=\"btn_popup\"\\ndata-clk=\"logo\"\\ndata-pid=\"326\"\\n>기사보기</a\\n>\\n</div>\\n</div>\\n<div\\nclass=\"thumb_box _NM_NEWSSTAND_THUMB _NM_NEWSSTAND_THUMB_press_valid\"\\ndata-pid=\"021\"\\n>\\n<a href=\"#\" class=\"thumb\">\\n<img\\nsrc=\"https://s.pstatic.net/static/newsstand/2020/logo/light/0604/021.png\"\\nheight=\"20\"\\nalt=\"문화일보\"\\nclass=\"news_logo\"\\n/>\\n<span class=\"thumb_dim\"></span\\n></a>\\n<div class=\"popup_wrap\">\\n<a\\nhref=\"#\"\\nrole=\"button\"\\nclass=\"btn_popup _NM_NEWSSTAND_THUMB_subscribe_press\"\\ndata-pid=\"021\"\\ndata-clk=\"sub\"\\n>구독</a\\n>\\n<a\\nhref=\"#\"\\nrole=\"button\"\\nclass=\"btn_popup _NM_NEWSSTAND_THUMB_unsubscribe_press\"\\ndata-pid=\"021\"\\ndata-clk=\"unsub\"\\n>해지</a\\n>\\n<a\\nhref=\"http://newsstand.naver.com/?list=&pcode=021\"\\ntarget=\"_blank\"\\nclass=\"btn_popup\"\\ndata-clk=\"logo\"\\ndata-pid=\"021\"\\n>기사보기</a\\n>\\n</div>\\n</div>\\n<div\\nclass=\"thumb_box _NM_NEWSSTAND_THUMB _NM_NEWSSTAND_THUMB_press_valid\"\\ndata-pid=\"052\"\\n>\\n<a href=\"#\" class=\"thumb\">\\n<img\\nsrc=\"https://s.pstatic.net/static/newsstand/2020/logo/light/0604/052.png\"\\nheight=\"20\"\\nalt=\"YTN\"\\nclass=\"news_logo\"\\n/>\\n<span class=\"thumb_dim\"></span\\n></a>\\n<div class=\"popup_wrap\">\\n<a\\nhref=\"#\"\\nrole=\"button\"\\nclass=\"btn_popup _NM_NEWSSTAND_THUMB_subscribe_press\"\\ndata-pid=\"052\"\\ndata-clk=\"sub\"\\n>구독</a\\n>\\n<a\\nhref=\"#\"\\nrole=\"button\"\\nclass=\"btn_popup _NM_NEWSSTAND_THUMB_unsubscribe_press\"\\ndata-pid=\"052\"\\ndata-clk=\"unsub\"\\n>해지</a\\n>\\n<a\\nhref=\"http://newsstand.naver.com/?list=&pcode=052\"\\ntarget=\"_blank\"\\nclass=\"btn_popup\"\\ndata-clk=\"logo\"\\ndata-pid=\"052\"\\n>기사보기</a\\n>\\n</div>\\n</div>\\n<div\\nclass=\"thumb_box _NM_NEWSSTAND_THUMB _NM_NEWSSTAND_THUMB_press_valid\"\\ndata-pid=\"015\"\\n>\\n<a href=\"#\" class=\"thumb\">\\n<img\\nsrc=\"https://s.pstatic.net/static/newsstand/2020/logo/light/0604/015.png\"\\nheight=\"20\"\\nalt=\"한국경제\"\\nclass=\"news_logo\"\\n/>\\n<span class=\"thumb_dim\"></span\\n></a>\\n<div class=\"popup_wrap\">\\n<a\\nhref=\"#\"\\nrole=\"button\"\\nclass=\"btn_popup _NM_NEWSSTAND_THUMB_subscribe_press\"\\ndata-pid=\"015\"\\ndata-clk=\"sub\"\\n>구독</a\\n>\\n<a\\nhref=\"#\"\\nrole=\"button\"\\nclass=\"btn_popup _NM_NEWSSTAND_THUMB_unsubscribe_press\"\\ndata-pid=\"015\"\\ndata-clk=\"unsub\"\\n>해지</a\\n>\\n<a\\nhref=\"http://newsstand.naver.com/?list=&pcode=015\"\\ntarget=\"_blank\"\\nclass=\"btn_popup\"\\ndata-clk=\"logo\"\\ndata-pid=\"015\"\\n>기사보기</a\\n>\\n</div>\\n</div>\\n<div\\nclass=\"thumb_box _NM_NEWSSTAND_THUMB _NM_NEWSSTAND_THUMB_press_valid\"\\ndata-pid=\"030\"\\n>\\n<a href=\"#\" class=\"thumb\">\\n<img\\nsrc=\"https://s.pstatic.net/static/newsstand/2020/logo/light/0604/030.png\"\\nheight=\"20\"\\nalt=\"전자신문\"\\nclass=\"news_logo\"\\n/>\\n<span class=\"thumb_dim\"></span\\n></a>\\n<div class=\"popup_wrap\">\\n<a\\nhref=\"#\"\\nrole=\"button\"\\nclass=\"btn_popup _NM_NEWSSTAND_THUMB_subscribe_press\"\\ndata-pid=\"030\"\\ndata-clk=\"sub\"\\n>구독</a\\n>\\n<a\\nhref=\"#\"\\nrole=\"button\"\\nclass=\"btn_popup _NM_NEWSSTAND_THUMB_unsubscribe_press\"\\ndata-pid=\"030\"\\ndata-clk=\"unsub\"\\n>해지</a\\n>\\n<a\\nhref=\"http://newsstand.naver.com/?list=&pcode=030\"\\ntarget=\"_blank\"\\nclass=\"btn_popup\"\\ndata-clk=\"logo\"\\ndata-pid=\"030\"\\n>기사보기</a\\n>\\n</div>\\n</div>\\n<div\\nclass=\"thumb_box _NM_NEWSSTAND_THUMB _NM_NEWSSTAND_THUMB_press_valid\"\\ndata-pid=\"308\"\\n>\\n<a href=\"#\" class=\"thumb\">\\n<img\\nsrc=\"https://s.pstatic.net/static/newsstand/2020/logo/light/0604/308.png\"\\nheight=\"20\"\\nalt=\"시사인\"\\nclass=\"news_logo\"\\n/>\\n<span class=\"thumb_dim\"></span\\n></a>\\n<div class=\"popup_wrap\">\\n<a\\nhref=\"#\"\\nrole=\"button\"\\nclass=\"btn_popup _NM_NEWSSTAND_THUMB_subscribe_press\"\\ndata-pid=\"308\"\\ndata-clk=\"sub\"\\n>구독</a\\n>\\n<a\\nhref=\"#\"\\nrole=\"button\"\\nclass=\"btn_popup _NM_NEWSSTAND_THUMB_unsubscribe_press\"\\ndata-pid=\"308\"\\ndata-clk=\"unsub\"\\n>해지</a\\n>\\n<a\\nhref=\"http://newsstand.naver.com/?list=&pcode=308\"\\ntarget=\"_blank\"\\nclass=\"btn_popup\"\\ndata-clk=\"logo\"\\ndata-pid=\"308\"\\n>기사보기</a\\n>\\n</div>\\n</div>\\n<div\\nclass=\"thumb_box _NM_NEWSSTAND_THUMB _NM_NEWSSTAND_THUMB_press_valid\"\\ndata-pid=\"022\"\\n>\\n<a href=\"#\" class=\"thumb\">\\n<img\\nsrc=\"https://s.pstatic.net/static/newsstand/2020/logo/light/0604/022.png\"\\nheight=\"20\"\\nalt=\"세계일보\"\\nclass=\"news_logo\"\\n/>\\n<span class=\"thumb_dim\"></span\\n></a>\\n<div class=\"popup_wrap\">\\n<a\\nhref=\"#\"\\nrole=\"button\"\\nclass=\"btn_popup _NM_NEWSSTAND_THUMB_subscribe_press\"\\ndata-pid=\"022\"\\ndata-clk=\"sub\"\\n>구독</a\\n>\\n<a\\nhref=\"#\"\\nrole=\"button\"\\nclass=\"btn_popup _NM_NEWSSTAND_THUMB_unsubscribe_press\"\\ndata-pid=\"022\"\\ndata-clk=\"unsub\"\\n>해지</a\\n>\\n<a\\nhref=\"http://newsstand.naver.com/?list=&pcode=022\"\\ntarget=\"_blank\"\\nclass=\"btn_popup\"\\ndata-clk=\"logo\"\\ndata-pid=\"022\"\\n>기사보기</a\\n>\\n</div>\\n</div>\\n<div\\nclass=\"thumb_box _NM_NEWSSTAND_THUMB _NM_NEWSSTAND_THUMB_press_valid\"\\ndata-pid=\"139\"\\n>\\n<a href=\"#\" class=\"thumb\">\\n<img\\nsrc=\"https://s.pstatic.net/static/newsstand/2020/logo/light/0604/139.png\"\\nheight=\"20\"\\nalt=\"스포탈코리아\"\\nclass=\"news_logo\"\\n/>\\n<span class=\"thumb_dim\"></span\\n></a>\\n<div class=\"popup_wrap\">\\n<a\\nhref=\"#\"\\nrole=\"button\"\\nclass=\"btn_popup _NM_NEWSSTAND_THUMB_subscribe_press\"\\ndata-pid=\"139\"\\ndata-clk=\"sub\"\\n>구독</a\\n>\\n<a\\nhref=\"#\"\\nrole=\"button\"\\nclass=\"btn_popup _NM_NEWSSTAND_THUMB_unsubscribe_press\"\\ndata-pid=\"139\"\\ndata-clk=\"unsub\"\\n>해지</a\\n>\\n<a\\nhref=\"http://newsstand.naver.com/?list=&pcode=139\"\\ntarget=\"_blank\"\\nclass=\"btn_popup\"\\ndata-clk=\"logo\"\\ndata-pid=\"139\"\\n>기사보기</a\\n>\\n</div>\\n</div>\\n<div\\nclass=\"thumb_box _NM_NEWSSTAND_THUMB _NM_NEWSSTAND_THUMB_press_valid\"\\ndata-pid=\"029\"\\n>\\n<a href=\"#\" class=\"thumb\">\\n<img\\nsrc=\"https://s.pstatic.net/static/newsstand/2020/logo/light/0604/029.png\"\\nheight=\"20\"\\nalt=\"디지털타임스\"\\nclass=\"news_logo\"\\n/>\\n<span class=\"thumb_dim\"></span\\n></a>\\n<div class=\"popup_wrap\">\\n<a\\nhref=\"#\"\\nrole=\"button\"\\nclass=\"btn_popup _NM_NEWSSTAND_THUMB_subscribe_press\"\\ndata-pid=\"029\"\\ndata-clk=\"sub\"\\n>구독</a\\n>\\n<a\\nhref=\"#\"\\nrole=\"button\"\\nclass=\"btn_popup _NM_NEWSSTAND_THUMB_unsubscribe_press\"\\ndata-pid=\"029\"\\ndata-clk=\"unsub\"\\n>해지</a\\n>\\n<a\\nhref=\"http://newsstand.naver.com/?list=&pcode=029\"\\ntarget=\"_blank\"\\nclass=\"btn_popup\"\\ndata-clk=\"logo\"\\ndata-pid=\"029\"\\n>기사보기</a\\n>\\n</div>\\n</div>\\n<div\\nclass=\"thumb_box _NM_NEWSSTAND_THUMB _NM_NEWSSTAND_THUMB_press_valid\"\\ndata-pid=\"081\"\\n>\\n<a href=\"#\" class=\"thumb\">\\n<img\\nsrc=\"https://s.pstatic.net/static/newsstand/up/2022/0208/nsd16121208.png\"\\nheight=\"20\"\\nalt=\"서울신문\"\\nclass=\"news_logo\"\\n/>\\n<span class=\"thumb_dim\"></span\\n></a>\\n<div class=\"popup_wrap\">\\n<a\\nhref=\"#\"\\nrole=\"button\"\\nclass=\"btn_popup _NM_NEWSSTAND_THUMB_subscribe_press\"\\ndata-pid=\"081\"\\ndata-clk=\"sub\"\\n>구독</a\\n>\\n<a\\nhref=\"#\"\\nrole=\"button\"\\nclass=\"btn_popup _NM_NEWSSTAND_THUMB_unsubscribe_press\"\\ndata-pid=\"081\"\\ndata-clk=\"unsub\"\\n>해지</a\\n>\\n<a\\nhref=\"http://newsstand.naver.com/?list=&pcode=081\"\\ntarget=\"_blank\"\\nclass=\"btn_popup\"\\ndata-clk=\"logo\"\\ndata-pid=\"081\"\\n>기사보기</a\\n>\\n</div>\\n</div>\\n<div\\nclass=\"thumb_box _NM_NEWSSTAND_THUMB _NM_NEWSSTAND_THUMB_press_valid\"\\ndata-pid=\"241\"\\n>\\n<a href=\"#\" class=\"thumb\">\\n<img\\nsrc=\"https://s.pstatic.net/static/newsstand/up/2023/0112/nsd92558162.png\"\\nheight=\"20\"\\nalt=\"일간스포츠\"\\nclass=\"news_logo\"\\n/>\\n<span class=\"thumb_dim\"></span\\n></a>\\n<div class=\"popup_wrap\">\\n<a\\nhref=\"#\"\\nrole=\"button\"\\nclass=\"btn_popup _NM_NEWSSTAND_THUMB_subscribe_press\"\\ndata-pid=\"241\"\\ndata-clk=\"sub\"\\n>구독</a\\n>\\n<a\\nhref=\"#\"\\nrole=\"button\"\\nclass=\"btn_popup _NM_NEWSSTAND_THUMB_unsubscribe_press\"\\ndata-pid=\"241\"\\ndata-clk=\"unsub\"\\n>해지</a\\n>\\n<a\\nhref=\"http://newsstand.naver.com/?list=&pcode=241\"\\ntarget=\"_blank\"\\nclass=\"btn_popup\"\\ndata-clk=\"logo\"\\ndata-pid=\"241\"\\n>기사보기</a\\n>\\n</div>\\n</div>\\n<div\\nclass=\"thumb_box _NM_NEWSSTAND_THUMB _NM_NEWSSTAND_THUMB_press_valid\"\\ndata-pid=\"277\"\\n>\\n<a href=\"#\" class=\"thumb\">\\n<img\\nsrc=\"https://s.pstatic.net/static/newsstand/2020/logo/light/0604/277.png\"\\nheight=\"20\"\\nalt=\"아시아경제\"\\nclass=\"news_logo\"\\n/>\\n<span class=\"thumb_dim\"></span\\n></a>\\n<div class=\"popup_wrap\">\\n<a\\nhref=\"#\"\\nrole=\"button\"\\nclass=\"btn_popup _NM_NEWSSTAND_THUMB_subscribe_press\"\\ndata-pid=\"277\"\\ndata-clk=\"sub\"\\n>구독</a\\n>\\n<a\\nhref=\"#\"\\nrole=\"button\"\\nclass=\"btn_popup _NM_NEWSSTAND_THUMB_unsubscribe_press\"\\ndata-pid=\"277\"\\ndata-clk=\"unsub\"\\n>해지</a\\n>\\n<a\\nhref=\"http://newsstand.naver.com/?list=&pcode=277\"\\ntarget=\"_blank\"\\nclass=\"btn_popup\"\\ndata-clk=\"logo\"\\ndata-pid=\"277\"\\n>기사보기</a\\n>\\n</div>\\n</div>\\n<div\\nclass=\"thumb_box _NM_NEWSSTAND_THUMB _NM_NEWSSTAND_THUMB_press_valid\"\\ndata-pid=\"038\"\\n>\\n<a href=\"#\" class=\"thumb\">\\n<img\\nsrc=\"https://s.pstatic.net/static/newsstand/2020/logo/light/0604/038.png\"\\nheight=\"20\"\\nalt=\"한국일보\"\\nclass=\"news_logo\"\\n/>\\n<span class=\"thumb_dim\"></span\\n></a>\\n<div class=\"popup_wrap\">\\n<a\\nhref=\"#\"\\nrole=\"button\"\\nclass=\"btn_popup _NM_NEWSSTAND_THUMB_subscribe_press\"\\ndata-pid=\"038\"\\ndata-clk=\"sub\"\\n>구독</a\\n>\\n<a\\nhref=\"#\"\\nrole=\"button\"\\nclass=\"btn_popup _NM_NEWSSTAND_THUMB_unsubscribe_press\"\\ndata-pid=\"038\"\\ndata-clk=\"unsub\"\\n>해지</a\\n>\\n<a\\nhref=\"http://newsstand.naver.com/?list=&pcode=038\"\\ntarget=\"_blank\"\\nclass=\"btn_popup\"\\ndata-clk=\"logo\"\\ndata-pid=\"038\"\\n>기사보기</a\\n>\\n</div>\\n</div>\\n<div\\nclass=\"thumb_box _NM_NEWSSTAND_THUMB _NM_NEWSSTAND_THUMB_press_valid\"\\ndata-pid=\"904\"\\n>\\n<a href=\"#\" class=\"thumb\">\\n<img\\nsrc=\"https://s.pstatic.net/static/newsstand/2020/logo/light/0604/904.png\"\\nheight=\"20\"\\nalt=\"JTBC\"\\nclass=\"news_logo\"\\n/>\\n<span class=\"thumb_dim\"></span\\n></a>\\n<div class=\"popup_wrap\">\\n<a\\nhref=\"#\"\\nrole=\"button\"\\nclass=\"btn_popup _NM_NEWSSTAND_THUMB_subscribe_press\"\\ndata-pid=\"904\"\\ndata-clk=\"sub\"\\n>구독</a\\n>\\n<a\\nhref=\"#\"\\nrole=\"button\"\\nclass=\"btn_popup _NM_NEWSSTAND_THUMB_unsubscribe_press\"\\ndata-pid=\"904\"\\ndata-clk=\"unsub\"\\n>해지</a\\n>\\n<a\\nhref=\"http://newsstand.naver.com/?list=&pcode=904\"\\ntarget=\"_blank\"\\nclass=\"btn_popup\"\\ndata-clk=\"logo\"\\ndata-pid=\"904\"\\n>기사보기</a\\n>\\n</div>\\n</div>\\n<div\\nclass=\"thumb_box _NM_NEWSSTAND_THUMB _NM_NEWSSTAND_THUMB_press_valid\"\\ndata-pid=\"950\"\\n>\\n<a href=\"#\" class=\"thumb\">\\n<img\\nsrc=\"https://s.pstatic.net/static/newsstand/2020/logo/light/0604/950.png\"\\nheight=\"20\"\\nalt=\"월간중앙\"\\nclass=\"news_logo\"\\n/>\\n<span class=\"thumb_dim\"></span\\n></a>\\n<div class=\"popup_wrap\">\\n<a\\nhref=\"#\"\\nrole=\"button\"\\nclass=\"btn_popup _NM_NEWSSTAND_THUMB_subscribe_press\"\\ndata-pid=\"950\"\\ndata-clk=\"sub\"\\n>구독</a\\n>\\n<a\\nhref=\"#\"\\nrole=\"button\"\\nclass=\"btn_popup _NM_NEWSSTAND_THUMB_unsubscribe_press\"\\ndata-pid=\"950\"\\ndata-clk=\"unsub\"\\n>해지</a\\n>\\n<a\\nhref=\"http://newsstand.naver.com/?list=&pcode=950\"\\ntarget=\"_blank\"\\nclass=\"btn_popup\"\\ndata-clk=\"logo\"\\ndata-pid=\"950\"\\n>기사보기</a\\n>\\n</div>\\n</div>\\n<div\\nclass=\"thumb_box _NM_NEWSSTAND_THUMB _NM_NEWSSTAND_THUMB_press_valid\"\\ndata-pid=\"906\"\\n>\\n<a href=\"#\" class=\"thumb\">\\n<img\\nsrc=\"https://s.pstatic.net/static/newsstand/2020/logo/light/0604/906.png\"\\nheight=\"20\"\\nalt=\"KNN\"\\nclass=\"news_logo\"\\n/>\\n<span class=\"thumb_dim\"></span\\n></a>\\n<div class=\"popup_wrap\">\\n<a\\nhref=\"#\"\\nrole=\"button\"\\nclass=\"btn_popup _NM_NEWSSTAND_THUMB_subscribe_press\"\\ndata-pid=\"906\"\\ndata-clk=\"sub\"\\n>구독</a\\n>\\n<a\\nhref=\"#\"\\nrole=\"button\"\\nclass=\"btn_popup _NM_NEWSSTAND_THUMB_unsubscribe_press\"\\ndata-pid=\"906\"\\ndata-clk=\"unsub\"\\n>해지</a\\n>\\n<a\\nhref=\"http://newsstand.naver.com/?list=&pcode=906\"\\ntarget=\"_blank\"\\nclass=\"btn_popup\"\\ndata-clk=\"logo\"\\ndata-pid=\"906\"\\n>기사보기</a\\n>\\n</div>\\n</div>\\n<div\\nclass=\"thumb_box _NM_NEWSSTAND_THUMB _NM_NEWSSTAND_THUMB_press_valid\"\\ndata-pid=\"356\"\\n>\\n<a href=\"#\" class=\"thumb\">\\n<img\\nsrc=\"https://s.pstatic.net/static/newsstand/2020/logo/light/0604/356.png\"\\nheight=\"20\"\\nalt=\"게임메카\"\\nclass=\"news_logo\"\\n/>\\n<span class=\"thumb_dim\"></span\\n></a>\\n<div class=\"popup_wrap\">\\n<a\\nhref=\"#\"\\nrole=\"button\"\\nclass=\"btn_popup _NM_NEWSSTAND_THUMB_subscribe_press\"\\ndata-pid=\"356\"\\ndata-clk=\"sub\"\\n>구독</a\\n>\\n<a\\nhref=\"#\"\\nrole=\"button\"\\nclass=\"btn_popup _NM_NEWSSTAND_THUMB_unsubscribe_press\"\\ndata-pid=\"356\"\\ndata-clk=\"unsub\"\\n>해지</a\\n>\\n<a\\nhref=\"http://newsstand.naver.com/?list=&pcode=356\"\\ntarget=\"_blank\"\\nclass=\"btn_popup\"\\ndata-clk=\"logo\"\\ndata-pid=\"356\"\\n>기사보기</a\\n>\\n</div>\\n</div>\\n<div\\nclass=\"thumb_box _NM_NEWSSTAND_THUMB _NM_NEWSSTAND_THUMB_press_valid\"\\ndata-pid=\"447\"\\n>\\n<a href=\"#\" class=\"thumb\">\\n<img\\nsrc=\"https://s.pstatic.net/static/newsstand/2020/logo/light/0604/447.png\"\\nheight=\"20\"\\nalt=\"뉴스엔\"\\nclass=\"news_logo\"\\n/>\\n<span class=\"thumb_dim\"></span\\n></a>\\n<div class=\"popup_wrap\">\\n<a\\nhref=\"#\"\\nrole=\"button\"\\nclass=\"btn_popup _NM_NEWSSTAND_THUMB_subscribe_press\"\\ndata-pid=\"447\"\\ndata-clk=\"sub\"\\n>구독</a\\n>\\n<a\\nhref=\"#\"\\nrole=\"button\"\\nclass=\"btn_popup _NM_NEWSSTAND_THUMB_unsubscribe_press\"\\ndata-pid=\"447\"\\ndata-clk=\"unsub\"\\n>해지</a\\n>\\n<a\\nhref=\"http://newsstand.naver.com/?list=&pcode=447\"\\ntarget=\"_blank\"\\nclass=\"btn_popup\"\\ndata-clk=\"logo\"\\ndata-pid=\"447\"\\n>기사보기</a\\n>\\n</div>\\n</div>\\n<div\\nclass=\"thumb_box _NM_NEWSSTAND_THUMB _NM_NEWSSTAND_THUMB_press_valid\"\\ndata-pid=\"477\"\\n>\\n<a href=\"#\" class=\"thumb\">\\n<img\\nsrc=\"https://s.pstatic.net/static/newsstand/up/2021/1130/nsd10159718.png\"\\nheight=\"20\"\\nalt=\"스포티비뉴스\"\\nclass=\"news_logo\"\\n/>\\n<span class=\"thumb_dim\"></span\\n></a>\\n<div class=\"popup_wrap\">\\n<a\\nhref=\"#\"\\nrole=\"button\"\\nclass=\"btn_popup _NM_NEWSSTAND_THUMB_subscribe_press\"\\ndata-pid=\"477\"\\ndata-clk=\"sub\"\\n>구독</a\\n>\\n<a\\nhref=\"#\"\\nrole=\"button\"\\nclass=\"btn_popup _NM_NEWSSTAND_THUMB_unsubscribe_press\"\\ndata-pid=\"477\"\\ndata-clk=\"unsub\"\\n>해지</a\\n>\\n<a\\nhref=\"http://newsstand.naver.com/?list=&pcode=477\"\\ntarget=\"_blank\"\\nclass=\"btn_popup\"\\ndata-clk=\"logo\"\\ndata-pid=\"477\"\\n>기사보기</a\\n>\\n</div>\\n</div>\\n<div\\nclass=\"thumb_box _NM_NEWSSTAND_THUMB _NM_NEWSSTAND_THUMB_press_valid\"\\ndata-pid=\"042\"\\n>\\n<a href=\"#\" class=\"thumb\">\\n<img\\nsrc=\"https://s.pstatic.net/static/newsstand/2020/logo/light/0604/042.png\"\\nheight=\"20\"\\nalt=\"데일리한국\"\\nclass=\"news_logo\"\\n/>\\n<span class=\"thumb_dim\"></span\\n></a>\\n<div class=\"popup_wrap\">\\n<a\\nhref=\"#\"\\nrole=\"button\"\\nclass=\"btn_popup _NM_NEWSSTAND_THUMB_subscribe_press\"\\ndata-pid=\"042\"\\ndata-clk=\"sub\"\\n>구독</a\\n>\\n<a\\nhref=\"#\"\\nrole=\"button\"\\nclass=\"btn_popup _NM_NEWSSTAND_THUMB_unsubscribe_press\"\\ndata-pid=\"042\"\\ndata-clk=\"unsub\"\\n>해지</a\\n>\\n<a\\nhref=\"http://newsstand.naver.com/?list=&pcode=042\"\\ntarget=\"_blank\"\\nclass=\"btn_popup\"\\ndata-clk=\"logo\"\\ndata-pid=\"042\"\\n>기사보기</a\\n>\\n</div>\\n</div>\\n<div\\nclass=\"thumb_box _NM_NEWSSTAND_THUMB _NM_NEWSSTAND_THUMB_press_valid\"\\ndata-pid=\"296\"\\n>\\n<a href=\"#\" class=\"thumb\">\\n<img\\nsrc=\"https://s.pstatic.net/static/newsstand/2020/logo/light/0604/296.png\"\\nheight=\"20\"\\nalt=\"코메디닷컴\"\\nclass=\"news_logo\"\\n/>\\n<span class=\"thumb_dim\"></span\\n></a>\\n<div class=\"popup_wrap\">\\n<a\\nhref=\"#\"\\nrole=\"button\"\\nclass=\"btn_popup _NM_NEWSSTAND_THUMB_subscribe_press\"\\ndata-pid=\"296\"\\ndata-clk=\"sub\"\\n>구독</a\\n>\\n<a\\nhref=\"#\"\\nrole=\"button\"\\nclass=\"btn_popup _NM_NEWSSTAND_THUMB_unsubscribe_press\"\\ndata-pid=\"296\"\\ndata-clk=\"unsub\"\\n>해지</a\\n>\\n<a\\nhref=\"http://newsstand.naver.com/?list=&pcode=296\"\\ntarget=\"_blank\"\\nclass=\"btn_popup\"\\ndata-clk=\"logo\"\\ndata-pid=\"296\"\\n>기사보기</a\\n>\\n</div>\\n</div>\\n<div\\nclass=\"thumb_box _NM_NEWSSTAND_THUMB _NM_NEWSSTAND_THUMB_press_valid\"\\ndata-pid=\"345\"\\n>\\n<a href=\"#\" class=\"thumb\">\\n<img\\nsrc=\"https://s.pstatic.net/static/newsstand/2020/logo/light/0604/345.png\"\\nheight=\"20\"\\nalt=\"디자인정글\"\\nclass=\"news_logo\"\\n/>\\n<span class=\"thumb_dim\"></span\\n></a>\\n<div class=\"popup_wrap\">\\n<a\\nhref=\"#\"\\nrole=\"button\"\\nclass=\"btn_popup _NM_NEWSSTAND_THUMB_subscribe_press\"\\ndata-pid=\"345\"\\ndata-clk=\"sub\"\\n>구독</a\\n>\\n<a\\nhref=\"#\"\\nrole=\"button\"\\nclass=\"btn_popup _NM_NEWSSTAND_THUMB_unsubscribe_press\"\\ndata-pid=\"345\"\\ndata-clk=\"unsub\"\\n>해지</a\\n>\\n<a\\nhref=\"http://newsstand.naver.com/?list=&pcode=345\"\\ntarget=\"_blank\"\\nclass=\"btn_popup\"\\ndata-clk=\"logo\"\\ndata-pid=\"345\"\\n>기사보기</a\\n>\\n</div>\\n</div>\\n<div\\nclass=\"thumb_box _NM_NEWSSTAND_THUMB _NM_NEWSSTAND_THUMB_press_valid\"\\ndata-pid=\"923\"\\n>\\n<a href=\"#\" class=\"thumb\">\\n<img\\nsrc=\"https://s.pstatic.net/static/newsstand/2020/logo/light/0604/923.png\"\\nheight=\"20\"\\nalt=\"인민망\"\\nclass=\"news_logo\"\\n/>\\n<span class=\"thumb_dim\"></span\\n></a>\\n<div class=\"popup_wrap\">\\n<a\\nhref=\"#\"\\nrole=\"button\"\\nclass=\"btn_popup _NM_NEWSSTAND_THUMB_subscribe_press\"\\ndata-pid=\"923\"\\ndata-clk=\"sub\"\\n>구독</a\\n>\\n<a\\nhref=\"#\"\\nrole=\"button\"\\nclass=\"btn_popup _NM_NEWSSTAND_THUMB_unsubscribe_press\"\\ndata-pid=\"923\"\\ndata-clk=\"unsub\"\\n>해지</a\\n>\\n<a\\nhref=\"http://newsstand.naver.com/?list=&pcode=923\"\\ntarget=\"_blank\"\\nclass=\"btn_popup\"\\ndata-clk=\"logo\"\\ndata-pid=\"923\"\\n>기사보기</a\\n>\\n</div>\\n</div>\\n</div>\\n</div>\\n</div>  </div> <div class=\"ly_popup NM_NEWSSTAND_POPUP NM_NEWSSTAND_invalid\" style=\"display:none\"> <a href=\"#\" role=\"button\" class=\"btn_close NM_NEWSSTAND_POPUP_CLOSE\"><i class=\"ico_close\"></i><span class=\"blind\">닫기</span></a> <p class=\"popup_msg\">해당 언론사 사정으로 접근이 제한됩니다.</p> <div class=\"popup_btn\"> <a href=\"#\" role=\"button\" class=\"btn_confirm NM_NEWSSTAND_POPUP_CLOSE\">확인</a> </div> </div> <div class=\"ly_popup NM_NEWSSTAND_POPUP NM_NEWSSTAND_undescribe_confirm\" style=\"display:none\" data-clk-sub=\"*a\"> <a href=\"#\" role=\"button\" class=\"btn_close NM_NEWSSTAND_POPUP_CLOSE\" data-clk=\"usclose\"><i class=\"ico_close\"></i><span class=\"blind\">닫기</span></a> <p class=\"popup_msg\"><strong class=\"NM_NEWSSTAND_POPUP_PNAME\"></strong>을(를)<br/>구독해지 하시겠습니까?</p> <div class=\"popup_btn\"> <a href=\"#\" role=\"button\" class=\"btn_confirm NM_NEWSSTAND_POPUP_CONFIRM\" data-clk=\"usdone\">확인</a> <a href=\"#\" role=\"button\" class=\"btn_confirm NM_NEWSSTAND_POPUP_CLOSE\" data-clk=\"uscancel\">취소</a> </div> </div> <div class=\"ly_toast NM_NEWSSTAND_TOAST\" style=\"display:none\"> <p class=\"toast_msg\">구독한 언론사에 추가되었습니다.</p> </div> </div> <div id=\"NM_NEWSSTAND_MY_LIST\" class=\"group_news\" role=\"tabpanel\" style=\"display:none\" data-clk-prefix=\"nsd_myn\"> <a href=\"#\" role=\"button\" class=\"pm_btn_prev_l _NM_NEWSSTAND_LIST_prev_btn\" data-clk-custom=\"prev\"><i class=\"ico_btn\"></i><span class=\"blind\">이전</span></a> <a href=\"#\" role=\"button\" class=\"pm_btn_next_l _NM_NEWSSTAND_LIST_next_btn\" data-clk-custom=\"next\"><i class=\"ico_btn\"></i><span class=\"blind\">다음</span><span class=\"blind\">다음</span></a> <div class=\"list_view\"> <div class=\"option_area\"> <div class=\"list_option_wrap\"> <ul class=\"list_option _NM_NEWSSTAND_MY_presslist\"> <!-- nvpaperlist:empty --> </ul> </div> </div> <div class=\"_NM_NEWSSTAND_ARTICLE_CONTAINER\" data-clk-sub=\"*a\">  </div> </div> <div class=\"ly_popup NM_NEWSSTAND_POPUP NM_NEWSSTAND_invalid\" style=\"display:none\"> <a href=\"#\" role=\"button\" class=\"btn_close NM_NEWSSTAND_POPUP_CLOSE\"><i class=\"ico_close\"></i><span class=\"blind\">닫기</span></a> <p class=\"popup_msg\">해당 언론사 사정으로 접근이 일시 제한됩니다.</p> <div class=\"popup_btn\"> <a href=\"#\" role=\"button\" class=\"btn_confirm NM_NEWSSTAND_POPUP_CLOSE\">확인</a> </div> </div> <div class=\"ly_popup NM_NEWSSTAND_POPUP NM_NEWSSTAND_undescribe_confirm\" style=\"display:none\" data-clk-sub=\"*a\"> <a href=\"#\" role=\"button\" class=\"btn_close NM_NEWSSTAND_POPUP_CLOSE\" data-clk=\"usclose\"><i class=\"ico_close\"></i><span class=\"blind\">닫기</span></a> <p class=\"popup_msg\"><strong class=\"NM_NEWSSTAND_POPUP_PNAME\"></strong>을(를)<br>구독해지 하시겠습니까?</p> <div class=\"popup_btn\"> <a href=\"#\" role=\"button\" class=\"btn_confirm NM_NEWSSTAND_POPUP_CONFIRM\" data-clk=\"usdone\">확인</a> <a href=\"#\" role=\"button\" class=\"btn_confirm NM_NEWSSTAND_POPUP_CLOSE\" data-clk=\"uscancel\">취소</a> </div> </div> </div> <div id=\"NM_NEWSSTAND_MY_THUMB\" class=\"group_news\" role=\"tabpanel\" style=\"display:none\" data-clk-prefix=\"nsd_myn\"> <a href=\"#\" role=\"button\" class=\"pm_btn_prev_l _NM_UI_PAGE_PREV\" data-clk-custom=\"prev\"><i class=\"ico_btn\"><span class=\"blind\">이전</span></i></a> <a href=\"#\" role=\"button\" class=\"pm_btn_next_l _NM_UI_PAGE_NEXT\" data-clk-custom=\"next\"><i class=\"ico_btn\"><span class=\"blind\">다음</span></i></a> <div class=\"_NM_UI_PAGE_CONTAINER\" data-clk-sub=\"*p\"></div> <div class=\"ly_popup NM_NEWSSTAND_POPUP NM_NEWSSTAND_invalid\" style=\"display:none\"> <a href=\"#\" role=\"button\" class=\"btn_close NM_NEWSSTAND_POPUP_CLOSE\"><i class=\"ico_close\"></i><span class=\"blind\">닫기</span></a> <p class=\"popup_msg\">해당 언론사 사정으로 접근이 제한됩니다.</p> <div class=\"popup_btn\"> <a href=\"#\" role=\"button\" class=\"btn_confirm NM_NEWSSTAND_POPUP_CLOSE\">확인</a> </div> </div> <div class=\"ly_popup NM_NEWSSTAND_POPUP NM_NEWSSTAND_undescribe_confirm\" style=\"display:none\" data-clk-sub=\"*a\"> <a href=\"#\" role=\"button\" class=\"btn_close NM_NEWSSTAND_POPUP_CLOSE\" data-clk=\"usclose\"><i class=\"ico_close\"></i><span class=\"blind\">닫기</span></a> <p class=\"popup_msg\"><strong class=\"NM_NEWSSTAND_POPUP_PNAME\"></strong>을(를)<br>구독해지 하시겠습니까?</p> <div class=\"popup_btn\"> <a href=\"#\" role=\"button\" class=\"btn_confirm NM_NEWSSTAND_POPUP_CONFIRM\" data-clk=\"usdone\">확인</a> <a href=\"#\" role=\"button\" class=\"btn_confirm NM_NEWSSTAND_POPUP_CLOSE\" data-clk=\"uscancel\">취소</a> </div> </div> </div> <div id=\"NM_NEWSSTAND_MY_EMPTY\" class=\"group_news\" role=\"tabpanel\" style=\"display:none\"> <div class=\"error_view\"> <div class=\"error_area\"> <strong class=\"error_msg\">구독한 언론사가 없습니다.</strong> <p class=\"dsc_msg\">언론사 구독 설정에서 관심있는 언론사를 구독하시면<br>언론사가 직접 편집한 뉴스들을 네이버 홈에서 바로 보실 수 있습니다.</p> <a href=\"http://newsstand.naver.com/config.html\" class=\"link_redirect\" target=\"_blank\">언론사 구독 설정하기</a> </div> </div> </div> </div> </div> <!-- EMPTY -->  <div id=\"NM_THEMECAST_CONTENTS_CONTAINER\"> <div id=\"themecast\" class=\"sc_themecast id_livinghome\" >\\n\\t<h2 class=\"blind\">주제별 캐스트</h2>\\n\\t<div class=\"theme_head\">\\n\\t\\t<div class=\"group_title\">\\n\\t<div class=\"title_area\">\\n\\t\\t<strong class=\"title\">오늘 읽을만한 글</strong><span class=\"dsc\">주제별로 분류된 다양한 글 모음</span>\\n\\t</div>\\n\\t<div class=\"info_area\">\\n\\t\\t\\n\\t\\t\\t<span class=\"info\"><strong class=\"new\">649</strong> 개의 글</span>\\n\\t\\t\\n\\t\\t<a id=\"NM_THEME_EDIT_SET\" href=\"#\" role=\"button\" class=\"btn_set\" data-clk=\"tca.like\">관심주제 설정</a>\\n\\t</div>\\n</div>\\n<div id=\"NM_THEME_CATE_GROUPS\" class=\"group_category\" data-demo-key=\"default\">\\n\\t<div class=\"main_category\">\\n\\t\\t<a href=\"#\" role=\"button\" class=\"pm_btn_prev NM_THEME_PREV\" data-clk=\"tct.prev\" style=\"display: none;\">\\n\\t\\t\\t<i class=\"ico_btn\"><span class=\"blind\">이전</span></i>\\n\\t\\t</a>\\n\\t\\t<a href=\"#\" role=\"button\" class=\"pm_btn_next NM_THEME_NEXT\" data-clk=\"tct.next\" style=\"display: none;\">\\n\\t\\t\\t<i class=\"ico_btn\"><span class=\"blind\">다음</span></i>\\n\\t\\t</a>\\n\\t\\t<div class=\"list_category_wrap\">\\n\\t\\t\\t<ul id=\"NM_THEME_CATE_LIST\" class=\"list_category\" role=\"tablist\" data-index=\"0\">\\n\\t\\t\\t\\t\\n\\t\\t\\t\\t\\t<li class=\"category_item\" role=\"presentation\">\\n\\t\\t\\t\\t\\t\\t\\n\\t\\t\\t\\t\\t\\t\\n\\t\\t\\t\\t\\t\\t<a href=\"#\" role=\"tab\" class=\"_NM_THEME_CATE tab id_enter\"\\n\\t\\t\\t\\t\\t\\t   aria-selected=\"false\"\\n\\t\\t\\t\\t\\t\\t   aria-controls=\"NM_THEME_CONTAINER\"\\n\\t\\t\\t\\t\\t\\t   data-clk=\"tct.tvc\" data-panel-code=\"ENTER\">엔터</a>\\n\\t\\t\\t\\t\\t</li>\\n\\t\\t\\t\\t\\n\\t\\t\\t\\t\\t<li class=\"category_item\" role=\"presentation\">\\n\\t\\t\\t\\t\\t\\t\\n\\t\\t\\t\\t\\t\\t\\n\\t\\t\\t\\t\\t\\t<a href=\"#\" role=\"tab\" class=\"_NM_THEME_CATE tab id_sports\"\\n\\t\\t\\t\\t\\t\\t   aria-selected=\"false\"\\n\\t\\t\\t\\t\\t\\t   aria-controls=\"NM_THEME_CONTAINER\"\\n\\t\\t\\t\\t\\t\\t   data-clk=\"tct.spo\" data-panel-code=\"SPORTS\">스포츠</a>\\n\\t\\t\\t\\t\\t</li>\\n\\t\\t\\t\\t\\n\\t\\t\\t\\t\\t<li class=\"category_item\" role=\"presentation\">\\n\\t\\t\\t\\t\\t\\t\\n\\t\\t\\t\\t\\t\\t\\n\\t\\t\\t\\t\\t\\t<a href=\"#\" role=\"tab\" class=\"_NM_THEME_CATE tab id_cargame\"\\n\\t\\t\\t\\t\\t\\t   aria-selected=\"false\"\\n\\t\\t\\t\\t\\t\\t   aria-controls=\"NM_THEME_CONTAINER\"\\n\\t\\t\\t\\t\\t\\t   data-clk=\"tct.aut\" data-panel-code=\"CARGAME\">자동차</a>\\n\\t\\t\\t\\t\\t</li>\\n\\t\\t\\t\\t\\n\\t\\t\\t\\t\\t<li class=\"category_item\" role=\"presentation\">\\n\\t\\t\\t\\t\\t\\t\\n\\t\\t\\t\\t\\t\\t\\n\\t\\t\\t\\t\\t\\t<a href=\"#\" role=\"tab\" class=\"_NM_THEME_CATE tab id_bboom\"\\n\\t\\t\\t\\t\\t\\t   aria-selected=\"false\"\\n\\t\\t\\t\\t\\t\\t   aria-controls=\"NM_THEME_CONTAINER\"\\n\\t\\t\\t\\t\\t\\t   data-clk=\"tct.web\" data-panel-code=\"BBOOM\">웹툰</a>\\n\\t\\t\\t\\t\\t</li>\\n\\t\\t\\t\\t\\n\\t\\t\\t\\t\\t<li class=\"category_item\" role=\"presentation\">\\n\\t\\t\\t\\t\\t\\t\\n\\t\\t\\t\\t\\t\\t\\n\\t\\t\\t\\t\\t\\t<a href=\"#\" role=\"tab\" class=\"_NM_THEME_CATE tab id_finance\"\\n\\t\\t\\t\\t\\t\\t   aria-selected=\"false\"\\n\\t\\t\\t\\t\\t\\t   aria-controls=\"NM_THEME_CONTAINER\"\\n\\t\\t\\t\\t\\t\\t   data-clk=\"tct.fin\" data-panel-code=\"FINANCE\">경제</a>\\n\\t\\t\\t\\t\\t</li>\\n\\t\\t\\t\\t\\n\\t\\t\\t\\t\\t<li class=\"category_item\" role=\"presentation\">\\n\\t\\t\\t\\t\\t\\t\\n\\t\\t\\t\\t\\t\\t\\n\\t\\t\\t\\t\\t\\t<a href=\"#\" role=\"tab\" class=\"_NM_THEME_CATE tab id_myfeed\"\\n\\t\\t\\t\\t\\t\\t   aria-selected=\"false\"\\n\\t\\t\\t\\t\\t\\t   aria-controls=\"NM_THEME_CONTAINER\"\\n\\t\\t\\t\\t\\t\\t   data-clk=\"tct.sub\" data-panel-code=\"MYFEED\">추천<span class=\\'ico_middot\\'></span>구독</a>\\n\\t\\t\\t\\t\\t</li>\\n\\t\\t\\t\\t\\n\\t\\t\\t\\t\\t<li class=\"category_item\" role=\"presentation\">\\n\\t\\t\\t\\t\\t\\t\\n\\t\\t\\t\\t\\t\\t\\n\\t\\t\\t\\t\\t\\t<a href=\"#\" role=\"tab\" class=\"_NM_THEME_CATE tab id_living\"\\n\\t\\t\\t\\t\\t\\t   aria-selected=\"false\"\\n\\t\\t\\t\\t\\t\\t   aria-controls=\"NM_THEME_CONTAINER\"\\n\\t\\t\\t\\t\\t\\t   data-clk=\"tct.fod\" data-panel-code=\"LIVING\">레시피</a>\\n\\t\\t\\t\\t\\t</li>\\n\\t\\t\\t\\t\\n\\t\\t\\t\\t\\t<li class=\"category_item\" role=\"presentation\">\\n\\t\\t\\t\\t\\t\\t\\n\\t\\t\\t\\t\\t\\t\\n\\t\\t\\t\\t\\t\\t<a href=\"#\" role=\"tab\" class=\"_NM_THEME_CATE tab id_livinghome\"\\n\\t\\t\\t\\t\\t\\t   aria-selected=\"true\"\\n\\t\\t\\t\\t\\t\\t   aria-controls=\"NM_THEME_CONTAINER\"\\n\\t\\t\\t\\t\\t\\t   data-clk=\"tct.lif\" data-panel-code=\"LIVINGHOME\">리빙</a>\\n\\t\\t\\t\\t\\t</li>\\n\\t\\t\\t\\t\\n\\t\\t\\t\\t\\t<li class=\"category_item\" role=\"presentation\">\\n\\t\\t\\t\\t\\t\\t\\n\\t\\t\\t\\t\\t\\t\\n\\t\\t\\t\\t\\t\\t<a href=\"#\" role=\"tab\" class=\"_NM_THEME_CATE tab id_culture\"\\n\\t\\t\\t\\t\\t\\t   aria-selected=\"false\"\\n\\t\\t\\t\\t\\t\\t   aria-controls=\"NM_THEME_CONTAINER\"\\n\\t\\t\\t\\t\\t\\t   data-clk=\"tct.bok\" data-panel-code=\"CULTURE\">책방</a>\\n\\t\\t\\t\\t\\t</li>\\n\\t\\t\\t\\t\\n\\t\\t\\t\\t\\t<li class=\"category_item\" role=\"presentation\">\\n\\t\\t\\t\\t\\t\\t\\n\\t\\t\\t\\t\\t\\t\\n\\t\\t\\t\\t\\t\\t<a href=\"#\" role=\"tab\" class=\"_NM_THEME_CATE tab id_beauty\"\\n\\t\\t\\t\\t\\t\\t   aria-selected=\"false\"\\n\\t\\t\\t\\t\\t\\t   aria-controls=\"NM_THEME_CONTAINER\"\\n\\t\\t\\t\\t\\t\\t   data-clk=\"tct.bty\" data-panel-code=\"BEAUTY\">패션뷰티</a>\\n\\t\\t\\t\\t\\t</li>\\n\\t\\t\\t\\t\\n\\t\\t\\t</ul>\\n\\t\\t</div>\\n\\t</div>\\n</div>\\n\\n\\t</div>\\n\\t<div id=\"NM_THEME_CONTAINER\" class=\"theme_cont\" role=\"tabpanel\" data-panel-code=\"LIVINGHOME\" data-parent-code=\"\">\\n\\t\\t\\n<div class=\"group_theme\" data-block-id=\"\" data-block-code=\"PC-THEME-LIVINGHOME-MOBILE-RANKING-DEFAULT-0\" data-block-type=\"MATERIALS\" data-template-code=\"MOBILE-RANKING-LIST\"\\n\\n\\t data-da=\"container\"\\n\\t data-index=\"\"\\n     data-page=\"1\"\\n\\t >\\n\\n\\t<div class=\"list_theme_wrap\">\\n\\t\\t<ul class=\"list_theme\">\\n\\t\\t\\t\\n\\t\\t\\t\\t<li class=\"theme_item\" data-gdid=\"643fba5a370708006d6f93dc\" data-da-position=\"true\">\\n\\t\\t\\t\\t\\t<a href=\"https://blog.naver.com/jhjhsong00/223077520706\" class=\"theme_thumb\" data-clk=\"tcc_lif.list1cont1\" target=\"_blank\">\\n\\t\\t\\t\\t\\t\\t<img src=\"https://s.pstatic.net/dthumb.phinf/?src&#x3D;%22https%3A%2F%2Fs.pstatic.net%2Fshop.phinf%2F20230419_192%2F1681898438379L0us7_PNG%2Fwer.PNG%22&amp;type&#x3D;nf340_228\" data-src=\"https://s.pstatic.net/dthumb.phinf/?src&#x3D;%22https%3A%2F%2Fs.pstatic.net%2Fshop.phinf%2F20230419_192%2F1681898438379L0us7_PNG%2Fwer.PNG%22&amp;type&#x3D;nf340_228\" alt=\"빈티지하게 꾸민 거실\" width=\"170\" height=\"114\" onerror=\"this.outerHTML=\\'<span class=\\\\\\'pm_noimg\\\\\\'><span class=\\\\\\'noimg_text\\\\\\'>이미지 준비중</span></span>\\'\">\\n\\t\\t\\t\\t\\t\\t<span class=\"thumb_bd\"></span>\\n                        \\n\\t\\t\\t\\t\\t</a>\\n\\t\\t\\t\\t\\t<a href=\"https://blog.naver.com/jhjhsong00/223077520706\" class=\"theme_info\" data-clk=\"tcc_lif.list1cont1\" target=\"_blank\">\\n\\t\\t\\t\\t\\t\\t<em class=\"theme_category\"> 리빙</em>\\n\\t\\t\\t\\t\\t\\t<strong class=\"title elss\">빈티지하게 꾸민 거실</strong>\\n                        <p class=\"desc\">이사한 지 2주가 지났어요. 어느 정도 정리를 했고 마음의 여유도 생겨서 온라인 집들이를 해볼게요. 거실만 우선 소개합니다. 새로 이사 온 집은 거실의 양면이 큰 창문이 있어서 한쪽 창은 산뷰랍니다. 연둣빛으로 물든 산이 눈부십니다. 이 집에 이사 온 후 창밖에 나무들을 자꾸 보게 됩니다. 러브쏭은 사실 산으로 둘러싸여 있는 곳에서 살고 싶을 정도로 산을 </p>\\n\\t\\t\\t\\t\\t\\t<div class=\"source_box\">\\n\\t\\t\\t\\t\\t\\t\\t<span class=\"date\">1주일 전</span>\\n\\t\\t\\t\\t\\t\\t\\t<span class=\"source\">\\n                                \\n                                <span class=\"source_inner\">러브쏭</span>\\n                            </span>\\n\\t\\t\\t\\t\\t\\t</div>\\n\\t\\t\\t\\t\\t</a>\\n\\t\\t\\t\\t</li>\\n\\t\\t\\t\\n\\t\\t\\t\\t<li class=\"theme_item\" data-gdid=\"643fba5a370708006d6f93dd-1b3ab739-b7dc-41b8-b8e7-2d324c87253b\" data-da-position=\"true\">\\n\\t\\t\\t\\t\\t<a href=\"https://blog.naver.com/0206hj/223075818998\" class=\"theme_thumb\" data-clk=\"tcc_lif.list1cont2\" target=\"_blank\">\\n\\t\\t\\t\\t\\t\\t<img src=\"https://s.pstatic.net/dthumb.phinf/?src&#x3D;%22https%3A%2F%2Fs.pstatic.net%2Fshop.phinf%2F20230419_146%2F1681898430747wGGFi_PNG%2Frht.PNG%22&amp;type&#x3D;nf340_228\" data-src=\"https://s.pstatic.net/dthumb.phinf/?src&#x3D;%22https%3A%2F%2Fs.pstatic.net%2Fshop.phinf%2F20230419_146%2F1681898430747wGGFi_PNG%2Frht.PNG%22&amp;type&#x3D;nf340_228\" alt=\"더러워진 실내화 폼 클렌저로 세탁해 봤더니\" width=\"170\" height=\"114\" onerror=\"this.outerHTML=\\'<span class=\\\\\\'pm_noimg\\\\\\'><span class=\\\\\\'noimg_text\\\\\\'>이미지 준비중</span></span>\\'\">\\n\\t\\t\\t\\t\\t\\t<span class=\"thumb_bd\"></span>\\n                        \\n\\t\\t\\t\\t\\t</a>\\n\\t\\t\\t\\t\\t<a href=\"https://blog.naver.com/0206hj/223075818998\" class=\"theme_info\" data-clk=\"tcc_lif.list1cont2\" target=\"_blank\">\\n\\t\\t\\t\\t\\t\\t<em class=\"theme_category\"> 리빙</em>\\n\\t\\t\\t\\t\\t\\t<strong class=\"title elss\">더러워진 실내화 폼 클렌저로 세탁해 봤더니</strong>\\n                        <p class=\"desc\">어디선가 폼클렌저(클렌징폼)이 얼룩 지우는데 도움이 된다는 걸 봤어요. 실제로 흰티셔츠 얼룩 지우는데 사용했던 적도 있었죠.(다른 것을 더해서 지웠지만) &quot;실내화 세탁하는데 사용해볼까?&quot; 뜬금포로 EVA 실내화 세탁하는데 사용해 보고 싶은 거예요.😆 그래서 이 더러운 아들 실내화를 폼클렌저로 지워보기로 했습니다. 도~~~~오오오오오~~~~전~~~~!! 저</p>\\n\\t\\t\\t\\t\\t\\t<div class=\"source_box\">\\n\\t\\t\\t\\t\\t\\t\\t<span class=\"date\">1주일 전</span>\\n\\t\\t\\t\\t\\t\\t\\t<span class=\"source\">\\n                                \\n                                <span class=\"source_inner\">슈슈션션</span>\\n                            </span>\\n\\t\\t\\t\\t\\t\\t</div>\\n\\t\\t\\t\\t\\t</a>\\n\\t\\t\\t\\t</li>\\n\\t\\t\\t\\n\\t\\t\\t\\t<li class=\"theme_item\" data-gdid=\"643fba5a370708006d6f93de-58b75334-7ed9-410b-9353-0f5435ec8255-e7596c17-dc53-449f-9bbc-eeeed9c3a468\" data-da-position=\"true\">\\n\\t\\t\\t\\t\\t<a href=\"https://blog.naver.com/februaryd_/223049794363\" class=\"theme_thumb\" data-clk=\"tcc_lif.list1cont3\" target=\"_blank\">\\n\\t\\t\\t\\t\\t\\t<img src=\"https://s.pstatic.net/dthumb.phinf/?src&#x3D;%22https%3A%2F%2Fs.pstatic.net%2Fshop.phinf%2F20230419_115%2F1681898418128Wp0qd_JPEG%2FIMG_0194.jpg%22&amp;type&#x3D;nf340_228\" data-src=\"https://s.pstatic.net/dthumb.phinf/?src&#x3D;%22https%3A%2F%2Fs.pstatic.net%2Fshop.phinf%2F20230419_115%2F1681898418128Wp0qd_JPEG%2FIMG_0194.jpg%22&amp;type&#x3D;nf340_228\" alt=\"두 계절을 보낸 아늑한 신혼집 #랜선집들이\" width=\"170\" height=\"114\" onerror=\"this.outerHTML=\\'<span class=\\\\\\'pm_noimg\\\\\\'><span class=\\\\\\'noimg_text\\\\\\'>이미지 준비중</span></span>\\'\">\\n\\t\\t\\t\\t\\t\\t<span class=\"thumb_bd\"></span>\\n                        \\n\\t\\t\\t\\t\\t</a>\\n\\t\\t\\t\\t\\t<a href=\"https://blog.naver.com/februaryd_/223049794363\" class=\"theme_info\" data-clk=\"tcc_lif.list1cont3\" target=\"_blank\">\\n\\t\\t\\t\\t\\t\\t<em class=\"theme_category\"> 리빙</em>\\n\\t\\t\\t\\t\\t\\t<strong class=\"title elss\">두 계절을 보낸 아늑한 신혼집 #랜선집들이</strong>\\n                        <p class=\"desc\">입주일이 벌써 5개월이 다 되어가고 신혼집에서 어느덧 두 계절을 보냈는데요! 랜선 집들이 포스팅이 네이버 메인에 두 번이나 올라가면서 많은 분들이 블로그에 방문해 주셨던만큼 그동안 달라진 저희 집의 모습을 올려봅니다 🏡 11월 초에 구매했던 필레아페페 🌿 4개월이 지난 지금 이렇게 무럭무럭 자라났어요 워낙 잘 자라는 식물이라고 얘기는 들었지만 주 1회 </p>\\n\\t\\t\\t\\t\\t\\t<div class=\"source_box\">\\n\\t\\t\\t\\t\\t\\t\\t<span class=\"date\">1개월 전</span>\\n\\t\\t\\t\\t\\t\\t\\t<span class=\"source\">\\n                                \\n                                <span class=\"source_inner\">다원</span>\\n                            </span>\\n\\t\\t\\t\\t\\t\\t</div>\\n\\t\\t\\t\\t\\t</a>\\n\\t\\t\\t\\t</li>\\n\\t\\t\\t\\n\\t\\t\\t\\t<li class=\"theme_item\" data-gdid=\"643face8f6ff2f003b96ddd9\" data-da-position=\"true\">\\n\\t\\t\\t\\t\\t<a href=\"https://blog.naver.com/moodawni/223077365363\" class=\"theme_thumb\" data-clk=\"tcc_lif.list1cont4\" target=\"_blank\">\\n\\t\\t\\t\\t\\t\\t<img src=\"https://s.pstatic.net/dthumb.phinf/?src&#x3D;%22https%3A%2F%2Fs.pstatic.net%2Fshop.phinf%2F20230417_224%2F1681728643211sgfu7_JPEG%2FIMG_9356.jpg%22&amp;type&#x3D;nf340_228\" data-src=\"https://s.pstatic.net/dthumb.phinf/?src&#x3D;%22https%3A%2F%2Fs.pstatic.net%2Fshop.phinf%2F20230417_224%2F1681728643211sgfu7_JPEG%2FIMG_9356.jpg%22&amp;type&#x3D;nf340_228\" alt=\"모던 심플하게 꾸민 공간\" width=\"170\" height=\"114\" onerror=\"this.outerHTML=\\'<span class=\\\\\\'pm_noimg\\\\\\'><span class=\\\\\\'noimg_text\\\\\\'>이미지 준비중</span></span>\\'\">\\n\\t\\t\\t\\t\\t\\t<span class=\"thumb_bd\"></span>\\n                        \\n\\t\\t\\t\\t\\t</a>\\n\\t\\t\\t\\t\\t<a href=\"https://blog.naver.com/moodawni/223077365363\" class=\"theme_info\" data-clk=\"tcc_lif.list1cont4\" target=\"_blank\">\\n\\t\\t\\t\\t\\t\\t<em class=\"theme_category\"> 리빙</em>\\n\\t\\t\\t\\t\\t\\t<strong class=\"title elss\">모던 심플하게 꾸민 공간</strong>\\n                        <p class=\"desc\">- 드디어 시작한 ‘우리’집 #온라인집들이 예쁜모습으로 연출하다 센스 부족으로 열심히만 찍었다. 2023년의 ‘우리’집은 이랬구나 하고 기록한다 생각하며.. 그래도 집들이니 존댓말로 설명하겠습니다. 허허 가장 소개할곳이 많은 거실부터 작성 해보려 합니다. 글씨가 커진 이유는 PC로 보니 너무 작아서.. ‘우리‘집은 25년 된 오래된 구축이에요. 집이 꽤 깨</p>\\n\\t\\t\\t\\t\\t\\t<div class=\"source_box\">\\n\\t\\t\\t\\t\\t\\t\\t<span class=\"date\">1주일 전</span>\\n\\t\\t\\t\\t\\t\\t\\t<span class=\"source\">\\n                                \\n                                <span class=\"source_inner\">무더니</span>\\n                            </span>\\n\\t\\t\\t\\t\\t\\t</div>\\n\\t\\t\\t\\t\\t</a>\\n\\t\\t\\t\\t</li>\\n\\t\\t\\t\\n\\t\\t</ul>\\n\\t</div>\\n</div>\\n<div class=\"group_theme\" data-block-id=\"\" data-block-code=\"PC-THEME-LIVINGHOME-MOBILE-RANKING-DEFAULT-1\" data-block-type=\"MATERIALS\" data-template-code=\"MOBILE-RANKING-LIST\"\\n\\n\\t data-da=\"container\"\\n\\t data-index=\"\"\\n     data-page=\"1\"\\n\\t >\\n\\n\\t<div class=\"list_theme_wrap\">\\n\\t\\t<ul class=\"list_theme\">\\n\\t\\t\\t\\n\\t\\t\\t\\t<li class=\"theme_item\" data-gdid=\"643facbcefd16d004d0a52bb\" data-da-position=\"true\">\\n\\t\\t\\t\\t\\t<a href=\"https://post.naver.com/viewer/postView.naver?volumeNo&#x3D;35587832&amp;memberNo&#x3D;24659848\" class=\"theme_thumb\" data-clk=\"tcc_lif.list2cont1\" target=\"_blank\">\\n\\t\\t\\t\\t\\t\\t<img src=\"https://s.pstatic.net/dthumb.phinf/?src&#x3D;%22https%3A%2F%2Fs.pstatic.net%2Fshop.phinf%2F20230417_230%2F1681728376312aUtFf_PNG%2Frtj.PNG%22&amp;type&#x3D;nf340_228\" data-src=\"https://s.pstatic.net/dthumb.phinf/?src&#x3D;%22https%3A%2F%2Fs.pstatic.net%2Fshop.phinf%2F20230417_230%2F1681728376312aUtFf_PNG%2Frtj.PNG%22&amp;type&#x3D;nf340_228\" alt=\"가족에 맞춰 모던하게 구성한 목조주택\" width=\"170\" height=\"114\" onerror=\"this.outerHTML=\\'<span class=\\\\\\'pm_noimg\\\\\\'><span class=\\\\\\'noimg_text\\\\\\'>이미지 준비중</span></span>\\'\">\\n\\t\\t\\t\\t\\t\\t<span class=\"thumb_bd\"></span>\\n                        \\n\\t\\t\\t\\t\\t</a>\\n\\t\\t\\t\\t\\t<a href=\"https://post.naver.com/viewer/postView.naver?volumeNo&#x3D;35587832&amp;memberNo&#x3D;24659848\" class=\"theme_info\" data-clk=\"tcc_lif.list2cont1\" target=\"_blank\">\\n\\t\\t\\t\\t\\t\\t<em class=\"theme_category\"> 리빙</em>\\n\\t\\t\\t\\t\\t\\t<strong class=\"title elss\">가족에 맞춰 모던하게 구성한 목조주택</strong>\\n                        <p class=\"desc\">건축주 부부는 자신들과 자녀를 위해 집 짓기를 계획했다. 1년간 정성 들여 지은 주택은 구조재로 선정한 목조의 장점과 더불어 모던한 인상으로 가족을 반긴다. 여기에 명확하게 나눈 공간 구성과 밝은 톤으로 계획한 인테리어를 통해 실면적보다 넓어 보이는 효과를 가져왔다. 글 사진 남두진 기자 자료 ㈜감성주택 ※ 기사 하단에 이 주택과 관련된 인터뷰와 영상을 링</p>\\n\\t\\t\\t\\t\\t\\t<div class=\"source_box\">\\n\\t\\t\\t\\t\\t\\t\\t<span class=\"date\">1주일 전</span>\\n\\t\\t\\t\\t\\t\\t\\t<span class=\"source\">\\n                                \\n                                <span class=\"source_inner\">전원주택라이프</span>\\n                            </span>\\n\\t\\t\\t\\t\\t\\t</div>\\n\\t\\t\\t\\t\\t</a>\\n\\t\\t\\t\\t</li>\\n\\t\\t\\t\\n\\t\\t\\t\\t<li class=\"theme_item\" data-gdid=\"643fac8ba726f70035753ea7\" data-da-position=\"true\">\\n\\t\\t\\t\\t\\t<a href=\"https://blog.naver.com/wait0719/223060856064\" class=\"theme_thumb\" data-clk=\"tcc_lif.list2cont2\" target=\"_blank\">\\n\\t\\t\\t\\t\\t\\t<img src=\"https://s.pstatic.net/dthumb.phinf/?src&#x3D;%22https%3A%2F%2Fs.pstatic.net%2Fshop.phinf%2F20230417_182%2F1681728040042qvgQT_PNG%2F%2527p.PNG%22&amp;type&#x3D;nf340_228\" data-src=\"https://s.pstatic.net/dthumb.phinf/?src&#x3D;%22https%3A%2F%2Fs.pstatic.net%2Fshop.phinf%2F20230417_182%2F1681728040042qvgQT_PNG%2F%2527p.PNG%22&amp;type&#x3D;nf340_228\" alt=\"화이트로 가득 채운 집\" width=\"170\" height=\"114\" onerror=\"this.outerHTML=\\'<span class=\\\\\\'pm_noimg\\\\\\'><span class=\\\\\\'noimg_text\\\\\\'>이미지 준비중</span></span>\\'\">\\n\\t\\t\\t\\t\\t\\t<span class=\"thumb_bd\"></span>\\n                        \\n\\t\\t\\t\\t\\t</a>\\n\\t\\t\\t\\t\\t<a href=\"https://blog.naver.com/wait0719/223060856064\" class=\"theme_info\" data-clk=\"tcc_lif.list2cont2\" target=\"_blank\">\\n\\t\\t\\t\\t\\t\\t<em class=\"theme_category\"> 리빙</em>\\n\\t\\t\\t\\t\\t\\t<strong class=\"title elss\">화이트로 가득 채운 집</strong>\\n                        <p class=\"desc\">하얀색으로 가득 채운 범숙하우스🏡 하얀색을 좋아해서 온통 하얀색의 깔끔한 집을 만들었어요 🤍 범숙하우스 랜선집들이 고고띵 💨 🤍🤍🤍🤍🤍🤍 &lt; 범숙하우스 거실 &gt; 평소에 거실은 쇼파만 배치하고 지내고 가끔씩 테이블을 가지고와서 사용해요 ! 내가 원하는데로 쇼파를 배치 할 수 있다는 점이 모듈쇼파의 가장 큰 장점인것 같아요! 쇼파 하나로 다..</p>\\n\\t\\t\\t\\t\\t\\t<div class=\"source_box\">\\n\\t\\t\\t\\t\\t\\t\\t<span class=\"date\">3주일 전</span>\\n\\t\\t\\t\\t\\t\\t\\t<span class=\"source\">\\n                                \\n                                <span class=\"source_inner\">sugarun</span>\\n                            </span>\\n\\t\\t\\t\\t\\t\\t</div>\\n\\t\\t\\t\\t\\t</a>\\n\\t\\t\\t\\t</li>\\n\\t\\t\\t\\n\\t\\t\\t\\t<li class=\"theme_item\" data-gdid=\"643fac8ba726f70035753ea8\" data-da-position=\"true\">\\n\\t\\t\\t\\t\\t<a href=\"https://blog.naver.com/kjj4849/223064143583\" class=\"theme_thumb\" data-clk=\"tcc_lif.list2cont3\" target=\"_blank\">\\n\\t\\t\\t\\t\\t\\t<img src=\"https://s.pstatic.net/dthumb.phinf/?src&#x3D;%22https%3A%2F%2Fs.pstatic.net%2Fshop.phinf%2F20230417_29%2F16817280272521FWp1_PNG%2Fipo.PNG%22&amp;type&#x3D;nf340_228\" data-src=\"https://s.pstatic.net/dthumb.phinf/?src&#x3D;%22https%3A%2F%2Fs.pstatic.net%2Fshop.phinf%2F20230417_29%2F16817280272521FWp1_PNG%2Fipo.PNG%22&amp;type&#x3D;nf340_228\" alt=\"공룡알 거울로 꾸민 안방 파우더룸 화장대\" width=\"170\" height=\"114\" onerror=\"this.outerHTML=\\'<span class=\\\\\\'pm_noimg\\\\\\'><span class=\\\\\\'noimg_text\\\\\\'>이미지 준비중</span></span>\\'\">\\n\\t\\t\\t\\t\\t\\t<span class=\"thumb_bd\"></span>\\n                        \\n\\t\\t\\t\\t\\t</a>\\n\\t\\t\\t\\t\\t<a href=\"https://blog.naver.com/kjj4849/223064143583\" class=\"theme_info\" data-clk=\"tcc_lif.list2cont3\" target=\"_blank\">\\n\\t\\t\\t\\t\\t\\t<em class=\"theme_category\"> 리빙</em>\\n\\t\\t\\t\\t\\t\\t<strong class=\"title elss\">공룡알 거울로 꾸민 안방 파우더룸 화장대</strong>\\n                        <p class=\"desc\">안방 &amp; 파우더룸 한정된 예산 안에서 리모델링을 진행해야 했기 때문에, 안방은 최소한의 비용으로 진행하기로 했어요. 그래서 안방 베란다는 따로 확장하지 않았는데요. 창고가 있어 수납공간 확보도 되고, 보온 효과도 있더라구요. 안방과 연결된 파우더룸은 조금의 힘을 주어(?) 타일을 깔았어요. 큰 공룡알 거울까지 더해 존재감 뿜뿜입니다. 안방 Before 공사</p>\\n\\t\\t\\t\\t\\t\\t<div class=\"source_box\">\\n\\t\\t\\t\\t\\t\\t\\t<span class=\"date\">2주일 전</span>\\n\\t\\t\\t\\t\\t\\t\\t<span class=\"source\">\\n                                \\n                                <span class=\"source_inner\">지아롬</span>\\n                            </span>\\n\\t\\t\\t\\t\\t\\t</div>\\n\\t\\t\\t\\t\\t</a>\\n\\t\\t\\t\\t</li>\\n\\t\\t\\t\\n\\t\\t\\t\\t<li class=\"theme_item\" data-gdid=\"643fac8ba726f70035753ea9\" data-da-position=\"true\">\\n\\t\\t\\t\\t\\t<a href=\"https://blog.naver.com/qw2558/223076359632\" class=\"theme_thumb\" data-clk=\"tcc_lif.list2cont4\" target=\"_blank\">\\n\\t\\t\\t\\t\\t\\t<img src=\"https://s.pstatic.net/dthumb.phinf/?src&#x3D;%22https%3A%2F%2Fs.pstatic.net%2Fshop.phinf%2F20230417_116%2F1681728018260hKmD1_PNG%2F%253Bio.PNG%22&amp;type&#x3D;nf340_228\" data-src=\"https://s.pstatic.net/dthumb.phinf/?src&#x3D;%22https%3A%2F%2Fs.pstatic.net%2Fshop.phinf%2F20230417_116%2F1681728018260hKmD1_PNG%2F%253Bio.PNG%22&amp;type&#x3D;nf340_228\" alt=\"미세먼지 쌓인 외부 유리창, 쉽게 청소하는 꿀팁\" width=\"170\" height=\"114\" onerror=\"this.outerHTML=\\'<span class=\\\\\\'pm_noimg\\\\\\'><span class=\\\\\\'noimg_text\\\\\\'>이미지 준비중</span></span>\\'\">\\n\\t\\t\\t\\t\\t\\t<span class=\"thumb_bd\"></span>\\n                        \\n\\t\\t\\t\\t\\t</a>\\n\\t\\t\\t\\t\\t<a href=\"https://blog.naver.com/qw2558/223076359632\" class=\"theme_info\" data-clk=\"tcc_lif.list2cont4\" target=\"_blank\">\\n\\t\\t\\t\\t\\t\\t<em class=\"theme_category\"> 리빙</em>\\n\\t\\t\\t\\t\\t\\t<strong class=\"title elss\">미세먼지 쌓인 외부 유리창, 쉽게 청소하는 꿀팁</strong>\\n                        <p class=\"desc\">따뜻한 햇볕이 너무 좋아서 창밖을 바라보는데 황사에 미세먼지에 엉망이 되어버린 방충망과 외부창문.. 계속 미루고 미루다 날이 더 더워지기전에 봄맞이 청소를 했어요:) 내부 창문은 청소하기 너무 쉬운데 외부 유리창 청소는 어떻게 해야할지 막막 하셨죠? 지금부터 손쉽게 할 수 있는 청소법! 외부 유리창 청소 유리창청소도구를 구매하기엔 너무 부담스럽고, 그렇다고</p>\\n\\t\\t\\t\\t\\t\\t<div class=\"source_box\">\\n\\t\\t\\t\\t\\t\\t\\t<span class=\"date\">1주일 전</span>\\n\\t\\t\\t\\t\\t\\t\\t<span class=\"source\">\\n                                \\n                                <span class=\"source_inner\">얀듀리</span>\\n                            </span>\\n\\t\\t\\t\\t\\t\\t</div>\\n\\t\\t\\t\\t\\t</a>\\n\\t\\t\\t\\t</li>\\n\\t\\t\\t\\n\\t\\t</ul>\\n\\t</div>\\n</div>\\n<div class=\"group_theme _NM_API_UI\" data-ui-circular=\"false\" data-block-id=\"5edf1cb2d6902f284e3b826d\" data-block-code=\"\" data-block-type=\"BLOCKS\" data-template-code=\"FLICKING-IMAGE3\"\\n\\n    >\\n    <div class=\"theme_title\">\\n        <a href=\"https://happybean.naver.com/\" class=\"title\" target=\"_blank\"\\n            data-clk=\"tcc_lif.happytitle\">오늘 가장 따뜻한 클릭</a>\\n    </div>\\n    <div class=\" media_view_wrap type_flick\">\\n        <a href=\"#\" role=\"button\" class=\"pm_btn_prev _NM_UI_PAGE_PREV\" data-clk=\"tcc_lif.happypre\"><i\\n                class=\"ico_btn\"><span class=\"blind\">이전</span></i></a>\\n        <a href=\"#\" role=\"button\" class=\"pm_btn_next _NM_UI_PAGE_NEXT\" data-clk=\"tcc_lif.happynext\"><i\\n                class=\"ico_btn\"><span class=\"blind\">다음</span></i></a>\\n        <div class=\"_NM_UI_PAGE_CONTAINER\" style=\"overflow: hidden; height: 240px;\">\\n            \\n            <div style=\"width:750px\">\\n                <div class=\"media_view\">\\n                    \\n                    <a href=\"https://happybean.naver.com/fundings/detail/F889?p&#x3D;p&amp;s&#x3D;nmlp\" target=\"_blank\" class=\"media_area\" data-gdid=\"F889\"\\n                        data-clk=\"tcc_lif.happycon1\">\\n                        <div class=\"media_thumb\">\\n                            <img src=\"https://happybean-phinf.pstatic.net/20230416_95/1681573452646rzCpM_JPEG/top1_%A9%E1%A8%E1.jpg?type&#x3D;f464_260\" alt=\"\" width=\"232\" height=\"130\" onerror=\"this.outerHTML=\\'<span class=\\\\\\'pm_noimg\\\\\\'><span class=\\\\\\'noimg_text\\\\\\'>이미지 준비중</span></span>\\'\">\\n                            <span class=\"thumb_bd\"></span>\\n                            <em class=\"theme_badge\"><span class=\"badge_inner\">펀딩</span></em>\\n                        </div>\\n                        <div class=\"media_info\">\\n                            <div class=\"info_box\">\\n                                <strong class=\"title\">유기농 스피아민트로 만든 비건 치실</strong>\\n                                <div class=\"source_wrap\">\\n                                    <span class=\"dsc\"><em class=\"theme_hl\">141%</em> 달성</span>\\n                                    <span class=\"source\"><span class=\"source_inner\">위드마이</span></span>\\n                                </div>\\n                            </div>\\n                        </div>\\n                    </a>\\n                    \\n                    <a href=\"https://happybean.naver.com/fundings/detail/F888?p&#x3D;p&amp;s&#x3D;nmlp\" target=\"_blank\" class=\"media_area\" data-gdid=\"F888\"\\n                        data-clk=\"tcc_lif.happycon2\">\\n                        <div class=\"media_thumb\">\\n                            <img src=\"https://happybean-phinf.pstatic.net/20230416_50/1681572700481Yeo4s_JPEG/th%A8%E1.jpg?type&#x3D;f464_260\" alt=\"\" width=\"232\" height=\"130\" onerror=\"this.outerHTML=\\'<span class=\\\\\\'pm_noimg\\\\\\'><span class=\\\\\\'noimg_text\\\\\\'>이미지 준비중</span></span>\\'\">\\n                            <span class=\"thumb_bd\"></span>\\n                            <em class=\"theme_badge\"><span class=\"badge_inner\">펀딩</span></em>\\n                        </div>\\n                        <div class=\"media_info\">\\n                            <div class=\"info_box\">\\n                                <strong class=\"title\">제로웨이스트 실천하는 세탁세제&amp;섬유유연제</strong>\\n                                <div class=\"source_wrap\">\\n                                    <span class=\"dsc\"><em class=\"theme_hl\">57%</em> 달성</span>\\n                                    <span class=\"source\"><span class=\"source_inner\">지구샵</span></span>\\n                                </div>\\n                            </div>\\n                        </div>\\n                    </a>\\n                    \\n                    <a href=\"https://happybean.naver.com/donations/H000000189523?p&#x3D;p&amp;s&#x3D;nmlp\" target=\"_blank\" class=\"media_area\" data-gdid=\"H000000189523\"\\n                        data-clk=\"tcc_lif.happycon3\">\\n                        <div class=\"media_thumb\">\\n                            <img src=\"https://happybean-phinf.pstatic.net/20230404_290/1680595740866Oradd_JPEG/삼이병원.jpg?type&#x3D;f464_260\" alt=\"\" width=\"232\" height=\"130\" onerror=\"this.outerHTML=\\'<span class=\\\\\\'pm_noimg\\\\\\'><span class=\\\\\\'noimg_text\\\\\\'>이미지 준비중</span></span>\\'\">\\n                            <span class=\"thumb_bd\"></span>\\n                            <em class=\"theme_badge\"><span class=\"badge_inner\">기부</span></em>\\n                        </div>\\n                        <div class=\"media_info\">\\n                            <div class=\"info_box\">\\n                                <strong class=\"title\">구조된 이후, 다양한 질병으로 고통 받는 노령묘들</strong>\\n                                <div class=\"source_wrap\">\\n                                    <span class=\"dsc\"><em class=\"theme_hl\">6,549,000원</em> 기부</span>\\n                                    <span class=\"source\"><span class=\"source_inner\">사단법인 나비야 사랑해</span></span>\\n                                </div>\\n                            </div>\\n                        </div>\\n                    </a>\\n                    \\n                </div>\\n            </div>\\n            \\n            <div style=\"width:750px\">\\n                <div class=\"media_view\">\\n                    \\n                    <a href=\"https://happybean.naver.com/fundings/detail/F861?p&#x3D;p&amp;s&#x3D;nmlp\" target=\"_blank\" class=\"media_area\" data-gdid=\"F861\"\\n                        data-clk=\"tcc_lif.happycon4\">\\n                        <div class=\"media_thumb\">\\n                            <img src=\"https://happybean-phinf.pstatic.net/20230322_252/1679449229987Ojki8_JPEG/%B8%EB%A4%EC213213.jpg?type&#x3D;f464_260\" alt=\"\" width=\"232\" height=\"130\" onerror=\"this.outerHTML=\\'<span class=\\\\\\'pm_noimg\\\\\\'><span class=\\\\\\'noimg_text\\\\\\'>이미지 준비중</span></span>\\'\">\\n                            <span class=\"thumb_bd\"></span>\\n                            <em class=\"theme_badge\"><span class=\"badge_inner\">펀딩</span></em>\\n                        </div>\\n                        <div class=\"media_info\">\\n                            <div class=\"info_box\">\\n                                <strong class=\"title\">매듭 카네이션으로 전하는 시들지 않는 마음</strong>\\n                                <div class=\"source_wrap\">\\n                                    <span class=\"dsc\"><em class=\"theme_hl\">1,637%</em> 달성</span>\\n                                    <span class=\"source\"><span class=\"source_inner\">마르코로호</span></span>\\n                                </div>\\n                            </div>\\n                        </div>\\n                    </a>\\n                    \\n                    <a href=\"https://happybean.naver.com/fundings/detail/F881?p&#x3D;p&amp;s&#x3D;nmlp\" target=\"_blank\" class=\"media_area\" data-gdid=\"F881\"\\n                        data-clk=\"tcc_lif.happycon5\">\\n                        <div class=\"media_thumb\">\\n                            <img src=\"https://happybean-phinf.pstatic.net/20230417_241/1681698510947XSPI5_JPEG/%B8%EB%A4%EC2123.jpg?type&#x3D;f464_260\" alt=\"\" width=\"232\" height=\"130\" onerror=\"this.outerHTML=\\'<span class=\\\\\\'pm_noimg\\\\\\'><span class=\\\\\\'noimg_text\\\\\\'>이미지 준비중</span></span>\\'\">\\n                            <span class=\"thumb_bd\"></span>\\n                            <em class=\"theme_badge\"><span class=\"badge_inner\">펀딩</span></em>\\n                        </div>\\n                        <div class=\"media_info\">\\n                            <div class=\"info_box\">\\n                                <strong class=\"title\">웹툰 &#x27;가비지타임&#x27; 단행본 1-5권과 굿즈</strong>\\n                                <div class=\"source_wrap\">\\n                                    <span class=\"dsc\"><em class=\"theme_hl\">16,365%</em> 달성</span>\\n                                    <span class=\"source\"><span class=\"source_inner\">네이버웹툰X가비지타임</span></span>\\n                                </div>\\n                            </div>\\n                        </div>\\n                    </a>\\n                    \\n                    <a href=\"https://happybean.naver.com/donations/H000000189552?p&#x3D;p&amp;s&#x3D;nmlp\" target=\"_blank\" class=\"media_area\" data-gdid=\"H000000189552\"\\n                        data-clk=\"tcc_lif.happycon6\">\\n                        <div class=\"media_thumb\">\\n                            <img src=\"https://happybean-phinf.pstatic.net/20230406_133/1680708013448wbBLT_JPEG/1.jpg?type&#x3D;f464_260\" alt=\"\" width=\"232\" height=\"130\" onerror=\"this.outerHTML=\\'<span class=\\\\\\'pm_noimg\\\\\\'><span class=\\\\\\'noimg_text\\\\\\'>이미지 준비중</span></span>\\'\">\\n                            <span class=\"thumb_bd\"></span>\\n                            <em class=\"theme_badge\"><span class=\"badge_inner\">기부</span></em>\\n                        </div>\\n                        <div class=\"media_info\">\\n                            <div class=\"info_box\">\\n                                <strong class=\"title\">오늘의 말라리아의 날, 아이들의 생명을 지켜주세요</strong>\\n                                <div class=\"source_wrap\">\\n                                    <span class=\"dsc\"><em class=\"theme_hl\">41,000원</em> 기부</span>\\n                                    <span class=\"source\"><span class=\"source_inner\">사단법인 따뜻한하루</span></span>\\n                                </div>\\n                            </div>\\n                        </div>\\n                    </a>\\n                    \\n                </div>\\n            </div>\\n            \\n        </div>\\n    </div>\\n</div>\\n\\n<div class=\"group_theme\" data-block-id=\"\" data-block-code=\"PC-THEME-LIVINGHOME-MOBILE-RANKING-DEFAULT-2\" data-block-type=\"MATERIALS\" data-template-code=\"MOBILE-RANKING-LIST\"\\n\\n\\t data-da=\"container\"\\n\\t data-index=\"\"\\n     data-page=\"2\"\\n\\t style=\"display:none\">\\n\\n\\t<div class=\"list_theme_wrap\">\\n\\t\\t<ul class=\"list_theme\">\\n\\t\\t\\t\\n\\t\\t\\t\\t<li class=\"theme_item\" data-gdid=\"643fac56f6ff2f003b96dd76\" data-da-position=\"true\">\\n\\t\\t\\t\\t\\t<a href=\"https://blog.naver.com/rangk12/223076071903\" class=\"theme_thumb\" data-clk=\"tcc_lif.list3cont1\" target=\"_blank\">\\n\\t\\t\\t\\t\\t\\t<img  data-src=\"https://s.pstatic.net/dthumb.phinf/?src&#x3D;%22https%3A%2F%2Fs.pstatic.net%2Fshop.phinf%2F20230417_104%2F1681727789348trtoq_PNG%2Fpo.PNG%22&amp;type&#x3D;nf340_228\" alt=\"취향 가득 30평대 아파트 신혼집 #랜선집들이\" width=\"170\" height=\"114\" onerror=\"this.outerHTML=\\'<span class=\\\\\\'pm_noimg\\\\\\'><span class=\\\\\\'noimg_text\\\\\\'>이미지 준비중</span></span>\\'\">\\n\\t\\t\\t\\t\\t\\t<span class=\"thumb_bd\"></span>\\n                        \\n\\t\\t\\t\\t\\t</a>\\n\\t\\t\\t\\t\\t<a href=\"https://blog.naver.com/rangk12/223076071903\" class=\"theme_info\" data-clk=\"tcc_lif.list3cont1\" target=\"_blank\">\\n\\t\\t\\t\\t\\t\\t<em class=\"theme_category\"> 리빙</em>\\n\\t\\t\\t\\t\\t\\t<strong class=\"title elss\">취향 가득 30평대 아파트 신혼집 #랜선집들이</strong>\\n                        <p class=\"desc\">안녕하세요:-) 까사미아 캄포쇼파 리뷰에 이어서 오늘은 랜선집들이 포스팅입니당😊 저번 포스팅에서도 올렸던 까사미아 캄포쇼파입니당 어제 친구들 집들이 했는데 친구들도 앉아보더니 좋다고 하더라구요!뿌듯 애기들도 폭신해서 좋아하는거같아요 앤트레디션 조명입니당 협탁이랑 잘어울리는거 같아요! 쨍한 노랑아니구 살짝 어두운 노랑이랑 여기저기 잘어울려서 대만족 사...</p>\\n\\t\\t\\t\\t\\t\\t<div class=\"source_box\">\\n\\t\\t\\t\\t\\t\\t\\t<span class=\"date\">1주일 전</span>\\n\\t\\t\\t\\t\\t\\t\\t<span class=\"source\">\\n                                \\n                                <span class=\"source_inner\">랑캐</span>\\n                            </span>\\n\\t\\t\\t\\t\\t\\t</div>\\n\\t\\t\\t\\t\\t</a>\\n\\t\\t\\t\\t</li>\\n\\t\\t\\t\\n\\t\\t\\t\\t<li class=\"theme_item\" data-gdid=\"643fac56f6ff2f003b96dd77\" data-da-position=\"true\">\\n\\t\\t\\t\\t\\t<a href=\"https://blog.naver.com/bertering/223076351661\" class=\"theme_thumb\" data-clk=\"tcc_lif.list3cont2\" target=\"_blank\">\\n\\t\\t\\t\\t\\t\\t<img  data-src=\"https://s.pstatic.net/dthumb.phinf/?src&#x3D;%22https%3A%2F%2Fs.pstatic.net%2Fshop.phinf%2F20230418_119%2F1681801504261lcjGn_JPEG%2FSE-251f1946-dbd7-11ed-af53-650cc44e4c3e.jpg%22&amp;type&#x3D;nf340_228\" alt=\"날 위한 아늑한 공간, 3층 주택 다락방 꾸미기\" width=\"170\" height=\"114\" onerror=\"this.outerHTML=\\'<span class=\\\\\\'pm_noimg\\\\\\'><span class=\\\\\\'noimg_text\\\\\\'>이미지 준비중</span></span>\\'\">\\n\\t\\t\\t\\t\\t\\t<span class=\"thumb_bd\"></span>\\n                        \\n\\t\\t\\t\\t\\t</a>\\n\\t\\t\\t\\t\\t<a href=\"https://blog.naver.com/bertering/223076351661\" class=\"theme_info\" data-clk=\"tcc_lif.list3cont2\" target=\"_blank\">\\n\\t\\t\\t\\t\\t\\t<em class=\"theme_category\"> 리빙</em>\\n\\t\\t\\t\\t\\t\\t<strong class=\"title elss\">날 위한 아늑한 공간, 3층 주택 다락방 꾸미기</strong>\\n                        <p class=\"desc\">엄마도 방이 필요해! 벌써 결혼한지 14년이나 되었는데요~ 한때는 온라인집들이도 하는 열정적인 리빙블로거였는데 &gt;.&lt; 주택으로 이사오면서 집 정리는 커녕 ㅎㅎ 청소라도 좀 하면 그나마 잘한일이에요 아파트 분양받아서 전체 마이너스옵션 진행하면서 하나부터 열까지 모든걸 선택해야하는 인테리어도 참 재미있었는데 말이에요 남편의 재택근무가 3~4년정도 이어지다 ..</p>\\n\\t\\t\\t\\t\\t\\t<div class=\"source_box\">\\n\\t\\t\\t\\t\\t\\t\\t<span class=\"date\">1주일 전</span>\\n\\t\\t\\t\\t\\t\\t\\t<span class=\"source\">\\n                                \\n                                <span class=\"source_inner\">어나더제이</span>\\n                            </span>\\n\\t\\t\\t\\t\\t\\t</div>\\n\\t\\t\\t\\t\\t</a>\\n\\t\\t\\t\\t</li>\\n\\t\\t\\t\\n\\t\\t\\t\\t<li class=\"theme_item\" data-gdid=\"64410e10f8f61f01fdb9126e\" data-da-position=\"true\">\\n\\t\\t\\t\\t\\t<a href=\"https://blog.naver.com/hd_livart/223063203474\" class=\"theme_thumb\" data-clk=\"tcc_lif.list3cont3\" target=\"_blank\">\\n\\t\\t\\t\\t\\t\\t<img  data-src=\"https://s.pstatic.net/dthumb.phinf/?src&#x3D;%22https%3A%2F%2Fs.pstatic.net%2Fshop.phinf%2F20230420_275%2F1681985325775Km8Yw_JPEG%2F%25B9%25AB%25B7%25E1%25C3%25BC%25C7%25E8.jpg%22&amp;type&#x3D;nf340_228\" alt=\"로봇청소기까지 쏘옥!\" width=\"170\" height=\"114\" onerror=\"this.outerHTML=\\'<span class=\\\\\\'pm_noimg\\\\\\'><span class=\\\\\\'noimg_text\\\\\\'>이미지 준비중</span></span>\\'\">\\n\\t\\t\\t\\t\\t\\t<span class=\"thumb_bd\"></span>\\n                        \\n\\t\\t\\t\\t\\t</a>\\n\\t\\t\\t\\t\\t<a href=\"https://blog.naver.com/hd_livart/223063203474\" class=\"theme_info\" data-clk=\"tcc_lif.list3cont3\" target=\"_blank\">\\n\\t\\t\\t\\t\\t\\t<em class=\"theme_category\"> 리빙</em>\\n\\t\\t\\t\\t\\t\\t<strong class=\"title elss\">로봇청소기까지 쏘옥!</strong>\\n                        <p class=\"desc\">리바트 토스티 무료체험단 EVENT 연진아, 나 지금 되게 신나 내 맘에 쏙 드는 신상이 나왔거든 2023 리바트 집테리어 최.신.상 깔끔하게, 핏하게 ─ 우리집 수납고민 해결사 토스티 시리즈 출시기념 무료체험단을 모집합니다! 용도별 · 공간별 · 디자인별 다양하게 구성된 토스티 수납장 시리즈 중 나에게 꼭 맞는 모듈은 무엇일까요 ?! 👁🗨 어떤 제품을</p>\\n\\t\\t\\t\\t\\t\\t<div class=\"source_box\">\\n\\t\\t\\t\\t\\t\\t\\t<span class=\"date\">3주일 전</span>\\n\\t\\t\\t\\t\\t\\t\\t<span class=\"source\">\\n                                \\n                                <span class=\"source_inner\">현대리바트</span>\\n                            </span>\\n\\t\\t\\t\\t\\t\\t</div>\\n\\t\\t\\t\\t\\t</a>\\n\\t\\t\\t\\t</li>\\n\\t\\t\\t\\n\\t\\t\\t\\t<li class=\"theme_item\" data-gdid=\"643ded0cf6ff2f003b9697e1\" data-da-position=\"true\">\\n\\t\\t\\t\\t\\t<a href=\"https://blog.naver.com/living_food/223043129661\" class=\"theme_thumb\" data-clk=\"tcc_lif.list3cont4\" target=\"_blank\">\\n\\t\\t\\t\\t\\t\\t<img  data-src=\"https://s.pstatic.net/dthumb.phinf/?src&#x3D;%22https%3A%2F%2Fs.pstatic.net%2Fshop.phinf%2F20230324_251%2F1679637704400CYMv4_JPEG%2F4%25BF%25F9%25BA%25ED%25B7%25CE%25B1%25D7_%25B0%25F8%25B0%25ED_%25C0%25CC%25B9%25CC%25C1%25F62.jpg%22&amp;type&#x3D;nf340_228\" alt=\"자랑하고 싶은 살림노하우, 리빙잇템을 소개해주세요\" width=\"170\" height=\"114\" onerror=\"this.outerHTML=\\'<span class=\\\\\\'pm_noimg\\\\\\'><span class=\\\\\\'noimg_text\\\\\\'>이미지 준비중</span></span>\\'\">\\n\\t\\t\\t\\t\\t\\t<span class=\"thumb_bd\"></span>\\n                        \\n\\t\\t\\t\\t\\t</a>\\n\\t\\t\\t\\t\\t<a href=\"https://blog.naver.com/living_food/223043129661\" class=\"theme_info\" data-clk=\"tcc_lif.list3cont4\" target=\"_blank\">\\n\\t\\t\\t\\t\\t\\t<em class=\"theme_category\"> 리빙</em>\\n\\t\\t\\t\\t\\t\\t<strong class=\"title elss\">자랑하고 싶은 살림노하우, 리빙잇템을 소개해주세요</strong>\\n                        <p class=\"desc\">네이버 리빙과 함께하는 메인 도전 리빙&amp;레시피와 이웃 추가하고 블로그 혹은 포스팅 url을 비공개 댓글로 남겨주세요. 말머리에 [살림] [리빙잇템] 를 붙여 주시고, 포스팅의 간략한 내용 설명도 부탁드릴게요. 살림 추천 키워드 #꽃꽂이#화분#미세먼지청소법#방충망청소#커튼청소#살림꿀팁#살림일기#창틀청소법#세탁법#베이킹소다활용법#플라스틱프리#비닐없이장보기#미니</p>\\n\\t\\t\\t\\t\\t\\t<div class=\"source_box\">\\n\\t\\t\\t\\t\\t\\t\\t<span class=\"date\">1개월 전</span>\\n\\t\\t\\t\\t\\t\\t\\t<span class=\"source\">\\n                                \\n                                <span class=\"source_inner\">리빙N레시피</span>\\n                            </span>\\n\\t\\t\\t\\t\\t\\t</div>\\n\\t\\t\\t\\t\\t</a>\\n\\t\\t\\t\\t</li>\\n\\t\\t\\t\\n\\t\\t\\t\\t<li class=\"theme_item\" data-gdid=\"6437713a703d6700696f751d\" data-da-position=\"true\">\\n\\t\\t\\t\\t\\t<a href=\"https://post.naver.com/viewer/postView.naver?volumeNo&#x3D;35768202&amp;memberNo&#x3D;954004\" class=\"theme_thumb\" data-clk=\"tcc_lif.list3cont5\" target=\"_blank\">\\n\\t\\t\\t\\t\\t\\t<img  data-src=\"https://s.pstatic.net/dthumb.phinf/?src&#x3D;%22https%3A%2F%2Fs.pstatic.net%2Fshop.phinf%2F20230412_155%2F1681294130869Y5fHX_PNG%2Frtju.PNG%22&amp;type&#x3D;nf340_228\" alt=\"창으로 연결된 모든 공간과 장면을 엮어낸 주택\" width=\"170\" height=\"114\" onerror=\"this.outerHTML=\\'<span class=\\\\\\'pm_noimg\\\\\\'><span class=\\\\\\'noimg_text\\\\\\'>이미지 준비중</span></span>\\'\">\\n\\t\\t\\t\\t\\t\\t<span class=\"thumb_bd\"></span>\\n                        \\n\\t\\t\\t\\t\\t</a>\\n\\t\\t\\t\\t\\t<a href=\"https://post.naver.com/viewer/postView.naver?volumeNo&#x3D;35768202&amp;memberNo&#x3D;954004\" class=\"theme_info\" data-clk=\"tcc_lif.list3cont5\" target=\"_blank\">\\n\\t\\t\\t\\t\\t\\t<em class=\"theme_category\"> 리빙</em>\\n\\t\\t\\t\\t\\t\\t<strong class=\"title elss\">창으로 연결된 모든 공간과 장면을 엮어낸 주택</strong>\\n                        <p class=\"desc\">단층주택 특집 2_남원 둥글집 붉은\\xa0벽돌\\xa0위\\xa0둥글게\\xa0이어지는\\xa0두\\xa0개의\\xa0처마.\\xa0병렬로\\xa0나열된\\xa0실과\\xa0외부\\xa0공간을\\xa0창으로\\xa0연결해\\xa0시퀀스를\\xa0완성했다.\\xa0많은\\xa0이들이\\xa0모이는\\xa0단층집에는\\xa0형틀\\xa0목수로\\xa0일해오신\\xa0아버지의\\xa0흔적이\\xa0담겨\\xa0있다. 가늘고 긴 형태의 대지 위에 펼쳐진 매스. 마당 담장 앞쪽으로 텃밭 공간을 계획했다. 공용 공간과 사적 공간을 구분하면서 자연을 더 가</p>\\n\\t\\t\\t\\t\\t\\t<div class=\"source_box\">\\n\\t\\t\\t\\t\\t\\t\\t<span class=\"date\">1주일 전</span>\\n\\t\\t\\t\\t\\t\\t\\t<span class=\"source\">\\n                                \\n                                <span class=\"source_inner\">월간 전원속의 내집</span>\\n                            </span>\\n\\t\\t\\t\\t\\t\\t</div>\\n\\t\\t\\t\\t\\t</a>\\n\\t\\t\\t\\t</li>\\n\\t\\t\\t\\n\\t\\t</ul>\\n\\t</div>\\n</div>\\n<div class=\"group_theme\" data-block-id=\"\" data-block-code=\"PC-THEME-LIVINGHOME-MOBILE-RANKING-DEFAULT-3\" data-block-type=\"MATERIALS\" data-template-code=\"MOBILE-RANKING-LIST\"\\n\\n\\t data-da=\"container\"\\n\\t data-index=\"\"\\n     data-page=\"2\"\\n\\t style=\"display:none\">\\n\\n\\t<div class=\"list_theme_wrap\">\\n\\t\\t<ul class=\"list_theme\">\\n\\t\\t\\t\\n\\t\\t\\t\\t<li class=\"theme_item\" data-gdid=\"6437713a703d6700696f751e\" data-da-position=\"true\">\\n\\t\\t\\t\\t\\t<a href=\"https://blog.naver.com/amy8277/223070406948\" class=\"theme_thumb\" data-clk=\"tcc_lif.list4cont1\" target=\"_blank\">\\n\\t\\t\\t\\t\\t\\t<img  data-src=\"https://s.pstatic.net/dthumb.phinf/?src&#x3D;%22https%3A%2F%2Fs.pstatic.net%2Fshop.phinf%2F20230412_114%2F1681294124259NkGzx_PNG%2Fwtr.PNG%22&amp;type&#x3D;nf340_228\" alt=\"가정집 셰프가 추천하는 주방 살림들 #리빙잇템\" width=\"170\" height=\"114\" onerror=\"this.outerHTML=\\'<span class=\\\\\\'pm_noimg\\\\\\'><span class=\\\\\\'noimg_text\\\\\\'>이미지 준비중</span></span>\\'\">\\n\\t\\t\\t\\t\\t\\t<span class=\"thumb_bd\"></span>\\n                        \\n\\t\\t\\t\\t\\t</a>\\n\\t\\t\\t\\t\\t<a href=\"https://blog.naver.com/amy8277/223070406948\" class=\"theme_info\" data-clk=\"tcc_lif.list4cont1\" target=\"_blank\">\\n\\t\\t\\t\\t\\t\\t<em class=\"theme_category\"> 리빙</em>\\n\\t\\t\\t\\t\\t\\t<strong class=\"title elss\">가정집 셰프가 추천하는 주방 살림들 #리빙잇템</strong>\\n                        <p class=\"desc\">드디어 푸른 나뭇잎과 함께 싱그러운 봄이 찾아왔어요. 계절이 바뀌면 살림살이도 대대적으로 정비를 해야하고 묵은 먼지도 싹 털어내야 합니다. 결혼 10년차쯤 되니 살림의 스킬도 늘고 라이프스타일에 맞게 주방살림이 갖춰지다 보니 살림에 더 애정이 생기는것 같아요. 저희집 주방은 수납장 없이 오픈선반을 사용하고 있는데요, 그렇다 보니 시각적인 살림템과 편리성을 </p>\\n\\t\\t\\t\\t\\t\\t<div class=\"source_box\">\\n\\t\\t\\t\\t\\t\\t\\t<span class=\"date\">2주일 전</span>\\n\\t\\t\\t\\t\\t\\t\\t<span class=\"source\">\\n                                \\n                                <span class=\"source_inner\">1982home</span>\\n                            </span>\\n\\t\\t\\t\\t\\t\\t</div>\\n\\t\\t\\t\\t\\t</a>\\n\\t\\t\\t\\t</li>\\n\\t\\t\\t\\n\\t\\t\\t\\t<li class=\"theme_item\" data-gdid=\"643771028062d5005bc8bf88\" data-da-position=\"true\">\\n\\t\\t\\t\\t\\t<a href=\"https://blog.naver.com/aekyoung81/223051423859\" class=\"theme_thumb\" data-clk=\"tcc_lif.list4cont2\" target=\"_blank\">\\n\\t\\t\\t\\t\\t\\t<img  data-src=\"https://s.pstatic.net/dthumb.phinf/?src&#x3D;%22https%3A%2F%2Fs.pstatic.net%2Fshop.phinf%2F20230412_213%2F1681293834391SSWFr_PNG%2Fop.PNG%22&amp;type&#x3D;nf340_228\" alt=\"부족한 수납공간 해결\" width=\"170\" height=\"114\" onerror=\"this.outerHTML=\\'<span class=\\\\\\'pm_noimg\\\\\\'><span class=\\\\\\'noimg_text\\\\\\'>이미지 준비중</span></span>\\'\">\\n\\t\\t\\t\\t\\t\\t<span class=\"thumb_bd\"></span>\\n                        \\n\\t\\t\\t\\t\\t</a>\\n\\t\\t\\t\\t\\t<a href=\"https://blog.naver.com/aekyoung81/223051423859\" class=\"theme_info\" data-clk=\"tcc_lif.list4cont2\" target=\"_blank\">\\n\\t\\t\\t\\t\\t\\t<em class=\"theme_category\"> 리빙</em>\\n\\t\\t\\t\\t\\t\\t<strong class=\"title elss\">부족한 수납공간 해결</strong>\\n                        <p class=\"desc\">부족한 수납을 위한 공간 만들기 주방 인테리어 반셀프 인테리어로 31평 아파트 올 리모델링을 거치고 이 집에서 보낸 시간이 어느덧 4년이 지났어요. 집안 곳곳 애정이 가지 않은 곳이 없지만, 주방은 더욱 마음이 가는 공간이에요. 하루 중 가장 많은 시간을 보내는 곳이기도 하지만, 오롯이 저만의 공간이기도 한 곳이라 더 애정을 갖고 돌보고 있어요. 4년 전 </p>\\n\\t\\t\\t\\t\\t\\t<div class=\"source_box\">\\n\\t\\t\\t\\t\\t\\t\\t<span class=\"date\">1개월 전</span>\\n\\t\\t\\t\\t\\t\\t\\t<span class=\"source\">\\n                                \\n                                <span class=\"source_inner\">꼼지락이주부</span>\\n                            </span>\\n\\t\\t\\t\\t\\t\\t</div>\\n\\t\\t\\t\\t\\t</a>\\n\\t\\t\\t\\t</li>\\n\\t\\t\\t\\n\\t\\t\\t\\t<li class=\"theme_item\" data-gdid=\"643771028062d5005bc8bf89\" data-da-position=\"true\">\\n\\t\\t\\t\\t\\t<a href=\"https://blog.naver.com/seolmohome/223062907002\" class=\"theme_thumb\" data-clk=\"tcc_lif.list4cont3\" target=\"_blank\">\\n\\t\\t\\t\\t\\t\\t<img  data-src=\"https://s.pstatic.net/dthumb.phinf/?src&#x3D;%22https%3A%2F%2Fs.pstatic.net%2Fshop.phinf%2F20230412_264%2F1681293826877983vq_PNG%2Fop.PNG%22&amp;type&#x3D;nf340_228\" alt=\"따뜻해진 계절을 맞이해 꾸민 베란다 홈 카페\" width=\"170\" height=\"114\" onerror=\"this.outerHTML=\\'<span class=\\\\\\'pm_noimg\\\\\\'><span class=\\\\\\'noimg_text\\\\\\'>이미지 준비중</span></span>\\'\">\\n\\t\\t\\t\\t\\t\\t<span class=\"thumb_bd\"></span>\\n                        \\n\\t\\t\\t\\t\\t</a>\\n\\t\\t\\t\\t\\t<a href=\"https://blog.naver.com/seolmohome/223062907002\" class=\"theme_info\" data-clk=\"tcc_lif.list4cont3\" target=\"_blank\">\\n\\t\\t\\t\\t\\t\\t<em class=\"theme_category\"> 리빙</em>\\n\\t\\t\\t\\t\\t\\t<strong class=\"title elss\">따뜻해진 계절을 맞이해 꾸민 베란다 홈 카페</strong>\\n                        <p class=\"desc\">요즘 봄이 찾아오면서 벚꽃도 활짝 피고 날도 점점 따뜻해지는 하루하루에요. 그래서 저희는 봄맞이 베란다를 꾸며봤습니다. 사실 겨울동안 너무 추워서 베란다에 잠깐 환기 시킬 때 빼고는 거의 안나갔었거든요. 그런데 봄이 오고 날이 따뜻해지면서 확장되지 않아 베란다 부자인 저희집 베란다를 꾸미기로 결심했습니다. 베란다 Before 저희집 거실 베란다에요. 보시면</p>\\n\\t\\t\\t\\t\\t\\t<div class=\"source_box\">\\n\\t\\t\\t\\t\\t\\t\\t<span class=\"date\">3주일 전</span>\\n\\t\\t\\t\\t\\t\\t\\t<span class=\"source\">\\n                                \\n                                <span class=\"source_inner\">설모</span>\\n                            </span>\\n\\t\\t\\t\\t\\t\\t</div>\\n\\t\\t\\t\\t\\t</a>\\n\\t\\t\\t\\t</li>\\n\\t\\t\\t\\n\\t\\t\\t\\t<li class=\"theme_item\" data-gdid=\"643770cd8062d5005bc8bf7f\" data-da-position=\"true\">\\n\\t\\t\\t\\t\\t<a href=\"https://blog.naver.com/dgw3279/223072201771\" class=\"theme_thumb\" data-clk=\"tcc_lif.list4cont4\" target=\"_blank\">\\n\\t\\t\\t\\t\\t\\t<img  data-src=\"https://s.pstatic.net/dthumb.phinf/?src&#x3D;%22https%3A%2F%2Fs.pstatic.net%2Fshop.phinf%2F20230412_191%2F1681293498179wdK42_JPEG%2Foutput_3679724384.jpg%22&amp;type&#x3D;nf340_228\" alt=\"25평 미니멀 인테리어\" width=\"170\" height=\"114\" onerror=\"this.outerHTML=\\'<span class=\\\\\\'pm_noimg\\\\\\'><span class=\\\\\\'noimg_text\\\\\\'>이미지 준비중</span></span>\\'\">\\n\\t\\t\\t\\t\\t\\t<span class=\"thumb_bd\"></span>\\n                        \\n\\t\\t\\t\\t\\t</a>\\n\\t\\t\\t\\t\\t<a href=\"https://blog.naver.com/dgw3279/223072201771\" class=\"theme_info\" data-clk=\"tcc_lif.list4cont4\" target=\"_blank\">\\n\\t\\t\\t\\t\\t\\t<em class=\"theme_category\"> 리빙</em>\\n\\t\\t\\t\\t\\t\\t<strong class=\"title elss\">25평 미니멀 인테리어</strong>\\n                        <p class=\"desc\">집들이라고 했지만 사실 별건 없다- 1년 반 동안 살아온 흔적들에 대해 포스팅 하고자 하는것이니 ㅎㅎ 먼저 우리집은 신축아파트구조 25평 이다 처음 이집으로 이사 왔을때 아무 것도 없어, 꽤나 넓게 느껴졌는데 하나하나씩 사들이니 꽉꽉 찬 공간 이 되었다 입주와 동시에 선물받은 꽃 🌸 아침해가 잘들어오는 집이여서 오전 시간을 꼭 즐기고는 했다 썬캐처도 이쁘</p>\\n\\t\\t\\t\\t\\t\\t<div class=\"source_box\">\\n\\t\\t\\t\\t\\t\\t\\t<span class=\"date\">1주일 전</span>\\n\\t\\t\\t\\t\\t\\t\\t<span class=\"source\">\\n                                \\n                                <span class=\"source_inner\">현정</span>\\n                            </span>\\n\\t\\t\\t\\t\\t\\t</div>\\n\\t\\t\\t\\t\\t</a>\\n\\t\\t\\t\\t</li>\\n\\t\\t\\t\\n\\t\\t\\t\\t<li class=\"theme_item\" data-gdid=\"643770cd8062d5005bc8bf80\" data-da-position=\"true\">\\n\\t\\t\\t\\t\\t<a href=\"https://blog.naver.com/nabong3928/223072081358\" class=\"theme_thumb\" data-clk=\"tcc_lif.list4cont5\" target=\"_blank\">\\n\\t\\t\\t\\t\\t\\t<img  data-src=\"https://s.pstatic.net/dthumb.phinf/?src&#x3D;%22https%3A%2F%2Fs.pstatic.net%2Fshop.phinf%2F20230412_290%2F1681293491375O71wg_JPEG%2F_J_G6234.jpg%22&amp;type&#x3D;nf340_228\" alt=\"리모델링으로 새롭게 변신한 우리 집 주방 공개\" width=\"170\" height=\"114\" onerror=\"this.outerHTML=\\'<span class=\\\\\\'pm_noimg\\\\\\'><span class=\\\\\\'noimg_text\\\\\\'>이미지 준비중</span></span>\\'\">\\n\\t\\t\\t\\t\\t\\t<span class=\"thumb_bd\"></span>\\n                        \\n\\t\\t\\t\\t\\t</a>\\n\\t\\t\\t\\t\\t<a href=\"https://blog.naver.com/nabong3928/223072081358\" class=\"theme_info\" data-clk=\"tcc_lif.list4cont5\" target=\"_blank\">\\n\\t\\t\\t\\t\\t\\t<em class=\"theme_category\"> 리빙</em>\\n\\t\\t\\t\\t\\t\\t<strong class=\"title elss\">리모델링으로 새롭게 변신한 우리 집 주방 공개</strong>\\n                        <p class=\"desc\">우리집에서 가장 많은 공간이 변화된 곳은 주방이예요. 요리를 못하는 초보새댁이지만 주방에 대한 로망이 그득그득 남편과 인테리어 실장님과 상담할때 제가 원하는 구조로 할려면 60평대 집으로 가야한다고 할정도록 로망이 가득했답니다. 평범한건 거부한다! 라는 느낌으로 20평대 아파트에 과감하게 주방한가운데에 아일랜드주방을 배치하고 주방과 연결된 방을 활용하였답니</p>\\n\\t\\t\\t\\t\\t\\t<div class=\"source_box\">\\n\\t\\t\\t\\t\\t\\t\\t<span class=\"date\">1주일 전</span>\\n\\t\\t\\t\\t\\t\\t\\t<span class=\"source\">\\n                                \\n                                <span class=\"source_inner\">예민이홈</span>\\n                            </span>\\n\\t\\t\\t\\t\\t\\t</div>\\n\\t\\t\\t\\t\\t</a>\\n\\t\\t\\t\\t</li>\\n\\t\\t\\t\\n\\t\\t</ul>\\n\\t</div>\\n</div>\\n<div class=\"group_theme\" data-block-id=\"\" data-block-code=\"PC-THEME-LIVINGHOME-MOBILE-RANKING-DEFAULT-4\" data-block-type=\"MATERIALS\" data-template-code=\"MOBILE-RANKING-LIST\"\\n\\n\\t data-da=\"container\"\\n\\t data-index=\"\"\\n     data-page=\"3\"\\n\\t style=\"display:none\">\\n\\n\\t<div class=\"list_theme_wrap\">\\n\\t\\t<ul class=\"list_theme\">\\n\\t\\t\\t\\n\\t\\t\\t\\t<li class=\"theme_item\" data-gdid=\"64351360703d6700696f4840\" data-da-position=\"true\">\\n\\t\\t\\t\\t\\t<a href=\"https://blog.naver.com/mmfave/223029417628\" class=\"theme_thumb\" data-clk=\"tcc_lif.list5cont1\" target=\"_blank\">\\n\\t\\t\\t\\t\\t\\t<img  data-src=\"https://s.pstatic.net/dthumb.phinf/?src&#x3D;%22https%3A%2F%2Fs.pstatic.net%2Fshop.phinf%2F20230410_48%2F1681123598631OcvTP_PNG%2Fth.PNG%22&amp;type&#x3D;nf340_228\" alt=\"나만의 홈오피스 스타일링\" width=\"170\" height=\"114\" onerror=\"this.outerHTML=\\'<span class=\\\\\\'pm_noimg\\\\\\'><span class=\\\\\\'noimg_text\\\\\\'>이미지 준비중</span></span>\\'\">\\n\\t\\t\\t\\t\\t\\t<span class=\"thumb_bd\"></span>\\n                        \\n\\t\\t\\t\\t\\t</a>\\n\\t\\t\\t\\t\\t<a href=\"https://blog.naver.com/mmfave/223029417628\" class=\"theme_info\" data-clk=\"tcc_lif.list5cont1\" target=\"_blank\">\\n\\t\\t\\t\\t\\t\\t<em class=\"theme_category\"> 리빙</em>\\n\\t\\t\\t\\t\\t\\t<strong class=\"title elss\">나만의 홈오피스 스타일링</strong>\\n                        <p class=\"desc\">오늘의 무드 LP도 커피도 모두 함께 즐길 수 있는 나만의 홈오피스 feat. 데스크테리어 어서 오세요! 어김없이 역시나 Megan입니다. 오늘은 소소한 PR 먼저! 홈스타일링이나 아파트 리빙 인테리어에 관심을 가지고 저를 찾아 주시는 분들 중 아직 제 인스타그램을 모르시는 분들이 계시더라고요! 😲 소소한 Megan의 일상 또는 생각을 매일매일 인스타그램</p>\\n\\t\\t\\t\\t\\t\\t<div class=\"source_box\">\\n\\t\\t\\t\\t\\t\\t\\t<span class=\"date\">1개월 전</span>\\n\\t\\t\\t\\t\\t\\t\\t<span class=\"source\">\\n                                \\n                                <span class=\"source_inner\">Megan</span>\\n                            </span>\\n\\t\\t\\t\\t\\t\\t</div>\\n\\t\\t\\t\\t\\t</a>\\n\\t\\t\\t\\t</li>\\n\\t\\t\\t\\n\\t\\t\\t\\t<li class=\"theme_item\" data-gdid=\"64351360703d6700696f4841\" data-da-position=\"true\">\\n\\t\\t\\t\\t\\t<a href=\"https://post.naver.com/viewer/postView.naver?volumeNo&#x3D;35755436&amp;memberNo&#x3D;8639988\" class=\"theme_thumb\" data-clk=\"tcc_lif.list5cont2\" target=\"_blank\">\\n\\t\\t\\t\\t\\t\\t<img  data-src=\"https://s.pstatic.net/dthumb.phinf/?src&#x3D;%22https%3A%2F%2Fs.pstatic.net%2Fshop.phinf%2F20230410_113%2F1681123590881DMs59_PNG%2Fet.PNG%22&amp;type&#x3D;nf340_228\" alt=\"레트로 분위기를 더한 올드앤유 인테리어\" width=\"170\" height=\"114\" onerror=\"this.outerHTML=\\'<span class=\\\\\\'pm_noimg\\\\\\'><span class=\\\\\\'noimg_text\\\\\\'>이미지 준비중</span></span>\\'\">\\n\\t\\t\\t\\t\\t\\t<span class=\"thumb_bd\"></span>\\n                        \\n\\t\\t\\t\\t\\t</a>\\n\\t\\t\\t\\t\\t<a href=\"https://post.naver.com/viewer/postView.naver?volumeNo&#x3D;35755436&amp;memberNo&#x3D;8639988\" class=\"theme_info\" data-clk=\"tcc_lif.list5cont2\" target=\"_blank\">\\n\\t\\t\\t\\t\\t\\t<em class=\"theme_category\"> 리빙</em>\\n\\t\\t\\t\\t\\t\\t<strong class=\"title elss\">레트로 분위기를 더한 올드앤유 인테리어</strong>\\n                        <p class=\"desc\">넙돌 하우스는 신랑은 돌고래, 신부를 넙치로 부르는 IT 개발자와 스타트업 대표의 집입니다.그 쇳물 쓰지 마라. 광염(狂焰)에 청년이 사그라졌다. 그 쇳물은 쓰지 마라. 자동차를 만들지도 말 것이며 철근도 만들지 말 것이며 가로등도 만들지 말 것이며 못을 만들지도 말 것이며 바늘도 만들지 마라. 모두 한이고 눈물인데 어떻게 쓰나. 그 쇳물 쓰</p>\\n\\t\\t\\t\\t\\t\\t<div class=\"source_box\">\\n\\t\\t\\t\\t\\t\\t\\t<span class=\"date\">2주일 전</span>\\n\\t\\t\\t\\t\\t\\t\\t<span class=\"source\">\\n                                \\n                                <span class=\"source_inner\">인터스타일 매거진</span>\\n                            </span>\\n\\t\\t\\t\\t\\t\\t</div>\\n\\t\\t\\t\\t\\t</a>\\n\\t\\t\\t\\t</li>\\n\\t\\t\\t\\n\\t\\t\\t\\t<li class=\"theme_item\" data-gdid=\"64351360703d6700696f4842\" data-da-position=\"true\">\\n\\t\\t\\t\\t\\t<a href=\"https://blog.naver.com/jeongsemi88/223040341087\" class=\"theme_thumb\" data-clk=\"tcc_lif.list5cont3\" target=\"_blank\">\\n\\t\\t\\t\\t\\t\\t<img  data-src=\"https://s.pstatic.net/dthumb.phinf/?src&#x3D;%22https%3A%2F%2Fs.pstatic.net%2Fshop.phinf%2F20230410_100%2F16811235802820Tb2e_PNG%2Fjt.PNG%22&amp;type&#x3D;nf340_228\" alt=\"배수구부터 개수대까지, 싱크대 확실한 청소법\" width=\"170\" height=\"114\" onerror=\"this.outerHTML=\\'<span class=\\\\\\'pm_noimg\\\\\\'><span class=\\\\\\'noimg_text\\\\\\'>이미지 준비중</span></span>\\'\">\\n\\t\\t\\t\\t\\t\\t<span class=\"thumb_bd\"></span>\\n                        \\n\\t\\t\\t\\t\\t</a>\\n\\t\\t\\t\\t\\t<a href=\"https://blog.naver.com/jeongsemi88/223040341087\" class=\"theme_info\" data-clk=\"tcc_lif.list5cont3\" target=\"_blank\">\\n\\t\\t\\t\\t\\t\\t<em class=\"theme_category\"> 리빙</em>\\n\\t\\t\\t\\t\\t\\t<strong class=\"title elss\">배수구부터 개수대까지, 싱크대 확실한 청소법</strong>\\n                        <p class=\"desc\">유난히 하기 싫은 청소 중에 하나가 주방 싱크대 거름망이죠. 우리 식구 먹었던 건데, 손으로 만지려고 하면 - 엉엉, 그냥 싫어요. 그런데 막상 하고 나면 가장 뿌듯해요. 오늘은 주방을 더욱 깨끗하게 만들어주는, 싱크대 거름망 배수구 개수대 청소 방법 소개해 드릴게요. 싱크대 청소는 생각보다 까다로워요. 세제나 도구도 잘 선정해야 하는데요. 일단 저는 거름</p>\\n\\t\\t\\t\\t\\t\\t<div class=\"source_box\">\\n\\t\\t\\t\\t\\t\\t\\t<span class=\"date\">1개월 전</span>\\n\\t\\t\\t\\t\\t\\t\\t<span class=\"source\">\\n                                \\n                                <span class=\"source_inner\">세미살림</span>\\n                            </span>\\n\\t\\t\\t\\t\\t\\t</div>\\n\\t\\t\\t\\t\\t</a>\\n\\t\\t\\t\\t</li>\\n\\t\\t\\t\\n\\t\\t\\t\\t<li class=\"theme_item\" data-gdid=\"643513295644a8005944c8de\" data-da-position=\"true\">\\n\\t\\t\\t\\t\\t<a href=\"https://blog.naver.com/westside1472/223064209256\" class=\"theme_thumb\" data-clk=\"tcc_lif.list5cont4\" target=\"_blank\">\\n\\t\\t\\t\\t\\t\\t<img  data-src=\"https://s.pstatic.net/dthumb.phinf/?src&#x3D;%22https%3A%2F%2Fs.pstatic.net%2Fshop.phinf%2F20230410_177%2F1681123317594jM0Df_JPEG%2FIMG_9246.jpg%22&amp;type&#x3D;nf340_228\" alt=\"봄 단장한 거실 속 홈 카페\" width=\"170\" height=\"114\" onerror=\"this.outerHTML=\\'<span class=\\\\\\'pm_noimg\\\\\\'><span class=\\\\\\'noimg_text\\\\\\'>이미지 준비중</span></span>\\'\">\\n\\t\\t\\t\\t\\t\\t<span class=\"thumb_bd\"></span>\\n                        \\n\\t\\t\\t\\t\\t</a>\\n\\t\\t\\t\\t\\t<a href=\"https://blog.naver.com/westside1472/223064209256\" class=\"theme_info\" data-clk=\"tcc_lif.list5cont4\" target=\"_blank\">\\n\\t\\t\\t\\t\\t\\t<em class=\"theme_category\"> 리빙</em>\\n\\t\\t\\t\\t\\t\\t<strong class=\"title elss\">봄 단장한 거실 속 홈 카페</strong>\\n                        <p class=\"desc\">선물같은하루. Recipe 2023. 6th #온라인집들이 안녕하세요 :) 지난 겨울 온라인집들이를 하고서 지금은 열심히 봄단장 중인 선물같은하루’s 거실 공간을 담아봤어요. 하루 중 제가 참 많이도 머무는 공간. 바로 홈카페 선반과 테이블이 놓여진 거실 한편인데요. 기존에 화이트 상판의 작은 테이블을 놓고 사용하다가 이번에 저의 로망이었던 우드 원형테이블</p>\\n\\t\\t\\t\\t\\t\\t<div class=\"source_box\">\\n\\t\\t\\t\\t\\t\\t\\t<span class=\"date\">2주일 전</span>\\n\\t\\t\\t\\t\\t\\t\\t<span class=\"source\">\\n                                \\n                                <span class=\"source_inner\">선물같은하루</span>\\n                            </span>\\n\\t\\t\\t\\t\\t\\t</div>\\n\\t\\t\\t\\t\\t</a>\\n\\t\\t\\t\\t</li>\\n\\t\\t\\t\\n\\t\\t\\t\\t<li class=\"theme_item\" data-gdid=\"643513295644a8005944c8df\" data-da-position=\"true\">\\n\\t\\t\\t\\t\\t<a href=\"https://blog.naver.com/cine1024/223052556846\" class=\"theme_thumb\" data-clk=\"tcc_lif.list5cont5\" target=\"_blank\">\\n\\t\\t\\t\\t\\t\\t<img  data-src=\"https://s.pstatic.net/dthumb.phinf/?src&#x3D;%22https%3A%2F%2Fs.pstatic.net%2Fshop.phinf%2F20230410_161%2F1681123310719Bqlr6_PNG%2F4t.PNG%22&amp;type&#x3D;nf340_228\" alt=\"알아두면 유용한 커피 필터 활용법 #살림노하우\" width=\"170\" height=\"114\" onerror=\"this.outerHTML=\\'<span class=\\\\\\'pm_noimg\\\\\\'><span class=\\\\\\'noimg_text\\\\\\'>이미지 준비중</span></span>\\'\">\\n\\t\\t\\t\\t\\t\\t<span class=\"thumb_bd\"></span>\\n                        \\n\\t\\t\\t\\t\\t</a>\\n\\t\\t\\t\\t\\t<a href=\"https://blog.naver.com/cine1024/223052556846\" class=\"theme_info\" data-clk=\"tcc_lif.list5cont5\" target=\"_blank\">\\n\\t\\t\\t\\t\\t\\t<em class=\"theme_category\"> 리빙</em>\\n\\t\\t\\t\\t\\t\\t<strong class=\"title elss\">알아두면 유용한 커피 필터 활용법 #살림노하우</strong>\\n                        <p class=\"desc\">드립 커피를 많이 마시다 보니 집에 늘 쟁여놓곤 하는 커피 필터 근데 이게 쓰임이 아주 다양하다 그래서 포스팅해 보는 알아두면 손해 볼 것 없는 커피 필터, 여과지 활용법! #살림팁 #살림노하우 #살림일기 #커피필터활용법 #여과지활용법 면포 대용 만두 먹고 싶은 날, 채반을 이용해서 쪄 먹곤 하는데 종종 만두피가 채반에 달라붙곤 해서 만두가 터지거나 설거지</p>\\n\\t\\t\\t\\t\\t\\t<div class=\"source_box\">\\n\\t\\t\\t\\t\\t\\t\\t<span class=\"date\">1개월 전</span>\\n\\t\\t\\t\\t\\t\\t\\t<span class=\"source\">\\n                                \\n                                <span class=\"source_inner\">DJ김신</span>\\n                            </span>\\n\\t\\t\\t\\t\\t\\t</div>\\n\\t\\t\\t\\t\\t</a>\\n\\t\\t\\t\\t</li>\\n\\t\\t\\t\\n\\t\\t</ul>\\n\\t</div>\\n</div>\\n\\n\\n\\n\\n\\t<div class=\"btn_more_wrap\">\\n\\t\\t<button type=\"button\" class=\"btn_more\" data-clk-custom=\"tcc_lif.more\" data-next-page=\"2\"><i class=\"ico_more\"></i>새로운 글 더보기</button>\\n\\t</div>\\n\\n\\n<div class=\"NM_THEME_META\" style=\"display: none\" data-panel-code=\"LIVINGHOME\" data-parent-code=\"\"></div>\\n\\n\\t</div>\\n</div>\\n </div> </div> <div id=\"NM_INT_RIGHT\" class=\"column_right\"> <div class=\"column_fix_wrap\"> <div id=\"da_brand\"></div> \\n\\n\\n\\n\\n\\n<div id=\"account\" class=\"sc_login\">\\n<h2 class=\"blind\">Sign in</h2>\\n<p class=\"login_msg\">Connect with people</p>\\n<a href=\"https://nid.naver.com/nidlogin.login?mode=form&url=https%3A%2F%2Fwww.naver.com\" class=\"link_login\" data-clk=\"log_off.login\"><i class=\"ico_naver\"><span class=\"blind\">NAVER</span></i>Sign in</a>\\n<div class=\"sub_area\">\\n<div class=\"look_box\">\\n<a href=\"https://nid.naver.com/user/help.nhn?todo=idinquiry\" class=\"link_look\" data-clk=\"log_off.searchid\">Forgot Username</a>\\n<a href=\"https://nid.naver.com/nidreminder.form\" class=\"link_look\" data-clk=\"log_off.searchpass\">Password</a>\\n</div>\\n<a href=\"https://nid.naver.com/nidregister.form?url=https%3A%2F%2Fwww.naver.com\" class=\"link_join\" data-clk=\"log_off.registration\">Sign up</a>\\n</div>\\n</div>\\n\\n\\n\\n <div id=\"timesquare\" class=\"sc_timesquare\"> <h2 class=\"blind\">타임스퀘어</h2> <div class=\"card_wrap\">\\n<div class=\"card_nav\">\\n<a href=\"#\" role=\"button\" class=\"btn_nav btn_prev\" data-clk=\"squ.pre\"><span class=\"blind\">이전</span></a>\\n<a href=\"#\" role=\"button\" class=\"btn_nav btn_next\" data-clk=\"squ.next\"><span class=\"blind\">다음</span></a>\\n</div>\\n<div id=\"NM_TS_ROLLING_WRAP\" style=\"height: 100%;\">\\n<div>\\n<a href=\"https://news.naver.com/newspaper/home?viewType=pc\" class=\"card_news\" data-clk=\"squ.line2\"><i class=\"news_badge type_flash\">신문1면</i><span class=\"news\">언론사 헤드라인 보기</span></a>\\n</div>\\n<div>\\n<a href=\"https://search.naver.com/search.naver?sm=top_hty&amp;fbm=0&amp;ie=utf8&amp;query=%EC%BD%94%EB%A1%9C%EB%82%9819\" class=\"card_news\" data-clk=\"squ.line3\"><i class=\"news_badge\">이슈</i><span class=\"news\">코로나바이러스감염증-19 현황</span></a>\\n</div>\\n<div>\\n<a href=\"https://finance.naver.com/sise/sise_index.nhn?code=KOSPI\" class=\"card_stock \" data-clk=\"squ.kospi\">\\n<strong class=\"stock_title\">증시</strong>\\n<div class=\"stock_box\">\\n<em class=\"name\">코스피</em>\\n<strong class=\"current\">2,529.81</strong>\\n<span class=\"rate rate_up\"><span class=\"blind\">상승</span>6.31 +0.25%</span>\\n</div>\\n</a>\\n</div>\\n<div>\\n<a href=\"https://finance.naver.com/sise/sise_index.nhn?code=KOSDAQ\" class=\"card_stock \" data-clk=\"squ.kosdaq\">\\n<strong class=\"stock_title\">증시</strong>\\n<div class=\"stock_box\">\\n<em class=\"name\">코스닥</em>\\n<strong class=\"current\">854.61</strong>\\n<span class=\"rate rate_down\"><span class=\"blind\">하락</span>0.62 -0.07%</span>\\n</div>\\n</a>\\n</div>\\n<div>\\n<a href=\"https://finance.naver.com/marketindex/exchangeDetail.nhn?marketindexCd=FX_USDKRW\" class=\"card_stock type_exchange\" data-clk=\"squ.usd\">\\n<strong class=\"stock_title\">환율</strong>\\n<div class=\"stock_box\">\\n<em class=\"name\">USD</em>\\n<strong class=\"current\">1,334.00</strong>\\n<span class=\"rate rate_down\"><span class=\"blind\">하락</span>1.00 -0.07%</span>\\n</div>\\n</a>\\n</div>\\n</div>\\n</div> <!-- EMPTY --> </div> <div id=\"veta_branding\"> <span class=\"blind\"> <script id=\"veta_service_check\"></script> </span> <div id=\"veta_branding_inner\" style=\"width:350px;height:200px\"> </div> <span class=\"veta_bd_t\"></span> <span class=\"veta_bd_b\"></span> <span class=\"veta_bd_l\"></span> <span class=\"veta_bd_r\"></span> </div> <div id=\"shopcast\" class=\"sc_shopcast\"> <iframe id=\"shopcast_iframe\" data-iframe-src=\"/shoppingbox/shoppingboxnew/main.nhn?mode=plusdeal&domain=N\" title=\"쇼핑캐스트\" width=\"350\" height=\"1809\" marginheight=\"0\" marginwidth=\"0\" scrolling=\"no\" frameborder=\"0\"></iframe> </div> </div> </div> <a id=\"NM_scroll_top_btn\" href=\"#wrap\" class=\"content_top\"><span class=\"blind\">TOP</span></a> <button id=\"NM_darkmode_btn\" type=\"button\" role=\"button\" class=\"btn_theme\" aria-pressed=\"false\"  > <span class=\"blind\">라이트 모드로 보기</span> </button> </div> <div id=\"footer\" role=\"contentinfo\"> <div class=\"footer_inner\"> <div id=\"NM-FOOTER-AD\" class=\"banner_area\"> <div class=\"da_box_wrap\"> <div id=\"da_public_left\"> </div> <div id=\"da_public_right\"> </div> <div id=\"veta_time2\"> </div> </div> </div> <div class=\"notice_area\" data-clk-prefix=\"ntc\"> <div class=\"notice_box\"> <h3 class=\"title\"><a href=\"https://www.naver.com/NOTICE\">공지사항</a> </h3> <!-- EMPTY --> </div> <a href=\"more.html\" class=\"link_all\" data-clk=\"svcmap\">서비스 전체보기</a> </div> <div class=\"aside_area\"> <div class=\"partner_box_wrap\"> <div class=\"partner_box\" data-clk-prefix=\"crt\"> <h3 class=\"title\">Creators</h3> <a href=\"https://www.navercorp.com/service/creators\" class=\"link_partner\" data-clk=\"creator\">크리에이터</a> <a href=\"https://www.navercorp.com/service/business\" class=\"link_partner\" data-clk=\"smbusiness\">스몰비즈니스</a> </div> <div class=\"partner_box\" data-clk-prefix=\"crt\"> <h3 class=\"title\">Partners</h3> <a href=\"https://campaign.naver.com/smefullcare/online/\" class=\"link_partner\" data-clk=\"sme\">SME 풀케어 시스템</a> <a href=\"https://business.naver.com/service.html\" class=\"link_partner\" data-clk=\"service\">비즈니스 · 광고</a> <a href=\"https://sell.storefarm.naver.com/#/home/about\" class=\"link_partner\" data-clk=\"store\">스토어 개설</a> <a href=\"https://smartplace.naver.com\" class=\"link_partner\" data-clk=\"place\">지역업체 등록</a> <a href=\"https://expert.naver.com/expert/introduction?tab=guide#join\" class=\"link_partner\" data-clk=\"expert\">엑스퍼트 등록</a> </div> <div class=\"partner_box\" data-clk-prefix=\"crt\"> <h3 class=\"title\">Developers</h3> <a href=\"https://developers.naver.com\" class=\"link_partner\" data-clk=\"center\">네이버 개발자 센터</a> <a href=\"https://developers.naver.com/docs/common/openapiguide/#/apilist.md\" class=\"link_partner\" data-clk=\"openapi\">오픈 API</a> <a href=\"https://naver.github.io\" class=\"link_partner\" data-clk=\"opensource\">오픈소스</a> <a href=\"https://d2.naver.com\" class=\"link_partner\" data-clk=\"d2\">네이버 D2</a> <a href=\"http://d2startup.com\" class=\"link_partner\" data-clk=\"naverD2SF\">네이버 D2SF</a> <a href=\"https://www.naverlabs.com\" class=\"link_partner\" data-clk=\"labs\">네이버 랩스</a> </div> </div> <div class=\"service_box_wrap\"> <div class=\"service_box\" data-clk-prefix=\"wbd\"> <a href=\"http://whale.naver.com/\" class=\"service_logo\" data-clk=\"bt\"> <img src=\"data:image/png;base64,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\" alt=\"웨일\" width=\"48\" height=\"48\"> </a> <div class=\"service_info\"> <strong class=\"title\">웨일 브라우저</strong> <a href=\"http://whale.naver.com/\" class=\"dsc\" data-clk=\"bt\">다운받기</a> </div> </div> <div class=\"service_box\" data-clk-prefix=\"prj\"> <a href=\"https://search.naver.com/search.naver?where=nexearch&sm=top_hty&fbm=1&ie=utf8&query=%ED%94%84%EB%A1%9C%EC%A0%9D%ED%8A%B8%EA%BD%83\" class=\"service_logo\" data-clk=\"link\"> <img src=\"data:image/png;base64,iVBORw0KGgoAAAANSUhEUgAAAF4AAABkCAMAAAA47XeXAAAAgVBMVEUAAADN5PdGm99Gm99Gm99Gm99Gm95Gm99Gm99Gm99Gm99Gm99Gm99Gm99Gm99Gm99Gm99Gm99Gm99Gm99Gm99Gm99Gm99Gmt9Gm99Gm99Gm99Gm95Gm99Gm99Gm95Gm99Hm99Gm99Gm9/////3+/5cp+LO5PfR5/fO5fdcp+P7/f/zv5GhAAAAInRSTlMA/v7vH9u5qJNgGwb6l8a9uqF9WFUyLxYMCtbVmLCwe4OCj8gzEgAAA0NJREFUaN7NmmFz4iAQhkkwMTHGWrWtWvWuq8mF+/8/8Ey2nb0OhSwQZnw+MHQ7pbjAy2s2gsuiLPJMLpcyy4tyISZltnmHbxw3MzEVr/MUNNL5q5iCt2ccXCN9fhPB7CQYkTsRRlWDlboSAexzGCHfC28OKxhldfDOzBMwePLNTw0sauHFFphshQcLCUwkaQRfXYBPSkrEUBdv3jezcXXhw1ciUhc+fCUidQlH7qzqEk5d2dQlnHxvU5dwVgdXdSGclaiGyamt6hLO1qIu4ZASzcFE092SBprk1jagulvXAAw/qb5N7m176xQYmOPoLymYaK/X65/PNhlagE6LGUhfRM8FjNzuf/73//bHmInzoJEpjMyeWpp9RzGz/PT6+QvMNO2Q+67PPeYZY5h7jDVg5OM+/BGikd13JfDAj/Ad1WLMyEyUwKPT00ypN1GKAljQJtFiFgqRe86eYhbWIvPPPR5d+9pKiIgUwKNJdHXBvW9jyRye1EWLWYfnJcd141Byspizz7gbUyWDuqiW0v15D9g3ZgF86JwyKUgUHJaATUmS5rsEdkkTZLjZS8Alw+skFr8Nl6H6uosShaKOp3Zo+/jgFTDe+wcSfv0yFGfQaLX7tDO0reXOPRuMCG4Q11Y3IiYblWgzS7R+h31qdRtlGB7zikeUckz+AB3a8FuMqD7Cd2nhUHLOEIkLubQIkEuLxIdwEwUy3HyXxsbgPMJcGuGox+TSIugxuTQ+KHIaAS5N92eIIuMT5tJoPfHy5q9yKoXLelLuKRri0mjMQdhwTPw6Sv8pzKXhFyhNilEwkSCXRrnAnaPnJdyl0UrqXircpeHVglnv+62K4NJo3lFcGmWd79KO7OQoXAE8XNO6tIQGxj7fpfHTwk8RubQLWEGvgTNGKzj01fixunCMCCYcvSSlaFwUyKVx86J3bczpUR3zimq1LqdosAUbJF54ar+uk5Gju436mPTk8ZAXFdO93HRYTesUVgf3B+y0XdxLfdVputmfKp/iBtNjyl3c0kzUwtJIWewIPvAL9LOyWLsV9WAps3VRzh6hJBm3oOqsRKfHLGYzS/GP+iLBuBKdqkd+iWPkFZTHf4Em4us/uhI5qss/6zK5u8+AXpwAAAAASUVORK5CYII=\" alt=\"꽃\" width=\"47\" height=\"50\"> </a> <div class=\"service_info\"> <strong class=\"title\">프로젝트 꽃</strong> <a href=\"https://search.naver.com/search.naver?where=nexearch&sm=top_hty&fbm=1&ie=utf8&query=%ED%94%84%EB%A1%9C%EC%A0%9D%ED%8A%B8%EA%BD%83\" class=\"dsc\" data-clk=\"link\">바로가기</a> </div> </div> </div> </div> <div class=\"corp_area\" data-clk-prefix=\"plc\"> <h3 class=\"blind\">네이버 정책 및 약관</h3> <ul class=\"list_corp\"> <li class=\"corp_item\"><a href=\"https://www.navercorp.com\" data-clk=\"intronhn\">회사소개</a></li> <li class=\"corp_item\"><a href=\"https://recruit.navercorp.com/\" data-clk=\"recruit\">인재채용</a></li> <li class=\"corp_item\"><a href=\"https://www.navercorp.com/naver/proposalGuide\" data-clk=\"contact\">제휴제안</a></li> <li class=\"corp_item\"><a href=\"/policy/service.html\" data-clk=\"service\">이용약관</a></li> <li class=\"corp_item\"><a href=\"/policy/privacy.html\" data-clk=\"privacy\"><strong>개인정보처리방침</strong></a></li> <li class=\"corp_item\"><a href=\"/policy/youthpolicy.html\" data-clk=\"youth\">청소년보호정책</a></li> <li class=\"corp_item\"><a href=\"https://policy.naver.com/policy/service_group.html\" data-clk=\"policy\">네이버 정책</a></li> <li class=\"corp_item\"><a href=\"https://help.naver.com/\" data-clk=\"helpcenter\">고객센터</a></li> </ul> <address class=\"addr\"><a href=\"https://www.navercorp.com\" target=\"_blank\" data-clk=\"nhn\">ⓒ NAVER Corp.</a></address> </div> </div> </div> </div> <div id=\"adscript\" style=\"display:none\"></div> </body> </html>\\n'"
      ]
     },
     "execution_count": 4,
     "metadata": {},
     "output_type": "execute_result"
    }
   ],
   "source": [
    "import requests\n",
    "\n",
    "URL = 'http://www.naver.com/'\n",
    "\n",
    "response = requests.get(URL)\n",
    "html_data = response.text\n",
    "\n",
    "html_data"
   ]
  },
  {
   "cell_type": "markdown",
   "id": "77da1b37",
   "metadata": {},
   "source": [
    "# 정규표현식 기본 개념\n",
    "\n",
    "한 영화관에서는 예매 시 사용자의 휴대폰 번호를 입력받아야 합니다. 예매 정보는 해당 번호와 함께 저장됩니다. 그러나 종종 잘못된 번호가 입력되어 예매 정보가 유실되는 문제가 발생했습니다.\n",
    "\n",
    "이런 문제를 해결하기 위해, 영화관은 **정규표현식**을 사용해 휴대폰 번호를 검증하기로 결정했습니다. 이제 사용자가 휴대폰 번호를 입력할 때, 정확한 형식으로 입력되었는지 확인하고, 유효한 번호만 저장할 수 있습니다."
   ]
  },
  {
   "cell_type": "code",
   "execution_count": 2,
   "id": "4c4a2a85",
   "metadata": {},
   "outputs": [
    {
     "data": {
      "text/plain": [
       "['12345']"
      ]
     },
     "execution_count": 2,
     "metadata": {},
     "output_type": "execute_result"
    }
   ],
   "source": [
    "# 문자열에서 숫자를 추출하는 예시\n",
    "\n",
    "import re\n",
    "\n",
    "text = 'hello, my number is 12345.'\n",
    "\n",
    "numbers = re.findall('\\d+', text)\n",
    "numbers"
   ]
  },
  {
   "cell_type": "markdown",
   "id": "20945a6e",
   "metadata": {},
   "source": [
    "## 정규표현식의 장단점\n",
    "\n",
    "[장점]\n",
    "1.\t유연성: 정규표현식을 사용하면 다양한 패턴을 표현할 수 있습니다. 예를 들어, 특정 문자열이 특정 패턴을 따르는지 여부를 확인하거나, 특정 패턴을 가진 문자열을 찾아내는 등 다양한 용도로 사용할 수 있습니다.\n",
    "2.\t간결성: 문자열에서 원하는 정보를 추출하는 데에는 정규표현식이 다른 방법에 비해 더 간단하고 직관적입니다.\n",
    "3.\t속도: 정규표현식은 문자열을 일일이 검색하는 것보다 더 빠른 속도로 패턴을 찾아낼 수 있습니다.\n",
    "\n",
    "[단점]\n",
    "1.\t복잡성: 정규표현식은 다양한 패턴을 표현할 수 있지만, 그만큼 문법이 복잡합니다. 특히 초보자에게는 익숙해지기까지 시간이 걸릴 수 있습니다.\n",
    "2.\t이식성: 언어나 툴마다 문법이 조금씩 다르기 때문에, 한 번 익힌 정규표현식이 다른 환경에서는 작동하지 않을 수도 있습니다.\n",
    "3.\t가독성: 정규표현식을 사용하면 코드의 가독성이 떨어질 수 있습니다. 특히, 매우 복잡한 정규표현식을 작성하면 코드가 길어지고 가독성이 나빠질 수 있습니다.\n",
    "위와 같이, 정규표현식은 다양한 장단점을 가지고 있습니다. 그러나 정규표현식은 파이썬을 비롯한 다양한 프로그래밍 언어에서 사용되는 유용한 도구입니다. 아래는 파이썬 코드로 정규표현식을 사용한 문자열 패턴 매칭 예시입니다."
   ]
  },
  {
   "cell_type": "code",
   "execution_count": 6,
   "id": "7f6368bf",
   "metadata": {},
   "outputs": [
    {
     "name": "stdout",
     "output_type": "stream",
     "text": [
      "['010-1234-6789']\n"
     ]
    }
   ],
   "source": [
    "#  정규표현식을 이용하여 전화번호를 추출하는 예시\n",
    "\n",
    "# 패턴 설정\n",
    "\n",
    "pattern = r'\\d{3}-\\d{4}-\\d{4}'\n",
    "\n",
    "# 패턴 매칭\n",
    "\n",
    "phone_numbers = ['010-1234-6789', '02-555-1234', '031-222-3333']\n",
    "matched_numbers = []\n",
    "\n",
    "for number in phone_numbers :\n",
    "    \n",
    "    if re.match(pattern, number) :\n",
    "        matched_numbers.append(number)\n",
    "        print(matched_numbers)"
   ]
  },
  {
   "cell_type": "markdown",
   "id": "73c42b6e",
   "metadata": {},
   "source": [
    "## 정규표현식의 구성 요소\n",
    "\n",
    "정규표현식은 다음과 같은 구성 요소를 가집니다.\n",
    "\n",
    "- 문자: 특정 문자를 표현합니다. 예를 들어, 'a'는 문자 'a'를 의미합니다.\n",
    "- 메타 문자: 특별한 의미를 가지는 문자입니다. 예를 들어, '.'은 어떤 문자에도 매치되는 문자입니다.\n",
    "- 문자 클래스: 여러 개의 문자 중 하나를 선택합니다. 대괄호([])로 표현합니다. 예를 들어, '[abc]'는 'a', 'b', 'c' 중 하나에 매치됩니다.\n",
    "- 반복: 문자 또는 메타 문자가 반복되는 횟수를 지정합니다. '*', '+', '?', '{m}', '{m,n}' 등으로 표현합니다. 예를 들어, 'a'는 'a'가 0번 이상 반복되는 문자열에 매치됩니다.\n",
    "- 그룹: 하나의 문자 또는 메타 문자의 집합을 그룹화합니다. 괄호()로 표현합니다. 예를 들어, '(abc)+'는 'abc'가 1번 이상 반복되는 문자열에 매치됩니다."
   ]
  },
  {
   "cell_type": "markdown",
   "id": "e1a70094",
   "metadata": {},
   "source": [
    "### Raw string\n",
    "\n",
    "- 문자열을 나타낼 때, 문자열 앞에 \"r\" 또는 \"R\"을 붙이면 해당 문자열이 raw string으로 처리됩니다. Raw string은 newline 문자 (\\n) 및 백슬래시 ()와 같은 이스케이프 시퀀스를 처리하지 않는 문자열\n",
    "\n",
    "- 로우 스트링을 사용하면 백슬래시와 같은 이스케이프 문자를 사용하지 않아도 되므로 가독성이 좋아진다."
   ]
  },
  {
   "cell_type": "code",
   "execution_count": 7,
   "id": "ba9664b2",
   "metadata": {},
   "outputs": [
    {
     "name": "stdout",
     "output_type": "stream",
     "text": [
      "C:\\hkmd1\\m2_라이브러리\\crawling \n",
      "\n",
      "Row string 사용 :  C:\\hkmd1\\m2_라이브러리\\crawling\n"
     ]
    }
   ],
   "source": [
    "str1 = 'C:\\\\hkmd1\\\\m2_라이브러리\\\\crawling'\n",
    "print(str1, '\\n')\n",
    "\n",
    "str2 = r'C:\\hkmd1\\m2_라이브러리\\crawling'\n",
    "print('Row string 사용 : ', str2)"
   ]
  },
  {
   "cell_type": "code",
   "execution_count": 8,
   "id": "12be8c90",
   "metadata": {},
   "outputs": [
    {
     "name": "stdout",
     "output_type": "stream",
     "text": [
      "['a']\n",
      "['a', 'p', 'p', 'l', 'e']\n",
      "['a', 'e']\n",
      "['bana']\n",
      "['ba', '']\n"
     ]
    }
   ],
   "source": [
    "# re.findall()은 두개의 인자를 가진다 첫번째 인자는 찾으려는 패턴을 지정하는 정규 표현식\n",
    "# 두번째 인자는 검색대상이 되는 문자열\n",
    "\n",
    "pattern1 = 'a'\n",
    "text1 = 'apple'\n",
    "\n",
    "print(re.findall(pattern1, text1))\n",
    "\n",
    "pattern2 = '.'\n",
    "text2 = 'apple'\n",
    "\n",
    "print(re.findall(pattern2, text2))\n",
    "\n",
    "pattern3 = '[aeiou]'\n",
    "text3 = 'apple'\n",
    "\n",
    "print(re.findall(pattern3, text3))\n",
    "\n",
    "pattern4 = 'ba*na' # * 0번 이상 반복\n",
    "text4 = 'banana'\n",
    "\n",
    "print(re.findall(pattern4, text4))\n",
    "\n",
    "pattern5 = '(ba)*na'\n",
    "text5 = 'banana'\n",
    "\n",
    "print(re.findall(pattern5, text5))"
   ]
  },
  {
   "cell_type": "markdown",
   "id": "9244db5b",
   "metadata": {},
   "source": [
    "### 정규표현식의 문법\n",
    "\n",
    "\n",
    "정규표현식의 문법에는 다양한 메타문자(meta-character)가 사용됩니다. 메타문자란 일반적으로 사용되는 문자가 아니라, 특별한 의미를 가지는 문자를 말합니다. 메타문자는 다양한 용도로 사용되며, 각각의 기능은 다음과 같습니다."
   ]
  },
  {
   "cell_type": "markdown",
   "id": "b0854765",
   "metadata": {},
   "source": [
    "## 메타문자의 종류와 사용 방법\n",
    "\n",
    "\n",
    "\n",
    "[문자 클래스]\n",
    " - \\d 숫자와 매치, [0-9]와 동일한 표현식\n",
    " - \\D 숫자가 아닌 것과 매치, [^0-9]와 동일한 표현식\n",
    " - \\s whitespace 문자와 매치, [ \\t\\n\\r\\f\\v]와 동일한 표현식\n",
    " - \\S whitespace 문자가 아닌 것과 매치, [^ \\t\\n\\r\\f\\v]와 동일한 표현식\n",
    " - \\w 문자 + 숫자와 매치, [a-zA-Z0-9]와 동일한 표현식\n",
    " - \\W 문자 + 숫자가 아닌 문자와 매치, [^a-zA-Z0-9]와 동일한 표현식\n",
    "\n",
    "[whitespace]\n",
    " -  스페이스 바 (아스키코드 32)\n",
    " -  ＼b  뒤로 한 칸 이동 (Backspace) (아스키코드 8)\n",
    " -  ＼t  수평탭 간격 띄우기 (아스키코드 9)\n",
    " -  ＼n  줄바꿈 (Linefeed) (아스키코드 10)\n",
    " -  ＼v  수직탭 간격 띄우기 (아스키코드 11)\n",
    " -  ＼f  프린트 출력 용지를 한 페이지 넘김 (Form feed) (아스키코드 12)\n",
    " -  ＼r  동일한 줄의 맨 앞으로 커서 이동 (Carriage Return) (아스키코드 13)\n",
    " - Dot(.) 메타 문자는 줄바꿈 문자인 \\n를 제외한 모든 문자와 매치됨을 의미\n",
    " \n",
    " 참고 : whitespace 문자는 공백과 같은 문자 주로 특정 문자열에서 단어를 구분하기 위하여 사용\n",
    "\n",
    "[문자열의 반복과 선택을 나타내는 메타문자]\n",
    "- ^ : 문자열의 시작을 나타냄. 예를 들어, '^a'는 문자열의 시작이 'a'인 경우와 매치됨.\n",
    "- $\\$ : 문자열의 끝을 나타냄. 예를 들어, 'a\\$$'는 문자열의 끝이 'a'인 경우와 매치됨.\n",
    "\n",
    "\n",
    "\n",
    "[문자열의 반복과 선택을 나타내는 메타문자]\n",
    "- 반복(\\*) ca*t 0부터 무한대로 반복\n",
    "- 반복(\\+) ca+t 최소 1번 이상 반복\n",
    "- ca{m,n} a 반복 횟수가 m부터 n까지인 것을 매치\n",
    "- ca{2}t는 c+a(2번 반복)+t의 의미\n",
    "- 반복횟수가 {1,}은 1 이상, {0,}은 0 이상인 경우로 각각 +, *와 동일하며 {,1}은 반복횟수가 1 이하를 의미.\n",
    "- ab?c b가 0~1번 사용되면 매치되는 것으로 ?은 앞의 b가 있어도 되고 없어도 된다"
   ]
  },
  {
   "cell_type": "markdown",
   "id": "7d3a4dd2",
   "metadata": {},
   "source": [
    "## re 모듈\n",
    "\n",
    "정규표현식을 파이썬에서 사용하기 위해서는 re 모듈을 import하여 사용합니다. 이를 이용하여 정규식을 컴파일하고 정규식을 이용한 문자열 검색 등 다양한 작업을 수행할 수 있습니다.\n",
    "\n",
    "re 모듈을 이용하여 문자열 검색을 수행하는 함수는 다음과 같습니다.\n",
    "\n",
    "- compile(): 정규식을 컴파일합니다.\n",
    "- match(): 문자열의 처음부터 정규식과 매치되는지 조사합니다.\n",
    "- search(): 문자열의 전체를 검색하여 정규식과 매치되는지 조사합니다.\n",
    "- findall(): 정규식과 매치되는 모든 문자열을 리스트로 리턴합니다.\n",
    "- finditer(): 정규식과 매치되는 모든 문자열을 반복 가능한 객체로 리턴합니다."
   ]
  },
  {
   "cell_type": "code",
   "execution_count": 9,
   "id": "8af8d038",
   "metadata": {},
   "outputs": [
    {
     "name": "stdout",
     "output_type": "stream",
     "text": [
      "match found!\n"
     ]
    }
   ],
   "source": [
    "pattern = re.compile('ab+c')\n",
    "match = pattern.search('abbbc')\n",
    "\n",
    "if match :\n",
    "    print('match found!')\n",
    "\n",
    "else :\n",
    "    print('match not found!')"
   ]
  },
  {
   "cell_type": "code",
   "execution_count": 10,
   "id": "bd9daf7b",
   "metadata": {},
   "outputs": [
    {
     "data": {
      "text/plain": [
       "<re.Match object; span=(0, 5), match='abbbc'>"
      ]
     },
     "execution_count": 10,
     "metadata": {},
     "output_type": "execute_result"
    }
   ],
   "source": [
    "re.search(pattern, 'abbbc')"
   ]
  },
  {
   "cell_type": "code",
   "execution_count": 11,
   "id": "ae791306",
   "metadata": {},
   "outputs": [
    {
     "data": {
      "text/plain": [
       "<re.Match object; span=(0, 5), match='abbbc'>"
      ]
     },
     "execution_count": 11,
     "metadata": {},
     "output_type": "execute_result"
    }
   ],
   "source": [
    "re.match(pattern, 'abbbc')"
   ]
  },
  {
   "cell_type": "code",
   "execution_count": 12,
   "id": "f0c06137",
   "metadata": {},
   "outputs": [
    {
     "data": {
      "text/plain": [
       "['abbbc', 'abc']"
      ]
     },
     "execution_count": 12,
     "metadata": {},
     "output_type": "execute_result"
    }
   ],
   "source": [
    "re.findall(pattern, 'abbbceeabce')"
   ]
  },
  {
   "cell_type": "code",
   "execution_count": 13,
   "id": "fce67090",
   "metadata": {},
   "outputs": [
    {
     "name": "stdout",
     "output_type": "stream",
     "text": [
      "<re.Match object; span=(0, 5), match='abbbc'>\n",
      "<re.Match object; span=(7, 10), match='abc'>\n"
     ]
    }
   ],
   "source": [
    "m = re.finditer(pattern, 'abbbceeabce')\n",
    "\n",
    "for i in m :\n",
    "    print(i)"
   ]
  },
  {
   "cell_type": "markdown",
   "id": "58a77c66",
   "metadata": {},
   "source": [
    "### 과제1\n",
    "\n",
    "정규표현식을 사용하여 이메일을 추출하세요.\n",
    "\n",
    "text = '이메일 주소는 abc123@gmail.com 입니다.'"
   ]
  },
  {
   "cell_type": "code",
   "execution_count": 39,
   "id": "e5c97fd8",
   "metadata": {},
   "outputs": [
    {
     "name": "stdout",
     "output_type": "stream",
     "text": [
      "['abc123@gmail.com']\n"
     ]
    }
   ],
   "source": [
    "text =  '이메일 주소는 abc123@gmail.com 입니다.'\n",
    "\n",
    "pattern = re.compile('\\b{,}\\w{,}@\\w{,}.\\w{,}\\b{,}')\n",
    "\n",
    "print(re.findall(pattern, text))"
   ]
  },
  {
   "cell_type": "code",
   "execution_count": 50,
   "id": "77261b0a",
   "metadata": {},
   "outputs": [
    {
     "name": "stdout",
     "output_type": "stream",
     "text": [
      "['abc-123@gmail.com']\n"
     ]
    }
   ],
   "source": [
    "text =  '이메일 주소는 abc-123@gmail.com 입니다.'\n",
    "\n",
    "pattern = re.compile(r'\\b[\\w-]+@\\w+.\\w+\\b')\n",
    "\n",
    "print(re.findall(pattern, text))"
   ]
  },
  {
   "cell_type": "code",
   "execution_count": 63,
   "id": "461fc3a0",
   "metadata": {},
   "outputs": [
    {
     "name": "stdout",
     "output_type": "stream",
     "text": [
      "['abc-123@gmail.com']\n"
     ]
    }
   ],
   "source": [
    "text =  '이메일 주소는 abc-123@gmail.com 입니다.'\n",
    "\n",
    "p = r'[\\w-]+@[\\w]+\\.\\w{2,4}'\n",
    "\n",
    "print(re.findall(pattern, text))"
   ]
  },
  {
   "cell_type": "code",
   "execution_count": 15,
   "id": "85dfb607",
   "metadata": {},
   "outputs": [
    {
     "name": "stdout",
     "output_type": "stream",
     "text": [
      "abc123@gmail.com\n"
     ]
    }
   ],
   "source": [
    "pattern = re.compile(r'\\b\\w+@\\w+.\\w+\\b') # 이게 더 적합\n",
    "\n",
    "match = re.search(pattern, text)\n",
    "\n",
    "if match :\n",
    "    email = match.group()\n",
    "    print(email)\n",
    "\n",
    "else :\n",
    "    print('주소를 찾지 못했습니다.')"
   ]
  },
  {
   "cell_type": "markdown",
   "id": "5c1f5300",
   "metadata": {},
   "source": [
    "### 과제2\n",
    "\n",
    "정규표현식을 사용하여 text에서 전화번호를 추출하세요\n",
    "\n",
    "phone = '전화 번호는 010-1234-5678 입니다.'"
   ]
  },
  {
   "cell_type": "code",
   "execution_count": 31,
   "id": "b54ca4b7",
   "metadata": {},
   "outputs": [
    {
     "name": "stdout",
     "output_type": "stream",
     "text": [
      "['010-1234-5678']\n"
     ]
    }
   ],
   "source": [
    "phone = '전화 번호는 010-1234-5678 입니다.'\n",
    "\n",
    "pattern = re.compile('\\d{3}-\\d{4}-\\d{4}')\n",
    "\n",
    "print(re.findall(pattern, phone))"
   ]
  },
  {
   "cell_type": "code",
   "execution_count": 38,
   "id": "02e8fd32",
   "metadata": {},
   "outputs": [
    {
     "name": "stdout",
     "output_type": "stream",
     "text": [
      "010-1234-5678\n"
     ]
    }
   ],
   "source": [
    "# pattern = re.compile(r'\\b\\d+-\\d+-\\d+\\b')\n",
    "pattern = re.compile(r'\\b\\d{2,3}-\\d{3,4}-\\d{3,4}\\b')\n",
    "\n",
    "match = re.search(pattern, phone)\n",
    "\n",
    "if match :\n",
    "    call = match.group()\n",
    "    print(call)\n",
    "\n",
    "else :\n",
    "    print('전화번호를 찾지 못햇습니다.')"
   ]
  },
  {
   "cell_type": "markdown",
   "id": "95bd8501",
   "metadata": {},
   "source": [
    "### 과제3\n",
    "\n",
    "정규표현식을 사용하여 text에서 URL를 추출하세요\n",
    "\n",
    "text= '저의 블로그 주소는 http://www.example.com 입니다.'"
   ]
  },
  {
   "cell_type": "code",
   "execution_count": 67,
   "id": "64417928",
   "metadata": {},
   "outputs": [
    {
     "name": "stdout",
     "output_type": "stream",
     "text": [
      "['http://www.example.com']\n"
     ]
    }
   ],
   "source": [
    "text= '저의 블로그 주소는 http://www.example.com 입니다.'\n",
    "\n",
    "pattern = re.compile('\\w{,}://\\w{,}.\\w{,}.\\w{,}')\n",
    "\n",
    "print(re.findall(pattern, text))"
   ]
  },
  {
   "cell_type": "code",
   "execution_count": 70,
   "id": "8f9932ba",
   "metadata": {},
   "outputs": [
    {
     "name": "stdout",
     "output_type": "stream",
     "text": [
      "http://www.example.com\n"
     ]
    }
   ],
   "source": [
    "pattern = re.compile(r'\\b\\w+://\\w+.\\w+.\\w+\\b') # 이게 더 적합\n",
    "\n",
    "match = re.search(pattern, text)\n",
    "\n",
    "if match :\n",
    "    blog = match.group()\n",
    "    print(blog)\n",
    "    \n",
    "else :\n",
    "    print('블로그 주소를 찾지 못했습니다.')"
   ]
  },
  {
   "cell_type": "code",
   "execution_count": 105,
   "id": "9ae50cd9",
   "metadata": {},
   "outputs": [
    {
     "name": "stdout",
     "output_type": "stream",
     "text": [
      "['http://www.example.com']\n"
     ]
    }
   ],
   "source": [
    "text= '저의 블로그 주소는 http://www.example.com/ 입니다.'\n",
    "\n",
    "pattern = re.compile(r'\\bhttp[s]?://[\\S\\w.]+/?\\b')\n",
    "\n",
    "print(re.findall(pattern, text))"
   ]
  },
  {
   "cell_type": "code",
   "execution_count": 38,
   "id": "6bec8c93",
   "metadata": {},
   "outputs": [
    {
     "name": "stdout",
     "output_type": "stream",
     "text": [
      "http://www.example.com\n"
     ]
    }
   ],
   "source": [
    "text = '저의 블로그 주소는 http://www.example.com 입니다.'\n",
    "pattern = re.compile(r'\\b(http[s]?://[\\S\\w./]+)\\b')\n",
    "\n",
    "match = pattern.search(text)\n",
    "\n",
    "if match:\n",
    "    print(match.group())\n",
    "else:\n",
    "    print('URL을 찾을 수 없습니다.')"
   ]
  },
  {
   "cell_type": "code",
   "execution_count": 40,
   "id": "6aae89b7",
   "metadata": {},
   "outputs": [
    {
     "name": "stdout",
     "output_type": "stream",
     "text": [
      "http://www.example.com\n"
     ]
    }
   ],
   "source": [
    "text = '저의 블로그 주소는 http://www.example.com/ 입니다.'\n",
    "pattern = re.compile(r'\\bhttp[s]?://[\\S\\w.]+/?\\b')  # 패턴 수정\n",
    "\n",
    "match = pattern.search(text)\n",
    "\n",
    "if match:\n",
    "    print(match.group())\n",
    "else:\n",
    "    print('URL을 찾을 수 없습니다.')"
   ]
  },
  {
   "cell_type": "markdown",
   "id": "c5ef87a3",
   "metadata": {},
   "source": [
    "### 과제 4\n",
    "\n",
    "정규표현식을 이용하여 html 태그를 제거한 후 '안녕하세요, 파이썬입니다.'를 출력하세요.\n",
    "\n",
    "html_string = '$<p>안녕하세요, <b>파이썬</b>입니다.</p>$'"
   ]
  },
  {
   "cell_type": "code",
   "execution_count": 20,
   "id": "8d5000b7",
   "metadata": {},
   "outputs": [
    {
     "name": "stdout",
     "output_type": "stream",
     "text": [
      "$안녕하세요, 파이썬입니다.$ \n",
      "\n",
      "안녕하세요, 파이썬입니다.\n"
     ]
    }
   ],
   "source": [
    "html_string = '$<p>안녕하세요, <b>파이썬</b>입니다.</p>$'\n",
    "\n",
    "pattern = re.compile(r'<.*?>')\n",
    "\n",
    "text = re.sub(pattern, '', html_string)\n",
    "print(text, '\\n')\n",
    "text = re.sub(r'\\$', '', text)\n",
    "\n",
    "print(text)"
   ]
  },
  {
   "cell_type": "markdown",
   "id": "0724e67a",
   "metadata": {},
   "source": [
    "### 과제5\n",
    "\n",
    "text = 'python3 is very good progamming lanuage!' 에서 다음을 수행하세요.\n",
    "\n",
    "- ['python', 'is', 'very', 'good', 'programming', 'language']을 출력\n",
    "- python3 출력\n",
    "- python 출력\n",
    "- 숫자만 출력\n",
    "- python3를 python으로 대체 "
   ]
  },
  {
   "cell_type": "code",
   "execution_count": 21,
   "id": "2fa0da42",
   "metadata": {},
   "outputs": [
    {
     "name": "stdout",
     "output_type": "stream",
     "text": [
      "['python', 'is', 'very', 'good', 'programming', 'lanuage']\n",
      "python3\n",
      "python\n",
      "3\n",
      "python is very good programming lanuage!\n"
     ]
    }
   ],
   "source": [
    "text = 'python3 is very good programming lanuage!'\n",
    "\n",
    "text1 = re.sub(r'\\d', '', text)\n",
    "pattern1 = re.compile(r'\\b\\w+\\b')\n",
    "a = re.findall(pattern1, text1)\n",
    "\n",
    "print(a)\n",
    "\n",
    "# pattern2 = re.compile(r'\\b\\w+\\d\\b')\n",
    "pattern2 = re.compile(r'\\b\\w+\\d\\b')\n",
    "b = re.findall(pattern2, text)\n",
    "\n",
    "print(b[0])\n",
    "\n",
    "text1 = re.sub(r'\\d', '', text)\n",
    "pattern3 = re.compile(r'\\b\\w+\\b')\n",
    "c = re.findall(pattern3, text1)\n",
    "\n",
    "print(c[0])\n",
    "\n",
    "pattern4 = re.compile(r'\\d+')\n",
    "\n",
    "d = re.findall(pattern4, text)\n",
    "\n",
    "print(d[0])\n",
    "\n",
    "pattern5 = re.compile(r'\\b\\w+\\d\\b')\n",
    "e = re.sub(pattern5, 'python', text)\n",
    "\n",
    "print(e)\n"
   ]
  },
  {
   "cell_type": "code",
   "execution_count": 22,
   "id": "091e4e4e",
   "metadata": {},
   "outputs": [
    {
     "name": "stdout",
     "output_type": "stream",
     "text": [
      "['python', 'is', 'very', 'good', 'programming', 'lanuage']\n",
      "python3\n",
      "python\n",
      "3\n",
      "python is very good programming lanuage!\n"
     ]
    }
   ],
   "source": [
    "text = 'python3 is very good programming lanuage!'\n",
    "\n",
    "pattern1 = re.compile(r'\\b\\w*[a-zA-Z]\\b')\n",
    "text1 = re.sub(r'\\d', '', text)\n",
    "a = re.findall(pattern1, text1)\n",
    "\n",
    "print(a)\n",
    "\n",
    "pattern2 = re.compile(r'\\b\\w+\\d\\b')\n",
    "match = re.search(pattern2, text)\n",
    "\n",
    "if match :\n",
    "    b = match.group()\n",
    "    print(b)\n",
    "\n",
    "pattern3 = re.compile(r'\\b\\w+\\b')\n",
    "text1 = re.sub(r'\\d', '', text)\n",
    "match = re.search(pattern3, text1)\n",
    "\n",
    "if match :\n",
    "    c = match.group()\n",
    "    print(c)\n",
    "    \n",
    "pattern4 = re.compile(r'\\d')\n",
    "match = re.search(pattern4, text)\n",
    "\n",
    "if match :\n",
    "    d = match.group()\n",
    "    print(d)\n",
    "    \n",
    "pattern5 = re.compile(r'\\b\\w+\\d\\b')\n",
    "e = re.sub(pattern5, 'python', text)\n",
    "\n",
    "print(e)"
   ]
  }
 ],
 "metadata": {
  "kernelspec": {
   "display_name": "Python 3 (ipykernel)",
   "language": "python",
   "name": "python3"
  },
  "language_info": {
   "codemirror_mode": {
    "name": "ipython",
    "version": 3
   },
   "file_extension": ".py",
   "mimetype": "text/x-python",
   "name": "python",
   "nbconvert_exporter": "python",
   "pygments_lexer": "ipython3",
   "version": "3.9.13"
  }
 },
 "nbformat": 4,
 "nbformat_minor": 5
}
