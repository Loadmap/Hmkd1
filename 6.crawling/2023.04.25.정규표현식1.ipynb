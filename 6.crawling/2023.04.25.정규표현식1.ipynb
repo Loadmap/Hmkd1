{
 "cells": [
  {
   "cell_type": "code",
   "execution_count": 35,
   "id": "53927594",
   "metadata": {},
   "outputs": [],
   "source": [
    "text1 = 'python python'\n",
    "text2 = 'python python '\n",
    "text3 = '3python python '"
   ]
  },
  {
   "cell_type": "code",
   "execution_count": 36,
   "id": "489697f7",
   "metadata": {},
   "outputs": [
    {
     "data": {
      "text/plain": [
       "'python '"
      ]
     },
     "execution_count": 36,
     "metadata": {},
     "output_type": "execute_result"
    }
   ],
   "source": [
    "import re\n",
    "\n",
    "p = re.compile('[a-z]+\\s')\n",
    "\n",
    "p.match(text1).group()"
   ]
  },
  {
   "cell_type": "code",
   "execution_count": 37,
   "id": "ad016cab",
   "metadata": {},
   "outputs": [
    {
     "data": {
      "text/plain": [
       "'python '"
      ]
     },
     "execution_count": 37,
     "metadata": {},
     "output_type": "execute_result"
    }
   ],
   "source": [
    "re.match('[a-z]+\\s', text1).group()"
   ]
  },
  {
   "cell_type": "code",
   "execution_count": 38,
   "id": "45dfc2ee",
   "metadata": {},
   "outputs": [
    {
     "data": {
      "text/plain": [
       "['python ', 'python ']"
      ]
     },
     "execution_count": 38,
     "metadata": {},
     "output_type": "execute_result"
    }
   ],
   "source": [
    "re.findall('[a-z]+\\s', text2)"
   ]
  },
  {
   "cell_type": "code",
   "execution_count": 39,
   "id": "fd856e7b",
   "metadata": {},
   "outputs": [
    {
     "data": {
      "text/plain": [
       "['python ', 'python ']"
      ]
     },
     "execution_count": 39,
     "metadata": {},
     "output_type": "execute_result"
    }
   ],
   "source": [
    "p.findall(text2)"
   ]
  },
  {
   "cell_type": "code",
   "execution_count": 40,
   "id": "62c69d48",
   "metadata": {},
   "outputs": [
    {
     "data": {
      "text/plain": [
       "'python '"
      ]
     },
     "execution_count": 40,
     "metadata": {},
     "output_type": "execute_result"
    }
   ],
   "source": [
    "# p.match(text3)\n",
    "p.search(text3).group()"
   ]
  },
  {
   "cell_type": "code",
   "execution_count": 42,
   "id": "64a53f39",
   "metadata": {},
   "outputs": [
    {
     "data": {
      "text/plain": [
       "['python ', 'python ']"
      ]
     },
     "execution_count": 42,
     "metadata": {},
     "output_type": "execute_result"
    }
   ],
   "source": [
    "p.findall(text3)"
   ]
  },
  {
   "cell_type": "code",
   "execution_count": 46,
   "id": "714a2c15",
   "metadata": {},
   "outputs": [
    {
     "name": "stdout",
     "output_type": "stream",
     "text": [
      "None\n",
      "<re.Match object; span=(1, 6), match='anker'>\n",
      "<re.Match object; span=(0, 6), match='banker'>\n"
     ]
    }
   ],
   "source": [
    "# 문자 클래스 : []\n",
    "\n",
    "p = re.compile('[a-z]+')\n",
    "p1 = p.match('Banker')\n",
    "p2 = p.search('Banker')\n",
    "p3 = p.search('banker')\n",
    "\n",
    "print(p1)\n",
    "print(p2)\n",
    "print(p3)"
   ]
  },
  {
   "cell_type": "code",
   "execution_count": 66,
   "id": "1311ce04",
   "metadata": {},
   "outputs": [
    {
     "name": "stdout",
     "output_type": "stream",
     "text": [
      "a\n"
     ]
    }
   ],
   "source": [
    "# 12345abc 에서 a만 출력하세요\n",
    "\n",
    "text = '12345abc'\n",
    "\n",
    "p = re.compile(r'[a]')\n",
    "\n",
    "a = p.search(text)\n",
    "\n",
    "print(a.group())"
   ]
  },
  {
   "cell_type": "code",
   "execution_count": 101,
   "id": "885652d6",
   "metadata": {},
   "outputs": [
    {
     "name": "stdout",
     "output_type": "stream",
     "text": [
      "a\n"
     ]
    }
   ],
   "source": [
    "text = '12345abc'\n",
    "\n",
    "p = re.compile(r'[\\D]')\n",
    "\n",
    "a = p.search(text)\n",
    "\n",
    "print(a.group())"
   ]
  },
  {
   "cell_type": "code",
   "execution_count": 94,
   "id": "9b262bf9",
   "metadata": {},
   "outputs": [
    {
     "name": "stdout",
     "output_type": "stream",
     "text": [
      "a\n"
     ]
    }
   ],
   "source": [
    "text = '12345abc'\n",
    "\n",
    "p = re.compile(r'[a-z]')\n",
    "\n",
    "a = p.search(text)\n",
    "\n",
    "print(a.group())"
   ]
  },
  {
   "cell_type": "code",
   "execution_count": 75,
   "id": "196be41c",
   "metadata": {},
   "outputs": [
    {
     "name": "stdout",
     "output_type": "stream",
     "text": [
      "A\n"
     ]
    }
   ],
   "source": [
    "# 12345Abc 에서 A만 출력하세요\n",
    "\n",
    "text = '12345Abc'\n",
    "\n",
    "p = re.compile(r'[A]')\n",
    "\n",
    "A = p.search(text)\n",
    "\n",
    "print(A.group())"
   ]
  },
  {
   "cell_type": "code",
   "execution_count": 95,
   "id": "e02af738",
   "metadata": {},
   "outputs": [
    {
     "name": "stdout",
     "output_type": "stream",
     "text": [
      "A\n"
     ]
    }
   ],
   "source": [
    "text = '12345Abc'\n",
    "\n",
    "p = re.compile(r'[\\D]')\n",
    "\n",
    "A = p.search(text)\n",
    "\n",
    "print(A.group())"
   ]
  },
  {
   "cell_type": "code",
   "execution_count": 96,
   "id": "e72eaef9",
   "metadata": {},
   "outputs": [
    {
     "name": "stdout",
     "output_type": "stream",
     "text": [
      "A\n"
     ]
    }
   ],
   "source": [
    "text = '12345Abc'\n",
    "\n",
    "p = re.compile(r'[A-Z]')\n",
    "\n",
    "A = p.search(text)\n",
    "\n",
    "print(A.group())"
   ]
  },
  {
   "cell_type": "code",
   "execution_count": 102,
   "id": "5adf3848",
   "metadata": {},
   "outputs": [
    {
     "name": "stdout",
     "output_type": "stream",
     "text": [
      "대\n"
     ]
    }
   ],
   "source": [
    "# KOREA 대한민국에서 대만 출력하세요\n",
    "\n",
    "text = 'KOREA 대한민국'\n",
    "\n",
    "p = re.compile(r'[대]')\n",
    "\n",
    "de = p.search(text)\n",
    "\n",
    "print(de.group())"
   ]
  },
  {
   "cell_type": "code",
   "execution_count": 112,
   "id": "60059a0f",
   "metadata": {},
   "outputs": [
    {
     "name": "stdout",
     "output_type": "stream",
     "text": [
      " 대\n"
     ]
    }
   ],
   "source": [
    "text = 'KOREA 대한민국'\n",
    "\n",
    "p = re.compile(r'\\s\\D')\n",
    "\n",
    "de = p.search(text)\n",
    "\n",
    "print(de.group())"
   ]
  },
  {
   "cell_type": "code",
   "execution_count": 118,
   "id": "c6806471",
   "metadata": {},
   "outputs": [
    {
     "name": "stdout",
     "output_type": "stream",
     "text": [
      " 대\n"
     ]
    }
   ],
   "source": [
    "text = 'KOREA 대한민국'\n",
    "\n",
    "p = re.compile(r'\\s\\D')\n",
    "\n",
    "de = p.findall(text)\n",
    "\n",
    "print(de[0])"
   ]
  },
  {
   "cell_type": "code",
   "execution_count": 82,
   "id": "417c2649",
   "metadata": {},
   "outputs": [
    {
     "name": "stdout",
     "output_type": "stream",
     "text": [
      "122333c\n"
     ]
    }
   ],
   "source": [
    "# 122333c 를 모두 출력하세요\n",
    "\n",
    "text = '122333c'\n",
    "\n",
    "p = re.compile(r'\\w+')\n",
    "\n",
    "t = p.search(text)\n",
    "\n",
    "print(t.group())"
   ]
  },
  {
   "cell_type": "code",
   "execution_count": 87,
   "id": "6a25eba5",
   "metadata": {},
   "outputs": [
    {
     "name": "stdout",
     "output_type": "stream",
     "text": [
      "122333c\n"
     ]
    }
   ],
   "source": [
    "text = '122333c'\n",
    "\n",
    "p = re.compile(r'\\d+\\D')\n",
    "\n",
    "t = p.search(text)\n",
    "\n",
    "print(t.group())"
   ]
  },
  {
   "cell_type": "code",
   "execution_count": 119,
   "id": "cef79eb7",
   "metadata": {},
   "outputs": [
    {
     "name": "stdout",
     "output_type": "stream",
     "text": [
      "122333c\n"
     ]
    }
   ],
   "source": [
    "text = '122333c'\n",
    "\n",
    "p = re.compile(r'[a-z0-9]+')\n",
    "\n",
    "t = p.search(text)\n",
    "\n",
    "print(t.group())"
   ]
  },
  {
   "cell_type": "code",
   "execution_count": 122,
   "id": "61928202",
   "metadata": {},
   "outputs": [
    {
     "data": {
      "text/plain": [
       "'122333c'"
      ]
     },
     "execution_count": 122,
     "metadata": {},
     "output_type": "execute_result"
    }
   ],
   "source": [
    "text = '122333c'\n",
    "\n",
    "p = re.compile(r'12{2}3{3}c')\n",
    "\n",
    "p.search(text).group()"
   ]
  },
  {
   "cell_type": "code",
   "execution_count": 84,
   "id": "bbf206b8",
   "metadata": {},
   "outputs": [
    {
     "name": "stdout",
     "output_type": "stream",
     "text": [
      "aaaabbbcccdddeee\n"
     ]
    }
   ],
   "source": [
    "# aaaabbbcccdddeee 를 모두 출력하세요\n",
    "\n",
    "text = 'aaaabbbcccdddeee'\n",
    "\n",
    "p = re.compile(r'\\w+')\n",
    "\n",
    "t = p.search(text)\n",
    "\n",
    "print(t.group())"
   ]
  },
  {
   "cell_type": "code",
   "execution_count": 123,
   "id": "709ffb27",
   "metadata": {},
   "outputs": [
    {
     "name": "stdout",
     "output_type": "stream",
     "text": [
      "aaaabbbcccdddeee\n"
     ]
    }
   ],
   "source": [
    "text = 'aaaabbbcccdddeee'\n",
    "\n",
    "p = re.compile(r'[a-z]+')\n",
    "\n",
    "t = p.search(text)\n",
    "\n",
    "print(t.group())"
   ]
  },
  {
   "cell_type": "code",
   "execution_count": 124,
   "id": "d538d6c8",
   "metadata": {},
   "outputs": [
    {
     "data": {
      "text/plain": [
       "'aaaabbbcccdddeee'"
      ]
     },
     "execution_count": 124,
     "metadata": {},
     "output_type": "execute_result"
    }
   ],
   "source": [
    "text = 'aaaabbbcccdddeee'\n",
    "\n",
    "p = re.compile(r'a{4}b{3}c{3}d{3}e{3}')\n",
    "\n",
    "p.search(text).group()"
   ]
  },
  {
   "cell_type": "markdown",
   "id": "5972b917",
   "metadata": {},
   "source": [
    "### 과제1\n",
    "\n",
    "BC CC ABC 모두 C가 출력 되는 정규 표현식을 작성하세요"
   ]
  },
  {
   "cell_type": "code",
   "execution_count": 201,
   "id": "f29aab70",
   "metadata": {},
   "outputs": [
    {
     "name": "stdout",
     "output_type": "stream",
     "text": [
      "C\n",
      "C\n",
      "C\n"
     ]
    }
   ],
   "source": [
    "pattern = re.compile(r'[C]')\n",
    "\n",
    "text1 = 'BC'\n",
    "text2 = 'CC'\n",
    "text3 = 'ABC'\n",
    "\n",
    "p1 = pattern.search(text1)\n",
    "p2 = pattern.search(text2)\n",
    "p3 = pattern.search(text3)\n",
    "\n",
    "print(p1.group())\n",
    "print(p2.group())\n",
    "print(p3.group())"
   ]
  },
  {
   "cell_type": "code",
   "execution_count": 294,
   "id": "9aa0ddb0",
   "metadata": {},
   "outputs": [
    {
     "name": "stdout",
     "output_type": "stream",
     "text": [
      "C\n",
      "C\n",
      "C\n"
     ]
    }
   ],
   "source": [
    "pattern = re.compile(r'\\D$')\n",
    "\n",
    "text1 = 'BC'\n",
    "text2 = 'CC'\n",
    "text3 = 'ABC'\n",
    "\n",
    "p1 = pattern.search(text1)\n",
    "p2 = pattern.search(text2)\n",
    "p3 = pattern.search(text3)\n",
    "\n",
    "print(p1.group())\n",
    "print(p2.group())\n",
    "print(p3.group())"
   ]
  },
  {
   "cell_type": "markdown",
   "id": "a1d48dcb",
   "metadata": {},
   "source": [
    "### 과제2\n",
    "\n",
    "1234a1234 에서 1 2 3 4를 모두 출력하세요"
   ]
  },
  {
   "cell_type": "code",
   "execution_count": 140,
   "id": "69d3d6ed",
   "metadata": {},
   "outputs": [
    {
     "name": "stdout",
     "output_type": "stream",
     "text": [
      "['1', '2', '3', '4', '1', '2', '3', '4']\n"
     ]
    }
   ],
   "source": [
    "text = '1234a1234'\n",
    "\n",
    "p = re.compile(r'\\d')\n",
    "\n",
    "r = p.findall(text)\n",
    "\n",
    "print(r)"
   ]
  },
  {
   "cell_type": "code",
   "execution_count": 270,
   "id": "df1f31f0",
   "metadata": {},
   "outputs": [
    {
     "name": "stdout",
     "output_type": "stream",
     "text": [
      "1\n",
      "2\n",
      "3\n",
      "4\n",
      "1\n",
      "2\n",
      "3\n",
      "4\n"
     ]
    }
   ],
   "source": [
    "text = '1234a1234'\n",
    "\n",
    "p = re.compile(r'[0-9]')\n",
    "\n",
    "r = p.findall(text)\n",
    "\n",
    "for i in r :\n",
    "    \n",
    "    print(i)"
   ]
  },
  {
   "cell_type": "markdown",
   "id": "9582208e",
   "metadata": {},
   "source": [
    "### 과제 3\n",
    "\n",
    "99food234, a93456\\n, a9356ba 에서 99food234만 출력하세요"
   ]
  },
  {
   "cell_type": "code",
   "execution_count": 567,
   "id": "9515702f",
   "metadata": {},
   "outputs": [
    {
     "name": "stdout",
     "output_type": "stream",
     "text": [
      "99food234\n"
     ]
    }
   ],
   "source": [
    "text = '99food234 a93456\\n a9356ba'\n",
    "\n",
    "p = re.compile(r'\\d{2}\\D+\\d{3}')\n",
    "\n",
    "r = p.search(text)\n",
    "\n",
    "print(r.group())"
   ]
  },
  {
   "cell_type": "code",
   "execution_count": 585,
   "id": "1e6ca4c5",
   "metadata": {},
   "outputs": [
    {
     "name": "stdout",
     "output_type": "stream",
     "text": [
      "99food234\n"
     ]
    }
   ],
   "source": [
    "text = '99food234 a93456\\n a9356ba'\n",
    "\n",
    "p = re.compile(r'\\d+f.\\S+\\d+')\n",
    "\n",
    "r = p.search(text)\n",
    "\n",
    "print(r.group())"
   ]
  },
  {
   "cell_type": "code",
   "execution_count": 147,
   "id": "62dce6f0",
   "metadata": {},
   "outputs": [
    {
     "name": "stdout",
     "output_type": "stream",
     "text": [
      "['life', 'is', 'too', 'short']\n"
     ]
    }
   ],
   "source": [
    "text = 'life is too short'\n",
    "\n",
    "p = re.compile('[a-z]+')\n",
    "\n",
    "r = p.findall(text)\n",
    "\n",
    "print(r)"
   ]
  },
  {
   "cell_type": "code",
   "execution_count": 151,
   "id": "152f9dda",
   "metadata": {},
   "outputs": [
    {
     "name": "stdout",
     "output_type": "stream",
     "text": [
      "life\n",
      "is\n",
      "too\n",
      "short\n"
     ]
    }
   ],
   "source": [
    "r = p.finditer(text)\n",
    "\n",
    "for i in r :\n",
    "    \n",
    "    print(i.group())"
   ]
  },
  {
   "cell_type": "code",
   "execution_count": 174,
   "id": "ada93d29",
   "metadata": {},
   "outputs": [
    {
     "data": {
      "text/plain": [
       "['Python', 'is', 'very', 'good', 'programming', 'language']"
      ]
     },
     "execution_count": 174,
     "metadata": {},
     "output_type": "execute_result"
    }
   ],
   "source": [
    "text = 'Python3 is very good programming language'\n",
    "\n",
    "re.findall(r'[a-zA-Z]+', text)"
   ]
  },
  {
   "cell_type": "code",
   "execution_count": 175,
   "id": "0da009ac",
   "metadata": {},
   "outputs": [
    {
     "name": "stdout",
     "output_type": "stream",
     "text": [
      "Python\n",
      "is\n",
      "very\n",
      "good\n",
      "programming\n",
      "language\n"
     ]
    }
   ],
   "source": [
    "r = re.finditer(r'[a-zA-Z]+', text)\n",
    "\n",
    "for i in r :\n",
    "    \n",
    "    print(i.group())"
   ]
  },
  {
   "cell_type": "code",
   "execution_count": 176,
   "id": "66e3844c",
   "metadata": {},
   "outputs": [
    {
     "name": "stdout",
     "output_type": "stream",
     "text": [
      "life\n",
      "None\n",
      "None\n"
     ]
    }
   ],
   "source": [
    "# match\n",
    "\n",
    "text1 = 'life'\n",
    "text2 = '!!!oh my life'\n",
    "text3 = '7 is lucky number'\n",
    "\n",
    "print(re.match('[a-z]+', text1).group())\n",
    "print(re.match('[a-z]+', text2))\n",
    "print(re.match('[a-z]+', text3))"
   ]
  },
  {
   "cell_type": "code",
   "execution_count": 187,
   "id": "d2eb6d29",
   "metadata": {},
   "outputs": [
    {
     "name": "stdout",
     "output_type": "stream",
     "text": [
      "<re.Match object; span=(2, 8), match='python'>\n",
      "python\n",
      "2\n",
      "8\n",
      "(2, 8)\n"
     ]
    }
   ],
   "source": [
    "# match 객체의 메서드\n",
    "\n",
    "m = re.search('[a-z]+', '3 python')\n",
    "\n",
    "print(m)\n",
    "print(m.group())\n",
    "print(m.start())\n",
    "print(m.end())\n",
    "print(m.span())\n"
   ]
  },
  {
   "cell_type": "code",
   "execution_count": 204,
   "id": "aa5b72f9",
   "metadata": {},
   "outputs": [
    {
     "name": "stdout",
     "output_type": "stream",
     "text": [
      "None\n",
      "<re.Match object; span=(0, 3), match='acb'>\n",
      "<re.Match object; span=(0, 6), match='a12?Ab'>\n"
     ]
    }
   ],
   "source": [
    "# DOt(.) 메타 문자는 줄바꿈 문자(\\n)을 제외한 모든 문자와 매치\n",
    "\n",
    "text = ['a\\nb', 'acb', 'a12?Ab']\n",
    "\n",
    "for t in text :\n",
    "    \n",
    "    r = re.match('a.+b', t)\n",
    "    print(r)"
   ]
  },
  {
   "cell_type": "code",
   "execution_count": 208,
   "id": "4cad0592",
   "metadata": {},
   "outputs": [
    {
     "name": "stdout",
     "output_type": "stream",
     "text": [
      "<re.Match object; span=(0, 3), match='a\\nb'>\n"
     ]
    }
   ],
   "source": [
    "# re.DOTALL 옵션은 여러줄로 이루어진 문자열에서 \\n에 상관없이 검색시 사용\n",
    "\n",
    "p = re.compile('a.b', re.DOTALL)\n",
    "\n",
    "m = p.match('a\\nb')\n",
    "print(m)"
   ]
  },
  {
   "cell_type": "code",
   "execution_count": 210,
   "id": "1cb9fa6f",
   "metadata": {},
   "outputs": [
    {
     "name": "stdout",
     "output_type": "stream",
     "text": [
      "what are you doing?\n"
     ]
    }
   ],
   "source": [
    "text = 'what are you doing?\\n it is going to be late for school'\n",
    "\n",
    "p = re.compile('.*')\n",
    "m = p.search(text)\n",
    "\n",
    "print(m.group())"
   ]
  },
  {
   "cell_type": "code",
   "execution_count": 212,
   "id": "0c09cedd",
   "metadata": {},
   "outputs": [
    {
     "name": "stdout",
     "output_type": "stream",
     "text": [
      "what are you doing?\n",
      " it is going to be late for school\n"
     ]
    }
   ],
   "source": [
    "text = 'what are you doing?\\n it is going to be late for school'\n",
    "\n",
    "p = re.compile('.*', re.DOTALL)\n",
    "m = p.search(text)\n",
    "\n",
    "print(m.group())"
   ]
  },
  {
   "cell_type": "markdown",
   "id": "68022a65",
   "metadata": {},
   "source": [
    "### 과제4\n",
    "\n",
    "text 에서 전체 문장을 모두 출력하세요"
   ]
  },
  {
   "cell_type": "code",
   "execution_count": 590,
   "id": "e31b0978",
   "metadata": {},
   "outputs": [
    {
     "name": "stdout",
     "output_type": "stream",
     "text": [
      "what are you doing?\n",
      "it is going to be late for shcool\n",
      "we need to hurry up\n"
     ]
    }
   ],
   "source": [
    "text = 'what are you doing?\\nit is going to be late for shcool\\nwe need to hurry up'\n",
    "\n",
    "m = re.search(r'.+', text, re.DOTALL)\n",
    "\n",
    "print(m.group())"
   ]
  },
  {
   "cell_type": "code",
   "execution_count": 218,
   "id": "ca0d6b36",
   "metadata": {},
   "outputs": [
    {
     "data": {
      "text/plain": [
       "'pAthon'"
      ]
     },
     "execution_count": 218,
     "metadata": {},
     "output_type": "execute_result"
    }
   ],
   "source": [
    "# re.IHNORECASE 또는 re.I 옵션은 대소문자 구분없이 매치를 수행시 사용\n",
    "\n",
    "re.match('[a-z]+', 'pAthon', re.I).group()"
   ]
  },
  {
   "cell_type": "markdown",
   "id": "e05f3229",
   "metadata": {},
   "source": [
    "### 과제 5\n",
    "\n",
    "아래 text에 내용을 모두 출력하세요<br>\n",
    "\n",
    "text = ['pAthon', 'PATHON', 'pathon', 'Pathon']"
   ]
  },
  {
   "cell_type": "code",
   "execution_count": 591,
   "id": "c8e41924",
   "metadata": {},
   "outputs": [
    {
     "name": "stdout",
     "output_type": "stream",
     "text": [
      "pAthon\n",
      "PATHON\n",
      "pathon\n",
      "Pathon\n"
     ]
    }
   ],
   "source": [
    "text = 'pAthon PATHON pathon Pathon'\n",
    "\n",
    "m = re.findall('[a-z]+', text, re.I)\n",
    "\n",
    "for i in m :\n",
    "    print(i)"
   ]
  },
  {
   "cell_type": "code",
   "execution_count": 601,
   "id": "59211f3f",
   "metadata": {},
   "outputs": [
    {
     "name": "stdout",
     "output_type": "stream",
     "text": [
      "pAthon\n",
      "PATHON\n",
      "pathon\n",
      "Pathon\n"
     ]
    }
   ],
   "source": [
    "text = 'pAthon PATHON pathon Pathon'\n",
    "\n",
    "m = re.findall(r'\\w+', text, re.I)\n",
    "\n",
    "for i in m :\n",
    "    print(i)"
   ]
  },
  {
   "cell_type": "code",
   "execution_count": 251,
   "id": "03619ff8",
   "metadata": {},
   "outputs": [
    {
     "name": "stdout",
     "output_type": "stream",
     "text": [
      "Friend\n",
      "fRiend\n",
      "friEnd\n",
      "FRIEND\n"
     ]
    }
   ],
   "source": [
    "# 대소문자 구분없이 출력\n",
    "\n",
    "text = 'Friend fRiend friEnd FRIEND'\n",
    "\n",
    "p = re.compile('[a-z]+', re.I)\n",
    "\n",
    "m = re.finditer(p, text)\n",
    "\n",
    "for i in m :\n",
    "    print(i.group())"
   ]
  },
  {
   "cell_type": "code",
   "execution_count": 239,
   "id": "544c64d2",
   "metadata": {},
   "outputs": [],
   "source": [
    "data = '''python one\n",
    "life is too short\n",
    "python  two \n",
    "you need python\n",
    "python three'''"
   ]
  },
  {
   "cell_type": "code",
   "execution_count": 245,
   "id": "8c4fb978",
   "metadata": {},
   "outputs": [
    {
     "data": {
      "text/plain": [
       "['python one']"
      ]
     },
     "execution_count": 245,
     "metadata": {},
     "output_type": "execute_result"
    }
   ],
   "source": [
    "# pyhon 이라는 문자열로 시작하고 그 뒤에 whitespace 그뒤에 단어가 오는경우\n",
    "\n",
    "re.findall('^python\\s\\w+', data)\n"
   ]
  },
  {
   "cell_type": "code",
   "execution_count": 247,
   "id": "20ae18b9",
   "metadata": {},
   "outputs": [
    {
     "data": {
      "text/plain": [
       "['python one', 'python two', 'python three']"
      ]
     },
     "execution_count": 247,
     "metadata": {},
     "output_type": "execute_result"
    }
   ],
   "source": [
    "# re.MULTILINE 또는 re.M옵션으로 ^메타 문자를 각 라인이 처음으로 인식시킴\n",
    "\n",
    "re.findall('^python\\s+\\w+', data, re.M)"
   ]
  },
  {
   "cell_type": "code",
   "execution_count": 273,
   "id": "131334a4",
   "metadata": {},
   "outputs": [],
   "source": [
    "# re.VERBOSE 또는 re.X : 이해하기 어려운 정규식을 주석 또는 라인 단위로 구분\n",
    "# charref = re.compile(r'&[#](0[0-7]+|[0-9]+|x[0-9a-fA-F]+);')\n",
    "\n",
    "charref = re.compile(r\"\"\"\n",
    "&[#]               # Start of a numeric entity reference\n",
    "(\n",
    "    0[0-7]+        # Octal form\n",
    "  | [0-9]+         # Decimal form \n",
    "  | x[0-9a-fA-F]+  # Hexadecimal form\n",
    ")\n",
    ";                  # Trailing semicolon \n",
    "\"\"\",re.VERBOSE)"
   ]
  },
  {
   "cell_type": "code",
   "execution_count": 280,
   "id": "89d7e38d",
   "metadata": {},
   "outputs": [
    {
     "data": {
      "text/plain": [
       "['\\\\section', '\\\\section']"
      ]
     },
     "execution_count": 280,
     "metadata": {},
     "output_type": "execute_result"
    }
   ],
   "source": [
    "# 파이썬 문자열 리터럴 규칙에 의하여 \\\\ 이 \\로 변경되어 \\section이 전달\n",
    "# 정규식 문자열 앞에 r문자를 삽입하면 raw string규칙에 의해 \\\\ 대신 \\ 1개 사용\n",
    "\n",
    "p = re.compile(r'\\\\section')\n",
    "p.match(r'\\section')\n",
    "p.findall(r'\\section\\section')"
   ]
  },
  {
   "cell_type": "code",
   "execution_count": 295,
   "id": "ccf8ba41",
   "metadata": {},
   "outputs": [
    {
     "data": {
      "text/plain": [
       "'Crow'"
      ]
     },
     "execution_count": 295,
     "metadata": {},
     "output_type": "execute_result"
    }
   ],
   "source": [
    "# | or 와 같은 의미 \n",
    "\n",
    "re.match('Crow|Servo', 'CrowHello').group()\n"
   ]
  },
  {
   "cell_type": "code",
   "execution_count": 304,
   "id": "9f88623e",
   "metadata": {},
   "outputs": [
    {
     "data": {
      "text/plain": [
       "'Life'"
      ]
     },
     "execution_count": 304,
     "metadata": {},
     "output_type": "execute_result"
    }
   ],
   "source": [
    "# ^ 문자열의 맨 처음 $ 문자열의 끝\n",
    "\n",
    "re.search('^Life', 'Life is too short').group()"
   ]
  },
  {
   "cell_type": "code",
   "execution_count": 306,
   "id": "2c42a977",
   "metadata": {},
   "outputs": [
    {
     "data": {
      "text/plain": [
       "'Life'"
      ]
     },
     "execution_count": 306,
     "metadata": {},
     "output_type": "execute_result"
    }
   ],
   "source": [
    "re.search('Life$', 'My Life').group()"
   ]
  },
  {
   "cell_type": "code",
   "execution_count": 308,
   "id": "9ea4a973",
   "metadata": {},
   "outputs": [
    {
     "data": {
      "text/plain": [
       "['Life', 'Life']"
      ]
     },
     "execution_count": 308,
     "metadata": {},
     "output_type": "execute_result"
    }
   ],
   "source": [
    "re.findall('^Life|Life$', 'Life My Life')"
   ]
  },
  {
   "cell_type": "code",
   "execution_count": 311,
   "id": "ac535e9d",
   "metadata": {},
   "outputs": [
    {
     "data": {
      "text/plain": [
       "['Life']"
      ]
     },
     "execution_count": 311,
     "metadata": {},
     "output_type": "execute_result"
    }
   ],
   "source": [
    "# \\A : 문자열의 처음과 매치 re.M 사용시 $ 와 달리 전체 문자열의 끝하고만 매치\n",
    "\n",
    "data = \"\"\"Life is too short\n",
    "Life is good\n",
    "Life is valuable\"\"\"\n",
    "\n",
    "re.findall('\\ALife', data)"
   ]
  },
  {
   "cell_type": "code",
   "execution_count": 315,
   "id": "67bc3062",
   "metadata": {},
   "outputs": [
    {
     "data": {
      "text/plain": [
       "['Life', 'Life', 'Life']"
      ]
     },
     "execution_count": 315,
     "metadata": {},
     "output_type": "execute_result"
    }
   ],
   "source": [
    "data = \"\"\"Life is too short\n",
    "Life is good\n",
    "Life is valuable\"\"\"\n",
    "\n",
    "re.findall('^Life', data, re.M)"
   ]
  },
  {
   "cell_type": "code",
   "execution_count": 319,
   "id": "b40c3738",
   "metadata": {},
   "outputs": [
    {
     "data": {
      "text/plain": [
       "['good']"
      ]
     },
     "execution_count": 319,
     "metadata": {},
     "output_type": "execute_result"
    }
   ],
   "source": [
    "# \\Z : 문자열의 끝과 매치 다만 re.M 사용시 $ 와 달리 전체 문자열의 끝하고만 매치\n",
    "\n",
    "data = \"\"\"Life is too short\n",
    "Life is good\n",
    "Life is good\"\"\"\n",
    "\n",
    "re.findall('good\\Z', data, re.M)"
   ]
  },
  {
   "cell_type": "code",
   "execution_count": 323,
   "id": "057c8535",
   "metadata": {},
   "outputs": [
    {
     "data": {
      "text/plain": [
       "'home'"
      ]
     },
     "execution_count": 323,
     "metadata": {},
     "output_type": "execute_result"
    }
   ],
   "source": [
    "# home만 출력\n",
    "\n",
    "text = 'we are going home'\n",
    "\n",
    "re.search('home$', text).group()"
   ]
  },
  {
   "cell_type": "code",
   "execution_count": 325,
   "id": "b9b720a9",
   "metadata": {},
   "outputs": [
    {
     "data": {
      "text/plain": [
       "'home'"
      ]
     },
     "execution_count": 325,
     "metadata": {},
     "output_type": "execute_result"
    }
   ],
   "source": [
    "# home만 출력\n",
    "\n",
    "text = 'home sweet'\n",
    "\n",
    "re.search('^home', text).group()"
   ]
  },
  {
   "cell_type": "code",
   "execution_count": 328,
   "id": "0baba25c",
   "metadata": {},
   "outputs": [
    {
     "data": {
      "text/plain": [
       "'199305'"
      ]
     },
     "execution_count": 328,
     "metadata": {},
     "output_type": "execute_result"
    }
   ],
   "source": [
    "# '199305, 1923A, a93247' 에서 199305 출력\n",
    "\n",
    "text = '199305, 1923A, a93247'\n",
    "\n",
    "re.search('^199305', text).group()"
   ]
  },
  {
   "cell_type": "code",
   "execution_count": 623,
   "id": "6c2e5b4b",
   "metadata": {},
   "outputs": [
    {
     "data": {
      "text/plain": [
       "['199305']"
      ]
     },
     "execution_count": 623,
     "metadata": {},
     "output_type": "execute_result"
    }
   ],
   "source": [
    "text = '1923A, 199305, a93247'\n",
    "re.findall('(\\d+),', text)"
   ]
  },
  {
   "cell_type": "code",
   "execution_count": 353,
   "id": "507281b3",
   "metadata": {},
   "outputs": [
    {
     "data": {
      "text/plain": [
       "'class'"
      ]
     },
     "execution_count": 353,
     "metadata": {},
     "output_type": "execute_result"
    }
   ],
   "source": [
    "# \\b : whitespace에 의해 구분\n",
    "\n",
    "text = 'no class at all'\n",
    "\n",
    "re.search(r'\\bclass\\b', text).group()"
   ]
  },
  {
   "cell_type": "code",
   "execution_count": 356,
   "id": "e795d824",
   "metadata": {},
   "outputs": [
    {
     "data": {
      "text/plain": [
       "'class'"
      ]
     },
     "execution_count": 356,
     "metadata": {},
     "output_type": "execute_result"
    }
   ],
   "source": [
    "# \\B : whitespace 로 구분된 단어가 아닌 경우에 만 매치\n",
    "\n",
    "text = 'the declassified aigorithim'\n",
    "\n",
    "re.search(r'\\Bclass\\B', text).group()"
   ]
  },
  {
   "cell_type": "code",
   "execution_count": 627,
   "id": "2d527b16",
   "metadata": {},
   "outputs": [
    {
     "data": {
      "text/plain": [
       "['에러 1122', '에러 1033', '에러 xxx']"
      ]
     },
     "execution_count": 627,
     "metadata": {},
     "output_type": "execute_result"
    }
   ],
   "source": [
    "# 정규표현식을 사용하여 text에서 에러가 들어간 부분만 포함하는 리스트 출력\n",
    "\n",
    "text = '에러 1122, 레퍼런스 오류, 에러 1033, 아규먼트 오류, 에러 xxx'\n",
    "\n",
    "re.findall(r'에러\\s\\w+', text)"
   ]
  },
  {
   "cell_type": "markdown",
   "id": "f31f5608",
   "metadata": {},
   "source": [
    "### 과제6\n",
    "\n",
    "() 에 정규표현식을 작성하여 아래와 같이 출력하세요\n",
    "\n",
    "['1 apple', '5 oranges', '3 boys', '4 girls', '10 army', '11 mr']"
   ]
  },
  {
   "cell_type": "code",
   "execution_count": 503,
   "id": "f6e06dbb",
   "metadata": {},
   "outputs": [
    {
     "name": "stdout",
     "output_type": "stream",
     "text": [
      "['1 apple', '5 oranges', '3 boys', '4 girls', '10 army', '11 mr']\n"
     ]
    }
   ],
   "source": [
    "li = '1 apple, 5 oranges, 3 boys, 4 girls; 10 army| 11 mr'\n",
    "\n",
    "regex = re.compile(r'\\d+\\s\\w+')\n",
    "\n",
    "list = regex.findall(li)\n",
    "print(list)"
   ]
  },
  {
   "cell_type": "markdown",
   "id": "83456f5d",
   "metadata": {},
   "source": [
    "### 과제7\n",
    "\n",
    "text 에서 다음을 수행하세요\n",
    "\n",
    "- H h 만 출력하세요\n",
    "- H h 가 아닌것을 모두 출력하세요"
   ]
  },
  {
   "cell_type": "code",
   "execution_count": 606,
   "id": "cee0c380",
   "metadata": {},
   "outputs": [
    {
     "name": "stdout",
     "output_type": "stream",
     "text": [
      "['H', 'h', 'h']\n",
      "['ello my friend! Life is s', 'ort you need pyt', 'on!']\n"
     ]
    }
   ],
   "source": [
    "text = 'Hello my friend! Life is short you need python!'\n",
    "\n",
    "m = re.findall('[h]', text, re.I)\n",
    "print(m)\n",
    "\n",
    "m1 = re.findall('[^h]+', text, re.I)\n",
    "print(m1)"
   ]
  },
  {
   "cell_type": "code",
   "execution_count": 419,
   "id": "06b755ed",
   "metadata": {},
   "outputs": [
    {
     "name": "stdout",
     "output_type": "stream",
     "text": [
      "<re.Match object; span=(0, 9), match='ABCABCABC'>\n",
      "ABCABCABC\n",
      "ABC\n"
     ]
    }
   ],
   "source": [
    "# 그룹핑\n",
    "# group(0) 매치된 전체 문자열 1 첫번째 그룹 2 두번째 그룹 n n번째 그룹\n",
    "\n",
    "text = 'ABCABCABC OK?'\n",
    "\n",
    "m = re.search('(ABC)+', text)\n",
    "\n",
    "print(m)\n",
    "print(m.group(0))\n",
    "print(m.group(1))"
   ]
  },
  {
   "cell_type": "code",
   "execution_count": 421,
   "id": "793c83df",
   "metadata": {},
   "outputs": [],
   "source": [
    "# text 에서 그룹핑을 사용하여 아래와 같이 출력하세요\n",
    "\n",
    "# ABCDEF\n",
    "# AB\n",
    "# CD\n",
    "# EF"
   ]
  },
  {
   "cell_type": "code",
   "execution_count": 437,
   "id": "dcf2b4af",
   "metadata": {},
   "outputs": [
    {
     "name": "stdout",
     "output_type": "stream",
     "text": [
      "ABCDEF\n",
      "ABCDEF\n",
      "AB\n",
      "CD\n",
      "EF\n"
     ]
    }
   ],
   "source": [
    "text = 'EDFABCDEFDEF OK?'\n",
    "\n",
    "m = re.search(r'((AB)(CD)(EF))', text)\n",
    "\n",
    "print(m.group(0))\n",
    "print(m.group(1))\n",
    "print(m.group(2))\n",
    "print(m.group(3))\n",
    "print(m.group(4))"
   ]
  },
  {
   "cell_type": "markdown",
   "id": "1e8a646b",
   "metadata": {},
   "source": [
    "### 과제8\n",
    "\n",
    "정규표현식을 사용하여 출력하세요\n",
    "\n",
    "- text 에서 지역 코드만 출력\n",
    "- 지역 코드 제외한 번호만 출력\n",
    "\n",
    "text = '문의사항이 있으면 032-232-3254로 연락주시기 바랍니다.'"
   ]
  },
  {
   "cell_type": "code",
   "execution_count": 525,
   "id": "e2c11422",
   "metadata": {},
   "outputs": [
    {
     "name": "stdout",
     "output_type": "stream",
     "text": [
      "032-232-3254\n",
      "032\n",
      "232-3254\n"
     ]
    }
   ],
   "source": [
    "text = '문의사항이 있으면 032-232-3254'\n",
    "\n",
    "m = re.search(r'(\\d{2,3})-(\\d{3,4}-\\d{4})', text)\n",
    "\n",
    "print(m.group())\n",
    "print(m.group(1))\n",
    "print(m.group(2))"
   ]
  },
  {
   "cell_type": "code",
   "execution_count": 447,
   "id": "50e421e5",
   "metadata": {},
   "outputs": [
    {
     "name": "stdout",
     "output_type": "stream",
     "text": [
      "<re.Match object; span=(0, 18), match='park 010-1234-1234'>\n",
      "park\n",
      "010-1234-1234\n",
      "010\n",
      "park 010-1234-1234\n"
     ]
    }
   ],
   "source": [
    "text = 'park 010-1234-1234'\n",
    "\n",
    "m = re.search(r'(\\w+)\\s+((\\d+)[-]\\d+[-]\\d+)', text)\n",
    "\n",
    "print(m)\n",
    "print(m.group(1))\n",
    "print(m.group(2))\n",
    "print(m.group(3))\n",
    "print(m.group())"
   ]
  },
  {
   "cell_type": "code",
   "execution_count": 458,
   "id": "80add3bf",
   "metadata": {},
   "outputs": [
    {
     "name": "stdout",
     "output_type": "stream",
     "text": [
      "very very\n"
     ]
    }
   ],
   "source": [
    "# 'Paris is very very beautiful.' 에서 'very very'를 출력하세요\n",
    "# \\1 은 재참조 메타문자로서 그룹핑된 문자열의 정규식의 첫번째 그룹을 지칭 2개의 동일한 단어가 연속적으로 사용되어야 매치\n",
    "\n",
    "text = 'Paris is very very beautiful.'\n",
    "\n",
    "m = re.search(r'\\b(\\w+)\\s+\\1', text)\n",
    "\n",
    "print(m.group())"
   ]
  },
  {
   "cell_type": "markdown",
   "id": "38454e25",
   "metadata": {},
   "source": [
    "### 과제 9\n",
    "\n",
    "아래 text에서 정규표현식을 사용하여 the the the 를 출력하세요"
   ]
  },
  {
   "cell_type": "code",
   "execution_count": 541,
   "id": "44e4bf50",
   "metadata": {},
   "outputs": [
    {
     "name": "stdout",
     "output_type": "stream",
     "text": [
      "the the the\n"
     ]
    }
   ],
   "source": [
    "text = 'Paris in the the the spring'\n",
    "\n",
    "m = re.search(r'\\b(\\w+)\\s+\\1\\s+\\1', text)\n",
    "\n",
    "print(m.group())"
   ]
  },
  {
   "cell_type": "code",
   "execution_count": 479,
   "id": "8a662397",
   "metadata": {},
   "outputs": [
    {
     "name": "stdout",
     "output_type": "stream",
     "text": [
      "abcdefghi\n",
      "e\n"
     ]
    }
   ],
   "source": [
    "# 'abcdefghij'에 대하여 중첩을 작용한 서브그룹 5개로 컴파일하여 group() 함수를 이용하여\n",
    "# 'abcdefgi' 'e'를 출력하세요\n",
    "\n",
    "text = 'abcdefghij'\n",
    "\n",
    "m = re.search(r'\\w+(e)\\w+[^j]', text)\n",
    "\n",
    "print(m.group(0))\n",
    "print(m.group(1))"
   ]
  },
  {
   "cell_type": "code",
   "execution_count": 486,
   "id": "51bacee9",
   "metadata": {},
   "outputs": [
    {
     "name": "stdout",
     "output_type": "stream",
     "text": [
      "abcdefghi\n",
      "e\n"
     ]
    }
   ],
   "source": [
    "text = 'abcdefghij'\n",
    "\n",
    "m = re.search(r'(a(b(c(d(e)f)g)h)i)j', text)\n",
    "\n",
    "print(m.group(1))\n",
    "print(m.group(5))"
   ]
  },
  {
   "cell_type": "code",
   "execution_count": 487,
   "id": "635f7f07",
   "metadata": {},
   "outputs": [
    {
     "name": "stdout",
     "output_type": "stream",
     "text": [
      "('abcdefghi', 'bcdefgh', 'cdefg', 'def', 'e')\n"
     ]
    }
   ],
   "source": [
    "# 위 문제에서 모든 서브 그룹에 대한 문자열을 포함하는 튜플을 출력\n",
    "\n",
    "print(m.groups())"
   ]
  },
  {
   "cell_type": "markdown",
   "id": "95fc0324",
   "metadata": {},
   "source": [
    "그룹핑된 문자열에 이름 붙이기\n",
    "\n",
    "- 정규표현식에서 그룹핑된 문자열에 이름을 붙이는 방법은 (?P$<name>$pattern) 형식을 사용하는 것입니다 \n",
    "이때 name은 그룹에 붙일 이름이며 pattern은 그룹화할 정규식 패턴입니다"
   ]
  },
  {
   "cell_type": "code",
   "execution_count": 497,
   "id": "08901631",
   "metadata": {},
   "outputs": [
    {
     "data": {
      "text/plain": [
       "'123-4533-7890'"
      ]
     },
     "execution_count": 497,
     "metadata": {},
     "output_type": "execute_result"
    }
   ],
   "source": [
    "text = \"John's phone number is 123-4533-7890.\"\n",
    "\n",
    "p = r'(?P<phone>\\d{3}-\\d{4}-\\d{4})'\n",
    "\n",
    "m = re.search(p, text)\n",
    "m.group('phone')\n"
   ]
  },
  {
   "cell_type": "markdown",
   "id": "f1041dfb",
   "metadata": {},
   "source": [
    "### 과제 10\n",
    "\n",
    "이름으로 그룹을 참조하여 text에서 Lots를 출력하세요\n",
    "\n",
    "text = 'Lots of punctuation Lots of punctuation'"
   ]
  },
  {
   "cell_type": "code",
   "execution_count": 647,
   "id": "3608d449",
   "metadata": {},
   "outputs": [
    {
     "name": "stdout",
     "output_type": "stream",
     "text": [
      "Lots\n"
     ]
    }
   ],
   "source": [
    "text = 'Lots of punctuation Lots of punctuation'\n",
    "\n",
    "p = r'(?P<L>Lots)'\n",
    "\n",
    "m = re.search(p, text, re.M)\n",
    "\n",
    "print(m.group('L'))"
   ]
  },
  {
   "cell_type": "code",
   "execution_count": 646,
   "id": "b641d162",
   "metadata": {},
   "outputs": [
    {
     "name": "stdout",
     "output_type": "stream",
     "text": [
      "Lots\n",
      "Lots\n"
     ]
    }
   ],
   "source": [
    "text = 'Lots of punctuation Lots of punctuation'\n",
    "\n",
    "p = r'(?P<L>Lots)'\n",
    "\n",
    "m = re.finditer(p, text, re.M)\n",
    "\n",
    "for i in m :\n",
    "    print(i.group('L'))"
   ]
  }
 ],
 "metadata": {
  "kernelspec": {
   "display_name": "Python 3 (ipykernel)",
   "language": "python",
   "name": "python3"
  },
  "language_info": {
   "codemirror_mode": {
    "name": "ipython",
    "version": 3
   },
   "file_extension": ".py",
   "mimetype": "text/x-python",
   "name": "python",
   "nbconvert_exporter": "python",
   "pygments_lexer": "ipython3",
   "version": "3.9.13"
  }
 },
 "nbformat": 4,
 "nbformat_minor": 5
}
