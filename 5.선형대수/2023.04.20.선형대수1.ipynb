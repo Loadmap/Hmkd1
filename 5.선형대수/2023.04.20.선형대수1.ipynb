{
 "cells": [
  {
   "cell_type": "markdown",
   "id": "288e84fa",
   "metadata": {},
   "source": [
    "## 데이터와 행렬\n",
    "- 스칼라 : 숫자 하나만으로 이루어진 데이터\n",
    "- 벡터 : 여러 숫자가 특정한 순서대로 모여 있는 것을 의미. 하나의 벡터를 이루는 데이터 수가 n개이면 n-차원 벡터라고 함\n",
    "- 열벡터는 열의 수가 1인 행렬\n",
    "- 하나의 데이터 레코드(행)를 단독으로 벡터로 나타낼 때는 하나의 열로 나타내고 복수의 데이터 레코드 집합을 행렬로 나타낼 때는 하나의 데이터 레코드가 하나의 행으로 표기하는 것은 데이터 분석에서 일반적인 관례\n",
    "- 스칼라와 벡터도 수학적으로는 행렬에 속한다.\n",
    "- 스칼라는 열과 행의 수가 각각 1인 행렬이고 벡터는 열의 수가 1인 행렬이다."
   ]
  },
  {
   "cell_type": "code",
   "execution_count": 1,
   "id": "e052181e",
   "metadata": {},
   "outputs": [
    {
     "name": "stdout",
     "output_type": "stream",
     "text": [
      "5.1\n",
      "[5.1 3.5 1.4 0.2]\n",
      "[5.1 4.9 4.7 4.6 5.  5.4 4.6 5.  4.4 4.9 5.4 4.8 4.8 4.3 5.8 5.7 5.4 5.1\n",
      " 5.7 5.1 5.4 5.1 4.6 5.1 4.8 5.  5.  5.2 5.2 4.7 4.8 5.4 5.2 5.5 4.9 5.\n",
      " 5.5 4.9 4.4 5.1 5.  4.5 4.4 5.  5.1 4.8 5.1 4.6 5.3 5.  7.  6.4 6.9 5.5\n",
      " 6.5 5.7 6.3 4.9 6.6 5.2 5.  5.9 6.  6.1 5.6 6.7 5.6 5.8 6.2 5.6 5.9 6.1\n",
      " 6.3 6.1 6.4 6.6 6.8 6.7 6.  5.7 5.5 5.5 5.8 6.  5.4 6.  6.7 6.3 5.6 5.5\n",
      " 5.5 6.1 5.8 5.  5.6 5.7 5.7 6.2 5.1 5.7 6.3 5.8 7.1 6.3 6.5 7.6 4.9 7.3\n",
      " 6.7 7.2 6.5 6.4 6.8 5.7 5.8 6.4 6.5 7.7 7.7 6.  6.9 5.6 7.7 6.3 6.7 7.2\n",
      " 6.2 6.1 6.4 7.2 7.4 7.9 6.4 6.3 6.1 7.7 6.3 6.4 6.  6.9 6.7 6.9 5.8 6.8\n",
      " 6.7 6.7 6.3 6.5 6.2 5.9]\n"
     ]
    }
   ],
   "source": [
    "from sklearn.datasets import load_iris\n",
    "\n",
    "iris = load_iris()\n",
    "\n",
    "x0 = iris.data[0, 0]\n",
    "x1 = iris.data[0, :]\n",
    "x2 = iris.data[:, 0]\n",
    "\n",
    "print(x0) # 스칼라\n",
    "print(x1) # 행 벡터\n",
    "print(x2) # 열 벡터"
   ]
  },
  {
   "cell_type": "code",
   "execution_count": 2,
   "id": "1963209a",
   "metadata": {},
   "outputs": [
    {
     "data": {
      "text/plain": [
       "dict_keys(['data', 'target', 'frame', 'target_names', 'DESCR', 'feature_names', 'filename', 'data_module'])"
      ]
     },
     "execution_count": 2,
     "metadata": {},
     "output_type": "execute_result"
    }
   ],
   "source": [
    "iris.keys()"
   ]
  },
  {
   "cell_type": "code",
   "execution_count": 3,
   "id": "dc40db02",
   "metadata": {},
   "outputs": [
    {
     "data": {
      "text/plain": [
       "['sepal length (cm)',\n",
       " 'sepal width (cm)',\n",
       " 'petal length (cm)',\n",
       " 'petal width (cm)']"
      ]
     },
     "execution_count": 3,
     "metadata": {},
     "output_type": "execute_result"
    }
   ],
   "source": [
    "iris.feature_names"
   ]
  },
  {
   "cell_type": "code",
   "execution_count": 4,
   "id": "2b158d23",
   "metadata": {},
   "outputs": [
    {
     "data": {
      "text/html": [
       "<div>\n",
       "<style scoped>\n",
       "    .dataframe tbody tr th:only-of-type {\n",
       "        vertical-align: middle;\n",
       "    }\n",
       "\n",
       "    .dataframe tbody tr th {\n",
       "        vertical-align: top;\n",
       "    }\n",
       "\n",
       "    .dataframe thead th {\n",
       "        text-align: right;\n",
       "    }\n",
       "</style>\n",
       "<table border=\"1\" class=\"dataframe\">\n",
       "  <thead>\n",
       "    <tr style=\"text-align: right;\">\n",
       "      <th></th>\n",
       "      <th>sepal length (cm)</th>\n",
       "      <th>sepal width (cm)</th>\n",
       "      <th>petal length (cm)</th>\n",
       "      <th>petal width (cm)</th>\n",
       "    </tr>\n",
       "  </thead>\n",
       "  <tbody>\n",
       "    <tr>\n",
       "      <th>0</th>\n",
       "      <td>5.1</td>\n",
       "      <td>3.5</td>\n",
       "      <td>1.4</td>\n",
       "      <td>0.2</td>\n",
       "    </tr>\n",
       "    <tr>\n",
       "      <th>1</th>\n",
       "      <td>4.9</td>\n",
       "      <td>3.0</td>\n",
       "      <td>1.4</td>\n",
       "      <td>0.2</td>\n",
       "    </tr>\n",
       "    <tr>\n",
       "      <th>2</th>\n",
       "      <td>4.7</td>\n",
       "      <td>3.2</td>\n",
       "      <td>1.3</td>\n",
       "      <td>0.2</td>\n",
       "    </tr>\n",
       "    <tr>\n",
       "      <th>3</th>\n",
       "      <td>4.6</td>\n",
       "      <td>3.1</td>\n",
       "      <td>1.5</td>\n",
       "      <td>0.2</td>\n",
       "    </tr>\n",
       "    <tr>\n",
       "      <th>4</th>\n",
       "      <td>5.0</td>\n",
       "      <td>3.6</td>\n",
       "      <td>1.4</td>\n",
       "      <td>0.2</td>\n",
       "    </tr>\n",
       "  </tbody>\n",
       "</table>\n",
       "</div>"
      ],
      "text/plain": [
       "   sepal length (cm)  sepal width (cm)  petal length (cm)  petal width (cm)\n",
       "0                5.1               3.5                1.4               0.2\n",
       "1                4.9               3.0                1.4               0.2\n",
       "2                4.7               3.2                1.3               0.2\n",
       "3                4.6               3.1                1.5               0.2\n",
       "4                5.0               3.6                1.4               0.2"
      ]
     },
     "execution_count": 4,
     "metadata": {},
     "output_type": "execute_result"
    }
   ],
   "source": [
    "import pandas as pd\n",
    "\n",
    "df = pd.DataFrame(iris.data, columns = iris.feature_names)\n",
    "\n",
    "df.head()"
   ]
  },
  {
   "cell_type": "code",
   "execution_count": 5,
   "id": "b4c99d7f",
   "metadata": {},
   "outputs": [
    {
     "data": {
      "text/plain": [
       "array([[5.1],\n",
       "       [3.5],\n",
       "       [1.4],\n",
       "       [0.2]])"
      ]
     },
     "execution_count": 5,
     "metadata": {},
     "output_type": "execute_result"
    }
   ],
   "source": [
    "# 넘파이를 사용한 벡터 표현 : 벡터 열 개수가 하나인 2차원 배열로 표현\n",
    "# 4차원 벡터 이면서 2차원 배열 : 배열의 차원은 벡터의 차원과 다른 의미\n",
    "\n",
    "import numpy as np\n",
    "\n",
    "x1 = np.array([[5.1],\n",
    "               [3.5], \n",
    "               [1.4], \n",
    "               [0.2]])\n",
    "\n",
    "x1"
   ]
  },
  {
   "cell_type": "code",
   "execution_count": 6,
   "id": "cd5f0333",
   "metadata": {},
   "outputs": [
    {
     "data": {
      "text/plain": [
       "array([5.1, 3.5, 1.4, 0.2])"
      ]
     },
     "execution_count": 6,
     "metadata": {},
     "output_type": "execute_result"
    }
   ],
   "source": [
    "# 넘파이는 1차원 베열 객체도 벡터로 인정 1차원 배열 4차원 벡터\n",
    "\n",
    "x1 = np.array([5.1, 3.5, 1.4, 0.2])\n",
    "\n",
    "x1"
   ]
  },
  {
   "cell_type": "markdown",
   "id": "4469ae36",
   "metadata": {},
   "source": [
    "- 행렬 : 복수의 차원을 가지는 데이터 레코드가 다시 여러 개 있는 경우의 데이터를 합쳐서 표기한 것\n",
    "- 붓꽃 예에서 붓꽃 6 송이에 대해 꽃잎과 꽃받침 크기를 측정했다면 4차원 붓꽃 데이터가 6개. 4 x 6 = 24개의 실수 숫자가 있은 것이며 이 숫자 집합을 행렬로 나타낼 수 있다.\n",
    "- 벡터는 열의 수가 1인 행렬이라고 볼 수 있으므로 열벡터라고도 한다.\n",
    "- 데이터를 행렬로 묶어서 표시할 때는 붓꽃 하나에 대한 데이터 레코드, 즉 하나의 벡터가 열이 아닌 행으로 표시한다.\n",
    "- 하나의 데이터 레코드를 단독으로 벡터로 나타낼 때는 하나의 열로 나타내고 복수의 데이터 레코드 집합을 행렬로 나타낼 때는 하나의 데이터 레코드가 하나의 행으로 표기하는 것은 일관성이 없어 보이지만 다른 연산 시 필요하여 데이터 분석에서 쓰는 일반적인 관례임을 유의해야 함"
   ]
  },
  {
   "cell_type": "code",
   "execution_count": 7,
   "id": "d933502a",
   "metadata": {},
   "outputs": [
    {
     "data": {
      "text/html": [
       "<div>\n",
       "<style scoped>\n",
       "    .dataframe tbody tr th:only-of-type {\n",
       "        vertical-align: middle;\n",
       "    }\n",
       "\n",
       "    .dataframe tbody tr th {\n",
       "        vertical-align: top;\n",
       "    }\n",
       "\n",
       "    .dataframe thead th {\n",
       "        text-align: right;\n",
       "    }\n",
       "</style>\n",
       "<table border=\"1\" class=\"dataframe\">\n",
       "  <thead>\n",
       "    <tr style=\"text-align: right;\">\n",
       "      <th></th>\n",
       "      <th>sepal length (cm)</th>\n",
       "      <th>sepal width (cm)</th>\n",
       "      <th>petal length (cm)</th>\n",
       "      <th>petal width (cm)</th>\n",
       "    </tr>\n",
       "  </thead>\n",
       "  <tbody>\n",
       "    <tr>\n",
       "      <th>0</th>\n",
       "      <td>5.1</td>\n",
       "      <td>3.5</td>\n",
       "      <td>1.4</td>\n",
       "      <td>0.2</td>\n",
       "    </tr>\n",
       "    <tr>\n",
       "      <th>1</th>\n",
       "      <td>4.9</td>\n",
       "      <td>3.0</td>\n",
       "      <td>1.4</td>\n",
       "      <td>0.2</td>\n",
       "    </tr>\n",
       "    <tr>\n",
       "      <th>2</th>\n",
       "      <td>4.7</td>\n",
       "      <td>3.2</td>\n",
       "      <td>1.3</td>\n",
       "      <td>0.2</td>\n",
       "    </tr>\n",
       "    <tr>\n",
       "      <th>3</th>\n",
       "      <td>4.6</td>\n",
       "      <td>3.1</td>\n",
       "      <td>1.5</td>\n",
       "      <td>0.2</td>\n",
       "    </tr>\n",
       "    <tr>\n",
       "      <th>4</th>\n",
       "      <td>5.0</td>\n",
       "      <td>3.6</td>\n",
       "      <td>1.4</td>\n",
       "      <td>0.2</td>\n",
       "    </tr>\n",
       "    <tr>\n",
       "      <th>5</th>\n",
       "      <td>5.4</td>\n",
       "      <td>3.9</td>\n",
       "      <td>1.7</td>\n",
       "      <td>0.4</td>\n",
       "    </tr>\n",
       "  </tbody>\n",
       "</table>\n",
       "</div>"
      ],
      "text/plain": [
       "   sepal length (cm)  sepal width (cm)  petal length (cm)  petal width (cm)\n",
       "0                5.1               3.5                1.4               0.2\n",
       "1                4.9               3.0                1.4               0.2\n",
       "2                4.7               3.2                1.3               0.2\n",
       "3                4.6               3.1                1.5               0.2\n",
       "4                5.0               3.6                1.4               0.2\n",
       "5                5.4               3.9                1.7               0.4"
      ]
     },
     "execution_count": 7,
     "metadata": {},
     "output_type": "execute_result"
    }
   ],
   "source": [
    "df.head(6)"
   ]
  },
  {
   "cell_type": "code",
   "execution_count": 8,
   "id": "978d5f05",
   "metadata": {},
   "outputs": [
    {
     "data": {
      "text/plain": [
       "sepal length (cm)    5.1\n",
       "sepal width (cm)     3.5\n",
       "petal length (cm)    1.4\n",
       "petal width (cm)     0.2\n",
       "Name: 0, dtype: float64"
      ]
     },
     "execution_count": 8,
     "metadata": {},
     "output_type": "execute_result"
    }
   ],
   "source": [
    "df.iloc[:, 0]\n",
    "df.iloc[0, :]"
   ]
  },
  {
   "cell_type": "code",
   "execution_count": 9,
   "id": "71a8a5df",
   "metadata": {},
   "outputs": [
    {
     "data": {
      "text/plain": [
       "array([[11, 12, 13],\n",
       "       [21, 22, 23]])"
      ]
     },
     "execution_count": 9,
     "metadata": {},
     "output_type": "execute_result"
    }
   ],
   "source": [
    "# 전치 연산 - 행과 열을 뒤바꿈 T행렬\n",
    "\n",
    "a = np.array([[11, 12, 13], [21, 22, 23]])\n",
    "\n",
    "a"
   ]
  },
  {
   "cell_type": "code",
   "execution_count": 10,
   "id": "40cfd5bc",
   "metadata": {},
   "outputs": [
    {
     "data": {
      "text/plain": [
       "array([[11, 21],\n",
       "       [12, 22],\n",
       "       [13, 23]])"
      ]
     },
     "execution_count": 10,
     "metadata": {},
     "output_type": "execute_result"
    }
   ],
   "source": [
    "a.T"
   ]
  },
  {
   "cell_type": "code",
   "execution_count": 11,
   "id": "0a75bf90",
   "metadata": {},
   "outputs": [
    {
     "data": {
      "text/plain": [
       "array([[0.],\n",
       "       [0.],\n",
       "       [0.]])"
      ]
     },
     "execution_count": 11,
     "metadata": {},
     "output_type": "execute_result"
    }
   ],
   "source": [
    "# 영벡터\n",
    "\n",
    "np.zeros((3, 1))"
   ]
  },
  {
   "cell_type": "code",
   "execution_count": 12,
   "id": "fb0dde06",
   "metadata": {},
   "outputs": [
    {
     "data": {
      "text/plain": [
       "array([[1.],\n",
       "       [1.],\n",
       "       [1.]])"
      ]
     },
     "execution_count": 12,
     "metadata": {},
     "output_type": "execute_result"
    }
   ],
   "source": [
    "# 일벡터\n",
    "\n",
    "np.ones((3, 1))"
   ]
  },
  {
   "cell_type": "code",
   "execution_count": 13,
   "id": "d9ab4d1a",
   "metadata": {},
   "outputs": [
    {
     "data": {
      "text/plain": [
       "array([[0, 1, 2],\n",
       "       [3, 4, 5],\n",
       "       [6, 7, 8]])"
      ]
     },
     "execution_count": 13,
     "metadata": {},
     "output_type": "execute_result"
    }
   ],
   "source": [
    "# 정방 행열(3, 3)\n",
    "\n",
    "np.arange(9).reshape(3, 3)"
   ]
  },
  {
   "cell_type": "code",
   "execution_count": 14,
   "id": "b2800496",
   "metadata": {},
   "outputs": [
    {
     "data": {
      "text/plain": [
       "array([[1, 0, 0],\n",
       "       [0, 2, 0],\n",
       "       [0, 0, 3]])"
      ]
     },
     "execution_count": 14,
     "metadata": {},
     "output_type": "execute_result"
    }
   ],
   "source": [
    "# 대각 정방행열 - 주대각선 1, 2, 3\n",
    "\n",
    "np.diag([1, 2, 3])"
   ]
  },
  {
   "cell_type": "code",
   "execution_count": 15,
   "id": "8a4f8b64",
   "metadata": {},
   "outputs": [
    {
     "data": {
      "text/plain": [
       "array([[1., 0., 0., 0.],\n",
       "       [0., 1., 0., 0.],\n",
       "       [0., 0., 1., 0.],\n",
       "       [0., 0., 0., 1.]])"
      ]
     },
     "execution_count": 15,
     "metadata": {},
     "output_type": "execute_result"
    }
   ],
   "source": [
    "# 항등행열\n",
    "\n",
    "np.eye(4)"
   ]
  },
  {
   "cell_type": "code",
   "execution_count": 16,
   "id": "5b1232a4",
   "metadata": {},
   "outputs": [],
   "source": [
    "# 벡터와 벡터의 곱셈 내적\n",
    "\n",
    "from PIL import Image\n",
    "\n",
    "# image = Image.open('내적.jpg')\n",
    "\n",
    "# image.show()"
   ]
  },
  {
   "cell_type": "markdown",
   "id": "b63b963e",
   "metadata": {},
   "source": [
    "<img src = '내적.jpg' STYLE = 'width 100px;'>"
   ]
  },
  {
   "cell_type": "markdown",
   "id": "aea74ad3",
   "metadata": {},
   "source": [
    "<img src = '행열곱.jpg' STYLE = 'width 100px;'>"
   ]
  },
  {
   "cell_type": "code",
   "execution_count": 17,
   "id": "6d64edc4",
   "metadata": {},
   "outputs": [
    {
     "name": "stdout",
     "output_type": "stream",
     "text": [
      "[10 12 14 16 18]\n",
      "[10 10 10 10 10]\n"
     ]
    }
   ],
   "source": [
    "x = np.array([10, 11, 12, 13, 14])\n",
    "y = np.array([0, 1, 2, 3, 4])\n",
    "\n",
    "print(x + y)\n",
    "print(x - y)\n"
   ]
  },
  {
   "cell_type": "code",
   "execution_count": 18,
   "id": "60376289",
   "metadata": {},
   "outputs": [
    {
     "name": "stdout",
     "output_type": "stream",
     "text": [
      "[[-14   5]\n",
      " [-12  -8]]\n"
     ]
    }
   ],
   "source": [
    "x1 = np.random.randint(10, 20, size = (2, 2))\n",
    "x2 = np.random.randint(30, 40, size = (2, 2))\n",
    "x3 = np.random.randint(50, 60, size = (2, 2))\n",
    "\n",
    "print(x1 + x2 - x3)"
   ]
  },
  {
   "cell_type": "code",
   "execution_count": 19,
   "id": "8415820a",
   "metadata": {},
   "outputs": [
    {
     "data": {
      "text/plain": [
       "array([0, 1, 2])"
      ]
     },
     "execution_count": 19,
     "metadata": {},
     "output_type": "execute_result"
    }
   ],
   "source": [
    "# 브로드캐스팅\n",
    "\n",
    "x1 = np.array([10, 11, 12])\n",
    "x1 - 10"
   ]
  },
  {
   "cell_type": "code",
   "execution_count": 20,
   "id": "9b3708e6",
   "metadata": {},
   "outputs": [
    {
     "data": {
      "text/plain": [
       "array([30, 33, 36])"
      ]
     },
     "execution_count": 20,
     "metadata": {},
     "output_type": "execute_result"
    }
   ],
   "source": [
    "np.dot(3, x1)"
   ]
  },
  {
   "cell_type": "code",
   "execution_count": 21,
   "id": "5a7e80fe",
   "metadata": {},
   "outputs": [
    {
     "name": "stdout",
     "output_type": "stream",
     "text": [
      "[[1]\n",
      " [2]\n",
      " [3]] \n",
      "\n",
      "[[4]\n",
      " [5]\n",
      " [6]]\n"
     ]
    }
   ],
   "source": [
    "# 넘파이에서 벡터와 행열의 내적은 dot() 또는 @ 연산자로 계산\n",
    "\n",
    "x = np.array([[1], [2], [3]])\n",
    "y = np.array([[4], [5], [6]])\n",
    "\n",
    "print(x, '\\n')\n",
    "print(y)"
   ]
  },
  {
   "cell_type": "code",
   "execution_count": 22,
   "id": "e290f1f6",
   "metadata": {},
   "outputs": [
    {
     "name": "stdout",
     "output_type": "stream",
     "text": [
      "[[1 2 3]] \n",
      "\n",
      "[[4]\n",
      " [5]\n",
      " [6]]\n"
     ]
    }
   ],
   "source": [
    "print(x.T, '\\n')\n",
    "print(y)"
   ]
  },
  {
   "cell_type": "code",
   "execution_count": 23,
   "id": "4d0cb980",
   "metadata": {},
   "outputs": [
    {
     "name": "stdout",
     "output_type": "stream",
     "text": [
      "[[32]]\n",
      "[[32]]\n"
     ]
    }
   ],
   "source": [
    "print(x.T @ y)\n",
    "print(np.dot(x.T, y))"
   ]
  },
  {
   "cell_type": "code",
   "execution_count": 24,
   "id": "697f1823",
   "metadata": {},
   "outputs": [
    {
     "name": "stdout",
     "output_type": "stream",
     "text": [
      "[[1 2 3]\n",
      " [4 5 6]] \n",
      "\n",
      "[[ 6 23]\n",
      " [-1  7]\n",
      " [ 8  9]] \n",
      "\n",
      "[[ 28  64]\n",
      " [ 67 181]]\n"
     ]
    },
    {
     "data": {
      "text/plain": [
       "array([[ 28,  64],\n",
       "       [ 67, 181]])"
      ]
     },
     "execution_count": 24,
     "metadata": {},
     "output_type": "execute_result"
    }
   ],
   "source": [
    "x = np.arange(1, 7).reshape(2, 3)\n",
    "y = np.array([[6, 23], [-1, 7], [8, 9]])\n",
    "\n",
    "print(x, '\\n')\n",
    "print(y, '\\n')\n",
    "\n",
    "print(x @ y)\n",
    "x.dot(y)"
   ]
  },
  {
   "cell_type": "markdown",
   "id": "4828fb64",
   "metadata": {},
   "source": [
    "### 과제\n",
    "\n",
    "앞에 언급한 사항들의 사례를 작성해서 의미를 확인하고 설명하세요"
   ]
  },
  {
   "cell_type": "markdown",
   "id": "69d6777d",
   "metadata": {},
   "source": [
    "- 앞 행렬의 수가 뒤 행렬의 수와 일치해야 한다\n",
    "- 교환 법칙이 성립하지 않음 (a @ b) (b @ a)\n",
    "- 분배 법칙은 성립함 a @ (b + c)  (a @ b + a @ c)\n",
    "- 전치 연산도 덧셈 뺄셈에 대해 분배법칙 성립 (a + b).T  (a.T + b.T)\n",
    "- 전치 연산과 곱셈의 경우 전치 연산이 분배되면서 곱셈의 순서가 바뀜 (a @ b).T (b.T @ a.T)"
   ]
  },
  {
   "cell_type": "code",
   "execution_count": 25,
   "id": "7427b9f8",
   "metadata": {},
   "outputs": [
    {
     "name": "stdout",
     "output_type": "stream",
     "text": [
      "[[1 2]] \n",
      "\n",
      "[[3 4]\n",
      " [5 6]] \n",
      "\n",
      "[[ 7  8]\n",
      " [ 9 10]] \n",
      "\n",
      "[[12 13 14]\n",
      " [15 16 17]] \n",
      "\n",
      "[[18 19 20]\n",
      " [21 22 23]\n",
      " [24 25 26]] \n",
      "\n",
      "[[1. 0.]\n",
      " [0. 1.]] \n",
      "\n",
      "[[2 0 0]\n",
      " [0 2 0]\n",
      " [0 0 2]]\n"
     ]
    }
   ],
   "source": [
    "x1 = np.arange(1, 3).reshape(1,2)\n",
    "print(x1,'\\n')\n",
    "\n",
    "x2 = np.arange(3, 7).reshape(2, 2)\n",
    "print(x2, '\\n')\n",
    "\n",
    "x3 = np.arange(7, 11).reshape(2, 2)\n",
    "print(x3, '\\n')\n",
    "\n",
    "x4 = np.arange(12, 18).reshape(2, 3)\n",
    "print(x4, '\\n')\n",
    "\n",
    "x5 = np.arange(18, 27).reshape(3, 3)\n",
    "print(x5, '\\n')\n",
    "\n",
    "x6 = np.eye(2)\n",
    "print(x6, '\\n')\n",
    "\n",
    "x7 = np.diag([2, 2, 2])\n",
    "print(x7)"
   ]
  },
  {
   "cell_type": "code",
   "execution_count": 26,
   "id": "f79f5cc7",
   "metadata": {},
   "outputs": [
    {
     "name": "stdout",
     "output_type": "stream",
     "text": [
      "[[13 16]] \n",
      "\n"
     ]
    }
   ],
   "source": [
    "# 앞 행렬의 수가 뒤 행렬의 수와 일치해야 한다\n",
    "\n",
    "print(x1 @ x2, '\\n')\n",
    "#  print(x2 @ x1)"
   ]
  },
  {
   "cell_type": "code",
   "execution_count": 27,
   "id": "4c4e4c97",
   "metadata": {},
   "outputs": [
    {
     "name": "stdout",
     "output_type": "stream",
     "text": [
      "교환법칙으로 계산 시 앞 행렬의 수가 뒤 행렬의 수와 일치하지 않을 때\n",
      "[[ 96 103 110]\n",
      " [150 161 172]] \n",
      "\n",
      "[[111 138]\n",
      " [119 148]\n",
      " [127 158]] \n",
      "\n",
      "두 행열이 정방행열일 경우\n",
      "[[ 57  64]\n",
      " [ 89 100]] \n",
      "\n",
      "[[61 76]\n",
      " [77 96]] \n",
      "\n"
     ]
    }
   ],
   "source": [
    "# 교환 법칙이 성립하지 않음 (a @ b) vs (b @ a)\n",
    "# 위에서 보듯이 앞 행렬의 수가 뒤 행렬의 수와 일치하지 않을 수가 있다.\n",
    "\n",
    "# 교환법칙으로 계산 시 앞 행렬의 수가 뒤 행렬의 수와 일치하지 않을 때\n",
    "\n",
    "print('교환법칙으로 계산 시 앞 행렬의 수가 뒤 행렬의 수와 일치하지 않을 때')\n",
    "print(x2 @ x4, '\\n')\n",
    "print(x4.T @ x2, '\\n')\n",
    "# print(x4 @ x2) (2, 3) @ (2, 2) -> 계산 불가\n",
    "\n",
    "# 두 행열이 정방행열일 경우\n",
    "\n",
    "print('두 행열이 정방행열일 경우')\n",
    "print(x2 @ x3, '\\n')\n",
    "print(x3 @ x2, '\\n')"
   ]
  },
  {
   "cell_type": "code",
   "execution_count": 28,
   "id": "63844d73",
   "metadata": {},
   "outputs": [
    {
     "name": "stdout",
     "output_type": "stream",
     "text": [
      "각각의 두 행열이 같은 행과 열의 크기를 가지는 정방행열과 항등행열일 경우\n",
      "[[3. 4.]\n",
      " [5. 6.]] \n",
      "\n",
      "[[3. 4.]\n",
      " [5. 6.]] \n",
      "\n",
      "각각의 두 행열이 같은 행과 열의 크기를 가지는 정방행열과 대각선 값이 같은 대각행열 일 경우\n",
      "[[36 38 40]\n",
      " [42 44 46]\n",
      " [48 50 52]] \n",
      "\n",
      "[[36 38 40]\n",
      " [42 44 46]\n",
      " [48 50 52]] \n",
      "\n",
      "둘중 한 행열이 항등행열이고 나머지 행열이 항등행열과 행이나 열 중 같은 크기을 가지는 경우\n",
      "[[12. 13. 14.]\n",
      " [15. 16. 17.]]\n"
     ]
    }
   ],
   "source": [
    "# 하지만 정방행열과 항등행열을 곱할 경우는 성립할수도 있다\n",
    "\n",
    "# 각각의 두 행열이 같은 행과 열의 크기를 가지는 정방행열과 항등행열, 대각선 값이 같은 대각행열 일 경우\n",
    "\n",
    "print('각각의 두 행열이 같은 행과 열의 크기를 가지는 정방행열과 항등행열일 경우')\n",
    "print(x2 @ x6, '\\n')\n",
    "print(x6 @ x2, '\\n')\n",
    "\n",
    "print('각각의 두 행열이 같은 행과 열의 크기를 가지는 정방행열과 대각선 값이 같은 대각행열 일 경우')\n",
    "print(x5 @ x7, '\\n')\n",
    "print(x7 @ x5, '\\n')\n",
    "\n",
    "# 둘중 한 행열이 항등행열이고 나머지 행열이 항등행열과 행이나 열 중 같은 크기을 가지는 경우\n",
    "\n",
    "print('둘중 한 행열이 항등행열이고 나머지 행열이 항등행열과 행이나 열 중 같은 크기을 가지는 경우')\n",
    "\n",
    "print(x6 @ x4) # (2, 2) (2, 3) -> (2, 3)\n",
    "# print(x4 @ x6)  (2, 3) (2, 2) -> 계산 불가"
   ]
  },
  {
   "cell_type": "code",
   "execution_count": 29,
   "id": "31cdd987",
   "metadata": {},
   "outputs": [
    {
     "name": "stdout",
     "output_type": "stream",
     "text": [
      "분배 법칙\n",
      "[[38 44]] \n",
      "\n",
      "[[38 44]] \n",
      "\n",
      "전치연산이 적용된 분배 법칙\n",
      "[[10 14]\n",
      " [12 16]] \n",
      "\n",
      "[[10 14]\n",
      " [12 16]]\n"
     ]
    }
   ],
   "source": [
    "# 분배 법칙은 성립함 a @ (b + c) vs (a @ b + a @ c)\n",
    "\n",
    "print('분배 법칙')\n",
    "print(x1 @ (x2 + x3),'\\n')\n",
    "print(x1 @ x2 + x1 @ x3, '\\n')\n",
    "\n",
    "# 전치 연산도 덧셈 뺄셈에 대해 분배법칙 성립 (a + b).T (a.T  + b.T)\n",
    "\n",
    "print('전치연산이 적용된 분배 법칙')\n",
    "print((x2 + x3).T, '\\n')\n",
    "print((x2.T) + (x3.T))\n",
    "\n",
    "# 합해서 전치연산을 하던 각각 전치연산을 해서 더하던 행열의 형태가 계산하는데에 있어서 문제가 없다"
   ]
  },
  {
   "cell_type": "code",
   "execution_count": 30,
   "id": "be90cf23",
   "metadata": {},
   "outputs": [
    {
     "name": "stdout",
     "output_type": "stream",
     "text": [
      "[[13]\n",
      " [16]] \n",
      "\n",
      "[[13]\n",
      " [16]] \n",
      "\n",
      "각각의 두 행열이 같은 행과 열의 크기를 가지는 정방행열과 항등행열일 경우\n",
      "[[ 7.  9.]\n",
      " [ 8. 10.]] \n",
      "\n",
      "[[ 7.  9.]\n",
      " [ 8. 10.]] \n",
      "\n",
      "[[ 7.  9.]\n",
      " [ 8. 10.]] \n",
      "\n",
      "각각의 두 행열이 같은 행과 열의 크기를 가지는 정방행열과 대각선 값이 같은 대각행열 일 경우\n",
      "[[36 42 48]\n",
      " [38 44 50]\n",
      " [40 46 52]] \n",
      "\n",
      "[[36 42 48]\n",
      " [38 44 50]\n",
      " [40 46 52]] \n",
      "\n",
      "[[36 42 48]\n",
      " [38 44 50]\n",
      " [40 46 52]] \n",
      "\n",
      "둘중 한 행열이 항등행열이고 나머지 행열이 항등행열과 행이나 열 중 같은 크기을 가지는 경우\n",
      "[[24 30]\n",
      " [26 32]\n",
      " [28 34]] \n",
      "\n",
      "[[24 30]\n",
      " [26 32]\n",
      " [28 34]] \n",
      "\n"
     ]
    }
   ],
   "source": [
    "# 전치 연산과 곱셈의 경우 전치 연산이 분배되면서 곱셈의 순서가 바뀜 (a @ b).T (b.T @ a.T)\n",
    "\n",
    "\n",
    "print((x1 @ x2).T, '\\n')\n",
    "print(x2.T @ x1.T, '\\n')\n",
    "# print(x1.T @ x2.T, '\\n') (2, 1) @ (2, 2) -> 계산 불가\n",
    "\n",
    "# 1행 2열, 2행 3열 이 전치연산에 의해 1행 3열이 3행 1열로 바뀐다.\n",
    "# 1행 2열 2행 3열을 각각 전치 연산하면 2행 1열 3행 2열이 되고 행열의 곱은 앞행열과 뒤행열이 같아야 하므로 위치가 바뀔수 밖에 없다\n",
    "# 그래서 3행 2열이 앞으로 2행1열이 뒤로 간다.\n",
    "\n",
    "# 예외\n",
    "\n",
    "print('각각의 두 행열이 같은 행과 열의 크기를 가지는 정방행열과 항등행열일 경우')\n",
    "print((x3 @ x6).T, '\\n')\n",
    "print(x6.T @ x3.T, '\\n')\n",
    "print(x3.T @ x6.T, '\\n')\n",
    "\n",
    "print('각각의 두 행열이 같은 행과 열의 크기를 가지는 정방행열과 대각선 값이 같은 대각행열 일 경우')\n",
    "print((x5 @ x7).T, '\\n')\n",
    "print(x7.T @ x5.T, '\\n')\n",
    "print(x5.T @ x7.T, '\\n')\n",
    "\n",
    "print('둘중 한 행열이 항등행열이고 나머지 행열이 항등행열과 행이나 열 중 같은 크기을 가지는 경우')\n",
    "print((x4 @ x7).T, '\\n') # (2, 3) @ (3, 3) -> (2, 3).T -> (3, 2)\n",
    "print(x7.T @ x4.T, '\\n') # (3, 3) @ (3, 2) -> (3, 2)\n",
    "# print(x4.T @ x7.T, '\\n')  (3, 2) @ (3, 3) -> 계산 불가"
   ]
  },
  {
   "cell_type": "code",
   "execution_count": 31,
   "id": "a540f929",
   "metadata": {},
   "outputs": [
    {
     "name": "stdout",
     "output_type": "stream",
     "text": [
      "[[1 2]\n",
      " [3 4]] \n",
      "\n",
      "[[1. 0.]\n",
      " [0. 1.]] \n",
      "\n",
      "[[1. 2.]\n",
      " [3. 4.]] \n",
      "\n",
      "[[1. 2.]\n",
      " [3. 4.]]\n"
     ]
    }
   ],
   "source": [
    "# 항등 행열의 곱셈\n",
    "\n",
    "a = np.array([[1, 2], [3, 4]])\n",
    "i = np.eye(2)\n",
    "\n",
    "print(a, '\\n')\n",
    "print(i, '\\n')\n",
    "print(a @ i, '\\n')\n",
    "print(i @ a)"
   ]
  },
  {
   "cell_type": "code",
   "execution_count": 32,
   "id": "607b6155",
   "metadata": {},
   "outputs": [
    {
     "data": {
      "image/png": "[encoded data removed]",
      "text/plain": [
       "<Figure size 640x480 with 3 Axes>"
      ]
     },
     "metadata": {},
     "output_type": "display_data"
    }
   ],
   "source": [
    "import matplotlib.pyplot as plt\n",
    "from sklearn.datasets import fetch_olivetti_faces\n",
    "\n",
    "faces = fetch_olivetti_faces()\n",
    "\n",
    "f, ax = plt.subplots(1, 3)\n",
    "\n",
    "ax[0].imshow(faces.images[6], cmap = plt.cm.bone)\n",
    "ax[0].grid(False)\n",
    "ax[0].set_xticks([])\n",
    "ax[0].set_yticks([])\n",
    "ax[0].set_title('image 1 : $x_1$')\n",
    "\n",
    "ax[1].imshow(faces.images[10], cmap = plt.cm.bone)\n",
    "ax[1].grid(False)\n",
    "ax[1].set_xticks([])\n",
    "ax[1].set_yticks([])\n",
    "ax[1].set_title('image 2 : $x_2$')\n",
    "\n",
    "new_face = 0.7 * faces.images[6] + 0.3 * faces.images[10]\n",
    "ax[2].imshow(new_face, cmap = plt.cm.bone)\n",
    "ax[2].grid(False)\n",
    "ax[2].set_xticks([])\n",
    "ax[2].set_yticks([])\n",
    "ax[2].set_title('image 3 : $0.7x_1 + 0.3x_2$')\n",
    "\n",
    "plt.show()"
   ]
  },
  {
   "cell_type": "markdown",
   "id": "c0ea87ec",
   "metadata": {},
   "source": [
    "#### 벡터의 norm이란 \n",
    "- 벡터의 크기를 측정하는 방법 중 하나입니다. 벡터의 norm은 일반적으로 벡터의 길이 또는 크기를 의미합니다. 벡터의 norm은 벡터의 요소에 대한 제곱 합의 제곱근으로 계산됩니다.\n",
    "\n",
    "만약, 벡터 $x = (x_1, x_2, ..., x_n)$ 이 있다면, $x$의 norm은 다음과 같이 정의됩니다.\n",
    "\n",
    "$$||x|| = \\sqrt{x_1^2 + x_2^2 + \\cdots + x_n^2}$$\n",
    "\n",
    "여기서 $||x||$는 벡터 $x$의 norm을 나타냅니다.\n",
    "\n",
    "- 벡터의 norm은 다음과 같은 성질을 가지고 있습니다.\n",
    "\n",
    "  - $||x|| \\geq 0$ (벡터의 norm은 항상 0 이상입니다.)\n",
    "  - $||x|| = 0$ if and only if $x = \\mathbf{0}$ (벡터의 norm이 0일 경우, 해당 벡터는 영 벡터입니다.)\n",
    "  - $||ax|| = |a| \\cdot ||x||$ (스칼라 $a$에 대해 벡터 $x$의 norm은 $a$의 절댓값과 $x$의 norm의 곱과 같습니다.)\n",
    "  - $||x+y|| \\leq ||x|| + ||y||$ (두 벡터의 합의 norm은 각 벡터의 norm의 합보다 작거나 같습니다. 이를 삼각 부등식이라고 합니다.)\n",
    "  - 벡터의 norm은 선형 대수학에서 매우 중요한 개념이며, 벡터 공간에서 거리와 관련된 개념을 다룰 때 자주 사용됩니다.\n",
    "\n",
    "- 위 4가지 성질을 만족하기만 하면 놈이라고 할 수 있는데, 많이 사용되는 놈은 다음 세 가지이다. 놈을 구별하기 위하여 아래 첨자를 사용하고, $||x||_1을 1-놈, ||x||_2 를 2-놈, ||x||_\\infty를 3-놈$이라고 한다.\n",
    "- 1-놈은 벡터 x의 성분의 절대값을 모두 더한 것으로, 2-놈은 벡터의 기하학적 길이로, $\\infty-놈$은 벡터 성분 중에서 크기가 제일 큰 값으로 정의한다.\n",
    "- p = 2인 경우가 가장 많이 쓰이므로 p값 표기가 없는 경우 p=2인 프로베니우스 놈을 사용한다.\n",
    "\n",
    "https://bskyvision.com/825  \n",
    "https://pasus.tistory.com/34"
   ]
  },
  {
   "cell_type": "code",
   "execution_count": 33,
   "id": "fd999d9b",
   "metadata": {},
   "outputs": [
    {
     "data": {
      "text/plain": [
       "array([[-4, -3, -2],\n",
       "       [-1,  0,  1],\n",
       "       [ 2,  3,  4]])"
      ]
     },
     "execution_count": 33,
     "metadata": {},
     "output_type": "execute_result"
    }
   ],
   "source": [
    "a = np.arange(-4,5).reshape((3,3))\n",
    "\n",
    "a"
   ]
  },
  {
   "cell_type": "code",
   "execution_count": 34,
   "id": "c0d263b3",
   "metadata": {},
   "outputs": [
    {
     "data": {
      "text/plain": [
       "7.745966692414834"
      ]
     },
     "execution_count": 34,
     "metadata": {},
     "output_type": "execute_result"
    }
   ],
   "source": [
    "# linera algebra (선형대수학)\n",
    "\n",
    "np.linalg.norm(a)"
   ]
  },
  {
   "cell_type": "code",
   "execution_count": 35,
   "id": "ad431b08",
   "metadata": {},
   "outputs": [
    {
     "data": {
      "text/plain": [
       "5.0"
      ]
     },
     "execution_count": 35,
     "metadata": {},
     "output_type": "execute_result"
    }
   ],
   "source": [
    "# l1 norm 벡터의 모든 성분의 절대값을 더함\n",
    "\n",
    "x = [2, 3]\n",
    "\n",
    "np.linalg.norm(x, 1)"
   ]
  },
  {
   "cell_type": "code",
   "execution_count": 36,
   "id": "7e75dcf0",
   "metadata": {},
   "outputs": [
    {
     "data": {
      "text/plain": [
       "3.605551275463989"
      ]
     },
     "execution_count": 36,
     "metadata": {},
     "output_type": "execute_result"
    }
   ],
   "source": [
    "# l2 norm 출발점에서 도착점까지의 거리를 직선거리로 측정\n",
    "\n",
    "np.linalg.norm(x, 2)"
   ]
  },
  {
   "cell_type": "code",
   "execution_count": 37,
   "id": "8b992dc5",
   "metadata": {},
   "outputs": [
    {
     "data": {
      "text/plain": [
       "3.0"
      ]
     },
     "execution_count": 37,
     "metadata": {},
     "output_type": "execute_result"
    }
   ],
   "source": [
    "# l inf norm 벡터 성분들의 절대값 중에서 가장 큰값으로 계산\n",
    "\n",
    "np.linalg.norm(x, np.inf)"
   ]
  },
  {
   "cell_type": "markdown",
   "id": "c3e9c8b6",
   "metadata": {},
   "source": [
    "### 행렬식(determinant)은\n",
    "행렬식은 정방행렬에 대해서만 정의되는 값으로, 행렬의 성질을 나타내는 중요한 값 중 하나입니다. \n",
    "\n",
    "- 행렬식은 행렬의 크기에 상관없이 항상 하나의 스칼라값으로 계산됩니다.\n",
    "행렬 A의 행렬식은 $|A|$ 또는 det(A)로 표기합니다. 2x2 행렬의 경우, 다음과 같이 행렬식을 계산할 수 있습니다.$$det(A) = a11*a22 - a12*a21$$\n",
    "- 행렬식이 0이면, 해당 행렬은 역행렬을 가지지 않습니다. 반대로, 행렬식이 0이 아니면, 해당 행렬은 역행렬을 가지며, 선형 변환의 크기와 방향을 보존하는 역행렬을 사용하여 역변환을 수행할 수 있습니다.\n",
    "- 행렬식의 절댓값이 1인 행렬은 크기를 보존하는 선형 변환을 나타내며, 이러한 행렬은 회전 또는 반사와 같은 변환이 될 수 있습니다. 반면에, 행렬식의 절댓값이 1보다 작은 행렬은 크기를 축소하는 선형 변환이며, 이러한 행렬은 변환 중심을 기준으로 축소가 됩니다. 마지막으로, 행렬식의 절댓값이 1보다 큰 행렬은 크기를 확대하는 선형 변환을 나타내며, 이러한 행렬은 변환 중심을 기준으로 확대됩니다.\n",
    "- 행렬식은 선형 방정식의 해를 구하는 데에도 사용됩니다 $Ax = b$에서 A는 n x n 행렬이며, x와 b는 n 차원 벡터입니다. 만약 A의 행렬식이 0이 아니면, 이 방정식은 유일한 해를 가집니다. 그러나, A의 행렬식이 0이면, 이 방정식은 무수히 많은 해를 가질 수 있습니다.\n",
    "- 행렬식은 행렬식이 0이 아닌 행렬에 대한 Cramer의 법칙을 사용하여 역행렬을 구하는 데에도 사용됩니다. 역행렬은 선형 방정식의 해를 구하는 데 사용될 수 있으며, 행렬식이 0이 아닌 경우에만 존재합니다."
   ]
  },
  {
   "cell_type": "markdown",
   "id": "89b7a27a",
   "metadata": {},
   "source": [
    "Ax = b : 계수행렬, 미지수벡터, 상수벡터\n",
    "- A, x, b가 스칼라 실수인 경우 : x = b/A \n",
    "- 행렬에서는  나눗셈 대신 역행렬 사용 : x = $A^{-1}$b"
   ]
  },
  {
   "cell_type": "code",
   "execution_count": 38,
   "id": "cf00f600",
   "metadata": {},
   "outputs": [
    {
     "name": "stdout",
     "output_type": "stream",
     "text": [
      "[[-2.   1. ]\n",
      " [ 1.5 -0.5]]\n"
     ]
    }
   ],
   "source": [
    "# 역행열은 특정한 행열과 곱했을때 항등 행열이 나오는 행열\n",
    "\n",
    "a = np.array([[1, 2], [3, 4]])\n",
    "\n",
    "a_inv = np.linalg.inv(a)\n",
    "\n",
    "print(a_inv)"
   ]
  },
  {
   "cell_type": "code",
   "execution_count": 39,
   "id": "3178dc25",
   "metadata": {},
   "outputs": [
    {
     "name": "stdout",
     "output_type": "stream",
     "text": [
      "[[1.00000000e+00 1.11022302e-16]\n",
      " [0.00000000e+00 1.00000000e+00]]\n"
     ]
    }
   ],
   "source": [
    "print(a @ a_inv)"
   ]
  },
  {
   "cell_type": "code",
   "execution_count": 40,
   "id": "8ca7166a",
   "metadata": {},
   "outputs": [
    {
     "name": "stdout",
     "output_type": "stream",
     "text": [
      "[[1 2 1]\n",
      " [2 2 3]\n",
      " [1 3 1]] \n",
      "\n",
      "[[ 7. -1. -4.]\n",
      " [-1.  0.  1.]\n",
      " [-4.  1.  2.]] \n",
      "\n",
      "[[1. 0. 0.]\n",
      " [0. 1. 0.]\n",
      " [0. 0. 1.]]\n"
     ]
    }
   ],
   "source": [
    "np.random.seed(0)\n",
    "\n",
    "mt1 = np.random.randint(1, 4, size = (3, 3))\n",
    "print(mt1, '\\n')\n",
    "\n",
    "mt2 = np.linalg.inv(mt1)\n",
    "print(mt2,'\\n')\n",
    "\n",
    "print(mt1 @ mt2)"
   ]
  },
  {
   "cell_type": "code",
   "execution_count": 41,
   "id": "dfd4d114",
   "metadata": {},
   "outputs": [
    {
     "name": "stdout",
     "output_type": "stream",
     "text": [
      "-1.0\n"
     ]
    }
   ],
   "source": [
    "# 역행열이 존재하는 경우는 행열식 값이 0이 아님\n",
    "\n",
    "mt3 = np.linalg.det(mt1)\n",
    "print(mt3)"
   ]
  },
  {
   "cell_type": "code",
   "execution_count": 42,
   "id": "417b9194",
   "metadata": {},
   "outputs": [
    {
     "name": "stdout",
     "output_type": "stream",
     "text": [
      "[[1 2]\n",
      " [2 4]]\n",
      "0.0\n"
     ]
    }
   ],
   "source": [
    "# 역행열이 존재하지 않는 경우는 행열식 값이 0\n",
    "\n",
    "nt1 = np.array([[1, 2], [2, 4]])\n",
    "print(nt1)\n",
    "\n",
    "nt2 = np.linalg.det(nt1)\n",
    "print(nt2)"
   ]
  },
  {
   "cell_type": "markdown",
   "id": "53ecdb1a",
   "metadata": {},
   "source": [
    "<img src = '행열식계산.png' STYLE = 'width 500px;'>"
   ]
  },
  {
   "cell_type": "code",
   "execution_count": 43,
   "id": "78c8d91d",
   "metadata": {},
   "outputs": [
    {
     "name": "stdout",
     "output_type": "stream",
     "text": [
      "[[1 2 3]\n",
      " [4 5 6]\n",
      " [7 8 9]]\n"
     ]
    }
   ],
   "source": [
    "a = np.array([[1, 2, 3], [4, 5, 6], [7, 8, 9]])\n",
    "\n",
    "print(a)"
   ]
  },
  {
   "cell_type": "code",
   "execution_count": 44,
   "id": "eda04cd7",
   "metadata": {},
   "outputs": [
    {
     "name": "stdout",
     "output_type": "stream",
     "text": [
      "0\n"
     ]
    }
   ],
   "source": [
    "# 1 2 3 기준\n",
    "\n",
    "deta = 1 * (45 - 48) - 2 * (36 - 42) + 3 * (32 - 35)\n",
    "\n",
    "print(deta)"
   ]
  },
  {
   "cell_type": "code",
   "execution_count": 45,
   "id": "7b0b90db",
   "metadata": {},
   "outputs": [
    {
     "data": {
      "text/plain": [
       "-9.51619735392994e-16"
      ]
     },
     "execution_count": 45,
     "metadata": {},
     "output_type": "execute_result"
    }
   ],
   "source": [
    "det_a = np.linalg.det(a)\n",
    "\n",
    "det_a"
   ]
  },
  {
   "cell_type": "markdown",
   "id": "17a326aa",
   "metadata": {},
   "source": [
    "### 과제\n",
    "\n",
    "아래 두 행열을 생성해서 각각 a1 b1 으로 저장하고 행열 내적을 계산한 결과를 출력\n",
    "\n",
    "- [[1, 2, 3], [4, 5, 6]]\n",
    "- [[10, 11], [12, 13], [14, 15]]"
   ]
  },
  {
   "cell_type": "code",
   "execution_count": 46,
   "id": "eb849f40",
   "metadata": {},
   "outputs": [
    {
     "name": "stdout",
     "output_type": "stream",
     "text": [
      "[[ 76  82]\n",
      " [184 199]] \n",
      "\n",
      "[[ 76  82]\n",
      " [184 199]] \n",
      "\n"
     ]
    }
   ],
   "source": [
    "a1 = np.array([[1, 2, 3], \n",
    "               [4, 5, 6]])\n",
    "\n",
    "b1 = np.array([[10, 11], \n",
    "               [12, 13], \n",
    "               [14, 15]])\n",
    "\n",
    "print(a1 @ b1, '\\n')\n",
    "print(a1.dot(b1), '\\n')\n"
   ]
  },
  {
   "cell_type": "markdown",
   "id": "f5c770c7",
   "metadata": {},
   "source": [
    "### 과제\n",
    "\n",
    "배열 e의 행열식을 구하면 에러가 발생됩니다 행열식의 의미를 감안하여 e 행열을 수정하여 행열식을 계산하세요\n",
    "\n",
    "- 행열식을 계산하세요\n",
    "- 역행열을 구하세요\n",
    "- 역행열이 맞는지 검증하세요"
   ]
  },
  {
   "cell_type": "code",
   "execution_count": 47,
   "id": "92d7a442",
   "metadata": {},
   "outputs": [
    {
     "name": "stdout",
     "output_type": "stream",
     "text": [
      "행열식 :  3.0 \n",
      "\n",
      "역행열 :  \n",
      " [[ 1.    0.    0.  ]\n",
      " [-0.    1.    0.  ]\n",
      " [-0.33 -0.67  0.33]] \n",
      "\n",
      "역행열 검증 :  \n",
      " [[ 1.  0.  0.]\n",
      " [-0.  1.  0.]\n",
      " [ 0.  0.  1.]]\n"
     ]
    }
   ],
   "source": [
    "e = np.array([[1, 0, 0], [0, 1, 0]])\n",
    "\n",
    "# e가 정방행열이 아니므로\n",
    "\n",
    "e = np.array([[1, 0, 0], [0, 1, 0], [1, 2, 3]])\n",
    "\n",
    "# 행열식 계산\n",
    "\n",
    "e_d = np.linalg.det(e)\n",
    "print('행열식 : ', e_d.round(2), '\\n')\n",
    "\n",
    "# 역행열\n",
    "\n",
    "e_i = np.linalg.inv(e)\n",
    "print('역행열 : ', '\\n', e_i.round(2), '\\n')\n",
    "\n",
    "# 역행열 검증\n",
    "\n",
    "print('역행열 검증 : ', '\\n', (e @ e_i).round(2))"
   ]
  },
  {
   "cell_type": "markdown",
   "id": "3de32558",
   "metadata": {},
   "source": [
    "선형 예측모형은 입력 데이터 벡터와 가중치 벡터의 내적으로 계산된 예측값이 실제 출력 데이터와 유사한 값을 출력하도록 하는 모형"
   ]
  },
  {
   "cell_type": "markdown",
   "id": "6d9d3448",
   "metadata": {},
   "source": [
    "<img src = '인공신경망.png' STYLE = 'width 500px;'>"
   ]
  }
 ],
 "metadata": {
  "kernelspec": {
   "display_name": "Python 3 (ipykernel)",
   "language": "python",
   "name": "python3"
  },
  "language_info": {
   "codemirror_mode": {
    "name": "ipython",
    "version": 3
   },
   "file_extension": ".py",
   "mimetype": "text/x-python",
   "name": "python",
   "nbconvert_exporter": "python",
   "pygments_lexer": "ipython3",
   "version": "3.9.13"
  }
 },
 "nbformat": 4,
 "nbformat_minor": 5
}
